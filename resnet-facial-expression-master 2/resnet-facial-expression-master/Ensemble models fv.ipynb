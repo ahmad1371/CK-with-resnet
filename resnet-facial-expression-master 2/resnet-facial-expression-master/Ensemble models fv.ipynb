{
 "cells": [
  {
   "cell_type": "markdown",
   "metadata": {},
   "source": [
    "## In this file, we will stack the multiple models we trained in `First  Convolutional Neural Net-fv.ipynb`"
   ]
  },
  {
   "cell_type": "code",
   "execution_count": 34,
   "metadata": {
    "ExecuteTime": {
     "end_time": "2017-06-12T07:33:05.136750Z",
     "start_time": "2017-06-12T07:33:05.107318Z"
    }
   },
   "outputs": [
    {
     "name": "stdout",
     "output_type": "stream",
     "text": [
      "The autoreload extension is already loaded. To reload it, use:\n",
      "  %reload_ext autoreload\n"
     ]
    }
   ],
   "source": [
    "%matplotlib notebook\n",
    "%load_ext autoreload\n",
    "from glob import glob\n",
    "from skimage import io\n",
    "from matplotlib import style\n",
    "import matplotlib.pyplot as plt\n",
    "import pandas as pd\n",
    "from pprint import pprint as pp\n",
    "from matplotlib.font_manager import FontProperties\n",
    "import matplotlib\n",
    "matplotlib.get_backend()\n",
    "import joblib as jb\n",
    "import seaborn as sns\n",
    "import palettable.colorbrewer as cb\n",
    "sns.set_palette('colorblind')\n",
    "from IPython.display import SVG\n",
    "from sklearn.model_selection import train_test_split\n",
    "import time\n",
    "import tensorflow as tf\n",
    "from tqdm import tnrange, tqdm_notebook\n",
    "from datetime import timedelta\n",
    "import palettable.cmocean as ocean\n",
    "from __future__ import unicode_literals\n",
    "import os\n",
    "import IPython.display as display\n",
    "#matplotlib.rcParams['backend'] = 'TkAgg' \n",
    "from sklearn import metrics\n",
    "import numpy as np\n",
    "import itertools"
   ]
  },
  {
   "cell_type": "markdown",
   "metadata": {},
   "source": [
    "## Data Dimension"
   ]
  },
  {
   "cell_type": "code",
   "execution_count": 2,
   "metadata": {
    "ExecuteTime": {
     "end_time": "2017-06-12T07:29:55.500011Z",
     "start_time": "2017-06-12T07:29:55.494907Z"
    },
    "collapsed": true
   },
   "outputs": [],
   "source": [
    "image_size=48\n",
    "image_size_flat=image_size*image_size\n",
    "image_shape=(image_size,image_size)\n",
    "# Number of colour channels for the images: 1 channel for gray-scale.\n",
    "num_channels = 1\n",
    "num_classes = 6"
   ]
  },
  {
   "cell_type": "markdown",
   "metadata": {},
   "source": [
    "## Convolutional Network Architecture"
   ]
  },
  {
   "cell_type": "code",
   "execution_count": 3,
   "metadata": {
    "ExecuteTime": {
     "end_time": "2017-06-12T07:30:00.495133Z",
     "start_time": "2017-06-12T07:30:00.489923Z"
    },
    "collapsed": true
   },
   "outputs": [],
   "source": [
    "# Convolutional Layer 1.\n",
    "filter_size1 = 5          # Convolution filters are 5 x 5 pixels.\n",
    "num_filters1 = 16         # There are 16 of these filters.\n",
    "\n",
    "# Convolutional Layer 2.\n",
    "filter_size2 = 5          # Convolution filters are 5 x 5 pixels.\n",
    "num_filters2 = 36         # There are 36 of these filters.\n",
    "\n",
    "# Fully-connected layer.\n",
    "dc_size = 128   "
   ]
  },
  {
   "cell_type": "markdown",
   "metadata": {},
   "source": [
    "## Generate Filenames for Plots"
   ]
  },
  {
   "cell_type": "code",
   "execution_count": 4,
   "metadata": {
    "ExecuteTime": {
     "end_time": "2017-06-12T07:30:01.535944Z",
     "start_time": "2017-06-12T07:30:01.528353Z"
    },
    "collapsed": true
   },
   "outputs": [],
   "source": [
    "def gen_seq_fname(ext='pdf',count_file='count.dat',reset_count='False'):\n",
    "    if reset_count =='True':\n",
    "        count =0\n",
    "    else:    \n",
    "        count = jb.load('count.dat') \n",
    "    str1='{}.{}'.format(count,ext)\n",
    "    count +=1\n",
    "    jb.dump(count,'count.dat')\n",
    "    return str1"
   ]
  },
  {
   "cell_type": "code",
   "execution_count": 5,
   "metadata": {
    "ExecuteTime": {
     "end_time": "2017-06-12T07:30:02.044507Z",
     "start_time": "2017-06-12T07:30:02.040578Z"
    },
    "collapsed": true
   },
   "outputs": [],
   "source": [
    "mod_label_dict={0:['Angry',u'\\U0001f620'],1:['Fear',u'\\U0001f628'],\\\n",
    "            2:['Happy',u'\\U0001f604'],3:['Sad',u'\\U0001f622'],4:['Surprise',u'\\U0001f632'],\\\n",
    "            5:['Neutral',u'\\U0001f610']}"
   ]
  },
  {
   "cell_type": "markdown",
   "metadata": {},
   "source": [
    "## Plot Images [Helper Functions]"
   ]
  },
  {
   "cell_type": "code",
   "execution_count": 6,
   "metadata": {
    "ExecuteTime": {
     "end_time": "2017-06-12T07:30:03.320522Z",
     "start_time": "2017-06-12T07:30:03.256733Z"
    },
    "collapsed": true
   },
   "outputs": [],
   "source": [
    "def plot_images(images, cls_true, cls_pred=None,save_fig='False'):\n",
    "    assert len(images) == len(cls_true) == 16\n",
    "    \n",
    "    #true_label=[mod_label_dict[i][1] for i in np.argmax(cls_true,axis=1)]\n",
    "    # Create figure with 4x4 sub-plots.\n",
    "    fig, axes = plt.subplots(4, 4,figsize=(10,10))\n",
    "    fig.subplots_adjust(hspace=0.4, wspace=0.3)\n",
    "    if cls_pred is None:\n",
    "        fig.subplots_adjust(hspace=0.3, wspace=0.3)\n",
    "\n",
    "    for i, ax in enumerate(axes.flat):\n",
    "        # Plot image.\n",
    "        ax.imshow(images[i].reshape(48,-1), cmap='gray')\n",
    "        label_color='blue'\n",
    "        true_=np.argmax(cls_true[i])\n",
    "        if cls_pred is None:\n",
    "            xlabel = \"{} : {}\".format(mod_label_dict[true_][0],mod_label_dict[true_][1])\n",
    "        else:\n",
    "            \n",
    "            pred_=np.argmax(cls_pred[i])\n",
    "            xlabel = \"{0} : {1}\".\\\n",
    "            format(mod_label_dict[true_][0], mod_label_dict[pred_][0])\n",
    "            \n",
    "    \n",
    "            if true_ != pred_:\n",
    "                label_color='red'\n",
    "        \n",
    "        ax.set_xlabel(xlabel,color=label_color,fontname='DejaVu Sans',fontsize=20)\n",
    "        \n",
    "        ax.set_xticks([])\n",
    "        ax.set_yticks([])\n",
    "        ax.set_aspect('equal')\n",
    "    plt.tight_layout()\n",
    "    if save_fig == 'True':\n",
    "        f=gen_seq_fname()\n",
    "        fig.savefig(f)\n",
    "        print('Saved as {}'.format(f))\n",
    "    "
   ]
  },
  {
   "cell_type": "markdown",
   "metadata": {},
   "source": [
    "## Generate weights and biases "
   ]
  },
  {
   "cell_type": "code",
   "execution_count": 7,
   "metadata": {
    "ExecuteTime": {
     "end_time": "2017-06-12T07:30:04.229209Z",
     "start_time": "2017-06-12T07:30:04.224140Z"
    },
    "collapsed": true
   },
   "outputs": [],
   "source": [
    "def new_weights(shape):\n",
    "    return tf.Variable(tf.truncated_normal(shape, stddev=0.05))\n",
    "\n",
    "def new_biases(length):\n",
    "    return tf.Variable(tf.constant(0.05, shape=[length]))"
   ]
  },
  {
   "cell_type": "code",
   "execution_count": 8,
   "metadata": {
    "ExecuteTime": {
     "end_time": "2017-06-12T07:30:04.685011Z",
     "start_time": "2017-06-12T07:30:04.638620Z"
    },
    "collapsed": true
   },
   "outputs": [],
   "source": [
    "def new_conv_layer(input,              # The previous layer.\n",
    "                   num_input_channels, # Num. channels in prev. layer.\n",
    "                   filter_size,        # Width and height of each filter.\n",
    "                   num_filters,        # Number of filters.\n",
    "                   use_pooling=True):  # Use 2x2 max-pooling.\n",
    "\n",
    "    # Shape of the filter-weights for the convolution.\n",
    "    shape = [filter_size, filter_size, num_input_channels, num_filters]\n",
    "\n",
    "    # Create new weights aka. filters with the given shape.\n",
    "    weights = new_weights(shape=shape)\n",
    "\n",
    "    # Create new biases, one for each filter.\n",
    "    biases = new_biases(length=num_filters)\n",
    "\n",
    "    # Create the TensorFlow operation for convolution.\n",
    "    # Note the strides are set to 1 in all dimensions.\n",
    "    # The first and last stride must always be 1,\n",
    "    # because the first is for the image-number and\n",
    "    # the last is for the input-channel.\n",
    "    # But e.g. strides=[1, 2, 2, 1] would mean that the filter\n",
    "    # is moved 2 pixels across the x- and y-axis of the image.\n",
    "    # The padding is set to 'SAME' which means the input image\n",
    "    # is padded with zeroes so the size of the output is the same.\n",
    "    layer = tf.nn.conv2d(input=input,\n",
    "                         filter=weights,\n",
    "                         strides=[1, 1, 1, 1],\n",
    "                         padding='SAME')\n",
    "\n",
    "    # Add the biases to the results of the convolution.\n",
    "    # A bias-value is added to each filter-channel.\n",
    "    layer += biases\n",
    "\n",
    "    # Use pooling to down-sample the image resolution?\n",
    "    if use_pooling:\n",
    "        # This is 2x2 max-pooling, which means that we\n",
    "        # consider 2x2 windows and select the largest value\n",
    "        # in each window. Then we move 2 pixels to the next window.\n",
    "        layer = tf.nn.max_pool(value=layer,\n",
    "                               ksize=[1, 2, 2, 1],\n",
    "                               strides=[1, 2, 2, 1],\n",
    "                               padding='SAME')\n",
    "\n",
    "    # Rectified Linear Unit (ReLU).\n",
    "    # It calculates max(x, 0) for each input pixel x.\n",
    "    # This adds some non-linearity to the formula and allows us\n",
    "    # to learn more complicated functions.\n",
    "    layer = tf.nn.relu(layer)\n",
    "\n",
    "    # Note that ReLU is normally executed before the pooling,\n",
    "    # but since relu(max_pool(x)) == max_pool(relu(x)) we can\n",
    "    # save 75% of the relu-operations by max-pooling first.\n",
    "\n",
    "    # We return both the resulting layer and the filter-weights\n",
    "    # because we will plot the weights later.\n",
    "    return layer, weights"
   ]
  },
  {
   "cell_type": "code",
   "execution_count": 9,
   "metadata": {
    "ExecuteTime": {
     "end_time": "2017-06-12T07:30:05.188469Z",
     "start_time": "2017-06-12T07:30:05.176440Z"
    },
    "collapsed": true
   },
   "outputs": [],
   "source": [
    "def flatten_layer(layer):\n",
    "    # Get the shape of the input layer.\n",
    "    layer_shape = layer.get_shape()\n",
    "\n",
    "    # The shape of the input layer is assumed to be:\n",
    "    # layer_shape == [num_images, img_height, img_width, num_channels]\n",
    "\n",
    "    # The number of features is: img_height * img_width * num_channels\n",
    "    # We can use a function from TensorFlow to calculate this.\n",
    "    num_features = layer_shape[1:4].num_elements()\n",
    "    \n",
    "    # Reshape the layer to [num_images, num_features].\n",
    "    # Note that we just set the size of the second dimension\n",
    "    # to num_features and the size of the first dimension to -1\n",
    "    # which means the size in that dimension is calculated\n",
    "    # so the total size of the tensor is unchanged from the reshaping.\n",
    "    layer_flat = tf.reshape(layer, [-1, num_features])\n",
    "\n",
    "    # The shape of the flattened layer is now:\n",
    "    # [num_images, img_height * img_width * num_channels]\n",
    "\n",
    "    # Return both the flattened layer and the number of features.\n",
    "    return layer_flat, num_features"
   ]
  },
  {
   "cell_type": "code",
   "execution_count": 10,
   "metadata": {
    "ExecuteTime": {
     "end_time": "2017-06-12T07:30:05.802103Z",
     "start_time": "2017-06-12T07:30:05.790124Z"
    },
    "collapsed": true
   },
   "outputs": [],
   "source": [
    "def new_fc_layer(input,          # The previous layer.\n",
    "                 num_inputs,     # Num. inputs from prev. layer.\n",
    "                 num_outputs,    # Num. outputs.\n",
    "                 use_relu=True): # Use Rectified Linear Unit (ReLU)?\n",
    "\n",
    "    # Create new weights and biases.\n",
    "    weights = new_weights(shape=[num_inputs, num_outputs])\n",
    "    biases = new_biases(length=num_outputs)\n",
    "\n",
    "    # Calculate the layer as the matrix multiplication of\n",
    "    # the input and weights, and then add the bias-values.\n",
    "    layer = tf.matmul(input, weights) + biases\n",
    "\n",
    "    # Use ReLU?\n",
    "    if use_relu:\n",
    "        layer = tf.nn.relu(layer)\n",
    "    \n",
    "    \n",
    "    \n",
    "    return layer"
   ]
  },
  {
   "cell_type": "markdown",
   "metadata": {},
   "source": [
    "## Placeholder variables"
   ]
  },
  {
   "cell_type": "code",
   "execution_count": 11,
   "metadata": {
    "ExecuteTime": {
     "end_time": "2017-06-12T07:30:07.078464Z",
     "start_time": "2017-06-12T07:30:07.055279Z"
    },
    "collapsed": true
   },
   "outputs": [],
   "source": [
    "tf.reset_default_graph()\n",
    "x = tf.placeholder(\"float\", shape=[None, image_size_flat],\\\n",
    "                   name='x')\n",
    "image_x = tf.reshape(x, \\\n",
    "                   [-1,image_size,image_size,\\\n",
    "                    num_channels])\n",
    "y=tf.placeholder(\"float\",\\\n",
    "                      shape=[None,num_classes],\\\n",
    "                       name='y')\n",
    "tf.add_to_collection('vars', x)\n",
    "tf.add_to_collection('vars', y)"
   ]
  },
  {
   "cell_type": "markdown",
   "metadata": {},
   "source": [
    "## Convolutional Layer 1"
   ]
  },
  {
   "cell_type": "code",
   "execution_count": 12,
   "metadata": {
    "ExecuteTime": {
     "end_time": "2017-06-12T07:30:08.175354Z",
     "start_time": "2017-06-12T07:30:08.152235Z"
    }
   },
   "outputs": [
    {
     "name": "stdout",
     "output_type": "stream",
     "text": [
      "Tensor(\"Relu:0\", shape=(?, 24, 24, 16), dtype=float32)\n",
      "<tf.Variable 'Variable:0' shape=(5, 5, 1, 16) dtype=float32_ref>\n"
     ]
    }
   ],
   "source": [
    "#tf.reset_default_graph()\n",
    "L1_conv, W1_conv=\\\n",
    "new_conv_layer(input = image_x,\\\n",
    "               num_input_channels=num_channels,\\\n",
    "               filter_size=filter_size1,\n",
    "               num_filters=num_filters1,\n",
    "               use_pooling=True)\n",
    "\n",
    "print(L1_conv)\n",
    "print(W1_conv)"
   ]
  },
  {
   "cell_type": "markdown",
   "metadata": {},
   "source": [
    "## Convolutional Layer 2"
   ]
  },
  {
   "cell_type": "code",
   "execution_count": 13,
   "metadata": {
    "ExecuteTime": {
     "end_time": "2017-06-12T07:30:09.189534Z",
     "start_time": "2017-06-12T07:30:09.167589Z"
    }
   },
   "outputs": [
    {
     "name": "stdout",
     "output_type": "stream",
     "text": [
      "Tensor(\"Relu_1:0\", shape=(?, 12, 12, 36), dtype=float32)\n",
      "<tf.Variable 'Variable_2:0' shape=(5, 5, 16, 36) dtype=float32_ref>\n"
     ]
    }
   ],
   "source": [
    "L2_conv, W2_conv=\\\n",
    "new_conv_layer(input = L1_conv,\\\n",
    "               num_input_channels=num_filters1,\\\n",
    "               filter_size=filter_size2,\n",
    "               num_filters=num_filters2,\n",
    "               use_pooling=True)\n",
    "\n",
    "print(L2_conv)\n",
    "print(W2_conv)"
   ]
  },
  {
   "cell_type": "markdown",
   "metadata": {},
   "source": [
    "## Prepare for Densely Connected Layer [ Flatten Input For DL]"
   ]
  },
  {
   "cell_type": "code",
   "execution_count": 14,
   "metadata": {
    "ExecuteTime": {
     "end_time": "2017-06-12T07:30:10.079360Z",
     "start_time": "2017-06-12T07:30:10.071974Z"
    }
   },
   "outputs": [
    {
     "name": "stdout",
     "output_type": "stream",
     "text": [
      "Tensor(\"Reshape_1:0\", shape=(?, 5184), dtype=float32)\n",
      "5184\n"
     ]
    }
   ],
   "source": [
    "L_flat, num_features = flatten_layer(L2_conv)\n",
    "print(L_flat)\n",
    "print(num_features)"
   ]
  },
  {
   "cell_type": "markdown",
   "metadata": {},
   "source": [
    "## Densely Connected Layer 1"
   ]
  },
  {
   "cell_type": "code",
   "execution_count": 15,
   "metadata": {
    "ExecuteTime": {
     "end_time": "2017-06-12T07:30:11.068562Z",
     "start_time": "2017-06-12T07:30:11.049421Z"
    }
   },
   "outputs": [
    {
     "data": {
      "text/plain": [
       "<tf.Tensor 'Relu_2:0' shape=(?, 128) dtype=float32>"
      ]
     },
     "execution_count": 15,
     "metadata": {},
     "output_type": "execute_result"
    }
   ],
   "source": [
    "L1_dc = new_fc_layer(input=L_flat,\n",
    "                         num_inputs=num_features,\n",
    "                         num_outputs=dc_size,\n",
    "                         use_relu=True)\n",
    "L1_dc"
   ]
  },
  {
   "cell_type": "markdown",
   "metadata": {
    "ExecuteTime": {
     "end_time": "2017-05-31T04:32:53.848285Z",
     "start_time": "2017-05-31T04:32:53.821406Z"
    }
   },
   "source": [
    "## Densely Connected Layer 2"
   ]
  },
  {
   "cell_type": "code",
   "execution_count": 16,
   "metadata": {
    "ExecuteTime": {
     "end_time": "2017-06-12T07:30:12.154133Z",
     "start_time": "2017-06-12T07:30:12.135701Z"
    }
   },
   "outputs": [
    {
     "data": {
      "text/plain": [
       "<tf.Tensor 'add_3:0' shape=(?, 6) dtype=float32>"
      ]
     },
     "execution_count": 16,
     "metadata": {},
     "output_type": "execute_result"
    }
   ],
   "source": [
    "L2_dc = new_fc_layer(input=L1_dc,\n",
    "                         num_inputs=dc_size,\n",
    "                         num_outputs=num_classes,\n",
    "                         use_relu=False)\n",
    "L2_dc"
   ]
  },
  {
   "cell_type": "markdown",
   "metadata": {},
   "source": [
    "## Prediction "
   ]
  },
  {
   "cell_type": "code",
   "execution_count": 17,
   "metadata": {
    "ExecuteTime": {
     "end_time": "2017-06-12T07:30:14.181400Z",
     "start_time": "2017-06-12T07:30:14.175945Z"
    }
   },
   "outputs": [
    {
     "name": "stdout",
     "output_type": "stream",
     "text": [
      "Tensor(\"Softmax:0\", shape=(?, 6), dtype=float32)\n"
     ]
    }
   ],
   "source": [
    "y_pred=tf.nn.softmax(L2_dc)\n",
    "print(y_pred)"
   ]
  },
  {
   "cell_type": "code",
   "execution_count": 18,
   "metadata": {
    "ExecuteTime": {
     "end_time": "2017-06-12T07:30:14.598217Z",
     "start_time": "2017-06-12T07:30:14.595504Z"
    },
    "collapsed": true
   },
   "outputs": [],
   "source": [
    "#y_pred_val=tf.argmax(y_pred,dimension=1)\n",
    "#print(y_pred_val)"
   ]
  },
  {
   "cell_type": "markdown",
   "metadata": {},
   "source": [
    "## Cost-Function For Optimization"
   ]
  },
  {
   "cell_type": "code",
   "execution_count": 19,
   "metadata": {
    "ExecuteTime": {
     "end_time": "2017-06-12T07:30:15.498157Z",
     "start_time": "2017-06-12T07:30:15.463714Z"
    },
    "collapsed": true
   },
   "outputs": [],
   "source": [
    "cross_entropy = \\\n",
    "tf.nn.softmax_cross_entropy_with_logits(\\\n",
    "                                        logits=L2_dc,\n",
    "                                        labels=y)\n",
    "\n",
    "cost=tf.reduce_mean(cross_entropy)"
   ]
  },
  {
   "cell_type": "code",
   "execution_count": 20,
   "metadata": {
    "ExecuteTime": {
     "end_time": "2017-06-12T07:30:16.049067Z",
     "start_time": "2017-06-12T07:30:15.845156Z"
    },
    "collapsed": true
   },
   "outputs": [],
   "source": [
    "# optimizer = tf.train.AdamOptimizer(\\\n",
    "#                                    learning_rate=1e-4).minimize(cost)\n",
    "optimizer=tf.train.RMSPropOptimizer(0.0005, 0.9).minimize(cost)"
   ]
  },
  {
   "cell_type": "code",
   "execution_count": 21,
   "metadata": {
    "ExecuteTime": {
     "end_time": "2017-06-12T07:30:16.497474Z",
     "start_time": "2017-06-12T07:30:16.493774Z"
    },
    "collapsed": true
   },
   "outputs": [],
   "source": [
    "# correct_pred=tf.equal(y_true_val,y_pred_val)\n",
    "# accuracy1=tf.reduce_mean(tf.cast(correct_pred,tf.float32))\n",
    "def accuracy(predictions, labels):\n",
    "  return (100.0 * np.sum(np.argmax(predictions, 1) == np.argmax(labels, 1))\n",
    "          / predictions.shape[0])\n"
   ]
  },
  {
   "cell_type": "markdown",
   "metadata": {},
   "source": [
    "## TensorFlow Session\n",
    "\n"
   ]
  },
  {
   "cell_type": "code",
   "execution_count": 22,
   "metadata": {
    "ExecuteTime": {
     "end_time": "2017-06-12T07:30:17.488041Z",
     "start_time": "2017-06-12T07:30:17.399750Z"
    },
    "collapsed": true
   },
   "outputs": [],
   "source": [
    "session = tf.Session()\n",
    "saver = tf.train.Saver(max_to_keep=10000)\n"
   ]
  },
  {
   "cell_type": "code",
   "execution_count": 23,
   "metadata": {
    "ExecuteTime": {
     "end_time": "2017-06-12T07:30:25.595232Z",
     "start_time": "2017-06-12T07:30:25.592561Z"
    }
   },
   "outputs": [],
   "source": [
    "#saver.restore(sess=session,save_path='1stmodel_checkpoints_2/1stmodel_1080_5516.0')"
   ]
  },
  {
   "cell_type": "code",
   "execution_count": null,
   "metadata": {
    "ExecuteTime": {
     "end_time": "2017-06-10T05:21:17.445056Z",
     "start_time": "2017-06-10T05:21:17.427972Z"
    },
    "collapsed": true
   },
   "outputs": [],
   "source": [
    "# def optimistic_restore(session, save_file):\n",
    "#     reader = tf.train.NewCheckpointReader(save_file)\n",
    "#     saved_shapes = reader.get_variable_to_shape_map()\n",
    "#     var_names = sorted([(var.name, var.name.split(':')[0]) for var in tf.global_variables()\n",
    "#         if var.name.split(':')[0] in saved_shapes])\n",
    "#     restore_vars = []\n",
    "#     name2var = dict(zip(map(lambda x:x.name.split(':')[0], tf.global_variables()), tf.global_variables()))\n",
    "#     with tf.variable_scope('', reuse=True):\n",
    "#         for var_name, saved_var_name in var_names:\n",
    "#             curr_var = name2var[saved_var_name]\n",
    "#             var_shape = curr_var.get_shape().as_list()\n",
    "#             if var_shape == saved_shapes[saved_var_name]:\n",
    "#                 restore_vars.append(curr_var)\n",
    "#     saver = tf.train.Saver(restore_vars)\n",
    "#     saver.restore(session, save_file)"
   ]
  },
  {
   "cell_type": "markdown",
   "metadata": {},
   "source": [
    "## Ensemble Models\n",
    "From the previous notebook First Convolutional Neural Net-fv.ipynb, I save the model every 1000 iterations and to see how ensemble approach works, we will pick the almost all model with accuracy higher than 60% and predict on the test dataset and add prediction of all models together. Then, we will select the category by the highest score. Each model will pedict the categories by giving the probabilistic score between 0-1 for six categories and we will select the categories which gain most probabilistic score. In some cases, people assume some models work better therefore, the prediction is multiplied by a weight before summation. Here, I assume all the models give the accuracy around 61% and so I don't apply any weight to any model. All models are treated equally without biases."
   ]
  },
  {
   "cell_type": "code",
   "execution_count": 24,
   "metadata": {
    "ExecuteTime": {
     "end_time": "2017-06-12T07:30:33.037900Z",
     "start_time": "2017-06-12T07:30:33.032054Z"
    }
   },
   "outputs": [
    {
     "data": {
      "text/plain": [
       "['1stmodel_checkpoints_2/1stmodel_251_2667.0',\n",
       " '1stmodel_checkpoints_2/1stmodel_271_3333.0',\n",
       " '1stmodel_checkpoints_2/1stmodel_20_3333.0',\n",
       " '1stmodel_checkpoints_2/1stmodel_40_2667.0',\n",
       " '1stmodel_checkpoints_2/1stmodel_60_2667.0',\n",
       " '1stmodel_checkpoints_2/1stmodel_80_2000.0',\n",
       " '1stmodel_checkpoints_2/1stmodel_100_2667.0',\n",
       " '1stmodel_checkpoints_2/1stmodel_120_1333.0',\n",
       " '1stmodel_checkpoints_2/1stmodel_140_2667.0',\n",
       " '1stmodel_checkpoints_2/1stmodel_180_2667.0',\n",
       " '1stmodel_checkpoints_2/1stmodel_200_3333.0',\n",
       " '1stmodel_checkpoints_2/1stmodel_220_3333.0',\n",
       " '1stmodel_checkpoints_2/1stmodel_260_2000.0',\n",
       " '1stmodel_checkpoints_2/1stmodel_280_2667.0',\n",
       " '1stmodel_checkpoints_2/1stmodel_300_2667.0',\n",
       " '1stmodel_checkpoints_2/1stmodel_320_2667.0',\n",
       " '1stmodel_checkpoints_2/1stmodel_340_2667.0',\n",
       " '1stmodel_checkpoints_2/1stmodel_380_2667.0',\n",
       " '1stmodel_checkpoints_2/1stmodel_400_2667.0',\n",
       " '1stmodel_checkpoints_2/1stmodel_40_2000.0',\n",
       " '1stmodel_checkpoints_2/1stmodel_20_2000.0',\n",
       " '1stmodel_checkpoints_2/1stmodel_60_1333.0',\n",
       " '1stmodel_checkpoints_2/1stmodel_80_1333.0',\n",
       " '1stmodel_checkpoints_2/1stmodel_100_1333.0',\n",
       " '1stmodel_checkpoints_2/1stmodel_120_2000.0',\n",
       " '1stmodel_checkpoints_2/1stmodel_160_2667.0',\n",
       " '1stmodel_checkpoints_2/1stmodel_140_2000.0',\n",
       " '1stmodel_checkpoints_2/1stmodel_200_2667.0',\n",
       " '1stmodel_checkpoints_2/1stmodel_240_3333.0',\n",
       " '1stmodel_checkpoints_2/1stmodel_220_2667.0',\n",
       " '1stmodel_checkpoints_2/1stmodel_260_2667.0',\n",
       " '1stmodel_checkpoints_2/1stmodel_280_4667.0',\n",
       " '1stmodel_checkpoints_2/1stmodel_300_4667.0',\n",
       " '1stmodel_checkpoints_2/1stmodel_320_4667.0',\n",
       " '1stmodel_checkpoints_2/1stmodel_360_2667.0',\n",
       " '1stmodel_checkpoints_2/1stmodel_340_3333.0',\n",
       " '1stmodel_checkpoints_2/1stmodel_380_3333.0',\n",
       " '1stmodel_checkpoints_2/1stmodel_400_4000.0']"
      ]
     },
     "execution_count": 24,
     "metadata": {},
     "output_type": "execute_result"
    }
   ],
   "source": [
    "model_list=[i[:-6] for i in glob('1stmodel_checkpoints_2/*.index')]\n",
    "model_list"
   ]
  },
  {
   "cell_type": "markdown",
   "metadata": {},
   "source": [
    "### Reimport previous test dataset"
   ]
  },
  {
   "cell_type": "code",
   "execution_count": 25,
   "metadata": {
    "ExecuteTime": {
     "end_time": "2017-06-12T07:30:42.100860Z",
     "start_time": "2017-06-12T07:30:42.095785Z"
    },
    "collapsed": true
   },
   "outputs": [],
   "source": [
    "testset=jb.load('test_dataset.pkl')\n",
    "test_y=testset['test_y']\n",
    "test_x=testset['test_x']"
   ]
  },
  {
   "cell_type": "code",
   "execution_count": 28,
   "metadata": {
    "ExecuteTime": {
     "end_time": "2017-06-12T07:31:03.968070Z",
     "start_time": "2017-06-12T07:31:01.514087Z"
    }
   },
   "outputs": [
    {
     "name": "stdout",
     "output_type": "stream",
     "text": [
      "INFO:tensorflow:Restoring parameters from 1stmodel_checkpoints_2/1stmodel_251_2667.0\n",
      "INFO:tensorflow:Restoring parameters from 1stmodel_checkpoints_2/1stmodel_271_3333.0\n",
      "INFO:tensorflow:Restoring parameters from 1stmodel_checkpoints_2/1stmodel_20_3333.0\n",
      "INFO:tensorflow:Restoring parameters from 1stmodel_checkpoints_2/1stmodel_40_2667.0\n",
      "INFO:tensorflow:Restoring parameters from 1stmodel_checkpoints_2/1stmodel_60_2667.0\n",
      "INFO:tensorflow:Restoring parameters from 1stmodel_checkpoints_2/1stmodel_80_2000.0\n",
      "INFO:tensorflow:Restoring parameters from 1stmodel_checkpoints_2/1stmodel_100_2667.0\n",
      "INFO:tensorflow:Restoring parameters from 1stmodel_checkpoints_2/1stmodel_120_1333.0\n",
      "INFO:tensorflow:Restoring parameters from 1stmodel_checkpoints_2/1stmodel_140_2667.0\n",
      "INFO:tensorflow:Restoring parameters from 1stmodel_checkpoints_2/1stmodel_180_2667.0\n",
      "INFO:tensorflow:Restoring parameters from 1stmodel_checkpoints_2/1stmodel_200_3333.0\n",
      "INFO:tensorflow:Restoring parameters from 1stmodel_checkpoints_2/1stmodel_220_3333.0\n",
      "INFO:tensorflow:Restoring parameters from 1stmodel_checkpoints_2/1stmodel_260_2000.0\n",
      "INFO:tensorflow:Restoring parameters from 1stmodel_checkpoints_2/1stmodel_280_2667.0\n",
      "INFO:tensorflow:Restoring parameters from 1stmodel_checkpoints_2/1stmodel_300_2667.0\n",
      "INFO:tensorflow:Restoring parameters from 1stmodel_checkpoints_2/1stmodel_320_2667.0\n",
      "INFO:tensorflow:Restoring parameters from 1stmodel_checkpoints_2/1stmodel_340_2667.0\n",
      "INFO:tensorflow:Restoring parameters from 1stmodel_checkpoints_2/1stmodel_380_2667.0\n",
      "INFO:tensorflow:Restoring parameters from 1stmodel_checkpoints_2/1stmodel_400_2667.0\n",
      "INFO:tensorflow:Restoring parameters from 1stmodel_checkpoints_2/1stmodel_40_2000.0\n",
      "INFO:tensorflow:Restoring parameters from 1stmodel_checkpoints_2/1stmodel_20_2000.0\n",
      "INFO:tensorflow:Restoring parameters from 1stmodel_checkpoints_2/1stmodel_60_1333.0\n",
      "INFO:tensorflow:Restoring parameters from 1stmodel_checkpoints_2/1stmodel_80_1333.0\n",
      "INFO:tensorflow:Restoring parameters from 1stmodel_checkpoints_2/1stmodel_100_1333.0\n",
      "INFO:tensorflow:Restoring parameters from 1stmodel_checkpoints_2/1stmodel_120_2000.0\n",
      "INFO:tensorflow:Restoring parameters from 1stmodel_checkpoints_2/1stmodel_160_2667.0\n",
      "INFO:tensorflow:Restoring parameters from 1stmodel_checkpoints_2/1stmodel_140_2000.0\n",
      "INFO:tensorflow:Restoring parameters from 1stmodel_checkpoints_2/1stmodel_200_2667.0\n",
      "INFO:tensorflow:Restoring parameters from 1stmodel_checkpoints_2/1stmodel_240_3333.0\n",
      "INFO:tensorflow:Restoring parameters from 1stmodel_checkpoints_2/1stmodel_220_2667.0\n",
      "INFO:tensorflow:Restoring parameters from 1stmodel_checkpoints_2/1stmodel_260_2667.0\n",
      "INFO:tensorflow:Restoring parameters from 1stmodel_checkpoints_2/1stmodel_280_4667.0\n",
      "INFO:tensorflow:Restoring parameters from 1stmodel_checkpoints_2/1stmodel_300_4667.0\n",
      "INFO:tensorflow:Restoring parameters from 1stmodel_checkpoints_2/1stmodel_320_4667.0\n",
      "INFO:tensorflow:Restoring parameters from 1stmodel_checkpoints_2/1stmodel_360_2667.0\n",
      "INFO:tensorflow:Restoring parameters from 1stmodel_checkpoints_2/1stmodel_340_3333.0\n",
      "INFO:tensorflow:Restoring parameters from 1stmodel_checkpoints_2/1stmodel_380_3333.0\n"
     ]
    }
   ],
   "source": [
    "total_val_y=np.zeros((len(model_list[:-1]),*test_y.shape))\n",
    "for count,i in enumerate(model_list[:-1]):\n",
    "    saver.restore(sess=session,save_path=i)\n",
    "    total_val_y[count]=session.run(y_pred, feed_dict={x: test_x})"
   ]
  },
  {
   "cell_type": "code",
   "execution_count": 29,
   "metadata": {
    "ExecuteTime": {
     "end_time": "2017-06-12T07:31:06.457811Z",
     "start_time": "2017-06-12T07:31:06.454739Z"
    },
    "collapsed": true
   },
   "outputs": [],
   "source": [
    "ens_y=total_val_y.mean(axis=0)"
   ]
  },
  {
   "cell_type": "code",
   "execution_count": 30,
   "metadata": {
    "ExecuteTime": {
     "end_time": "2017-06-12T07:31:07.139130Z",
     "start_time": "2017-06-12T07:31:07.134316Z"
    }
   },
   "outputs": [
    {
     "data": {
      "text/plain": [
       "86.666666666666671"
      ]
     },
     "execution_count": 30,
     "metadata": {},
     "output_type": "execute_result"
    }
   ],
   "source": [
    "accuracy(ens_y,test_y)"
   ]
  },
  {
   "cell_type": "code",
   "execution_count": 32,
   "metadata": {
    "ExecuteTime": {
     "end_time": "2017-06-12T07:32:46.348287Z",
     "start_time": "2017-06-12T07:32:46.283427Z"
    },
    "collapsed": true
   },
   "outputs": [],
   "source": [
    "def plot_confusion_matrix(predictions, y_test,classes,\n",
    "                          normalize=False,\n",
    "                          title='Confusion matrix',\n",
    "                          #cmap=cb.diverging.RdYlBu_11_r.mpl_colormap):\n",
    "                          cmap=cb.sequential.YlGn_9.mpl_colormap):\n",
    "    \"\"\"\n",
    "    This function prints and plots the confusion matrix.\n",
    "    Normalization can be applied by setting `normalize=True`.\n",
    "    \"\"\"\n",
    "    \n",
    "    # Compute confusion matrix\n",
    "    predictions=np.argmax(predictions,1)\n",
    "    y_test=np.argmax(y_test,1)\n",
    "    cm = metrics.confusion_matrix(y_test, predictions)\n",
    "    np.set_printoptions(precision=2)\n",
    "    fig, ax1 = plt.subplots()    \n",
    "    \n",
    "    if normalize:\n",
    "        np.set_printoptions(precision=2)\n",
    "        cm = cm.astype('float') / cm.sum(axis=1)[:, np.newaxis]\n",
    "        p=ax1.imshow(cm, interpolation='nearest', cmap=cmap)\n",
    "        print(\"Normalized confusion matrix\")\n",
    "        cm=np.round(cm,2)\n",
    "    else:\n",
    "        p=ax1.imshow(cm, interpolation='nearest', cmap=cmap)\n",
    "        print('Confusion matrix, without normalization')\n",
    "        \n",
    "    \n",
    "    \n",
    "    plt.title(title)\n",
    "    plt.colorbar(p)\n",
    "    tick_marks = np.arange(len(classes))\n",
    "    plt.xticks(tick_marks, classes, rotation=45)\n",
    "    plt.yticks(tick_marks, classes)\n",
    "    \n",
    "    \n",
    "    \n",
    "    #print(cm)\n",
    "    thresh = cm.max() / 2.\n",
    "    for i, j in itertools.product(range(cm.shape[0]), range(cm.shape[1])):\n",
    "        plt.text(j, i, cm[i, j],\n",
    "                 horizontalalignment=\"center\",\n",
    "                 color=\"white\" if cm[i, j] > thresh else \"black\")\n",
    "\n",
    "    plt.tight_layout()\n",
    "    plt.ylabel('True label')\n",
    "    plt.xlabel('Predicted label')\n",
    "    plt.grid(False)\n",
    "\n",
    "\n"
   ]
  },
  {
   "cell_type": "code",
   "execution_count": 35,
   "metadata": {
    "ExecuteTime": {
     "end_time": "2017-06-12T07:33:11.429981Z",
     "start_time": "2017-06-12T07:33:11.212190Z"
    },
    "scrolled": false
   },
   "outputs": [
    {
     "data": {
      "application/javascript": [
       "/* Put everything inside the global mpl namespace */\n",
       "window.mpl = {};\n",
       "\n",
       "\n",
       "mpl.get_websocket_type = function() {\n",
       "    if (typeof(WebSocket) !== 'undefined') {\n",
       "        return WebSocket;\n",
       "    } else if (typeof(MozWebSocket) !== 'undefined') {\n",
       "        return MozWebSocket;\n",
       "    } else {\n",
       "        alert('Your browser does not have WebSocket support.' +\n",
       "              'Please try Chrome, Safari or Firefox ≥ 6. ' +\n",
       "              'Firefox 4 and 5 are also supported but you ' +\n",
       "              'have to enable WebSockets in about:config.');\n",
       "    };\n",
       "}\n",
       "\n",
       "mpl.figure = function(figure_id, websocket, ondownload, parent_element) {\n",
       "    this.id = figure_id;\n",
       "\n",
       "    this.ws = websocket;\n",
       "\n",
       "    this.supports_binary = (this.ws.binaryType != undefined);\n",
       "\n",
       "    if (!this.supports_binary) {\n",
       "        var warnings = document.getElementById(\"mpl-warnings\");\n",
       "        if (warnings) {\n",
       "            warnings.style.display = 'block';\n",
       "            warnings.textContent = (\n",
       "                \"This browser does not support binary websocket messages. \" +\n",
       "                    \"Performance may be slow.\");\n",
       "        }\n",
       "    }\n",
       "\n",
       "    this.imageObj = new Image();\n",
       "\n",
       "    this.context = undefined;\n",
       "    this.message = undefined;\n",
       "    this.canvas = undefined;\n",
       "    this.rubberband_canvas = undefined;\n",
       "    this.rubberband_context = undefined;\n",
       "    this.format_dropdown = undefined;\n",
       "\n",
       "    this.image_mode = 'full';\n",
       "\n",
       "    this.root = $('<div/>');\n",
       "    this._root_extra_style(this.root)\n",
       "    this.root.attr('style', 'display: inline-block');\n",
       "\n",
       "    $(parent_element).append(this.root);\n",
       "\n",
       "    this._init_header(this);\n",
       "    this._init_canvas(this);\n",
       "    this._init_toolbar(this);\n",
       "\n",
       "    var fig = this;\n",
       "\n",
       "    this.waiting = false;\n",
       "\n",
       "    this.ws.onopen =  function () {\n",
       "            fig.send_message(\"supports_binary\", {value: fig.supports_binary});\n",
       "            fig.send_message(\"send_image_mode\", {});\n",
       "            if (mpl.ratio != 1) {\n",
       "                fig.send_message(\"set_dpi_ratio\", {'dpi_ratio': mpl.ratio});\n",
       "            }\n",
       "            fig.send_message(\"refresh\", {});\n",
       "        }\n",
       "\n",
       "    this.imageObj.onload = function() {\n",
       "            if (fig.image_mode == 'full') {\n",
       "                // Full images could contain transparency (where diff images\n",
       "                // almost always do), so we need to clear the canvas so that\n",
       "                // there is no ghosting.\n",
       "                fig.context.clearRect(0, 0, fig.canvas.width, fig.canvas.height);\n",
       "            }\n",
       "            fig.context.drawImage(fig.imageObj, 0, 0);\n",
       "        };\n",
       "\n",
       "    this.imageObj.onunload = function() {\n",
       "        this.ws.close();\n",
       "    }\n",
       "\n",
       "    this.ws.onmessage = this._make_on_message_function(this);\n",
       "\n",
       "    this.ondownload = ondownload;\n",
       "}\n",
       "\n",
       "mpl.figure.prototype._init_header = function() {\n",
       "    var titlebar = $(\n",
       "        '<div class=\"ui-dialog-titlebar ui-widget-header ui-corner-all ' +\n",
       "        'ui-helper-clearfix\"/>');\n",
       "    var titletext = $(\n",
       "        '<div class=\"ui-dialog-title\" style=\"width: 100%; ' +\n",
       "        'text-align: center; padding: 3px;\"/>');\n",
       "    titlebar.append(titletext)\n",
       "    this.root.append(titlebar);\n",
       "    this.header = titletext[0];\n",
       "}\n",
       "\n",
       "\n",
       "\n",
       "mpl.figure.prototype._canvas_extra_style = function(canvas_div) {\n",
       "\n",
       "}\n",
       "\n",
       "\n",
       "mpl.figure.prototype._root_extra_style = function(canvas_div) {\n",
       "\n",
       "}\n",
       "\n",
       "mpl.figure.prototype._init_canvas = function() {\n",
       "    var fig = this;\n",
       "\n",
       "    var canvas_div = $('<div/>');\n",
       "\n",
       "    canvas_div.attr('style', 'position: relative; clear: both; outline: 0');\n",
       "\n",
       "    function canvas_keyboard_event(event) {\n",
       "        return fig.key_event(event, event['data']);\n",
       "    }\n",
       "\n",
       "    canvas_div.keydown('key_press', canvas_keyboard_event);\n",
       "    canvas_div.keyup('key_release', canvas_keyboard_event);\n",
       "    this.canvas_div = canvas_div\n",
       "    this._canvas_extra_style(canvas_div)\n",
       "    this.root.append(canvas_div);\n",
       "\n",
       "    var canvas = $('<canvas/>');\n",
       "    canvas.addClass('mpl-canvas');\n",
       "    canvas.attr('style', \"left: 0; top: 0; z-index: 0; outline: 0\")\n",
       "\n",
       "    this.canvas = canvas[0];\n",
       "    this.context = canvas[0].getContext(\"2d\");\n",
       "\n",
       "    var backingStore = this.context.backingStorePixelRatio ||\n",
       "\tthis.context.webkitBackingStorePixelRatio ||\n",
       "\tthis.context.mozBackingStorePixelRatio ||\n",
       "\tthis.context.msBackingStorePixelRatio ||\n",
       "\tthis.context.oBackingStorePixelRatio ||\n",
       "\tthis.context.backingStorePixelRatio || 1;\n",
       "\n",
       "    mpl.ratio = (window.devicePixelRatio || 1) / backingStore;\n",
       "\n",
       "    var rubberband = $('<canvas/>');\n",
       "    rubberband.attr('style', \"position: absolute; left: 0; top: 0; z-index: 1;\")\n",
       "\n",
       "    var pass_mouse_events = true;\n",
       "\n",
       "    canvas_div.resizable({\n",
       "        start: function(event, ui) {\n",
       "            pass_mouse_events = false;\n",
       "        },\n",
       "        resize: function(event, ui) {\n",
       "            fig.request_resize(ui.size.width, ui.size.height);\n",
       "        },\n",
       "        stop: function(event, ui) {\n",
       "            pass_mouse_events = true;\n",
       "            fig.request_resize(ui.size.width, ui.size.height);\n",
       "        },\n",
       "    });\n",
       "\n",
       "    function mouse_event_fn(event) {\n",
       "        if (pass_mouse_events)\n",
       "            return fig.mouse_event(event, event['data']);\n",
       "    }\n",
       "\n",
       "    rubberband.mousedown('button_press', mouse_event_fn);\n",
       "    rubberband.mouseup('button_release', mouse_event_fn);\n",
       "    // Throttle sequential mouse events to 1 every 20ms.\n",
       "    rubberband.mousemove('motion_notify', mouse_event_fn);\n",
       "\n",
       "    rubberband.mouseenter('figure_enter', mouse_event_fn);\n",
       "    rubberband.mouseleave('figure_leave', mouse_event_fn);\n",
       "\n",
       "    canvas_div.on(\"wheel\", function (event) {\n",
       "        event = event.originalEvent;\n",
       "        event['data'] = 'scroll'\n",
       "        if (event.deltaY < 0) {\n",
       "            event.step = 1;\n",
       "        } else {\n",
       "            event.step = -1;\n",
       "        }\n",
       "        mouse_event_fn(event);\n",
       "    });\n",
       "\n",
       "    canvas_div.append(canvas);\n",
       "    canvas_div.append(rubberband);\n",
       "\n",
       "    this.rubberband = rubberband;\n",
       "    this.rubberband_canvas = rubberband[0];\n",
       "    this.rubberband_context = rubberband[0].getContext(\"2d\");\n",
       "    this.rubberband_context.strokeStyle = \"#000000\";\n",
       "\n",
       "    this._resize_canvas = function(width, height) {\n",
       "        // Keep the size of the canvas, canvas container, and rubber band\n",
       "        // canvas in synch.\n",
       "        canvas_div.css('width', width)\n",
       "        canvas_div.css('height', height)\n",
       "\n",
       "        canvas.attr('width', width * mpl.ratio);\n",
       "        canvas.attr('height', height * mpl.ratio);\n",
       "        canvas.attr('style', 'width: ' + width + 'px; height: ' + height + 'px;');\n",
       "\n",
       "        rubberband.attr('width', width);\n",
       "        rubberband.attr('height', height);\n",
       "    }\n",
       "\n",
       "    // Set the figure to an initial 600x600px, this will subsequently be updated\n",
       "    // upon first draw.\n",
       "    this._resize_canvas(600, 600);\n",
       "\n",
       "    // Disable right mouse context menu.\n",
       "    $(this.rubberband_canvas).bind(\"contextmenu\",function(e){\n",
       "        return false;\n",
       "    });\n",
       "\n",
       "    function set_focus () {\n",
       "        canvas.focus();\n",
       "        canvas_div.focus();\n",
       "    }\n",
       "\n",
       "    window.setTimeout(set_focus, 100);\n",
       "}\n",
       "\n",
       "mpl.figure.prototype._init_toolbar = function() {\n",
       "    var fig = this;\n",
       "\n",
       "    var nav_element = $('<div/>')\n",
       "    nav_element.attr('style', 'width: 100%');\n",
       "    this.root.append(nav_element);\n",
       "\n",
       "    // Define a callback function for later on.\n",
       "    function toolbar_event(event) {\n",
       "        return fig.toolbar_button_onclick(event['data']);\n",
       "    }\n",
       "    function toolbar_mouse_event(event) {\n",
       "        return fig.toolbar_button_onmouseover(event['data']);\n",
       "    }\n",
       "\n",
       "    for(var toolbar_ind in mpl.toolbar_items) {\n",
       "        var name = mpl.toolbar_items[toolbar_ind][0];\n",
       "        var tooltip = mpl.toolbar_items[toolbar_ind][1];\n",
       "        var image = mpl.toolbar_items[toolbar_ind][2];\n",
       "        var method_name = mpl.toolbar_items[toolbar_ind][3];\n",
       "\n",
       "        if (!name) {\n",
       "            // put a spacer in here.\n",
       "            continue;\n",
       "        }\n",
       "        var button = $('<button/>');\n",
       "        button.addClass('ui-button ui-widget ui-state-default ui-corner-all ' +\n",
       "                        'ui-button-icon-only');\n",
       "        button.attr('role', 'button');\n",
       "        button.attr('aria-disabled', 'false');\n",
       "        button.click(method_name, toolbar_event);\n",
       "        button.mouseover(tooltip, toolbar_mouse_event);\n",
       "\n",
       "        var icon_img = $('<span/>');\n",
       "        icon_img.addClass('ui-button-icon-primary ui-icon');\n",
       "        icon_img.addClass(image);\n",
       "        icon_img.addClass('ui-corner-all');\n",
       "\n",
       "        var tooltip_span = $('<span/>');\n",
       "        tooltip_span.addClass('ui-button-text');\n",
       "        tooltip_span.html(tooltip);\n",
       "\n",
       "        button.append(icon_img);\n",
       "        button.append(tooltip_span);\n",
       "\n",
       "        nav_element.append(button);\n",
       "    }\n",
       "\n",
       "    var fmt_picker_span = $('<span/>');\n",
       "\n",
       "    var fmt_picker = $('<select/>');\n",
       "    fmt_picker.addClass('mpl-toolbar-option ui-widget ui-widget-content');\n",
       "    fmt_picker_span.append(fmt_picker);\n",
       "    nav_element.append(fmt_picker_span);\n",
       "    this.format_dropdown = fmt_picker[0];\n",
       "\n",
       "    for (var ind in mpl.extensions) {\n",
       "        var fmt = mpl.extensions[ind];\n",
       "        var option = $(\n",
       "            '<option/>', {selected: fmt === mpl.default_extension}).html(fmt);\n",
       "        fmt_picker.append(option)\n",
       "    }\n",
       "\n",
       "    // Add hover states to the ui-buttons\n",
       "    $( \".ui-button\" ).hover(\n",
       "        function() { $(this).addClass(\"ui-state-hover\");},\n",
       "        function() { $(this).removeClass(\"ui-state-hover\");}\n",
       "    );\n",
       "\n",
       "    var status_bar = $('<span class=\"mpl-message\"/>');\n",
       "    nav_element.append(status_bar);\n",
       "    this.message = status_bar[0];\n",
       "}\n",
       "\n",
       "mpl.figure.prototype.request_resize = function(x_pixels, y_pixels) {\n",
       "    // Request matplotlib to resize the figure. Matplotlib will then trigger a resize in the client,\n",
       "    // which will in turn request a refresh of the image.\n",
       "    this.send_message('resize', {'width': x_pixels, 'height': y_pixels});\n",
       "}\n",
       "\n",
       "mpl.figure.prototype.send_message = function(type, properties) {\n",
       "    properties['type'] = type;\n",
       "    properties['figure_id'] = this.id;\n",
       "    this.ws.send(JSON.stringify(properties));\n",
       "}\n",
       "\n",
       "mpl.figure.prototype.send_draw_message = function() {\n",
       "    if (!this.waiting) {\n",
       "        this.waiting = true;\n",
       "        this.ws.send(JSON.stringify({type: \"draw\", figure_id: this.id}));\n",
       "    }\n",
       "}\n",
       "\n",
       "\n",
       "mpl.figure.prototype.handle_save = function(fig, msg) {\n",
       "    var format_dropdown = fig.format_dropdown;\n",
       "    var format = format_dropdown.options[format_dropdown.selectedIndex].value;\n",
       "    fig.ondownload(fig, format);\n",
       "}\n",
       "\n",
       "\n",
       "mpl.figure.prototype.handle_resize = function(fig, msg) {\n",
       "    var size = msg['size'];\n",
       "    if (size[0] != fig.canvas.width || size[1] != fig.canvas.height) {\n",
       "        fig._resize_canvas(size[0], size[1]);\n",
       "        fig.send_message(\"refresh\", {});\n",
       "    };\n",
       "}\n",
       "\n",
       "mpl.figure.prototype.handle_rubberband = function(fig, msg) {\n",
       "    var x0 = msg['x0'] / mpl.ratio;\n",
       "    var y0 = (fig.canvas.height - msg['y0']) / mpl.ratio;\n",
       "    var x1 = msg['x1'] / mpl.ratio;\n",
       "    var y1 = (fig.canvas.height - msg['y1']) / mpl.ratio;\n",
       "    x0 = Math.floor(x0) + 0.5;\n",
       "    y0 = Math.floor(y0) + 0.5;\n",
       "    x1 = Math.floor(x1) + 0.5;\n",
       "    y1 = Math.floor(y1) + 0.5;\n",
       "    var min_x = Math.min(x0, x1);\n",
       "    var min_y = Math.min(y0, y1);\n",
       "    var width = Math.abs(x1 - x0);\n",
       "    var height = Math.abs(y1 - y0);\n",
       "\n",
       "    fig.rubberband_context.clearRect(\n",
       "        0, 0, fig.canvas.width, fig.canvas.height);\n",
       "\n",
       "    fig.rubberband_context.strokeRect(min_x, min_y, width, height);\n",
       "}\n",
       "\n",
       "mpl.figure.prototype.handle_figure_label = function(fig, msg) {\n",
       "    // Updates the figure title.\n",
       "    fig.header.textContent = msg['label'];\n",
       "}\n",
       "\n",
       "mpl.figure.prototype.handle_cursor = function(fig, msg) {\n",
       "    var cursor = msg['cursor'];\n",
       "    switch(cursor)\n",
       "    {\n",
       "    case 0:\n",
       "        cursor = 'pointer';\n",
       "        break;\n",
       "    case 1:\n",
       "        cursor = 'default';\n",
       "        break;\n",
       "    case 2:\n",
       "        cursor = 'crosshair';\n",
       "        break;\n",
       "    case 3:\n",
       "        cursor = 'move';\n",
       "        break;\n",
       "    }\n",
       "    fig.rubberband_canvas.style.cursor = cursor;\n",
       "}\n",
       "\n",
       "mpl.figure.prototype.handle_message = function(fig, msg) {\n",
       "    fig.message.textContent = msg['message'];\n",
       "}\n",
       "\n",
       "mpl.figure.prototype.handle_draw = function(fig, msg) {\n",
       "    // Request the server to send over a new figure.\n",
       "    fig.send_draw_message();\n",
       "}\n",
       "\n",
       "mpl.figure.prototype.handle_image_mode = function(fig, msg) {\n",
       "    fig.image_mode = msg['mode'];\n",
       "}\n",
       "\n",
       "mpl.figure.prototype.updated_canvas_event = function() {\n",
       "    // Called whenever the canvas gets updated.\n",
       "    this.send_message(\"ack\", {});\n",
       "}\n",
       "\n",
       "// A function to construct a web socket function for onmessage handling.\n",
       "// Called in the figure constructor.\n",
       "mpl.figure.prototype._make_on_message_function = function(fig) {\n",
       "    return function socket_on_message(evt) {\n",
       "        if (evt.data instanceof Blob) {\n",
       "            /* FIXME: We get \"Resource interpreted as Image but\n",
       "             * transferred with MIME type text/plain:\" errors on\n",
       "             * Chrome.  But how to set the MIME type?  It doesn't seem\n",
       "             * to be part of the websocket stream */\n",
       "            evt.data.type = \"image/png\";\n",
       "\n",
       "            /* Free the memory for the previous frames */\n",
       "            if (fig.imageObj.src) {\n",
       "                (window.URL || window.webkitURL).revokeObjectURL(\n",
       "                    fig.imageObj.src);\n",
       "            }\n",
       "\n",
       "            fig.imageObj.src = (window.URL || window.webkitURL).createObjectURL(\n",
       "                evt.data);\n",
       "            fig.updated_canvas_event();\n",
       "            fig.waiting = false;\n",
       "            return;\n",
       "        }\n",
       "        else if (typeof evt.data === 'string' && evt.data.slice(0, 21) == \"data:image/png;base64\") {\n",
       "            fig.imageObj.src = evt.data;\n",
       "            fig.updated_canvas_event();\n",
       "            fig.waiting = false;\n",
       "            return;\n",
       "        }\n",
       "\n",
       "        var msg = JSON.parse(evt.data);\n",
       "        var msg_type = msg['type'];\n",
       "\n",
       "        // Call the  \"handle_{type}\" callback, which takes\n",
       "        // the figure and JSON message as its only arguments.\n",
       "        try {\n",
       "            var callback = fig[\"handle_\" + msg_type];\n",
       "        } catch (e) {\n",
       "            console.log(\"No handler for the '\" + msg_type + \"' message type: \", msg);\n",
       "            return;\n",
       "        }\n",
       "\n",
       "        if (callback) {\n",
       "            try {\n",
       "                // console.log(\"Handling '\" + msg_type + \"' message: \", msg);\n",
       "                callback(fig, msg);\n",
       "            } catch (e) {\n",
       "                console.log(\"Exception inside the 'handler_\" + msg_type + \"' callback:\", e, e.stack, msg);\n",
       "            }\n",
       "        }\n",
       "    };\n",
       "}\n",
       "\n",
       "// from http://stackoverflow.com/questions/1114465/getting-mouse-location-in-canvas\n",
       "mpl.findpos = function(e) {\n",
       "    //this section is from http://www.quirksmode.org/js/events_properties.html\n",
       "    var targ;\n",
       "    if (!e)\n",
       "        e = window.event;\n",
       "    if (e.target)\n",
       "        targ = e.target;\n",
       "    else if (e.srcElement)\n",
       "        targ = e.srcElement;\n",
       "    if (targ.nodeType == 3) // defeat Safari bug\n",
       "        targ = targ.parentNode;\n",
       "\n",
       "    // jQuery normalizes the pageX and pageY\n",
       "    // pageX,Y are the mouse positions relative to the document\n",
       "    // offset() returns the position of the element relative to the document\n",
       "    var x = e.pageX - $(targ).offset().left;\n",
       "    var y = e.pageY - $(targ).offset().top;\n",
       "\n",
       "    return {\"x\": x, \"y\": y};\n",
       "};\n",
       "\n",
       "/*\n",
       " * return a copy of an object with only non-object keys\n",
       " * we need this to avoid circular references\n",
       " * http://stackoverflow.com/a/24161582/3208463\n",
       " */\n",
       "function simpleKeys (original) {\n",
       "  return Object.keys(original).reduce(function (obj, key) {\n",
       "    if (typeof original[key] !== 'object')\n",
       "        obj[key] = original[key]\n",
       "    return obj;\n",
       "  }, {});\n",
       "}\n",
       "\n",
       "mpl.figure.prototype.mouse_event = function(event, name) {\n",
       "    var canvas_pos = mpl.findpos(event)\n",
       "\n",
       "    if (name === 'button_press')\n",
       "    {\n",
       "        this.canvas.focus();\n",
       "        this.canvas_div.focus();\n",
       "    }\n",
       "\n",
       "    var x = canvas_pos.x * mpl.ratio;\n",
       "    var y = canvas_pos.y * mpl.ratio;\n",
       "\n",
       "    this.send_message(name, {x: x, y: y, button: event.button,\n",
       "                             step: event.step,\n",
       "                             guiEvent: simpleKeys(event)});\n",
       "\n",
       "    /* This prevents the web browser from automatically changing to\n",
       "     * the text insertion cursor when the button is pressed.  We want\n",
       "     * to control all of the cursor setting manually through the\n",
       "     * 'cursor' event from matplotlib */\n",
       "    event.preventDefault();\n",
       "    return false;\n",
       "}\n",
       "\n",
       "mpl.figure.prototype._key_event_extra = function(event, name) {\n",
       "    // Handle any extra behaviour associated with a key event\n",
       "}\n",
       "\n",
       "mpl.figure.prototype.key_event = function(event, name) {\n",
       "\n",
       "    // Prevent repeat events\n",
       "    if (name == 'key_press')\n",
       "    {\n",
       "        if (event.which === this._key)\n",
       "            return;\n",
       "        else\n",
       "            this._key = event.which;\n",
       "    }\n",
       "    if (name == 'key_release')\n",
       "        this._key = null;\n",
       "\n",
       "    var value = '';\n",
       "    if (event.ctrlKey && event.which != 17)\n",
       "        value += \"ctrl+\";\n",
       "    if (event.altKey && event.which != 18)\n",
       "        value += \"alt+\";\n",
       "    if (event.shiftKey && event.which != 16)\n",
       "        value += \"shift+\";\n",
       "\n",
       "    value += 'k';\n",
       "    value += event.which.toString();\n",
       "\n",
       "    this._key_event_extra(event, name);\n",
       "\n",
       "    this.send_message(name, {key: value,\n",
       "                             guiEvent: simpleKeys(event)});\n",
       "    return false;\n",
       "}\n",
       "\n",
       "mpl.figure.prototype.toolbar_button_onclick = function(name) {\n",
       "    if (name == 'download') {\n",
       "        this.handle_save(this, null);\n",
       "    } else {\n",
       "        this.send_message(\"toolbar_button\", {name: name});\n",
       "    }\n",
       "};\n",
       "\n",
       "mpl.figure.prototype.toolbar_button_onmouseover = function(tooltip) {\n",
       "    this.message.textContent = tooltip;\n",
       "};\n",
       "mpl.toolbar_items = [[\"Home\", \"Reset original view\", \"fa fa-home icon-home\", \"home\"], [\"Back\", \"Back to  previous view\", \"fa fa-arrow-left icon-arrow-left\", \"back\"], [\"Forward\", \"Forward to next view\", \"fa fa-arrow-right icon-arrow-right\", \"forward\"], [\"\", \"\", \"\", \"\"], [\"Pan\", \"Pan axes with left mouse, zoom with right\", \"fa fa-arrows icon-move\", \"pan\"], [\"Zoom\", \"Zoom to rectangle\", \"fa fa-square-o icon-check-empty\", \"zoom\"], [\"\", \"\", \"\", \"\"], [\"Download\", \"Download plot\", \"fa fa-floppy-o icon-save\", \"download\"]];\n",
       "\n",
       "mpl.extensions = [\"eps\", \"jpeg\", \"pdf\", \"png\", \"ps\", \"raw\", \"svg\", \"tif\"];\n",
       "\n",
       "mpl.default_extension = \"png\";var comm_websocket_adapter = function(comm) {\n",
       "    // Create a \"websocket\"-like object which calls the given IPython comm\n",
       "    // object with the appropriate methods. Currently this is a non binary\n",
       "    // socket, so there is still some room for performance tuning.\n",
       "    var ws = {};\n",
       "\n",
       "    ws.close = function() {\n",
       "        comm.close()\n",
       "    };\n",
       "    ws.send = function(m) {\n",
       "        //console.log('sending', m);\n",
       "        comm.send(m);\n",
       "    };\n",
       "    // Register the callback with on_msg.\n",
       "    comm.on_msg(function(msg) {\n",
       "        //console.log('receiving', msg['content']['data'], msg);\n",
       "        // Pass the mpl event to the overriden (by mpl) onmessage function.\n",
       "        ws.onmessage(msg['content']['data'])\n",
       "    });\n",
       "    return ws;\n",
       "}\n",
       "\n",
       "mpl.mpl_figure_comm = function(comm, msg) {\n",
       "    // This is the function which gets called when the mpl process\n",
       "    // starts-up an IPython Comm through the \"matplotlib\" channel.\n",
       "\n",
       "    var id = msg.content.data.id;\n",
       "    // Get hold of the div created by the display call when the Comm\n",
       "    // socket was opened in Python.\n",
       "    var element = $(\"#\" + id);\n",
       "    var ws_proxy = comm_websocket_adapter(comm)\n",
       "\n",
       "    function ondownload(figure, format) {\n",
       "        window.open(figure.imageObj.src);\n",
       "    }\n",
       "\n",
       "    var fig = new mpl.figure(id, ws_proxy,\n",
       "                           ondownload,\n",
       "                           element.get(0));\n",
       "\n",
       "    // Call onopen now - mpl needs it, as it is assuming we've passed it a real\n",
       "    // web socket which is closed, not our websocket->open comm proxy.\n",
       "    ws_proxy.onopen();\n",
       "\n",
       "    fig.parent_element = element.get(0);\n",
       "    fig.cell_info = mpl.find_output_cell(\"<div id='\" + id + \"'></div>\");\n",
       "    if (!fig.cell_info) {\n",
       "        console.error(\"Failed to find cell for figure\", id, fig);\n",
       "        return;\n",
       "    }\n",
       "\n",
       "    var output_index = fig.cell_info[2]\n",
       "    var cell = fig.cell_info[0];\n",
       "\n",
       "};\n",
       "\n",
       "mpl.figure.prototype.handle_close = function(fig, msg) {\n",
       "    var width = fig.canvas.width/mpl.ratio\n",
       "    fig.root.unbind('remove')\n",
       "\n",
       "    // Update the output cell to use the data from the current canvas.\n",
       "    fig.push_to_output();\n",
       "    var dataURL = fig.canvas.toDataURL();\n",
       "    // Re-enable the keyboard manager in IPython - without this line, in FF,\n",
       "    // the notebook keyboard shortcuts fail.\n",
       "    IPython.keyboard_manager.enable()\n",
       "    $(fig.parent_element).html('<img src=\"' + dataURL + '\" width=\"' + width + '\">');\n",
       "    fig.close_ws(fig, msg);\n",
       "}\n",
       "\n",
       "mpl.figure.prototype.close_ws = function(fig, msg){\n",
       "    fig.send_message('closing', msg);\n",
       "    // fig.ws.close()\n",
       "}\n",
       "\n",
       "mpl.figure.prototype.push_to_output = function(remove_interactive) {\n",
       "    // Turn the data on the canvas into data in the output cell.\n",
       "    var width = this.canvas.width/mpl.ratio\n",
       "    var dataURL = this.canvas.toDataURL();\n",
       "    this.cell_info[1]['text/html'] = '<img src=\"' + dataURL + '\" width=\"' + width + '\">';\n",
       "}\n",
       "\n",
       "mpl.figure.prototype.updated_canvas_event = function() {\n",
       "    // Tell IPython that the notebook contents must change.\n",
       "    IPython.notebook.set_dirty(true);\n",
       "    this.send_message(\"ack\", {});\n",
       "    var fig = this;\n",
       "    // Wait a second, then push the new image to the DOM so\n",
       "    // that it is saved nicely (might be nice to debounce this).\n",
       "    setTimeout(function () { fig.push_to_output() }, 1000);\n",
       "}\n",
       "\n",
       "mpl.figure.prototype._init_toolbar = function() {\n",
       "    var fig = this;\n",
       "\n",
       "    var nav_element = $('<div/>')\n",
       "    nav_element.attr('style', 'width: 100%');\n",
       "    this.root.append(nav_element);\n",
       "\n",
       "    // Define a callback function for later on.\n",
       "    function toolbar_event(event) {\n",
       "        return fig.toolbar_button_onclick(event['data']);\n",
       "    }\n",
       "    function toolbar_mouse_event(event) {\n",
       "        return fig.toolbar_button_onmouseover(event['data']);\n",
       "    }\n",
       "\n",
       "    for(var toolbar_ind in mpl.toolbar_items){\n",
       "        var name = mpl.toolbar_items[toolbar_ind][0];\n",
       "        var tooltip = mpl.toolbar_items[toolbar_ind][1];\n",
       "        var image = mpl.toolbar_items[toolbar_ind][2];\n",
       "        var method_name = mpl.toolbar_items[toolbar_ind][3];\n",
       "\n",
       "        if (!name) { continue; };\n",
       "\n",
       "        var button = $('<button class=\"btn btn-default\" href=\"#\" title=\"' + name + '\"><i class=\"fa ' + image + ' fa-lg\"></i></button>');\n",
       "        button.click(method_name, toolbar_event);\n",
       "        button.mouseover(tooltip, toolbar_mouse_event);\n",
       "        nav_element.append(button);\n",
       "    }\n",
       "\n",
       "    // Add the status bar.\n",
       "    var status_bar = $('<span class=\"mpl-message\" style=\"text-align:right; float: right;\"/>');\n",
       "    nav_element.append(status_bar);\n",
       "    this.message = status_bar[0];\n",
       "\n",
       "    // Add the close button to the window.\n",
       "    var buttongrp = $('<div class=\"btn-group inline pull-right\"></div>');\n",
       "    var button = $('<button class=\"btn btn-mini btn-primary\" href=\"#\" title=\"Stop Interaction\"><i class=\"fa fa-power-off icon-remove icon-large\"></i></button>');\n",
       "    button.click(function (evt) { fig.handle_close(fig, {}); } );\n",
       "    button.mouseover('Stop Interaction', toolbar_mouse_event);\n",
       "    buttongrp.append(button);\n",
       "    var titlebar = this.root.find($('.ui-dialog-titlebar'));\n",
       "    titlebar.prepend(buttongrp);\n",
       "}\n",
       "\n",
       "mpl.figure.prototype._root_extra_style = function(el){\n",
       "    var fig = this\n",
       "    el.on(\"remove\", function(){\n",
       "\tfig.close_ws(fig, {});\n",
       "    });\n",
       "}\n",
       "\n",
       "mpl.figure.prototype._canvas_extra_style = function(el){\n",
       "    // this is important to make the div 'focusable\n",
       "    el.attr('tabindex', 0)\n",
       "    // reach out to IPython and tell the keyboard manager to turn it's self\n",
       "    // off when our div gets focus\n",
       "\n",
       "    // location in version 3\n",
       "    if (IPython.notebook.keyboard_manager) {\n",
       "        IPython.notebook.keyboard_manager.register_events(el);\n",
       "    }\n",
       "    else {\n",
       "        // location in version 2\n",
       "        IPython.keyboard_manager.register_events(el);\n",
       "    }\n",
       "\n",
       "}\n",
       "\n",
       "mpl.figure.prototype._key_event_extra = function(event, name) {\n",
       "    var manager = IPython.notebook.keyboard_manager;\n",
       "    if (!manager)\n",
       "        manager = IPython.keyboard_manager;\n",
       "\n",
       "    // Check for shift+enter\n",
       "    if (event.shiftKey && event.which == 13) {\n",
       "        this.canvas_div.blur();\n",
       "        // select the cell after this one\n",
       "        var index = IPython.notebook.find_cell_index(this.cell_info[0]);\n",
       "        IPython.notebook.select(index + 1);\n",
       "    }\n",
       "}\n",
       "\n",
       "mpl.figure.prototype.handle_save = function(fig, msg) {\n",
       "    fig.ondownload(fig, null);\n",
       "}\n",
       "\n",
       "\n",
       "mpl.find_output_cell = function(html_output) {\n",
       "    // Return the cell and output element which can be found *uniquely* in the notebook.\n",
       "    // Note - this is a bit hacky, but it is done because the \"notebook_saving.Notebook\"\n",
       "    // IPython event is triggered only after the cells have been serialised, which for\n",
       "    // our purposes (turning an active figure into a static one), is too late.\n",
       "    var cells = IPython.notebook.get_cells();\n",
       "    var ncells = cells.length;\n",
       "    for (var i=0; i<ncells; i++) {\n",
       "        var cell = cells[i];\n",
       "        if (cell.cell_type === 'code'){\n",
       "            for (var j=0; j<cell.output_area.outputs.length; j++) {\n",
       "                var data = cell.output_area.outputs[j];\n",
       "                if (data.data) {\n",
       "                    // IPython >= 3 moved mimebundle to data attribute of output\n",
       "                    data = data.data;\n",
       "                }\n",
       "                if (data['text/html'] == html_output) {\n",
       "                    return [cell, data, j];\n",
       "                }\n",
       "            }\n",
       "        }\n",
       "    }\n",
       "}\n",
       "\n",
       "// Register the function which deals with the matplotlib target/channel.\n",
       "// The kernel may be null if the page has been refreshed.\n",
       "if (IPython.notebook.kernel != null) {\n",
       "    IPython.notebook.kernel.comm_manager.register_target('matplotlib', mpl.mpl_figure_comm);\n",
       "}\n"
      ],
      "text/plain": [
       "<IPython.core.display.Javascript object>"
      ]
     },
     "metadata": {},
     "output_type": "display_data"
    },
    {
     "data": {
      "text/html": [
       "<img src=\"data:image/png;base64,iVBORw0KGgoAAAANSUhEUgAABkAAAARMCAYAAADBUV/1AAAgAElEQVR4Xuzdd5wcdf3H8c93L5eE9hMLLaEE7nb2QoAAoYkKAQSCIEV6LwIiTXoTBBFEpTfpHUQ6SBOlRBAEIbQQcvvdS0gooSotBMLl5vt7fOdm43Jc2W9msjs789q/yO13vjPf5+d7DMw78/0q4YMAAggggAACCCCAAAIIIIAAAggggAACCCCAAAIIpExApWw8DAcBBBBAAAEEEEAAAQQQQAABBBBAAAEEEEAAAQQQEAIQJgECCCCAAAIIIIAAAggggAACCCCAAAIIIIAAAgikToAAJHUlZUAIIIAAAggggAACCCCAAAIIIIAAAggggAACCCBAAMIcQAABBBBAAAEEEEAAAQQQQAABBBBAAAEEEEAAgdQJEICkrqQMCAEEEEAAAQQQQAABBBBAAAEEEEAAAQQQQAABBAhAmAMIIIAAAggggAACCCCAAAIIIIAAAggggAACCCCQOgECkNSVlAEhgAACCCCAAAIIIIAAAggggAACCCCAAAIIIIAAAQhzAAEEEEAAAQQQQAABBBBAAAEEEEAAAQQQQAABBFInQACSupIyIAQQQAABBBBAAAEEEEAAAQQQQAABBBBAAAEEECAAYQ4ggAACCCCAAAIIIIAAAggggAACCCCAAAIIIIBA6gQIQFJXUgaEAAIIIIAAAggggAACCCCAAAIIIIAAAggggAACBCDMAQQQQAABBBBAAAEEEEAAAQQQQAABBBBAAAEEEEidAAFI6krKgBBAAAEEEEAAAQQQQAABBBBAAAEEEEAAAQQQQIAAhDmAAAIIIIAAAggggAACCCCAAAIIIIAAAggggAACqRMgAEldSRkQAggggAACCCCAAAIIIIAAAggggAACCCCAAAIIEIAwBxBAAAEEEEAAAQQQQAABBBBAAAEEEEAAAQQQQCB1AgQgqSspA0IAAQQQQAABBBBAAAEEEEAAAQQQQAABBBBAAAECEOYAAggggAACCCCAAAIIIIAAAggggAACCCCAAAIIpE6AACR1JWVACCCAAAIIIIAAAggggAACCCCAAAIIIIAAAgggQADCHEAAAQQQQAABBBBAAAEEEEAAAQQQQAABBBBAAIHUCRCApK6kDAgBBBBAAAEEEEAAAQQQQAABBBBAAAEEEEAAAQQIQJgDCCCAAAIIIIAAAggggAACCCCAAAIIIIAAAgggkDoBApDUlZQBIYAAAggggAACCCCAAAIIIIAAAggggAACCCCAAAEIcwABBBBAAAEEEEAAAQQQQAABBBBAAAEEEEAAAQRSJ0AAkrqSMiAEEEAAAQQQQAABBBBAAAEEEEAAAQQQQAABBBAgAGEOIIAAAggggAACCCCAAAIIIIAAAggggAACCCCAQOoECEBSV1IGhAACCCCAAAIIIIAAAggggAACCCCAAAIIIIAAAgQgzAEEEEAAAQQQQAABBBBAAAEEEEAAAQQQQAABBBBInQABSOpKyoAQQAABBBBAAAEEEEAAAQQQQAABBBBAAAEEEECAAIQ5gAACCCCAAAIIIIAAAggggAACCCCAAAIIIIAAAqkTIABJXUkZEAIIIIAAAggggAACCCCAAAIIIIAAAggggAACCBCAMAcQQAABBBBAAAEEEEAAAQQQQAABBBBAAAEEEEAgdQIEIKkrKQNCAAEEEEAAAQQQQAABBBBAAAEEEEAAAQQQQAABAhDmAAIIIIAAAggggAACCCCAAAIIIIAAAggggAACCKROgAAkdSVlQAgggAACCCCAAAIIIIBAdIExY8Y0T5gwoTN6T/SAAAIIIIAAAggggEB9BAhA6uPOWRFAAAEEEEAAAQTqJOB53poisq2IrCsiBRFZVCk1xxjzHxF5WUQe8X3/xo6OjvfrdImRT+t53mhjzNFKqfVEZHGlVJcx5j0ROUJrfVfkE8TUQVtb21jf9x8Lu7tOa71XTF3TTQSB1tbWpXO53EW5XO689vb28RG6Es/zponIcrYPrTX//xkFk2MRQAABBBBAAAEEnAX4D1BnMg5AAAEEEEAAAQQQaESBtra2dY0xZxljvlvF9X8uIr8fNmzY6ePHj59TRfvENCkUCt8zxjwsIkN7XlQul9sg6gPtOAdKABKnZjx9eZ63k4hcISILxzFfCEDiqQu9IIAAAggggAACCMybAAHIvLlxFAIIIIAAAggggEADCXie92sROUlEyv/9a9+IeEIp9YKIfCAizcaYvFJqY/vGRMXQHmlubt560qRJMxtluJ7n/UNE7Jsf9vOGiNwqIv8VkW/PmTPn1KlTp36clLEQgCSlEv+7Ds/zrhWRPe1PCECSVx+uCAEEEEAAAQQQQMBNgADEzYvWCCCAAAIIIIAAAg0mUCgUzjTGHFVx2Vc2NTX9avLkyW/3HIrd8+DTTz89VER+JyKD7PdKqXuLxeJWImIaYeie59mA4//s9c6ZM2fE1KlTX2+E6+YakyEQdwCSjFFxFQgggAACCCCAAAJZFSAAyWrlGTcCCCCAAAIIIJABgUKhsJ0x5rZwqMYY89NSqXTNQEPP5/PbKqXsceX/Xt5La33dQMcl4XvP8/zwut/RWi+VhGviGhpHgACkcWrFlSKAAAIIIIAAAggMLEAAMrARLRBAAAEEEEAAAQQaUGDEiBFDBw8ePEVEhoWXf4bW+oRqh1IoFK42xuwdtp+mtV6hEd4C8Tyv/KbKdK31iGrHSzsErAABCPMAAQQQQAABBBBAIE0CBCBpqiZjQQABBBBAAAEEEJgr4HnefiJyefiD92fNmrXcm2++aTc3r+rjeZ4NPDrs2xTGmNKgQYM2nzx5cqm3g1tbW1dUSu2vlNpARJYLNyC3e4u8KCJ3Nzc3Xz9p0qQvezu2ra1thO/7r4XfHa+1/l1ra2tLLpc7UEQ2E5FlwuBlmojc19zcfMGkSZPeqeyr8qF1X4Mr7+fged4pInKybWcDnlKpZPd86PWTz+f3UkqV35j5tdbaHvuVz6hRowZ/+eWXuyqlfiIiY0TkOyLyuTHmXaXUU77v39HR0XFvH2Mf6/v+Y+F312mt9+rnWtZWSv1URH4gIkuHS5S9a4x5NpfL3VYsFm8XEfv2y9c+PfYa2Vlr/ed8Pr9qLpc7wBizkVJqmDHG1sfW927f9y/q6Oj4pKqJ0kujSmMRWUxr/UGhUNjeGLOPiIwWkW+JiF2C7V8icq7W+tlyN3Yu5XK5X4jID0VkuIjMNMY8p5S6QGv9wADXpAqFwpbGmC1E5LsisqSIfCPs432l1NPGmFtLpdJ9PfspFArjjTHrDzR/7PflkE0pdVmxWDwgn88foJQ6MqyLnZtPNDU1nTR58uTpfW2Cns/n71FKbRmeb4bv+yP7Mvc870oRsbW3n/ZZs2at7vK7PK915DgEEEAAAQQQQACBxhcgAGn8GjICBBBAAAEEEEAAgV4EejzQvVBrbff2cPp4nrdRZ2fnK6+99tq7vR0YvmVylojYsKK//7a2AcdOWut/9+ynZwAiIjOUUpcYYxbs42I/NcZsWyqV/l7+vl4BSKFQWN4YYx/Ktw0A+7Tv+1t2dHS8X9mumk3QV1555W/Onj37MhHZfoBzvNTU1LR9byFVzwBEROybMb8p7/PSS7+23ptqrV9ymjBh48oARCm1gjHm4jDM6q27OUqpvYrF4k2e5+0rIheJyJDeGhpjTiqVSqf19p3neW12uTel1EoDXbNS6m+DBg3adtKkSTPLbec1ADHGaBE5u8c5O4cMGbLExIkTP+wrAFl++eWXaG5uniQi3w6P/aPW+qCe157P57ew+/CEP+/0fX+djo6O5wcaI98jgAACCCCAAAIIIGAFCECYBwgggAACCCCAAAKpE1h66aUXWHDBBe3f4A82MheRbbTWd8c50LFjxw6aMWOG7XPzin5twPGYMWamUiovInbzdPs38O3ni1wut1l7e/v4yuvoEYA8LiLfF5GcMeYVpdRDxpgPlVIFpdS2FaHIJ77vt5YDhUKhMM73/eDBt1LqzLD/D40xvy2fy/f9W6ZMmfJGXG+AtLa2DsnlcvZB9IrhOd4wxtynlHpDRBY2xqyklLJvIuTC7/+ptbZvb8z9DBSAjBo1auHOzk77hsga4UF2ea/HlFL/Ct/YsGO251igYszfK5VKk/s5j+3PvqljP0+LyHil1Czf91dRStl6NYffTfN9v62jo2O267zp8QbIUyKyroh0GmPsWw+vGGOWUEr9OHxjwnZvg4jjROTC8FwPhW+HDBWRbe1LF+XxG2NWL5VK9s2iuR/P8+ybIjasKYcJ9i2M+40x05RSvlJqGWOMfZvIvp1U/lystT64/AfP83Y0xiyjlNqx7K2UutT3fbuMnJTnj/3nimXWHg3n6+AeRn/VWtvz2bb2zaXgvFrrr/z/pz2niPw5PNb3ff97HR0dtibBx/M8+zbRxPBNFju3jysWi793rQftEUAAAQQQQAABBLIrQACS3dozcgQQQAABBBBAILUCra2tq+dyuQnlAfq+v3jPtw+iDr7HQ277AHv3niFL+AD3+oq//f+eiIyySyKVz98jALE/7lJK/axYLF5VeY12SS6llA1Xlg1//kut9dyAo+Khcb97gMQVgOTz+V2UUjfZ8yql/jF79uxx06ZN+6LHNa8pIvYh+cL253aJpVKpZEOe4DNQANLjzRa7pNa2xWLxycpzjBw5crmuri67/FU5JGlvbm4eXbnkWI/z2MNn+r6/S8+ludra2sb4vv9IObQyxuxaKpX+5DpXeswNO+6S7/s/mjJlil1SrTz2b/u+b8ORcrhhf/6pDWGKxWJ5WTCxS4zNmTPnXmPMJqHh+aVS6bAezteJyB7hzx6cNWvWtj2XiAoDu3NE5JCw3WezZs1arGe7avYAqQhAgq7sMmlKqVONMf8xxtgA70uttXXsNwAJv7+14u2eicOGDVt9/Pjxc+x3+XzevtGyXXmOFYvFDfta5sy1RrRHAAEEEEAAAQQQyIYAAUg26swoEUAAAQQQQACBTAkUCoWtjDHlNz7sw9helxSaV5S2tjb78Noua7VI+HDWPrT+S2/9hQ+w7RsLq4ff/1Zr/cty254BiDHmN6VS6Ve99eV5nn3IbR9228+jWuuNerYbaBP0uAIQz/MuqHiY3ucbNhXn840xx5ZKJbtkWPDpLwDJ5/Mj7dsS4Rsk/S59NGLEiEUHDx78crhfiu16f631FX2cxz6w/2mxWLy6D2Nr/2v7nTHm6lKpVN57ourp0iMAsfuSrN7bclqe59ml0+zyWMFHKXVgsVi8pOeJWltb18nlcna/EPt5UmttQ4bgM2zYsAUXXnhhG6jZt2C+6OzsHNHXkm12LnZ2dtrlvRa1x/q+v3pHR8cLledzDUCMMQ+VSqVxfeH09waIPSYMCe1SWIuHBsFbHoVCYVdjzI1hvx/NmTNn9NSpU1+vugg0RAABBBBAAAEEEECAJbCYAwgggAACCCCAAAJpFOjx8PRtrfWwOMdZuTm4ffuhWCyO7a9/u5eIiDwctnlHa71UuX3PAKS5uXmpnpucl9uGbzvYJYXs51Wt9aie561hAGLfJjjcnt8Y84dSqXRsbwZ2D4/Ozs7FmpqapvXcCL6/AKRHiNDvBun2vIVC4afGGLtZtv08rbW2m4AHnx7n+aS5uXmxvjalb21tXT+Xy5WXKXtAa125xFlV06jHtT+itbYbmn/t09bWtq7v++U3Wjpnzpy56IwZM2b1bNja2vp/uVzu4/DnWmtdKLcJwx+7P4p9Q+ijgZaI8jzPBinrhHX7yhs59meuAUj4xkqv4V/YX59LYJXH4Hne1iJyl/2zXY7MGGN/n/4abhZvfxxsXF8VPo0QQAABBBBAAAEEEKgQ4A0QpgMCCCCAAAIIIIBA6gQ8z9tJRG4OB/ZfrXV5b4RYxup5nl3WavfwIfKhpVKpvHdDn/17nmf/ln5wHU1NTV55s+7KAEQp9XqxWKzcp+Er/YV/2/+z8IdTtdYtPU9YqwCkx1s29jJuNcbcsMACCzz28ssvl6+xX+8BAhC7VFawZ0i4gXp5I+xe+1xhhRW+MWjQoA/Dv+Q1Z+bMmd8ohwk9zvO41nr9vi6stbV1xVwuZ99IsJ9e37IZaBL1CEDO0Fqf0NsxdlkzEQn22BCRSVrrvjYwz3me1xW2m661tpu4O3/sXOvq6rq3YqP0H5aXqip35hqADLS83EBvgFSc9wYR2S38s11Kze5/Yj83aq2D3zU+CCCAAAIIIIAAAgi4ChCAuIrRHgEEEEAAAQQQQCDxAnZTcGPMg+GFGq213di6/AA58vV7nvdEuPmz7Ws9rbX9c78fz/Psngh2DwPJ5XLj2tvb7UbX9u2EEeFyWvaPz2qt1+qvo4qAY5rWevmebWsVgNhh5PP5R5RSPd9++dIu02Q3cM/lcvdPnjzZLmPV62eAAMRupr60PbCrq2tZu4F7FcY2TLChgn2ToK1YLBZD47G+75f31bhNa71DP9c0tx7GmPGlUqm8YfpAp5/7fY8A5GCt9dxlrio76VH7r20SX9l2oLr2aDs8l8vljTEtxphWY8yKSqnVKpYIKzffWGtdfjMp+JljAPKZ1jrY36WvT7UBiH1TaPbs2XauVL6tZTeiH93R0fFJ1fg0RAABBBBAAAEEEECgQoAAhOmAAAIIIIAAAgggkDqBlpaW1qamplJ5YE1NTcMmT578dlwD9TzvVREZafvzfX+ljo6O8hsD/T0InrvZszFml1KpFLyh0uMNkGqW0xpok/OBvj9FRE625zbG7F0qla7t66Irl/qy+2Jore2xcz/hWxd2LxD7N/T7+n8Lu/H3NUOHDj2/55shAwQgdikou6+FDB06dOFq3irxPO/fImI3Xrd1WbejoyPYN2OgzdYrx+Raj97seuyzsk+pVLqmt3Yu5xooAGlpaVm8qanpGBHZRUTmLrHWy3ltENgU/jxqAPKW1joIqfr6VBuA2ON77HFjf9RneBTX7zL9IIAAAggggAACCKRbgAAk3fVldAgggAACCCCAQFYF7JJBdsmpb1oApdQOxWLxNleMfD6/tjFm6JAhQ/5VuWeE53mT7XN1259DAHKHiPwkvIa5exq4PAQPHxIPFHAM9L1LALK3Uqq8WfjXApCyZ2tra4tSaiel1I/DACLXi/X0XC43tr29vbyHSb/BhOd5n5eXQao2ACkUChPKm837vv/djo6Op+111DkA6TNkcql9fwFIoVD4njHG7sPxrR7us40xpVwu97Lv+0/ncrm/ichlxpjyEmBRA5ABl+NyCEDs76zdeyVY9iz8vBH+fvEGiOu/vGiPAAIIIIAAAgggEAgQgDAREEAAAQQQQAABBFIpUCgUbjfGbBsO7kqt9X6uA/U87z4RsZtgf26M+W2pVDrN9lEoFJ4yxgSbbNuHyaVSye5X0e/H87x/2OWygv8IV2qzYrFoN3mu9xsgfb6dEI7z58aYP4YD6zMAqRy43ZR7yJAh6xtjNraBiDFm2Yrvv7L/xgBvgMwov8kwZ86c5aZOnfr6QMaFQmF6xflGaq3bQ+PKJbD63VDdJZTo63p6vAEyXwOQtra2b/u+b99IWjy8nheVUnZPmieLxaJ9++YrS79VviUjIokJQDzPO1xEzgnHYEO84P9VlVLXFIvFfQaqPd8jgAACCCCAAAIIINCbAAEI8wIBBBBAAAEEEEAglQKe520jIneGg/vP0KFDl6tmGaUyhud5w0XkNRGx+4fYB7E7FotFu4yVXarnOhHZw/6zMaaaTdCV53n/FZFF7TG5XK7Q3t6u7T+7PnAfaCmkgb4vFAonGWNODa/956VS6dK+JkA+nz9VKXVS+H1VAUiPvuy4DxKRuZvEV4YZAwQgcwOjajZBD/eQsMb248+aNWvhN998075Fkuo3QAqFwrHGmN+Fc/T5rq4uu/TX7L5q6nmendPBJurGmE1KpdLfK9s67gESyxsghUKhYIx5IVzyzFdKbWOMsUuzBW9wGWO2KJVK96fyX1QMCgEEEEAAAQQQQGC+ChCAzFdeOkcAAQQQQAABBBCol8DYsWMHzZgxw74B0BJewxla6xOqvZ5CoXC13SMjbP/Wl19+2Tpt2rQv7J89z9tXRK4Iv/vKWw299Z/P5+3bEHb5Ifv5QGtt/7Z+sFRVrQMQz/OOFJGz7LmVUr8qFou/6cvE8zy7kfy48PvKAKTJ8zy7NNYou1F5c3PzspVLhPXsr3LPlFwu97329vanwrH3+WZGoVA4zRjzy7Cv67XWe/ZXO8/z7Bs+l4fjer5YLI4pt0/zElie590lIlvbsRpjflEqleyeLL1+emy6boO4ce3t7Q9VNvY8z+5Xspf9WS6X26C9vd0uS/WVz0AhW4/+7JJny9mfaa17+/9PO5f+KSLrhGM4v1QqHVYoFPYxxlwV9vX2kCFDRk2cOPHD/uYA3yGAAAIIIIAAAggg0FOAAIQ5gQACCCCAAAIIIJBagXw+v61S6vZwgL59sKu1vmGgAVc+TA/b7qe1vrJ8XPi2gV2SaWH7M6XUVsVi0e7B8LXPmDFjmj/99FO7GXf5gfwftdb2rYjgU+sApFAo7GCMuSU8/RNa62BZrp6f1tbW1XO5nN1UvLxh9lfeAPE870URGR2Ov789VuzeDnYD+mCJpqamphGTJ0+eHo69zwCkra3N833fBlj2/1k6fd9fp6Oj4/nerjXcjH2iiCxjvzfGHFMqlc6sME7tElie5z0gIpuF4/5NqVT6VV/zuzIsCdv/uFQq2WXe5n48z7Pz/KfhD36otX6kZ39xBiCVb7CIyPShQ4eOCt/UUoVC4bHyfiVKqT8Vi8Vd+xobP0cAAQQQQAABBBBAoDcBAhDmBQIIIIAAAggggECqBTzPs29q2Dc2yp8rlFKnFItFu8fEVz7hfgp2k3AbUJT/W/lOrXV5L5G57XssDzVTKbVbsVi8p7LDUaNGfauzs9Mul7VF+PP3mpubR0+aNOmdcrtaByAtLS2LNzU12UCivFH5z7TWwZsT5U+hUFjDGGOXDwsChfDzlQAkn88fqpQ6P/zOLj01Tmv9bA9SuwTW2SJi93ewnwla6zUqxt5vMOF53vUisnvY/l2l1LbFYvHJynO0tLQs09TUZDe4Xzv8efvQoUPXqFzuLOVvgJwhIseFY/8gDIqmVBqF8/oSEdm+8ueVy7qVf+55nt2HI6iXUmrfYrFYfgtj7qFxBSCtra2jcrncBBEZEp5v7t449s9hCPZy+Xu7p0+pVCova9djqvFHBBBAAAEEEEAAAQS+LkAAwqxAAAEEEEAAAQQQSLtAU6FQuN4Ys0vFQOeIyOPGmOeUUnZZnUVEZBUR2SjchyBoqpS697PPPtuxvJdEDyi7dI/dyPyHFT9/RkTs31q3gUheRLYq7/shIl/mcrktey45VOsAxF5rPp+/USlV+bfpH1dKPWGMsf9/sFboYP/Z7nmyQzi+rwQgo0aNGtzZ2WkDD+tW/tj9JOybGO+Hb3xsKiIrhl9+aa201k+UGw8UTIwaNWrhzs5Ou1zWyuExdtmwR5VS9o2aL40xdgmuLStq9ondaF5r/VJlrQY6T4+2I3zft/tk2Pr/o1gsjnX9BanlJuiFQmF5Y4zdBH1oeJ2zlVJ3GGPsHjM2WGgTkR+VQwT7Nk3FvjYHFotFG4zM/eTz+UOUUuVltP6rlPqjte7q6rqzo6Njkm0YRwASLlH3dPnNqL7e8Kjcs8bOK9/3R3V0dNj5xQcBBBBAAAEEEEAAgQEFCEAGJKIBAggggAACCCCAQBoEPM/bX0Ts5t9LVDGemSJyitb6PBHp6qt9GAJcFL5h0t9/W0/J5XI7tre327/t/pVPPQKQ1tbW/2tqavpLeXmhPsZ3RS6XO973/Q/C77+2CfrIkSOX6urqskt/zX2ro4++3jXG7NtzuaVqgolweSv7Fo0Nk/r7TPB9f8eOjo6vvP1gD6jmPOWOXevR2wXVMgCx5/c8bxsRuakyvOvlumx4ZN+GsnPwsvD7q7TWlW9HyahRo5bs7Oy0gUqwAXnF5wit9bnh+YL9a+ySVVrrYEP1vj6e5/W6B0iPYOM/vu+P7C3YCH/H7AbpQZBmw51isbjdAHOBrxFAAAEEEEAAAQQQCAQIQJgICCCAAAIIIIAAApkRGDZs2IILLbTQVkop+zfi7f4VS9u3P5RS9u2ED4wx9kHr33zfv7Gjo8O+TVDVp1AorGIf8BtjNlBK2WWjFhKR/9iHzfaBbVdX100dHR2ze+vM9YH7QH/7fqDvK67BLk+1Y7jElA0wFhWRd0XEvl1xud37YcSIEYsOHjy4vPH01wKQsC/7Jsz2SqntjDGrKaWWNMYMCt8CKdq3aDo7O6+ZOnXqxz3H7xJMeJ73AxHZw77hISJLhW882GWx7Fs3txSLRbs0Uq9hlct5XOvRW01rHYDYa2hpaWltamo6LHx7x246bmtg57ANhJ4xxlxdKpVeLBQKw4wxb4RLoH04dOjQZSqXC7N95fP5kUqp00TEmtsg5FMROU9rbQPEyG+AeJ5nf/fs20PNod8e/e3NUygUvmeMsW8OBf//at/mKpVKN1f1y0kjBBBAAAEEEEAAgUwLEIBkuvwMHgEEEEAAAQQQQAABBBBAAAEEEEAAAQQQQACBdAoQgKSzrowKAQQQQAABBBBAAAEEEEAAAQQQQAABBBBAAIFMCxCAZLr8DB4BBBBAAAEEEEAAAQQQQAABBBBAAAEEEEAAgXQKEICks66MCgEEEEAAAQQQQAABBBBAAAEEEEAAAQQQQACBTAsQgGS6/AweAQQQQAABBBBAAAEEEEAAAQQQQAABBBBAAIF0ChCApLOujAoBBBBAAAEEEEAAAQQQQAABBBBAAAEEEEAAgUwLEIBkuvwMHgEEEEAAAQQQQAABBBBAAAEEEEAAAQQQQACBdAoQgKSzrowKAQQQQAABBBBAAAEEEEAAAQQQQAABBDIsUCgUzjfGHGqM2btUKl0bhaKtrW1l3/ePEZENROCcQCYAACAASURBVGRxEfmPiDynlLq4WCz+NUrfHIvA/BQgAJmfuvSNAAIIIIAAAggggAACCCCAAAIIIIAAAgjUWKBQKGxljLlTRHJRA5BCobClMeZ2EWnubRhKqQuKxeIvajxETodAVQIEIFUx0QgBBBBAAAEEEEAAAQQQQAABBBBAAAEEEEi+QGtr649zuZwNLAbbq40SgLS2tq6Wy+WeFJEFRORZ3/ePHjRo0CvGmOWNMb8Uka1DkYO11hcnX4crzJoAAUjWKs54EUAAAQQQQAABBBBAAAEEEEAAAQQQQCCNAjnP804WkRPtmx/lAUYJQDzPu09ENheRjubm5tUmTZo0swJOeZ53i4hsb5fEUkotXywWP00jLGNqXAECkMatHVeOAAIIIIAAAggggAACCCCAAAIIIIAAAghIW1vbpr7vnykiK4ccE0RkjP3neQ1APM9rE5HJYR/7lEqla3pSt7S0LNPU1DQtDFz20lpfRzkQSJIAAUiSqsG1IIAAAggggAACCCCAAAIIIIAAAggggAACjgKe55nwkE4ROd33/RtzuVxHxADkcBE5x2YoduNzrfUHvV2W53nPhWHL3VrrbRwvneYIzFcBApD5ykvnCCCAAAIIIIAAAggggAACCCCAAAIIIIDA/BXwPM8XkbtE5Jda6/a2trYRvu+/FjEAsW9z7CEi07TWy/c1As/zrhCRfUXkDa31svN3pPSOgJsAAYibF60RQAABBBBAAAEEEEAAAQQQQAABBBBAAIFECbS1tXnt7e26fFExBSD/EJH1ROQxrfWGfQ04n8+fqJT6jX1TZNiwYYPHjx8/J1E4XEymBQhAMl1+Bo8AAggggAACCCCAAAIIIIAAAggggAACaROIKQCZJCIrisidWutt+wlADlFKXRB+v1hfS2WlzZjxNIYAAUhj1ImrRAABBBBAAAEEEEAAAQQQQAABBBBAAAEEqhKIKQCZIiIrGGNuKpVKu/V1Ys/z7PJXdhks8X1/mY6OjjerukgaIVADAQKQGiBzCgQQQCBpAsc+eVx5c7SkXRrX00ACv1v3kAa6Wi4VAQTSLHDcUxemeXiMrUYC3NdqBM1pEEBgQAGlhvO8bkCligYbj2ys/7/9++Sa1DeOACSfz2ulVJ4AxGVC0jZpAjX5hUvaoLkeBBBAIOsCBCBZnwHxjJ8HRfE40gsCCEQXIACJbkgPItzXmAUIIJAUAQIQx0oQgPQKFkcA4nneCyKyqlLqjmKxuF1flcnn83OXwMrlct9pb2//j2MVaY7AfBMgAJlvtHSMAAIIJFeAACS5tWmkK+NBUSNVi2tFIN0CBCDprm+tRsd9rVbSnAcBBAYSIAAZSKjH9wQg8y0AyefzjymlxorIw1rrjfuqTKFQOMkYc6qIdGmtB9uVsByrSHME5psAAch8o6VjBBBAILkCBCDJrU0jXRkPihqpWlwrAukWIABJd31rNTrua7WS5jwIIDCQAAHIQEIEINUIxfQGyGUisr8xplQqlby+zut5nt3/Y1+l1OvFYnG5aq6PNgjUSoAApFbSnAcBBBBIkAABSIKK0cCXwoOiBi4el45AygQIQFJW0DoNh/taneA5LQIIfE2AAMRxUmzSYHuA/K1x9gDxPO9gEbGbrXX5vv+tjo6OT3qrTqFQmGCMWV1E7tFab+1YQZojMF8FCEDmKy+dI4AAAskUIABJZl0a7ap4UNRoFeN6EUivAAFIemtby5FxX6ulNudCAIH+BAhAHOcHAUivYDG9AbKCiEyxJzDG7FIqlW7uebKWlpZlmpqapolIzhjz81KpdKljBWmOwHwVIACZr7x0jgACCCRTgAAkmXVptKviQVGjVYzrRSC9AgQg6a1tLUfGfa2W2pwLAQQIQGKcAwQg8y0AsR17nveEiHzfLoPV1dW15tSpUz+uOKHyPO8WEdleRD4YOnToiJdffvmzGKtLVwhEFiAAiUxIBwgggEDjCRCANF7NknjFPChKYlW4JgSyKUAAks26xz1q7mtxi9IfAgjMqwBvgDjKbbqicTyivs0ferUmz2OrfQPE87zhIvJIiHKX1vr4SqBCobCGMeYZ+4aHiEz0ff+oXC73vO/7y+ZyuRNFZJuw/cFa64vri8vZEfi6QE1+4YBHAAEEEEiWAAFIsurRqFfDg6JGrRzXjUD6BAhA0lfTeoyI+1o91DknAgj0JkAA4jgvCEB6Bas2AKlsJyLXaa336tlhPp/fSyllNzof1Ed1ztFaH+lYOZojUBMBApCaMHMSBBBAIFkCBCDJqkejXg0Pihq1clw3AukTIABJX03rMSLua/VQ55wIIEAAEsMcIACZ7wGIPUFbW9vKvu8fLSIbiMgSIjJTRJ5TSl1cLBbviaGSdIHAfBEgAJkvrHSKAAIIJFuAACTZ9WmUq+NBUaNUiutEIP0CBCDpr3EtRsh9rRbKnAMBBKoR4A2QapQq2oxrsCWw/lqbJbAcFWmOQGoFCEBSW1oGhgACCPQtQADC7IhDgAdFcSjSBwIIxCFAABKHIn1wX2MOIIBAUgQIQBwrQQDiCEZzBLIlQACSrXozWgQQQCAQIABhIsQhwIOiOBTpAwEE4hAgAIlDkT64rzEHEEAgKQIEII6VIABxBKM5AtkSIADJVr0ZLQIIIEAAwhyITYAHRbFR0hECCEQUIACJCMjhgQD3NSYCAggkRYAAxLESBCCOYDRHIFsCBCDZqjejRQABBAhAmAOxCfCgKDZKOkIAgYgCBCARATmcAIQ5gAACiRIgAHEsx2ajjOMR9W3+4CSex9a3Apw9YwL8wmWs4AwXAQQQsAIsgcU8iEOAACQORfpAAIE4BAhA4lCkD+5rzAEEEEiKAAGIYyUIQBzBaI5AtgQIQLJVb0aLAAIIBAIEIEyEOAR4UBSHIn0ggEAcAgQgcSjSB/c15gACCCRFgADEsRIEII5gNEcgWwIEINmqN6NFAAEECECYA7EJ8KAoNko6QgCBiAIEIBEBOTwQ4L7GREAAgaQIEIA4VuJHDbYE1gMsgeVYYZojEEmAACQSHwcjgAACjSnAGyCNWbekXTUPipJWEa4HgewKEIBkt/Zxjpz7Wpya9IUAAlEECEAc9QhAHMFojkC2BAhAslVvRosAAggEAgQgTIQ4BHhQFIcifSCAQBwCBCBxKNIH9zXmAAIIJEWAAMSxEgQgjmA0RyBbAgQg2ao3o0UAAQQIQJgDsQnwoCg2SjpCAIGIAgQgEQE5PBDgvsZEQACBpAgQgDhWggDEEYzmCGRLgAAkW/VmtAgggAABCHMgNgEeFMVGSUcIIBBRgAAkIiCHE4AwBxBAIFECBCCO5dhiJeN4RH2b3/cKz2PrWwHOnjEBfuEyVnCGiwACCFgBlsBiHsQhQAAShyJ9IIBAHAIEIHEo0gf3NeYAAggkRYAAxLESBCCOYDRHIFsCBCDZqjejRQABBAIBAhAmQhwCPCiKQ5E+EEAgDgECkDgU6YP7GnMAAQSSIkAA4lgJAhBHMJojkC0BApBs1ZvRIoAAAgQgzIHYBHhQFBslHSGAQEQBApCIgBweCHBfYyIggEBSBAhAHCvx4wZbAutelsByrDDNEYgkQAASiY+DEUAAgcYU4A2Qxqxb0q6aB0VJqwjXg0B2BQhAslv7OEfOfS1OTfpCAIEoAgQgjnoEII5gNEcgWwIEINmqN6NFAAEEAgECECZCHAI8KIpDkT4QQCAOAQKQOBTpg/sacwABBJIiQADiWAkCEEcwmiOQLQECkGzVm9EigAACBCDMgdgEeFAUGyUdIYBARAECkIiAHB4IcF9jIiCAQFIECEAcK0EA4ghGcwSyJUAAkq16M1oEEECAAIQ5EJsAD4pio6QjBBCIKEAAEhGQwwlAmAMIIJAoAQIQx3JsubJxPKK+zf8ykeex9a0AZ8+YAL9wGSs4w0UAAQSsAEtgMQ/iECAAiUORPhBAIA4BApA4FOmD+xpzAAEEkiJAAOJYCQIQRzCaI5AtAQKQbNWb0SKAAAKBAAEIEyEOAR4UxaFIHwggEIcAAUgcivTBfY05gAACSREgAHGsBAGIIxjNEciWAAFIturNaBFAAAECEOZAbAI8KIqNko4QQCCiAAFIREAODwS4rzEREEAgKQIEII6V2KrBlsC6hyWwHCtMcwQiCRCAROLjYAQQQKAxBXgDpDHrlrSr5kFR0irC9SCQXQECkOzWPs6Rc1+LU5O+EEAgigABiKMeAYgjGM0RyJYAAUi26s1oEUAAgUCAAISJEIcAD4riUKQPBBCIQ4AAJA5F+uC+xhxAAIGkCBCAOFaCAMQRjOYIZEuAACRb9Wa0CCCAAAEIcyA2AR4UxUZJRwggEFGAACQiIIcHAtzXmAgIIJAUAQIQx0ps3WBLYN3NEliOFaY5ApEECEAi8XEwAggg0JgCvAHSmHVL2lXzoChpFeF6EMiuAAFIdmsf58i5r8WpSV8IIBBFgADEUY8AxBGM5ghkS4AAJFv1ZrQIIIBAIEAAwkSIQ4AHRXEo0gcCCMQhQAAShyJ9cF9jDiCAQFIECEAcK0EA4ghGcwSyJUAAkq16M1oEEECAAIQ5EJsAD4pio6QjBBCIKEAAEhGQwwMB7mtMBAQQSIoAAYhjJQhAHMFojkC2BAhAslVvRosAAggQgDAHYhPgQVFslHSEAAIRBQhAIgJyOAEIcwABBBIlQADiWI5tVjGOR9S3+V0v8zy2vhXg7BkT4BcuYwVnuAgggIAVYAks5kEcAgQgcSjSBwIIxCFAABKHIn1wX2MOIIBAUgQIQBwrQQDiCEZzBLIlQACSrXozWgQQQCAQIABhIsQhwIOiOBTpAwEE4hAgAIlDkT64rzEHEEAgKQIEII6VIABxBKM5AtkSIADJVr0ZLQIIIEAAwhyITYAHRbFR0hECCEQUIACJCMjhgQD3NSYCAggkRYAAxLESP2mwJbDuZAksxwrTHIFIAgQgkfg4GAEEEGhMAd4Aacy6Je2qeVCUtIpwPQhkV4AAJLu1j3Pk3Nfi1KQvBBCIIkAA4qhHAOIIRnMEsiVAAJKtejNaBBBAIBAgAGEixCHAg6I4FOkDAQTiECAAiUORPrivMQcQQCApAgQgjpUgAHEEozkC2RIgAMlWvRktAgggQADCHIhNgAdFsVHSEQIIRBQgAIkIyOGBAPc1JgICCCRFgADEsRIEII5gNEcgWwIEINmqN6NFAAEECECYA7EJ8KAoNko6QgCBiAIEIBEBOZwAhDmAAAKJEiAAcSzHtqON4xH1bX7HSzyPrW8FOHvGBPiFy1jBGS4CCCBgBVgCi3kQhwABSByK9IEAAnEIEIDEoUgf3NeYAwggkBQBAhDHShCAOILRHIFsCRCAZKvejBYBBBAIBAhAmAhxCPCgKA5F+kAAgTgECEDiUKQP7mvMAQQQSIoAAYhjJQhAHMFojkC2BAhAslVvRosAAggQgDAHYhPgQVFslHSEAAIRBQhAIgJyeCDAfY2JgAACSREgAHGsxHYNtgTW7SyB5VhhmiMQSYAAJBIfByOAAAKNKZDmN0A+ff9Tef72CTL16any0Vsfie/7sshii8jwVZaW0VuOlqVXXjpy0fw5vpyz8dnS9WVX1X0d++RxVbdtlIZpflA0Y8Y7cuGF18iDDz4qU6ZMl66uLhk+fEn5/vfXkv3220XWXXfN2MpUKk0NzvXww0/I9OlvSi6XC8618cbryf777yorrzwytnPRUW0FmEe1805zAMJ9rXbziPtaPNbc1+JxTGIv3NdqVxUCEEdrAhBHMJojkC0BApBs1ZvRIoAAAoFAWgMQ/biW+0+7X778bHaflV7tJ6vLDw/7oeSacvM8G97reE+u2fNqp+MJQJy46tr47rv/KnvueZh88smnfV7HgQfuKRdc8BtpamqKdK2XXnq9HHbYKTJ7du9zdtCgQXLyyYfLiSceFuk8HFx7AeZRbc3TGoBwX6vtPEprAMK/j2o7j9J6NuZRbStLAOLoTQDiCEZzBLIlQACSrXozWgQQQCC1Acj0CdPklsNvEdNlgjEu1rKYtHy3RZqGDJIZk2bIa89MFen+SmwIssmRm8zzbJj4wER54PT7g+MLGxRkqRWHDdjX2rusPWCbRmuQxgdFjz76T9lkk12CNz7sx759sfnmG8nQoUPk6aefl4ceGi/GdE8kG4JcfPFv57ls119/WxC0lD/rrruGbLjh94I/jh//L/nnP/8997s//OFEOfron8/zuTiwtgLMo9p627OlMQDhvlb7ecR9jfta7WddY5yR+1rt60QA4mi+/arh/+k5Hlev5re9yPPYetlz3kwK8AuXybIzaAQQyLpA2t4A6ZzdKVfsfIV8+u4nQWm/u+e68oP9fiBK/e82N+3ZaXLn8XdI5+edQZudLthZlhuz3DxNhYfP+7tMuG1CcOzOF+0iy6627Dz10+gHpe1B0eeffy6FwnryxhszgtKceOIv5NRTj/7KPHr44cdl661/Kp99Nito8+ijt8oGG3SHFi6fd955T/L578vMmZ8F/V9yyRnys5/t/pUubrzxDtlrr8ODMMa+CTJp0qPieS0up6FtHQSYR3VAT2EAwn2tPvOI+xr3tfrMvGSflftafepDAOLoTgDiCEZzBLIlQACSrXozWgQQQCAQSFsAMuG25+Th8x4OxjZizRGy43k79VrpV//+qtx7yl+C74avPFx2u/SrD5yrnR43HXijvPnSmyJK5LCHDpchCw2p9tBUtUvbg6ILL7xaDj30pKBGdv+Nv/3t5l7rdfPNd8suuxwUfGff2njyyXuc63rkkb+Wc865PDhuv/12lcsv/0OvfZxxxoVywgm/C77bZZdt5KabLnI+FwfUVoB5VFvv8tnS9gYI97X6zCPua9zX6jPzkn1W7mv1qQ8BiKM7AYgjGM0RyJYAAUi26s1oEUAAgUAgbQHItftcI+8W3w3G1t8bGXbpoqt2u1L+M+0/Qduf3XqALDp8UadZYfs4b9Pzgn1GvrnMN2X/P//M6fg0NU7bg6IxY8bJ889PDEo0fvztsv763+21XHYOjBq1gUyeXAq+nzLlKVlhherfJvJ9X5ZcclV5//3ueTht2jOy3HJL93ou+7cuhw9fQz788CNZYIGh8v77E2WhhRZM0zRK3ViYR/UpadoCEO5r9ZlH3Ne4r9Vn5iX7rNzX6lMfAhBHdwIQRzCaI5AtAQKQbNWb0SKAAAKBQJoCkFkfzpILf3xBsL/HkEWGyKH3/6LfDc4fvehRefbm7r0VNjh4A1lrZ7e9OT5880O5fMfLguPbNhopW526VWZnVZoeFNkwYoklRgf7eyy66Dfkgw8m9rvB+VFHnSpnn909D8466yQ58sgDqp4Hzz33kqy55o+C9iut1CYTJz7S77Hbbbef3HHHA0Gb22+/XLbddvOqz0XD2gowj2rrXXm2NAUg3NfqN4+4r3Ffq9/sS+aZua/Vry4EII72OzbYHiC3sAeIY4VpjkAkAQKQSHwcjAACCDSmQJoCkKnPTJXbjrg1KER/y1+VK9X+WLvcc+LdwR8LG7bJ1r/Z2qmIkx+ZLH/5VfeSR2MP3EDW3nVt+eSdj+WtV2bIrA8/k8ELDpZvj/iOLDVyKVG5dN9m0/SgyG5uPm7crkFd+1v+qjxZbr/9Ptl+++63f7bffgu59dbuh0bVfC677AY54IDjgqb9LX9V7uussy6Vo4/+TfBHuxG63RCdTzIFmEf1q0uaAhDua/WbR9zXuK/Vb/Yl88zc1+pXFwIQR3sCEEcwmiOQLYF0P5nJVi0ZLQIIIFC1QJoCkMp10lfdalXZ9Jhx/Tq8PfltuX7f64I2i7cuLntft0/VbrbhPy4ZL0/f+HRwzA/2X09enzBdpk+Y/rU+Fl5sEfnBvt+XVbYY7dR/IzVO04OiyvWtf/az3eTSS3/fbymeffZFWWut7jcxRo9eUV588e9Vl65y/48zzjhejjvu4H6Pve22e2WHHbrfMNlqq03l7ruvrvpcNKytAPOott6VZ0tTAMJ9rX7ziPsa97X6zb5knpn7Wv3qQgDiaE8A4ghGcwSyJUAAkq16M1oEEEAgEEhTAPKPS/8hT9/wr2BcNpBYd891+63yp+9/Kn/c+uKgzULfXkgO/sshTrPi1iNukdeeea3qY1bcZJRs/svNJTcoV/UxjdIwTQ+KTjjhDDnjjO4Nxk877Rj55S9/0W8Z3nrrbVl66TWCNksuubi8/fYLVZfNbqBuN1K3nxtvvFB23fUn/R775JPPyve/3/2m0jrrrC7/+te9VZ+LhrUVYB7V1rvybGkKQLiv1W8ecV/jvla/2ZfMM3Nfq19dCEAc7XdqsCWw/swSWI4VpjkCkQQIQCLxcTACCCDQmAJpCkD+dvbf5IU7nw8KseEhG8qaO63Vb1G++OQLOX+z84I2g4YMkiMfPcqpiBducYHY9dmDjxJZefNVZNUtV5Vvj/h28KP3Su/J83dMkPZH2+f2O2b7MfLDwzZ2Ok8jNE7Tg6KDDjpB/vjH7jeDzjnnZDn88P37LYHdlPxb3xoVtLGbk8+aNaXqkm2++e7ywAOPBu3vvPNK2Wabzfo99oUXXpHVV980aDNyZF5efXV81eeiYW0FmEe19a48W5oCEO5r9ZtH3Ne4r9Vv9iXzzNzX6lcXAhBHewIQRzCaI5AtAQKQbNWb0SKAAAKBQJoCkAfPeEBevu/lYFybHLWprLbNav1Wec7sOXL2hmcFbeweHcc8cWzVs6Ly7RHVpGTr07YRbz2v1+Of/fO/5dELux9y28+eV+0lS7YtWfW5GqFhmh4U7bvvUXLVVTcH7JdccoYccMAe/Zbgiy++kAUWaAna5HI56ep6o+qS/fCHO8ojj/wzaP/ggzfKuHEb9Htse3uHjBy5ftBmhRWWkylTnqr6XDSsrQDzqLbelWdLUwDCfa1+84j7Gve1+s2+ZJ6Z+1r96kIA4mhPAOIIRnMEsiVAAJKtejNaBBBAIBBIUwDy198/KC/95aVgXM4BSJOSYx6vPgAxxogNQT6e8bGIGFlm1WX7nVG3HXmrTH16atDGLoX145N/nKoZmKYHRfvvf4xcccVNQX1cA5CmpiaZM+f1qmu7ySY7y9///njQ3jUAaWkZIR0dT1Z9LhrWVoB5VFvvtAYg3NfqN4+4r3UHINzX6jcHk3Zm7mv1qwgBiKM9AYgjGM0RyJYAAUi26s1oEUAAgUAgTQHIIxc8Is/d8mwwrg0P3UjW3HHNfqtcuQRW8wLNcsTDR863WdHxZIfcccztQf8LLrqgHHL/ofPtXPXoOE0Pio444hQ599wrAsZzzz1FDjtsv35JK5fAWmihBWXmzFLVJfjJT/aVu+56MGh/111XydZbj+v32MolsEaNKsgrr/zvzaKqT0rDmggwj2rC3OtJ0vQGCPe1+s0j7mvdS2BxX6vfHEzambmv1a8iBCCO9juvZhyPqG/zm1/geWx9K8DZMybAL1zGCs5wEWhUAc/zLhOR8qL812mt92rUsSThutMUgDxxxePy1LXdSwKtt/968l2HTdAX/s7CctA9B8+3knz24Wdy0RYXzu3/8L8fIYMXHDzfzlfrjtP0oOhXvzpTfvOb7r1hTj/9WDnhhP7DqspN0IcNW1LeemtC1fx77HGo3HDDHUH7m266SHbZZZt+j63cBH3dddeQJ5+8p+pz0bC2Asyj2npXni1NAQj3tfrNI+5r3Zugc1+r3xxM2pm5r9WvIgQgjvYEII5gNEcgWwIEINmqN6NFoCEFll566QUWXHDBd0Tk/8IBfD5kyJDhEydO/LAhB5SAi05TAPLCXS/I3856KFBd/Sery8ZHbtKv8IxXZ8gN+10ftFmysKTsefX8y9K65nTJWeufOfd6Drz7IFlksUUSMAPiuYQ0PSi69NLr5ec/Pz6AOeigveSii07vF+nf/35B1l57i6DNmDGryHPPdb/RUc3nuON+K7///cVB0zPPPEmOOuqAfg+79da/yI47/jxos+22P5Lbb+9+U4VP8gSYR/WrSZoCEO5r9ZtH3Ne4r9Vv9iXzzNzX6lcXAhBHewIQRzCaI5AtAQKQbNWb0SLQkAKe5+0uIvaJdYeIfFNEvq2UOrxYLHb/dW0+zgJpCkDeePEN+dNB3Xs3tKzbItuduX2/Hu2Ptss9J90dtBm58Yqy5SlbOvvZYMP4RgYNHtTvsZ9/8rlcsNn5c9sc8ciR0jy02fl8ST0gTQ+KnnjiGVlvvZ8E1JtvvpHcd193SNbX57bb7pUddugOLnbeeWv505+6A41qPjfccLvssccvgqbVhC1nnnmJHHPMaUH7448/WH772+6ghk/yBJhH9atJmgIQ7mv1m0fc17iv1W/2JfPM3NfqVxcCEEf7XRpsCaw/sQSWY4VpjkAkAQKQSHwcjAACtRDI5/OPKaXGishVSqmcMWZvEWnXWo+sxfnTeI40BSBffPqFnL/ZeXZPclnwmwvKwfceIkr1fXurXFt9g4M3kLV2XrvqEj987t/llYdekdmfzq5qua3Xn58uNx9yc9D//y35f/LzOw6s+lyN0DBND4o++uhj+da3Rond6H7xxb8j77zzYr/zqHJN7LPOOkmOPLL/tzgq6/nyy6/K6NEbBz9aY43R8uyzD/Rb7so9Q26//XLZdtvNG2F6ZPIamUf1K3uaAhDua/WbR9zXut8w5L5WvzmYtDNzX6tfRQhAHO0JQBzBaI5AtgQIQLJVb0aLQMMJFAqF5Y0xU0Tss0i1g1LqE9/3/2oHksvlNmhvbx/fcINKwAWnKQCxnDcdeKO8+dKbgezuV+whw1Yc1quyfbh95S5XyH9f/2/w/T43/FQWW2Gxqivy5DVPyj+vfCJov/QqS8uul+zW77EP/eGv8uI9LwZtVvnxaNnsuM2qPlcjNEzTgyLrbd8AsX/T0X6eeeY+WWut1fqcRyNHri/Fov1XkwSbktvNyav92Hm4/PLryPTpb0pTU5O88cazstRSS/R6+KxZnQfVfQAAIABJREFUn8vw4WPEPoBobm6W9957SRZd9BvVnop2dRBgHtUBXUTSFIBwX6vPHLJn5b7Gfa1+sy+5Z+a+Vp/aEIA4uhOAOILRHIFsCRCAZKvejBaBhhPI5/OnKqVOEpEvhg4d+p2XX375C8/z7JPuJUXkFq31Tr0NyvO8a0VkTxEJNkz3PM+2s5uojxaRBUVkmojcNWTIkDP72ktkzJgxzZ988smuSql9RcQ+3VzAPutUSl1RLBavzufzDyqlNhWRX2utTylfh+d5tu/lRGQ/3/dfz+VydhOINhH5UCn1iDHGXvuG9hq01sv3VZSKpb/mdHV1DZ8yZcp7cRUwbQFI5XrpK6yzgmx/9g69Uk16aJLcd+q9wXdLti0pe17ltv/HB9M+kKt2vXJu3ztdsLMsN8aW+uufd9rfkRsPuEG6OruCL/e6Zi9ZwrOlT88nbQ+KKte53myzDeWBB27otVg33XSn7LbbIcF31bzB0VsnlfuAHHDA7nLJJb/r9Vynn36+nHjiH4Lvtttuc7nttsvTM4FSOhLmUX0Km7YAhPtafeYR9zXua/WZeck+K/e1+tSHAMTRnQDEEYzmCGRLgAAkW/VmtAg0mkCuUCi8ZoxZVkRu01oHT7U9zztbRI4QkS+7urqW6S0YqAhA7EL+9t91dh+R3j7TlVLrFovFGZVfjho1auEvv/zy3nDprd6Ou1NE7F/D3qifAOQqEdlDRCo3fbjcGPMvpdQ1tlPf97/b0dHxdG8n8DzP7qo8TkQe0FrHuuZN2gKQObPnyFW7XykfvfVRQDlm+zGy4cEbSW5Qbi7ttGenyZ3H3yGdn3d2P0w+c/tgzxDXz90n3iXFx4rBYXbJrW3/sN3X3jh586U35K4T7pJZH80K2o3ecrSMOzZdb3/YcaXtQdEXX3whK620kUyZYjNMkUMP/amcffavZNCg/+318vDDj8vWW/9UPvusu7b333+9/OhH9l8Dbp/33vtACoX1gjc77OcPfzhRjj66e6Pz8sfuFbL33kdIV1dX8KbICy88JCuvzMp/btK1b808qr25PWPaAhDua/WZR9zXuK/VZ+Yl+6zc1+pTHwIQR/ddVzeOR9S3+U3P8zy2vhXg7BkT4BcuYwVnuAg0kkBra+smuVzuofCaN9daBwvle55n3+LoXldI5Hit9df+6nQ5AFFKzTLG2Dc+7ldKnaGUajfGDDfG2F2Eg7dHbBhRLBb3qbTxPM8GHNuEP7vQGHOJUup9Y8zaSqnfi8goCXadCMKVvt4AsYe/aYzZx/f9lwYNGrROV1fXlKampteNMe/aN0qUUhcUi8Xu3ZArPq2trYvlcjkbygwyxuxSKpW6N5KI6ZO2AMSyTJ8wTW494lbx5/iB0jeX+abkf+DJ4AWaZcarb8vUp6d0V6yfQGLi/S/LA7/9334Mxz553NfEP/vwM7npgBvlwzc/DL5TOSX2rZOlVhwmfpcvM155S6Y9N23uuexSWdufs4MMXmBwTNVLTjdpe1BkZR999J8ybtxu0tnZHZTl88vL1luPk4UXXkieeeZ5efDBx4J9Quxnv/12lcsv7347o/Jz7bW3BMFF+WPMW70W7frrb5M99zxs7nerrbaSbLbZBkHg8thjT81djss2OP30Y+WEEw5NTvG5kn4FmEe1nyBpC0C4r9V+Dtkzcl/jvlafmZf8s3Jfq32NCEAczQlAHMFojkC2BAhAslVvRotAQwl4nvdnEdlRRN7RWi8tIt1rCXWHIDYAsUHIa1pr+9f4v/I3PireALEPK28vlUrb9xy853l2sf+1ROQTrfWi5T4KhcIGxphHbXtjzImlUun0ymNXWGGFbwwaNMi+tWGXtbKf/gKQjbXWD/dy7j+JyM4i8nY4tu6n9v8b30EicpGIfDpz5swlZ8yY0f3XzWP6pDEAsTSlJ7Tcf9r9Mnvm7D6lRm+1qmxy5CaSa/rf2yHlxtUEILbtp+9/Kn85+Z65+470dbIVN15RNjl6Uxmy0JCYKpesbtL4oMgK33PPQ0Ew8fHHn/QJvv/+u8of/3hG8GZGz0+1AYg97rLLbpDDDjtF7N+u7O2Ty+XkV786XE4++X+BSrJmAVfTlwDzqLZzI40BCPe12s4hezbua9zXaj/rGueM3NdqWysCEEdvAhBHMJojkC0BApBs1ZvRItAwAiuvvPI3Z8+e/baI2CfHZ2utj6q8eM/zDheRc+zPlFKbFYvFYGP08qcyAPF9f/WOjo4Xeg6+UCicZIw5Nfz5YlrrD+w/Vxw7XWu9gl2pquex+Xx+c6XUfeHP+wpA/qu1/k7PcCY8h10PKXjVQCm1UbFYDAKXiuv/p4h8T0Su11rbvUxi/aQ1ALFIn/33M5lw+wSZ8lSHfPz2x2KXEVnwWwvJ8JWGy2pbryrLrt77nh322GoDENvWvgXQ8c8OefVvk2TGqzNk1n9nBUtuLfydhWWZVZeRlcatJEuPXibWuiWts7Q+KLLO7777vlx00TVy330Py2uvvSGff/6FLLHEd2TdddcQu2fH2LHr9lkOlwDEdjJ16vTgXA899A95/fW3pLNzjgwfvqSMHftdOfjgvcW+GcKnMQWYR7WrW1oDEO5rtZtD9kzc13r35r5W23mY5LNxX6tddQhAHK13a7AlsG5kCSzHCtMcgUgCBCCR+DgYAQTml4DneeU3ICSXy63S3t4+sfJcLS0tizc1Ndl1Zezi/Pdorbeu/L4ixPhCa71QHyHGz5RSl9rj5syZs9zUqVNft//seZ4NXuxu1Rdprbt3Ov76p6lQKHwSLq/VVwDyqNa6r80BmjzPs9e/hIhcobW2G7QHn5EjRy7X1dX1Wri8Vq9vkER1T3MAEtWG46sXSPODouoVaIkAAkkQSHMAkgTfrFwD97WsVJpxIpB8AQIQxxoRgDiC0RyBbAkQgGSr3owWgYYRKBQKE4wxq9slrpqamrbs7cK7urquEJF1wqWxltNaz11ovyIAmaG1Ht7b8fl8fq/yZuS5XG759vb2aa2trUNyuVywFo0x5tBSqXRhX2gVy3D1FYDcorUO9hnp4/znKqXsBgD/XWSRRZacMGFCsOmA53l244kzRMReu32F4GtvoEQtJAFIVEGOtwI8KGIeIIBAUgQIQJJSica+Du5rjV0/rh6BNAkQgDhWkwDEEYzmCGRLgAAkW/VmtAg0hEChUFjFGPOS48X2DCGuFRG7dJRdxmpEHwHE1wKQQqEwzIQ7Fiul9i0Wi1f1E4CUl6nqKwC5Tmu9V1/Ht7a2rp7L5SbY740xW5RKpfvDAORlEVm5t6W/HE36bE4AEpdktvvhQVG268/oEUiSAAFIkqrRuNfCfa1xa8eVI5A2AQIQx4ruPuYre4I6Hl375jdM4Hls7dU5Y4YF+IXLcPEZOgJJFSgUCufbty8cr+8trbXd3CHYKL3HPh5VByAjRoxYdPDgwR/aPuzbGcVi8fx+AhC7r8iq/WyC3m8AEl7nJBFZUURu1Frv3traumIul7M/s6HIaqVSyW72HvuHACR20kx2yIOiTJadQSOQSAECkESWpeEuivtaw5WMC0YgtQIEII6lJQBxBKM5AtkSIADJVr0ZLQKJFxg1atTgzs7OGSLybRF5XGu9fn8X7XneBSJS3qdjG6313VECkPBYuxm6Pf/FWuuD+zi/8jzvYxFZJGIAUl7u6sNhw4Yt/tZbbx2rlDpNRCZprefbzscEIIn/VWiIC+RBUUOUiYtEIBMCBCCZKPN8HyT3tflOzAkQQKBKAQKQKqHKzQhAHMFojkC2BAhAslVvRotA4gUKhcJ2xpjb7IUOtARVGFaMFpHgLQljzEOlUmlc1ACkUCjcbozZ1u4/orVusV33hGtraxvr+/5j4c/naQkse2xLS8syTU1N0+1wfd8fm8vlfhfua3K81tr+83z5EIDMF9bMdcqDosyVnAEjkFgBApDElqahLoz7WkOVi4tFINUCBCCO5SUAcQSjOQLZEiAAyVa9GS0CiRfwPO8BEdlMRL6YM2fOklOnTrVvWfT78TzvOREZY4MKpVRLsVh8bV6XwLInam1t3SSXyz0UnvQIrfW5lRcwYsSIoYMHD35cRNYMfz7PAYg93vO8R0VkAxG5TkR2t2FIV1fXclOmTHljoLHP6/cEIPMqx3GVAjwoYj4ggEBSBAhAklKJxr4O7muNXT+uHoE0CRCAOFZzjwbbA+R69gBxrDDNEYgkQAASiY+DEUAgTgHP84bbTctFpElEbtVa71hN//l8/gCl1CVh299rrY+LEoCEocS9IrJF+PaHDUCuyOVy7/u+b/f8+K2IrFVxbadorX9d/rPnedNExO5HMuAeIPaYfD6/t1Lq6vBcyhgzvlQq2UBkvn0IQOYbbaY65kFRpsrNYBFItAABSKLL0zAXx32tYUrFhSKQegECEMcSE4A4gtEcgWwJEIBkq96MFoFEC3ied4KInG4v0hizRalUur+aC15hhRW+MWjQoLdFZAERea+5uXmZzs7Oy0VkTxuoaK2r3gS9fL6wz4dFZI0+ruFaEbEBzQLGmBNLpVJw3fbjGoC0trb+Xy6Xeye8/qqW/qrGpb82BCBRBTneCvCgiHmAAAJJESAASUolGvs6uK81dv24egTSJEAA4lhNAhBHMJojkC0BApBs1ZvRIpBogXw+r5VSeRF5f9iwYcPGjx8/p9oL9jzv+nD5KHvIziJi9wKZ5wDEdjJmzJjmmTNnHmSM2VVECiKSE5GJSqmLi8XijZ7nfSkizSJylNb67HkNQMLQ5GYR2cll6a9qbXprRwASRY9jywI8KGIuIIBAUgQIQJJSica+Du5rjV0/rh6BNAkQgDhWc881vrZvp2MPtW1+3XM8j62tOGfLuAC/cBmfAAwfAQTmTSDcB+Tz8Og9tNY3zFtP3UcVCoWbjDG7iMhtWusdovRVzbEEINUo0WYgAR4UDSTE9wggUCsBApBaSaf7PNzX0l1fRodAIwkQgDhWiwDEEYzmCGRLgAAkW/VmtAggUIWA53mHG2PySqnHtdZ/7u0Qz/O+LyJPhN+tpbV+toque20yatSohTs7O+0SWAsZY35cKpXum9e+qj2OAKRaKdr1J8CDIuYHAggkRYAAJCmVaOzr4L7W2PXj6hFIkwABiGM1CUAcwWiOQLYECECyVW9GiwACVQh4nneKiJwsIp8MGTJkxMSJEz/scVhTPp+/Xym16bws19XzEvL5/C+VUqeJyJvhfiVdVVxmpCYEIJH4ODgU4EERUwEBBJIiQACSlEo09nVwX2vs+nH1CKRJgADEsZoEII5gNEcgWwIEINmqN6NFAIEqBPL5/Eil1EQRaVJKPe/7/snGmBebmpp8Y8xIY8zRYfhhN2vfp1QqXVNFt19p4nmeDVhmisjK4V4l9vsjtNbnuvY1L+0JQOZFjWN6CvCgiDmBAAJJESAASUolGvs6uK81dv24egTSJEAA4ljNvRpsD5Br2QPEscI0RyCSAAFIJD4ORgCBtAoUCoWfG2MutCFIH2P0ReRUrfWv58XA8zy7ZNYaFcf+e9iwYd9z2fh9Xs5bPoYAJIoex5YFeFDEXEAAgaQIEIAkpRKNfR3c1xq7flw9AmkSIABxrCYBiCMYzRHIlgABSLbqzWgRQMBBoFAorGKMOVRE1heRZUSkU0TeEpHHc7ncZe3t7RMcuvtKU8/zzhKRA0TkC6XUX2bPnn3EtGnTPprX/lyPIwBxFaN9bwI8KGJeIIBAUgQIQJJSica+Du5rjV0/rh6BNAkQgDhWkwDEEYzmCGRLgAAkW/VmtAgggEAgQADCRIhDgAdFcSjSBwIIxCFAABKHIn1wX2MOIIBAUgQIQBwrsU+DLYF1NUtgOVaY5ghEEiAAicTHwQgggEBjChCANGbdknbVPChKWkW4HgSyK0AAkt3axzly7mtxatIXAghEESAAcdQjAHEEozkC2RIgAMlWvRktAgggEAgQgDAR4hDgQVEcivSBAAJxCBCAxKFIH9zXmAMIIJAUAQIQx0oQgDiC0RyBbAkQgGSr3owWAQQQIABhDsQmwIOi2CjpCAEEIgoQgEQE5PBAgPsaEwEBBJIiQADiWImfrmkcj6hv86ue5XlsfSvA2TMmwC9cxgrOcBFAAAErwBsgzIM4BHhQFIcifSCAQBwCBCBxKNIH9zXmAAIIJEWAAMSxEgQgjmA0RyBbAgQg2ao3o0UAAQQCAQIQJkIcAjwoikORPhBAIA4BApA4FOmD+xpzAAEEkiJAAOJYCQIQRzCaI5AtAQKQbNWb0SKAAAIEIMyB2AR4UBQbJR0hgEBEAQKQiIAcHghwX2MiIIBAUgQIQBwrQQDiCEZzBLIlQACSrXozWgQQQIAAhDkQmwAPimKjpCMEEIgoQAASEZDDCUCYAwggkCgBAhDHcuzbYHuAXMkeII4VpjkCkQQIQCLxcTACCCDQmAIsgdWYdUvaVROAJK0iXA8C2RUgAMlu7eMcOfe1ODXpCwEEoggQgDjqEYA4gtEcgWwJEIBkq96MFgEEEAgECECYCHEI8KAoDkX6QACBOAQIQOJQpA/ua8wBBBBIigABiGMlCEAcwWiOQLYECECyVW9GiwACCBCAMAdiE+BBUWyUdIQAAhEFCEAiAnJ4IMB9jYmAAAJJESAAcazEfmsZxyPq2/yKf/M8tr4V4OwZE+AXLmMFZ7gIIICAFeANEOZBHAI8KIpDkT4QQCAOAQKQOBTpg/sacwABBJIiQADiWAkCEEcwmiOQLQECkGzVm9EigAACgQABCBMhDgEeFMWhSB8IIBCHAAFIHIr0wX2NOYAAAkkRIABxrAQBiCMYzRHIlgABSLbqzWgRQAABAhDmQGwCPCiKjZKOEEAgogABSERADg8EuK8xERBAICkCBCCOlSAAcQSjOQLZEiAAyVa9GS0CCCBAAMIciE2AB0WxUdIRAghEFCAAiQjI4QQgzAEEEEiUAAGIYzn2b7A9QC5nDxDHCtMcgUgCBCCR+DgYAQQQaEwBlsBqzLol7aoJQJJWEa4HgewKEIBkt/Zxjpz7Wpya9IUAAlEECEAc9QhAHMFojkC2BAhAslVvRosAAggEAgQgTIQ4BHhQFIcifSCAQBwCBCBxKNIH9zXmAAIIJEWAAMSxEgQgjmA0RyBbAgQg2ao3o0UAAQQIQJgDsQnwoCg2SjpCAIGIAgQgEQE5PBDgvsZEQACBpAgQgDhW4mdrG8cj6tv8smd4HlvfCnD2jAnwC5exgjNcBBBAwArwBgjzIA4BHhTFoUgfCCAQhwABSByK9MF9jTmAAAJJESAAcawEAYgjGM0RyJYAAUi26s1oEUAAgUCAAISJEIcAD4riUKQPBBCIQ4AAJA5F+uC+xhxAAIGkCBCAOFaCAMQRjOYIZEuAACRb9Wa0CCCAAAEIcyA2AR4UxUZJRwggEFGAACQiIIcHAtzXmAgIIJAUAQIQx0oQgDiC0RyBbAkQgGSr3owWAQQQIABhDsQmwIOi2CjpCAEEIgoQgEQE5HACEOYAAggkSoAAxLEcBzTYHiCXsgeIY4VpjkAkAQKQSHwcjAACCDSmAEtgNWbdknbVBCBJqwjXg0B2BQhAslv7OEfOfS1OTfpCAIEoAgQgjnoEII5gNEcgWwIEINmqN6NFAAEEAgECECZCHAI8KIpDkT4QQCAOAQKQOBTpg/sacwABBJIiQADiWAkCEEcwmiOQLQECkGzVm9EigAACBCDMgdgEeFAUGyUdIYBARAECkIiAHB4IcF9jIiCAQFIECEDcKqF+3lhLYJlLWALLrcK0RiCaAAFIND+ORgABBBpSgDdAGrJsibtoHhQlriRcEAKZFSAAyWzpYx0497VYOekMAQQiCBCAuOERgLh50RqBrAkQgGSt4owXAQQQYAks5kBMAjwoigmSbhBAILIAAUhkQjrgDRDmAAIIJEiAAMStGAQgbl60RiBrAgQgWas440UAAQQIQJgDMQkQgMQESTcIIBBZgAAkMiEdEIAwBxBAIEECBCBuxcgduI5xO6K+rf0/Ps3z2PqWgLNnTIBfuIwVnOEigAACVoAlsJgHcQgQgMShSB8IIBCHAAFIHIr0wX2NOYAAAkkRIABxqwQBiJsXrRHImgABSNYqzngRQAABAhDmQEwCPCiKCZJuEEAgsgABSGRCOuANEOYAAggkSIAAxK0YBCBuXrRGIGsCBCBZqzjjRQABBAhAmAMxCRCAxARJNwggEFmAACQyIR0QgDAHEEAgQQIEIG7FIABx86I1AlkTIADJWsUZLwIIIEAAwhyISYAAJCZIukEAgcgCBCCRCemAAIQ5gAACCRIgAHErRtNBjbUHSNfF7AHiVmFaIxBNgAAkmh9HI4AAAg0pwB4gDVm2xF00AUjiSsIFIZBZAQKQzJY+1oFzX4uVk84QQCCCAAGIGx4BiJsXrRHImgABSNYqzngRQAAB3gBhDsQkwIOimCDpBgEEIgsQgEQmpAPeAGEOIIBAggQIQNyKQQDi5kVrBLImQACStYozXgQQQIAAhDkQkwABSEyQdIMAApEFCEAiE9IBAQhzAAEEEiRAAOJWjOaDv2vcjqhv686L/sXz2PqWgLNnTIBfuIwVnOEigAACVoAlsJgHcQgQgMShSB8IIBCHAAFIHIr0wX2NOYAAAkkRIABxqwQBiJsXrRHImgABSNYqzngRQAABAhDmQEwCPCiKCZJuEEAgsgABSGRCOuANEOYAAggkSIAAxK0YBCBuXrRGIGsCBCBZqzjjRQABBAhAmAMxCRCAxARJNwggEFmAACQyIR0QgDAHEEAgQQIEIG7FIABx86I1AlkTIADJWsUZLwIIIEAAwhyISYAAJCZIukEAgcgCBCCRCemAAIQ5gAACCRIgAHErxuBDGmsPkC8vZA8QtwrTGoFoAgQg0fw4GgEEEGhIAfYAaciyJe6iCUASVxIuCIHMChCAZLb0sQ6c+1qsnHSGAAIRBAhA3PAIQNy8aI1A1gQIQLJWccaLAAII8AYIcyAmAR4UxQRJNwggEFmAACQyIR3wBghzAAEEEiRAAOJWDAIQNy9aI5A1AQKQrFWc8SKAAAIEIMyBmAQIQGKCpBsEEIgsQAASmZAOCECYAwggkCABAhC3YgxpsCWwZrMElluBaY1ARAECkIiAHI4AAgg0ogBLYDVi1ZJ3zQQgyasJV4RAVgUIQLJa+XjHzX0tXk96QwCBeRcgAHGzIwBx86I1AlkTIADJWsUZLwIIIMAbIMyBmAR4UBQTJN0ggEBkAQKQyIR0wBsgzAEEEEiQAAGIWzEIQNy8aI1A1gQIQLJWccaLAAIIEIAwB2ISIACJCZJuEEAgsgABSGRCOiAAYQ4ggECCBAhA3Iox9NB1jdsR9W39xQVP8Ty2viXg7BkT4BcuYwVnuAgggIAVYAks5kEcAgQgcSjSBwIIxCFAABKHIn1wX2MOIIBAUgQIQNwqQQDi5kVrBLImQACStYozXgQQQIAAhDkQkwAPimKCpBsEEIgsQAASmZAOeAOEOYAAAgkSIABxKwYBiJsXrRHImgABSNYqzngRQAABAhDmQEwCBCAxQdINAghEFiAAiUxIBwQgzAEEEEiQAAGIWzEIQNy8aI1A1gQIQLJWccaLAAIIEIAwB2ISIACJCZJuEEAgsgABSGRCOiAAYQ4ggECCBAhA3IqxwC8aaw+Qz89nDxC3CtMagWgCBCDR/DgaAQQQaEgB9gBpyLIl7qIJQBJXEi4IgcwKEIBktvSxDpz7WqycdIYAAhEECEDc8AhA3LxojUDWBAhAslZxxosAAgjwBghzICYBHhTFBEk3CCAQWYAAJDIhHfAGCHMAAQQSJEAA4lYMAhA3L1ojkDUBApCsVZzxIoAAAgQgzIGYBAhAYoKkGwQQiCxAABKZkA4IQJgDCCCQIAECELdiLHhYYy2BNes8lsByqzCtEYgmQAASzY+jEUAAgYYUYAmshixb4i6aACRxJeGCEMisAAFIZksf68C5r8XKSWcIIBBBgADEDY8AxM2L1ghkTYAAJGsVZ7wIIIAAb4AwB2IS4EFRTJB0gwACkQUIQCIT0gFvgDAHEEAgQQIEIG7FIABx86I1AlkTIADJWsUZLwIIIEAAwhyISYAAJCZIukEAgcgCBCCRCemAAIQ5gAACCRIgAHErBgGImxetEciaAAFI1irOeBFAAAECEOZATAIEIDFB0g0CCEQWIACJTEgHBCDMAQQQSJAAAYhbMRY6/HvG7Yj6tv7s3Cd5HlvfEnD2jAnwC5exgjNcBBBAwAoY81ZD/QciVUumwDrX/CKZF8ZVNZTA03uf31DXy8UigAACCCDQn8DDb94NEAKRBTZe5iCe1zkoEoA4YNEUgQwK8C/UDBadISOAAAIEIMyBOAQIQOJQpA8CEOYAAggggECaBAhA0lTN+o2FAMTNngDEzYvWCGRNgAAkaxVnvAgggABvgDAHYhIgAIkJMuPdEIBkfAIwfAQQQCBlAgQgKStonYZDAOIGv/ARjbUE1sxzWALLrcK0RiCaAAFIND+O/n/27jzOpvqP4/jnzIwtLdImLdY5lyQVLT9JUUqpEFqotKF+bUokaUVapEXSnkJ+speSklSkBS3We2bIljaVZGfu+T3OuWhkZtzv3DP3nnO+r/PP71fzPed8v8/PZybue873IIAAAoEU4AmQQJbNd5MmAPFdSQI5IQKQQJaNSSOAAAIIFCJAAEJreCFAAKKmSACi5sVoBHQTIADRreKsFwEEEOAJEHrAIwECEI8gNb8MAYjmDcDyEUAAgZAJEICErKBpWg4BiBo8AYiaF6MR0E2AAES3irNeBBBAgACEHvBIgADEI0jNL0MAonkDsHwEEEAgZAIEICEraJqWQwCiBk8AoubFaAR0EyAA0a3irBcBBBAgAKEHPBIgAPEIUvPLEIBo3gAsHwEEEAiZAAFIyAqapuUQgKjB79etka12RnpH//3EDD6PTW8JuLtmAnzDaVZwlovHYxunAAAgAElEQVQAAgg4ArwDhD7wQoAAxAtFrkEAQg8ggAACCIRJgAAkTNVM31oIQNTsCUDUvBiNgG4CBCC6VZz1IoAAAgQg9IBHAgQgHkFqfhkCEM0bgOUjgAACIRMgAAlZQdO0HAIQNXgCEDUvRiOgmwABiG4VZ70IIIAAAQg94JEAAYhHkJpfhgBE8wZg+QgggEDIBAhAQlbQNC2HAEQNfv87g7UF1roBbIGlVmFGI5CcAAFIcn6cjQACCARSgC2wAlk2302aAMR3JQnkhAhAAlk2Jo0AAgggUIgAAQit4YUAAYiaIgGImhejEdBNgABEt4qzXgQQQIAnQOgBjwQIQDyC1PwyBCCaNwDLRwABBEImQAASsoKmaTkEIGrwBCBqXoxGQDcBAhDdKs56EUAAAQIQesAjAQIQjyA1vwwBiOYNwPIRQACBkAkQgISsoGlaDgGIGnyFgG2BtZYtsNQKzGgEkhQgAEkSkNMRQACBIAqwBVYQq+a/OROA+K8mQZwRAUgQq8acEUAAAQQKEyAAoTe8ECAAUVMkAFHzYjQCugkQgOhWcdaLAAII8AQIPeCRAAGIR5CaX4YARPMGYPkIIIBAyAQIQEJW0DQthwBEDZ4ARM2L0QjoJkAAolvFWS8CCCBAAEIPeCRAAOIRpOaXIQDRvAFYPgIIIBAyAQKQkBU0TcshAFGDJwBR82I0AroJEIDoVnHWiwACCBCA0AMeCRCAeASp+WUIQDRvAJaPAAIIhEyAACRkBU3TcghA1OAP7H66rXZGekf/+fhnfB6b3hJwd80E+IbTrOAsFwEEEHAEeAcIfeCFAAGIF4pcgwCEHkAAAQQQCJMAAUiYqpm+tRCAqNkTgKh5MRoB3QQIQHSrOOtFAAEECEDoAY8ECEA8gtT8MgQgmjcAy0cAAQRCJkAAErKCpmk5BCBq8AQgal6MRkA3AQIQ3SrOehFAAAECEHrAIwECEI8gNb8MAYjmDcDyEUAAgZAJEICErKBpWg4BiBp8xR7B2gLrj8fYAkutwoxGIDkBApDk/DgbAQQQCKQAW2AFsmy+mzQBiO9KEsgJEYAEsmxMGgEEEECgEAECEFrDCwECEDVFApB/vGrVqlU3Fov1EJEmInKoiPwuIrMNwxgcjUbfV5P9Z7RpmmeJyM0icqqIHCQif4vItyLyumVZw0UkVtxrcx4CJS1AAFLSwlwfAQQQ8KEAAYgPixLAKRGABLBoPpwyAYgPi8KUEEAAAQSKLUAAUmw6TswnQACi1g4EIHGvSCRykW3bY0SkVEGChmE8E41Gb1PTda/7uG3bdxZ2nmEYH2zYsKHVqlWrNqlem/EIpEKAACQVytwDAQQQ8JkAAYjPChLQ6RCABLRwPps2AYjPCsJ0EEAAAQSSEiAASYqPk3cIEICotQIBiEjNmjVPyMjImCki5UTk61gs1j0rK2u+bdvVbNu+R0Ra7VC92bKswYkKRyKR62zbfnnH+C9EpPe2bdvmlylT5kjbtu+wbbu98zXbtl/Nycm5LtHrMg6BVAoQgKRSm3shgAACPhEgAPFJIQI+DQKQgBfQJ9MnAPFJIZgGAggggIAnAgQgnjBqfxECELUWOOiuYL0D5PdHvX8HiGmak0SkhYjklipV6oQFCxasz6domKY5SkTaOVtiGYZRLRqNOltY7fUwTTNXRGrYtj1/27ZtJy1btmxz/pMikciIHSGILSJHWZb1414vygAEUixAAJJicG6HAAII+EGAAMQPVQj+HAhAgl9DP6yAAMQPVWAOCCCAAAJeCRCAeCWp93UIQNTqr3sAYppmLRFZ5KjZtn1tTk7Oa/8WrFGjxlGZmZnLRCRDRK62LOv1vSnXqVOn4rZt25x3iIhhGHdFo9HH/n2OaZqNROSzHf/+Ysuyxu/tunwdgVQLEICkWpz7IYAAAj4QIADxQRFCMAUCkBAU0QdLIADxQRGYAgIIIICAZwIEIJ5Ran0hAhC18hOAmLeLyEAn/3BefG5Z1pqCBE3TnC0i9UVkgmVZrfemXLVq1QqlS5f+c0ew0jsnJ6ffv8/Jzs4+xTAMZ2ssJyRpGY1G397bdfk6AqkWIABJtTj3QwABBHwgQADigyKEYAoEICEoog+WQADigyIwBQQQQAABzwQIQDyj1PpCBCBq5T+4Z2Png//AHGse+dTTz2NN03Se5rhKRJZZllWtMAjTNF8SketFZKVlWUcnApadnW0ZhpEtIgtisVj93NzcLfnPM03zBRHpLCJbMzMzqy5atOinRK7LGARSKeDpN1wqJ869EEAAAQSKL0AAUnw7zvxHgACEbvBCgADEC0WugQACCCDgFwECEL9UItjzIABRqx8BiPmJiDQWkY8ty2pamF52dnZvwzD6OE+KVK5cufT06dO37006Ozv7YsMwRu/YOuszwzDu3759+4LMzMzDReQmEenkXMMwjPui0ahzbQ4EfCdAAOK7kjAhBBBAoOQFCEBK3liHOxCA6FDlkl8jAUjJG3MHBBBAAIHUCRCApM46zHciAFGrLgGIuUBEjhGRcZZltSkiALnFMIxndnz9kMK2yvr3+ZFI5KJYLDZgx5Mg//7yShG5x7KsYWpVYzQCqRMgAEmdNXdCAAEEfCNAAOKbUgR6IgQggS6fbyZPAOKbUjARBBBAAAEPBAhAPEDkEkIAotYEh9wdrC2wfuvv+RZYS0Skum3bI3Jycq4oTM80TWf7K2cbLInFYkfl5uauSkQ6EolcYdv2HSJyQgHjtxiGMTQvL+/e3Nzc3xK5HmMQSLUAAUiqxbkfAggg4AMBAhAfFCEEUyAACUERfbAEAhAfFIEpIIAAAgh4JkAA4hml1hciAFErv+4ByM73dJREAGKapvPEyC1ORWzbHuI8QVKqVKml27dvPzgWi7UxDKOviOwvIou2bdvW5IcffvhFrXqMRqDkBQhASt6YOyCAAAK+EyAA8V1JAjkhApBAls13kyYA8V1JmBACCCCAQBICBCBJ4HHqLgECELVm0D0AMU3zGxE53jCMsdFotG1hetnZ2bu2wMrIyDh48eLFvxclbZrm2SLyoTPGMIye0Wj00X+PN02znojMFJHytm2/mpOTc51a9RiNQMkLEICUvDF3QAABBHwnQADiu5IEckIEIIEsm+8mTQDiu5IwIQQQQACBJAQIQJLA41QCkGL2gO4BSHZ29seGYZwpIlMty2pWGGMkErnXtu2HRCTPsqzSzk5YewlARonIJSKy0rKsas55BY03TXOAiHQTke3r168/YPXq1RuLWUpOQ6BEBAhASoSViyKAAAL+FiAA8Xd9gjI7ApCgVMrf8yQA8Xd9mB0CCCCAgJoAAYiaF6MLFuAJELXOOLTXGbbaGekd/evDn3j6eaxpmi+ISGfbtnNycnLMwlZnmqbz/o/rDcNYEY1Gq+xNYeeTJSIy2rIsJwgp8MjOzr7AMIx3nC9mZGQct3jx4nl7uzZfRyCVAp5+w6Vy4twLAQQQQKD4AgQgxbfjzH8ECEDoBi8ECEC8UOQaCCCAAAJ+ESAA8Uslgj0PAhC1+hGAmDeLyCDnCY1YLFYxNzd3XUGCkUhkjm3bJ4rIRMuyWu1N2TTNBSJyjG3bb+fk5LQsbHz+AMQwjJOi0ejsvV2bryOQSgECkFRqcy8EEEDAJwIEID4pRMCnQQAS8AL6ZPoEID4pBNNAAAEEEPBEgADEE0btL0IAotYCBCBmdRFZ4qjZtt0+Jydn5L8Fa9SocVRmZuYy5yEN27ZvzMnJeX5vyqZpjhOR1iLyRywWq5ybm7uloHOys7MfNQyjh7MF1tatWw9ZtmzZ2r1dm68jkEoBApBUanMvBBBAwCcCBCA+KUTAp0EAEvAC+mT6BCA+KQTTQAABBBDwRIAAxBNG7S9CAKLWAofdE6wtsH7p5+0WWI6WaZqfiUgjZxusvLy8k5YuXfpXPkXDNE3nfR7tRGRN2bJlq37//fcb9qYciUQusW3bOc85nrAs685/n1OzZs1jMjIyvhSRfff2pMje7sfXESgpAQKQkpLluggggICPBQhAfFycAE2NACRAxfLxVAlAfFwcpoYAAgggoCxAAKJMxgkFCBCAqLUFAYhIJBJpYNu2E0RkiMi8WCx2Z0ZGxtxYLHZ0RkZG7x1PcjiwN1uWNXinsGmaR4jIRzv+ebxlWXfn03eCk6ki0nTHvxtn2/bThmEszMjI2DcvL+9CwzAeFJEDReSvjIyMkxcvXmypVY/RCJS8AAFIyRtzBwQQQMB3AgQgvitJICdEABLIsvlu0gQgvisJE0IAAQQQSEKAACQJPE7dJUAAotYMBCBxr+zs7KsNw3BedJ5ViOBAy7K65f9arVq1qsZisR92/LvXLcu6Ov/Xq1atWqF06dKjReTsIqryi2EYbaLR6Ey1yjEagdQIEICkxpm7IIAAAr4SIADxVTkCOxkCkMCWzlcTJwDxVTmYDAIIIIBAkgIEIEkCcrorQACi1ggEIP941apVq24sFusuIk1E5DARWS8isw3DGByNRif+W3ZvAciO8RmRSORiEbnKtu2TROQgEdkoIpaz7VXZsmUHz5s370+1qjEagdQJEICkzpo7IYAAAr4RIADxTSkCPRECkECXzzeTJwDxTSmYCAIIIICABwIEIB4gcgkCEMUeqBSwd4D8XALvAFEkYzgCWgkQgGhVbhaLAAIIxAUIQOgELwQIQLxQ5BoEIPQAAggggECYBAhAwlTN9K2FJ0DU7AlA1LwYjYBuAgQgulWc9SKAAAIEIPSARwIEIB5Ban4ZAhDNG4DlI4AAAiETIAAJWUHTtBwCEDV4AhA1L0YjoJsAAYhuFWe9CCCAAAEIPeCRAAGIR5CaX4YARPMGYPkIIIBAyAQIQEJW0DQthwBEDf7w3mfaamekd/RPfafzeWx6S8DdNRPgG06zgrNcBBBAwBFgCyz6wAsBAhAvFLkGAQg9gAACCCAQJgECkDBVM31rIQBRsycAUfNiNAK6CRCA6FZx1osAAggQgNADHgkQgHgEqfllCEA0bwCWjwACCIRMgAAkZAVN03IIQNTgCUDUvBiNgG4CBCC6VZz1IoAAAgQg9IBHAgQgHkFqfhkCEM0bgOUjgAACIRMgAAlZQdO0HAIQNXgCEDUvRiOgmwABiG4VZ70IIIAAAQg94JEAAYhHkJpfhgBE8wZg+QgggEDIBAhAQlbQNC2HAEQNvvK9wXoHyOo+vANErcKMRiA5AQKQ5Pw4GwEEEAikAO8ACWTZfDdpAhDflSSQEyIACWTZmDQCCCCAQCECBCC0hhcCBCBqigQgal6MRkA3AQIQ3SrOehFAAIGQPwGyevXPMmjQazJ58jRZsmS55OXlyRFHVJJGjU6WTp3aS8OGJ3nWAzk5S917TZ36mSxfvkoyMjLcezVr1lg6d+4gdevW9uxefrxQUAOQg8sdKO2OOU/+c8QJcsT+h0mmkSG/bfxDvvtlsUy0psq8Xy3PuDONTGle43RpWvU/UrPi0XJg2QNka942Wf7Xapm1aq6MXTxF/ty8rsD7jW87WA7f79BizeXdnOnSZ8bgYp2b6pPCHIDw8yjV3RTO+9FH4axrqldFH6VOPIgByJqf18rEoZ/IVx8vkJ+Wr5FYXkwOqlRBjj2phpzf/jSp06C6J4C2bcuMyd/KR+O+luh3y+WvP9ZLufJl5LAjK8opZx0r57Q7VQ4/+uCE7uWcO2n4DPlq2nxZkfuzbNm0TQ48ZD+pYh4uZ1xwojS5qIGULlsqoWv5cRABiFpVCEDUvBiNgG4CBCC6VZz1IoAAAiEOQCZMeF86duwq69b9XWid//vfjvLMM30kMzMzqV54/vk3pGvXB2TLli0FXicrK0vuv/926d27a1L38fPJQQxAGh99ktx3+s2yb+l9CqUds+h9GfjlaxKzY0nx1zywijx0xm1S/cCjCr3OX5v/lgc+GySzVn2zx5hkApBJOR9L3xnPJTX/VJ0c1gCEn0ep6qBw34c+Cnd9U7U6+ihV0vH7BC0Amfn+d/LYHW/Ixr83Fwp14VWN5aaH2klmZkaxMf/8bZ30ueFlmffVkkKvUbpMKel4Zwu55IZmRd7ni6nz5PE7hsm6PzcUOu6omofJXU92lMjxVYo953SeSACipn/kfcHaAmvVQ2yBpVZhRiOQnAABSHJ+nI0AAggEUiCMW2BNmzZDzjmnvfvEh3M4T1+0aHGWlC1bRr74Yq5MmTJdnN86cw4nBBk8+OFi1+6NN0a7QcvOo2HDBtK06WnuP06fPktmzPhq19cee6y3dO9+Y7Hv5ecTgxaA1D/8WHn6nN6SlREPv3L/WC4zV82VrXlb5dhDTDnliHqSYcT/Yu+EIAO+eKXY/E74Mfi8B+SAMvu61/hj01qZvvwr+XXD73Jo+YPkzConS8VyFdyvOU+E3PjefbJgTe5u92tpniXliwhq8g+OVKwu59Zo5P6rzdu3yk3vPyALfssp9vxTeWIYAxB+HqWyg8J7L/oovLVN5croo1Rqx+8VpADkm5lR6dnhWfeJD+eoVquy+yRG6TJZsmjuMpn9yaJdf352QpBb+11aLNBNG7fILRc+Jsutn93zM7My5NSz60pV83DZtGGLLJyzVBZ/u3zXta+96yK5/OZzC7zXnE8XyT0dn5O87fE5H1ypgjQ48xg59IgD5ZeVv8uXH82Xtb+vd7+27wHl5Knxd0qV7ErFmnc6TyIAUdMnAFHzYjQCugkQgOhWcdaLAAIIhPAJkE2bNkkk0lhWrlzt1rd379vkoYe6i2H885+5qVM/lVatrpMNGza6Y6ZNe0uaNImHFirHzz//KtnZjWT9+g3u9YcM6S9duly52yWGDx8rV199uxvGOE+CLFgwTUyzhsptAjE2SAFImczSMurip6XSvvFtFV79doy8+M2o3ZxPOryuPHpWD9mnVFn33/938gMy9+cFyrVwttR6/aLHpGbF+G8cTs79VB75/AXZkrd117XKZZWVPmd2lUZH1Xf/3eI1S+Xqd+5SvpdzwoFl95ehFz0qh5WPr+2BT56R95d+VqxrpeOksAUg/DxKRxeF7570Ufhqmo4V0UfpUA9OALJl01a55syH5LfVf7pQHW5tLh3vvGC3Pz/P/Wyx3H/9C7J5Y/zPMI+Puk2Ob2gqw77QZ5yMefEj9zxnu6u+Q2+UqpHKu11nyluz5Mm73nSDjYzMDHlt+n1Sueohu43ZunmbdDz9AXG27HKOZm1PkVv6XSrl9imza9z6vzbKwB4j5LP3vnX/3XGnZssTo4P3RDYBiFqbEYCoeTEaAd0ECEB0qzjrRQABBEIYgAwa9Krceuu98b8INWssH3wwssA6jxw5Qdq3v8n9mvPUxsyZE5X7oVu3B2XgwBfd8zp16iAvvvhYgdfo33+Q9Or1iPu19u1by4gRzyrfy+8nBCkAaVe7uXQ79TqX9Msfv5PbPuhbIG+zaqe5wYRzfP/LYun8XryvVI7895q27Avp9fETBZ6+X+nyMqbts7ueErliQjfJ/XOFyq3csQPO7rkrSAnS1lc7Fxq2AISfR8otzAkFCNBHtIUXAvSRF4rq1wjKEyATXpsug+8b7S7wxNNryaNv3lLgYqdNmC39b3nN/doxDarL0+O7KaFs2rBZLq3fy33Sw/nloWcm3im1Tqha4DWevfct910kznHZTefIdT1b7jbug9FfuFtfOUeNOkfKoLe7S6nSWXtca/OmrXJlw/tk7Zr4trivTr9PjqpxmNK80z2YAEStAkfd3yT+qH9AjpUPfsznsQGpFdMMhwDfcOGoI6tAAAEElATCtgVW/frNZe7cea7B9Olj5Iwz/lOgh7MFVp06TWTRovjWQEuWfC7Vqye+L3AsFpNKlY6X33773T1/2bIvpUqVIwu8l/Nbl0cc0UD+/HOtlCtXVn77bZ6UL1/4eyeUCuiTwUEKQIZe+KjUOjj+As8b37tfvvllYaGKI1s/KdUqxOt68eibZPX6X5XE37jocTEPqiobtm6US8d1lTWb4r9ZWdBxy0lXyimV68naLX/L0O/Gyuyf5ivd66LsptKrUXyLtZ/Xr5H242+XjdsL38Nb6eIpGhy2AISfRylqnJDfhj4KeYFTtDz6KEXQ/7pNUAKQ/57/iOTMW+nOfsBbXaXef7ILBHP+/Hz9WX1lRU58+6o3Zjwoh1dJ7EXlznhnG627r4j/IpB53NEy+N3Cn3h1tq/qffUQd+ypZx8rfV7bfRvZh29+TT6eONv9+s19LpGWV59RaJEfuuFl+ezd+DvW7nvhejn9/BPS0xDFvCsBiBocAYiaF6MR0E2AAES3irNeBBBAIGRPgDhhxGGH1XP3J65Q4QBZs2ZekS84v/POh+SJJ16I/2VvwL3SrdsNCffE7NnfyUknne+OP/bYWjJvXvxR/sKOtm07ydix77lfHjPmRWnTpkXC9wrCwKAEIBXK7C/vXf6S+36PdVvWS/OR1xX5gnMnlOhw7EVuCZ756nV5c8GkhMtR5YDK7lZbzjFu8Qfy2KyXEj5XdaCzrlFtnt71BMkdH/aXz1fNVb1M2seHKQDh51Ha2ykUE6CPQlHGtC+CPkpfCYIQgKz9/W+55IS73T8/O+/JGPPdY0W+4Dz/Flade7eWdl3OVgJ2Xla+3PrJfVqjsKc/nAt+9t438lCXl91rn9a8njzwUufd7uP8MtLPK36X5Tk/yzH1q8kBFePvWivouPeaIfLF1Pgvljz4ShdpeM5xSnNO92ACELUKEICoeTEaAd0ECEB0qzjrRQABBEIWgDgvN2/evINb16K2v9pZ+DFjJkm7dl3cf2zX7gJ56614GJLI8cILw+SGG3q6Q4va/mrntQYMeF66d+/j/qPzInTnhehhOoISgDhPWDx9bty+qO2vdtamSZVTpX/T+PYOU3/4XHpPfzLhsrWoeabce3p8m7We0x53X3xeUkfPhl2kVST+AcSMFbPlzo8eLalbleh1wxSA8POoRFtFm4vTR9qUukQXSh+VKG+RFw9CAPL19IXS68rB7jqK2v5q50I/fXeu9LnhFfcfG19wgtw75PoSAe5z48vy6aT4UxvX3d1SLvvvOcW6z59r/paOje53t91yXrg+/PM+cvDhFYp1rXSdRACiJk8AoubFaAR0EyAA0a3irBcBBBAIWQCSf3/rLl2ukOefL/pD4K+//lZOPjn+JEa9esfIt99+mHBP5H//R//+d0vPnjcXee7o0e/IJZfEnzBp2fJcmTDh1YTvFYSBQQlA8r+TI5GnMmofXENeuzD+/hbr92Vy1dvdEy7HbSd1lMuPvcAdf8nY22TFutVS48CjpaV5lpxcuZ4cVv4g2RrbLsv/+lGm/TBLxkU/kK152xK+/s6BVQ84Uoa3GiBZGZmyLW+7tJ9wu6xcF9+aImhHmAIQfh4Frfv8OV/6yJ91Cdqs6KP0VSwIAUj+93+0uKKRdO1/eZFg0W+Xy80Xxt97V/2YI+SFKb08Bf577UYZ8cxkGfvSNPe6FQ7ez30J+r4HqG8fm7tgpQzsPmLX9l4tOpwmXR9p7+l8U3ExAhA15aMfCNY7QFY8wDtA1CrMaASSEyAASc6PsxFAAIFACoTpHSC9evWX/v3j+wr37dtD7rnntiJr8uOPP8mRRzZwx1SqdKj89FP8t8wSOZwXqDsvUneO4cMHSYcOFxd52syZX0ujRq3cMaeeeqLMmvVOIrcJzJigBCA3nHi5XF0vXqvn54yUod+PK9L4kH0qyjuXxp8MWrPxT7lg1O7bLxR18sBmd0vDI090h5w1vKO0P/ZC6XhcK8nK2PMFnc6YH//+RbpPfVSWro3vwZ3o8WDjW+XcGqe7w8dHP5RHP38x0VN9Ny5MAQg/j3zXXoGcEH0UyLL5btL0UfpKEoQA5JVHJsr/Bn/gIl3d/ULpcGvzIsHW/LRWLj/5HndMxUP3l1Fz+icN/OW0+TLvy1xZvew3+frjheK8uHzn9R8edpPUOKbg9+wVdOORz06RNT+vdUOPRXN/2DXE2faq95DrCnxRetILKOELEICoAROAqHkxGgHdBAhAdKs460UAAQRC9gTITTf1kueee92t68CB98vttxf9YbXzUvKKFeu4452Xk2/cuCThnmjR4kp57734b6aNG/eytG59XpHnfvPNfDnxxHPdMbVrZ8vChdMTvlcQBgYlALnz1Oukbe34X+yf+nKo/G/hu0Xy7le6vHzYYag7ZvP2LXLmsCsSLseLLfrKcYdG3PHD502UK+q2dP//wt9y5euf5snm7Zul6gFHSeOjG0i5UmXdrznvJbnmnZ5uGJLI4QQ049oOllKZWe7TI23H3iK/bvg9kVN9OSZMAQg/j3zZYoGbFH0UuJL5csL0UfrKEoQA5Jl7Rsk7b3zqIt1wXxtp06lpkWDOExoX140/EVumbCmZlPNU0sC9rhrsBh/5j0pHHSR9X/+vVMmulPD1ne2uLjkhvkVt/qNZ21Ok6yOXS+kypRK+lp8GEoCoVYMARM2L0QjoJkAAolvFWS8CCCAQsgDk+uvvlFdeGenWdciQ/nLDDVcVWePNmzdLuXI13DEZGRmSl5f4b96fffal8tFHM9xzJ08eLs2bNynyXosX50rt2me4Y6pXryJLlnweqv4LSgDS67Qb5CLzLNfeeVLCeWKiqKN0Zin59Ko33SF5sZic9vqlCddteMsBUrNilV3jN2/fKg/PHCIfLI33zc7jsPIHy2Nn9ZDIQdXcf7Xgtxy5blJi20nc3OCKXcHKuznTpc+M+B7eQT3CFIDw8yioXeivedNH/qpHUGdDH6WvckEIQJ7oPkLe/1/8z6W3PnyZXHhl/KnSwo6tm7dJi+yu7pczMgyZsjz+9HUyR6ez+soy66c9LuG8s+PCqxpLp16tEgovot8tl5sviG/P9e/joMMOkFv7XSoNz62XzFTTci4BiBp7lQeb2mpnpHf08vun8XlsekvA3TUT4BtOs4KzXAQQQMARCNMWWJ0795CXXpi9H/YAACAASURBVBrhFlY1AMnMzJTt21ck3BTnnHO5fPhh/LflVAOQGjWqSm7uzITvFYSBQQlA8r8sXDUA2R7Lk0avX5ZwOUa3GSRH7f/Pby32+WywvJtb8JM/B5c7UEa0HigHlNnXvX7XD/rJFz9+W+S9ymWVlYmXDJH9d5xzxYQ7JffP5QnPz48DwxSA8PPIjx0WvDnRR8GrmR9nTB+lrypBCECevOtNee/N+J9LlQOQzAyZsmxQ0sBOcHFktUOlVJksWbX0V3l/1CyZOPQTieXF3Gufdm49eeDlvW9Duvb3v2XdnxvEeXrECWoWzF4qbw56XxbOiW+F5QQ2vZ+/Xk4/7/ik55zKCxCAqGkTgKh5MRoB3QQIQHSrOOtFAAEEQhaA3HHHA/Lkky+5dX3yyQeka9dORdY4/xZY5cvvI+vX5yTcExdffL2MHz/ZHT9+/CvSqlXR+yXn3wKrTp2IzJ8f3z4rLEdQApD8LyZ/8svXZNTC94osQf4tsDZu2yxNh1+ZcMlGtHrCfem5cyxbu0ouG397kefeWL+9dDyutTsmkRe0n1O9kTx0Rvw9N/N+taTTu/H9uIN8hCkA4edRkDvRP3Onj/xTiyDPhD5KX/WCEIA8/+BYGfty/M+lN97fRi6+PvEtsMruU1reiT5ZIsAz3/9OHuryksRi8V/mv2fwtXLmRfWV75W3PU/63zJUPpk01z33gIr7yrBZD0m5fcooXytdJxCAqMkTgKh5MRoB3QQIQHSrOOtFIOQCkUhkum3b8T2HEj9etyzr6sSHB39kmJ4Aue++x6VPn/g+xP363SW9et1aZIHyvwS9cuVK8uOPcxIu6FVX3SrDho11x48Y8ay0bx//4LqwI/9L0Bs2bCAzZ05M+F5BGBiUAKTTCZfKdce3dUmHzHlTXv9+fJG8+V+C/uuGP+Sit7okXI6XWvSTuoea7viRCybJ01/F309T2NHg8GPl2eb3u19OZBusfmfeIWdV+487/pHPX5AJ0akJz82vA8MUgPDzyK9dFqx50UfBqpdfZ0sfpa8yQQhAhg6YJCOejv9SzzU9LpT2tyT+EnRnW6n/zX64xIAH9hghk0fGt+eq37i2PDLi5mLda8Pfm+TKhvfL32s3uOffPegaadqqQbGulY6TCEDU1AlA1LwYjYBuAgQgulWc9SIQcgECkMQKHKYA5Pnn35Abb7zbXfhNN10tzz7br0iEr776Rk455YL4X6rqHyezZ8f/8pfI0bPnw/Loo/H3LTz++L1y5503FHnaW2+9LZdeeqM7pk2b82XMmPiTKmE5ghKAtI40k7saxrdQGL3ofXnii1eKLMExB9eUVy/s745ZtGaJ+4LyRI8BZ/eURkfFf1Nx0NfDZMT8t4s89ej9K8tbbZ52x6xc97O0G3tLoeOdd5NMvvwVKV+qnGyPbZfzR3aSdVvXJzo1344LUwDCzyPftlmgJkYfBapcvp0sfZS+0gQhAHln2GfyTK//uUgXdWwst/Qt+n1ni79ZJrdc9Lg7Prvu0fLce3eVGPDcGYvlrsvjW2ztf2B5Gft9we/3SGQCj9w2VD4a97U7tG3ns6TLvRcncpovxhCAqJWh6kPBegfIsvt4B4hahRmNQHICBCDJ+XE2Agj4TGBnAGIYxoqsrKw6iUxvy5Yt23Jzc7ckMjYsY8IUgHz22ZfSuHH8LzMtWpwlkya9UWSZRo9+Ry65JB5cXH55K3nzzcRfID1s2Bi56qr49kOJhC2PPz5EevTo646/++6b5eGH40FNWI6gBCD1DqslL5zfx2WfsXKO3Dn1kSJL0LTqqfJwk27umClLZsj9n8YDikSO/C8oH/rdOHl+7sgiT6tW4UgZ2Tq+jUT09x+k49s9Ch3vBCtOwOIcX6+eJ7dMeSiRKfl+TJgCEH4e+b7dAjFB+igQZfL9JOmj9JUoCAHIvC9z5Y628T9/nHLWsdJ3aPwXdgo7nK2k+t4Y/wWSJi0bSK9nr1EG3r4tT2zbllKls4o8d9XSX+SaM+J/xskqlSmTlz6zx/hNG7cktJ3VK49MlP8N/sA9//z2p8ntj7ZXnne6TiAAUZMnAFHzYjQCugkQgOhWcdaLQMgF8j0BstyyrKohX26xlxemAGTt2r+kYsU67l+oDj30YPn552/FMAr/z1v+PbEHDLhXunUr+imO/Mjff79Q6tVr5v6rBg3qyddfF/0uifzvDBkz5kVp06ZFsWvmxxODEoDsW3of+aD9a5JhZMgfm9bK+f8r+j0x+d8Z8sxXr8ubCyYlzJ//HR2frZgt3T96tMhzTzvyRHmiWTwY29v4bqdcK+2OOc8dm8jTJQlPOs0DwxSA8PMozc0UktvTRyEpZJqXQR+lrwBBCEDW/7VRLq7bw/3zc4WD95O35vYv8s/P+d8Z0rl3a2nX5eyEgYc/NVneH/W5/Lb6T+n6aHs577KGRZ67cO4PclvLAe6YioceIKPmxLfbct7r0bX1E/LjsjWyeeMWGT//cSlTrnSR13rq7pHy7vAZ7pjLbjpHruvZMuF5p3sgAYhaBQhA1LwYjYBuAgQgulWc9SIQcgECkMQKHKYAxFmx8wSI85uOzvHll5Pk5JNPKBDC+Ute7dpnSDS6xP2681Jy5+XkiR7O+dWqnSrLl6+SzMxMWbnyazn88MMKPH3jxk1yxBH1xfkAolSpUvLrr99JhQoHJHqrQIwLSgDiYA4570E5odIxruu179wtC9fkFmr8v9ZPSdUKR7hfv3z87fLD2lUJ12P/MvvKu5e+JKUys2TL9q1y4aguRW5T1eM/neTiWue413/m6zfkzfnvFHqv1y96VCIHVXe//t/J98vcnxcmPC8/DwxTAMLPIz93WrDmxn/XglUvv86WPkpPZYIQgDgyd7QZKPO+iv+ZeNDb3aXWCQX/7pjz59/rmvSRlUt+cce+NPUeqRqpnDDuyGenyKuPxrcEPblpHen3+n+LPPeNge/KsCfjv2R06tl1pc9r//yy0jVnPCirlv7qfq33kOvkjAtOLPRaeXkxuabxg/LTijXumPte7CSnn3d8wvNO90ACELUKVAvYFlg/sAWWWoEZjUCSAgQgSQJyOgII+EvAqwDENE3n16yvFxHnbcMHicg627adt2W/npOT42yYaxe28kgk0ty2bef5audc59PxMiKyVkS+E5G39ttvv9fnzJmzLf/5pmk+ICLOm5BnikgrEXnOeVJbRGIiYmVkZFyzePHieV5phy0Ayb/P9XnnNZX33htWINWIEePkiivi71hI5AmOgi6S/z0gN9xwpQwZUvB2Sv36PS29e8f3LG7btoWMHv2iV+XzzXWCFIDkfw/I56vmyh0fxt/x8e/j3OqN5MEz4tucLfwtV66dpL5t2SNN75Qzq5ziXuNt6yN5eObzBd7rqP0Pl2EtH5eyWWUkLxaTlm/dIGs2/Vng2KyMLJl+5TBx/tcZ22xER9m4fbNveiGZiYQtAOHnUTLdwLk7BegjesELAfrIC0X1awQlAMn/HpCTmhwjD79xU4GL/Wj8V/LIra+7XzOPO1oGv6v2/o/8W1o5T2k7YUvk+CoF3uvnlb/Ljef1l/V/bXK/3vu5a+WMC+PvVnMOJ0hxAhXnqFHnSBk8qYdkZmUWeK1xL0+TIQ+Odb92QMV9ZdishxLaNku94iVzBgGImisBiJoXoxHQTYAARLeKs14EQi6QbABSs2bNMhkZGUOdp6SLoPowFou1zc3NXZd/TOXKlffZd999R4lI/A3bhR/TLMtyfuU7b+eQfAHIbBFxfjb/8yd9kb82btx4+KpVq+J/E/DgCFsAsnnzZjn22LNkyZJlrs6tt14nTzxxn2Rl/bPH8NSpn0qrVtfJhg0b3THvvvuGnH/+Wcqav/66RiKRxu6THc7x2GO9pXv33fdNdt4Vcs01d0heXp77pMg330yRunVrK9/L7ycEKQBxXiA+otVAOWr/Si7rqIXvibO9VZ7tZIzx46TD68qjZ/WQfUqVdf/59g8fllmrvlEuQzzYGCBls+LbMrzx/QR5Ye7/JM/e9S3vzmNgs17ijHWO0QsnyxNfvlrovWoeWEWGt4pvB7G3l6UrTzjNJ4QtAOHnUZobKiS3p49CUsg0L4M+Sk8BghKAbN28TTqd3VdWL48/IdHq2jPlhnsv3i1QmPvZYrn/+hdk88at7pi+r98opzQ9Vhn24Ztfk48nOn/NETmk8oHSb+iNUq12/GnbncfSRT/Kg51e3DWfYxpUl6fG3bHb1lx//rZOrm3y0K6AxHkfSbfHO+y2FZbzxMrbr38qQx4cI3nb43/O6/rI5dKiQyPleafzBAIQNX0CEDUvRiOgmwABiG4VZ70IhFwg2QDENE3n0YErdjC9FIvFni9XrtwPmzdvdj41vdwwDOdXnpxPNSdbluW80GHXkyCmaT7rvBt7x7nPxmIx59NMZ++c/TMzM0+0bdt5yiO+B49IR8uydr2tO18A4n7Rtu17s7KyXonFYoeISCQajY72snRhC0Acm2nTZkjz5lfItm3xh2uys6tJq1bNZd99y8uXX86VyZM/dvc5do5OnTrIiy/Gn87IfwwdOsoNLnYetv1jgexvvDFaOnbsuutrJ5xwrJx3XhM3cPn44893bcflDOjX7y7p1etWL8vnm2sFKQBx0Ooffqw81ewed3sq51jx12r5dMXXsnHbZqlzSLb858jj3feEOMeE6FR55PMX9rBuUfNMuff0f35D8tTX2hVYD2dcr9NulMyM+PV+Xr9GPlvxtfy+aa04Lz4/o8opuwKSZWtXydXv9JTN27cUWtsmVU6R/k3vdL8+/1dLrn/3Ht/0QbITCVsAws+jZDuC83cK8N81esELAfrIC0W1awQlAHFW9c3MqPS6crA4Lyh3jiOqHSqnnXuclC1fRhZ/s0y+/njhrj8/F/YS8SlvzZIB3YbvQvpw5eA9wNb9uV66XjxQVubGt9HKzMpwt7fKPvYocbaqin63XGZ/skhiefHAotJRB8nTE7q57wD59/H5lO/kwS4v7xrrjGl0Xj05uFIF+euP9fLVxwt23cc594IrGslt/S9XK6IPRhOAqBWBAETNi9EI6CZAAKJbxVkvAiEX2BmAGIaxIisrq87elrtgwQLncQD3T9qRSKSpbdsf7Tinm2VZA/99fnZ29sWGYbjPUtu23SYnJ2ec8/+rV69+QFZW1m8iUkpEXrYsa4+3LNepU6fStm3blopIOREZaVmWs02We+QPQGzbHpGTk7MzhNnbEor19TAGIA7ExIlT3GDir792ezhnN6POnTvIc8/1d5/M+PeRaADinPfCC8Oka9cHxPntyoKOjIwMue++2+X++/8JVIpVLB+fFLQAxKE8/egGcl+jm2W/MuULlR0f/VAen/WyxPI9HbJzcKIBiDO+adVTxXnHR4Wy+xd6r9k/zZde054o8j0hzsntajeXbqde515n1qpv5fYP+/m4M9SmFsYAhJ9Haj3A6MIF+O8a3eGFAH3khWLi1whSAOKsygkUHrtjmGxYV/jD5i06nCa39LtMMjPjv9iR/0gkAHHG//HrX9L/lqHy7edWkZj1G9eWns90lAoH7VfouC+nzZfHbx/mBh6FHaXKZEnHbhfIpTc2S7x4PhpJAKJWjOp9zip0i2q1K6Vm9NJ7P+Lz2NRQcxcEXAG+4WgEBBAIlUC+J0ASWpdt2yfk5OR86wzOzs4ebRhGWxFZZllWjZ3ByL8vZJrmDBE5TUTetyzLeVeIE4AcnZWV5bzRr5rzpEdOTs6igiZgmqazn47z9r2plmXt+tN4/gDEMIyW0Wg0/qbAEjrCGoA4XL/88ps8++xrMmnSVPnhh5WyadNmOeywg6VhwwbivLPjzDMbFqqqEoA4F1m6dLl7rylTPpEVK36Ubdu2yxFHVJIzz/yP3HzzNeI8GRLmI4gBiFOPimUPkLa1m8tpR9WXyvseKmWySssfm/6Seb9GZXz0gyJfLq4SgDj32q90eWkVOVtOP6qBHLn/4bJ/mfKybssGWbRmiUxe8ol89MMssQt/pdCu9ul4XGu5sX48M/1w6Uy595OnQtNaYQ1A+HkUmhZN+0L471raSxCKCdBHqStj0AIQR8bZWmri0E/ki4/mi/MeDmd7rAoH7yd16leXC65sJPX+YxYKmGgA4lzAeRr7q2kLZOrYr2Th3KXy55q/3VDFeYqj7sk15KyLT5YTToskVCwnsHnvzZkya+o8WW79JBv+3iTl9ysnlaseIk6I4jz54TwVEtSDAEStcgQgal6MRkA3AQIQ3SrOehEIuUAyAYhpmr8629KKyPhSpUpdVRjV9u3b77dt29mLZp1lWc6fqvf62yY73i1ysm3brxiGkW3b9vScnJwmO++RPwDJy8s7esmSJStLslRhDkBK0o1r7y4Q1ACEOvpLIMwBiL+kmQ0CCCCAQCoEghiApMKFe6gJEICoeRGAqHkxGgHdBAhAdKs460Ug5ALFfQdIJBLZz7btwvdNKsRt69atBy5btmxt/i+bpllLRBo7u2qJiPMkSbazy5WI7Hojt2EYn0Sj0TMLCkC2bt1abtmyZQXvq+RR/QhAPILU/DIEIJo3gEfLJwDxCJLLIIAAAgj4QoAAxBdlCPwkCEDUSlijb7C2wFrSmy2w1CrMaASSEyAASc6PsxFAwGcCxQ1ATNM8YscLy5VWtH379ipLly5d4ZxUu3btKnl5ec6Lz5sWcJE/bNueZhjGic6OWUUFIJZllfjPZgIQpTIzuBABAhBawwsBAhAvFLkGAggggIBfBAhA/FKJYM+DAEStfgQgal6MRkA3gRL/kE03UNaLAALpFShuAFK3bt0Dt2zZ8seO2T9qWVZPlZVUrVq1QunSpZ13iVTZ8e6QyYZhfBqLxRZkZGQsjEajPzjX2/n+EAIQFV3G+lWAAMSvlQnWvAhAglUvZosAAgggULQAAQgd4oUAAYiaIgGImhejEdBNgABEt4qzXgRCLlDcAEREDNM0na2s9heRUZZlXVYElfOzc7f3fpim2UtE+jnn2LbdJicnZ1xB55umudjZGosAJOSNqMnyCEA0KXQJL5MApISBuTwCCCCAQEoFCEBSyh3amxGAqJW25sNn7/W9nGpXLNnRub2m8nlsyRJzdQR2E+AbjoZAAIFQCSQRgDhPZ7wrIueLyB/r168/avXq1RsLwolEIlNs2z5eROZZltXMyTxM05wkIi1EZI1lWc6L1Pc4ataseWRGRoazXZbzs/czy7Kc94S4R/6XoLMFVqhaMtSLIQAJdXlTtjgCkJRRcyMEEEAAgRQIEICkAFmDWxCAqBWZAETNi9EI6CZAAKJbxVkvAiEXSDIAaSUi43cQDbYs6+Z/c5mm2VpEdj7d8aJlWV12BBgTRKSls/1VqVKljliwYMHP+c+tWrVq2TJlyky0bfucHf/+S8uyTiUACXlDhnx5BCAhL3CKlkcAkiJoboMAAgggkBIBApCUMIf+JgQgaiUmAFHzYjQCugkQgOhWcdaLQMgFkglAdmyD9c6OJzkcqYkiMiAjI2ORbdsHi8gltm07W12VdZ70MAyjXjQaXe0MjEQiN9q2/dwO3jmGYfTYvn37/KysrPIicppt2z1EpG4+/oWWZdUhAAl5Q4Z8eQQgIS9wipZHAJIiaG6DAAIIIJASAQKQlDCH/iYEIGolJgBR82I0AroJEIDoVnHWi0DIBZIMQJwgYz/btkfmC0EKEvtFRC6yLOurnV+sU6dO6W3btn0oIru2tSrgxMWGYcy1bbu9YRgb99133wpz5szZ5oxjC6yQN2ZIl0cAEtLCpnhZBCApBud2CCCAAAIlKkAAUqK82lycAESt1Nn9mwXqHSA5d3/I57FqJWY0AkkJ8A2XFB8nI4CA3wSSDUB2ricSibS0bbujiJwiIs7TH1sNw7Bs2367TJkyz8ybN+/Pf6/dCUG2b9/e1bbtywzDiNi2XVpE/jQMY6Ft26M3btz46j777FPfef+Hc65t2xfm5OQ47w4hAPFbIzGfhAQIQBJiYtBeBAhAaBEEEEAAgTAJEICEqZrpWwsBiJo9AYiaF6MR0E2AAES3irNeBBBAwA1ffgzUb8hQNH8KEID4sy5BmxUBSNAqxnwRQAABBIoSIAChP7wQIABRUyQAUfNiNAK6CRCA6FZx1osAAggQgNADHgkQgHgEqfllCEA0bwCWjwACCIRMgAAkZAVN03IIQNTgzUfOCdQv+Fk9P+DzWLUSMxqBpAT4hkuKj5MRQACBYArwBEgw6+a3WROA+K0iwZwPAUgw68asEUAAAQQKFiAAoTO8ECAAUVMkAFHzYjQCugkQgOhWcdaLAAII8AQIPeCRAAGIR5CaX4YARPMGYPkIIIBAyAQIQEJW0DQthwBEDZ4ARM2L0QjoJkAAolvFWS8CCCBAAEIPeCRAAOIRpOaXIQDRvAFYPgIIIBAyAQKQkBU0TcshAFGDJwBR82I0AroJEIDoVnHWiwACCBCA0AMeCRCAeASp+WUIQDRvAJaPAAIIhEyAACRkBU3TcghA1OAjjwbrHSDRu3gHiFqFGY1AcgIEIMn5cTYCCCAQSAHeARLIsvlu0gQgvitJICdEABLIsjFpBBBAAIFCBAhAaA0vBAhA1BQJQNS8GI2AbgIEILpVnPUigAACPAFCD3gkQADiEaTmlyEA0bwBWD4CCCAQMgECkJAVNE3LIQBRgycAUfNiNAK6CRCA6FZx1osAAggQgNADHgkQgHgEqfllCEA0bwCWjwACCIRMgAAkZAVN03IIQNTgaz12rq12RnpHL+4xhc9j01sC7q6ZAN9wmhWc5SKAAAKOAFtg0QdeCBCAeKHINQhA6AEEEEAAgTAJEICEqZrpWwsBiJo9AYiaF6MR0E2AAES3irNeBBBAgACEHvBIgADEI0jNL0MAonkDsHwEEEAgZAIEICEraJqWQwCiBk8AoubFaAR0EyAA0a3irBcBBBAgAKEHPBIgAPEIUvPLEIBo3gAsHwEEEAiZAAFIyAqapuUQgKjB1x7QPFBbYC26830+j1UrMaMRSEqAb7ik+DgZAQQQCKYAW2AFs25+mzUBiN8qEsz5EIAEs27MGgEEEECgYAECEDrDCwECEDVFAhA1L0YjoJsAAYhuFWe9CCCAAE+A0AMeCRCAeASp+WUIQDRvAJaPAAIIhEyAACRkBU3TcghA1OAJQNS8GI2AbgIEILpVnPUigAACBCD0gEcCBCAeQWp+GQIQzRuA5SOAAAIhEyAACVlB07QcAhA1eAIQNS9GI6CbAAGIbhVnvQgggAABCD3gkQABiEeQml+GAETzBmD5CCCAQMgECEBCVtA0LYcARA3+mCfOC9Q7QBZ2m8znsWolZjQCSQnwDZcUHycjgAACwRTgHSDBrJvfZk0A4reKBHM+BCDBrBuzRgABBBAoWIAAhM7wQoAARE2RAETNi9EI6CZAAKJbxVkvAgggwBMg9IBHAgQgHkFqfhkCEM0bgOUjgAACIRMgAAlZQdO0HAIQNXgCEDUvRiOgmwABiG4VZ70IIIAAAQg94JEAAYhHkJpfhgBE8wZg+QgggEDIBAhAQlbQNC2HAEQNvs7A8wO1BdaCO97j81i1EjMagaQE+IZLio+TEUAAgWAKsAVWMOvmt1kTgPitIsGcDwFIMOvGrBFAAAEEChYgAKEzvBAgAFFTJABR82I0AroJEIDoVnHWiwACCPAECD3gkQABiEeQml+GAETzBmD5CCCAQMgECEBCVtA0LYcARA2eAETNi9EI6CZAAKJbxVkvAgggQABCD3gkQADiEaTmlyEA0bwBWD4CCCAQMgECkJAVNE3LIQBRgycAUfNiNAK6CRCA6FZx1osAAggQgNADHgkQgHgEqfllCEA0bwCWjwACCIRMgAAkZAVN03IIQNTgj32yRaDeATL/9nf5PFatxIxGICkBvuGS4uNkBBBAIJgCvAMkmHXz26wJQPxWkWDOhwAkmHVj1ggggAACBQsQgNAZXggQgKgpEoCoeTEaAd0ECEB0qzjrRQABBHgChB7wSIAAxCNIzS9DAKJ5A7B8BBBAIGQCBCAhK2ialkMAogZPAKLmxWgEdBMgANGt4qwXAQQQIAChBzwSIADxCFLzyxCAaN4ALB8BBBAImQABSMgKmqblEICowdd9OlhbYM27jS2w1CrMaASSEyAASc6PsxFAAIFACrAFViDL5rtJE4D4riSBnBABSCDLxqQRQAABBAoRIAChNbwQIABRUyQAUfNiNAK6CRCA6FZx1osAAgjwBAg94JEAAYhHkJpfhgBE8wZg+QgggEDIBAhAQlbQNC2HAEQNngBEzYvRCOgmQACiW8VZLwIIIEAAQg94JEAA4hGk5pchANG8AVg+AgggEDIBApCQFTRNyyEAUYMnAFHzYjQCugkQgOhWcdaLAAIIEIDQAx4JEIB4BKn5ZQhANG8Alo8AAgiETIAAJGQFTdNyCEDU4I975gJb7Yz0jv7+1kl8HpveEnB3zQT4htOs4CwXAQQQcAR4Bwh94IUAAYgXilyDAIQeQAABBBAIkwABSJiqmb61EICo2ROAqHkxGgHdBAhAdKs460UAAQQIQOgBjwQIQDyC1PwyBCCaNwDLRwABBEImQAASsoKmaTkEIGrwBCBqXoxGQDcBAhDdKs56EUAAAQIQesAjAQIQjyA1vwwBiOYNwPIRQACBkAkQgISsoGlaDgGIGny9QRcGagus7255h89j1UrMaASSEuAbLik+TkYAAQSCKcAWWMGsm99mTQDit4oEcz4EIMGsG7NGAAEEEChYgACEzvBCgABETZEARM2L0QjoJkAAolvFWS8CCCDAEyD0gEcCBCAeQWp+GQIQzRuA5SOAAAIhEyAACVlB07QcAhA1eAIQNS9GI6CbAAGIbhVnvQgggAABCD3gkQABiEeQml+GAETzBmD5CCCAQMgECEBCVtA0LYcARA2+3rMXBWsLrJvf5vNYtRIzGoGk7DfhWgAAIABJREFUBPiGS4qPkxFAAIFgCrAFVjDr5rdZE4D4rSLBnA8BSDDrxqwRQAABBAoWIAChM7wQIABRUyQAUfNiNAK6CRCA6FZx1osAAgjwBAg94JEAAYhHkJpfhgBE8wZg+QgggEDIBAhAQlbQNC2HAEQNngBEzYvRCOgmQACiW8VZLwIIIEAAQg94JEAA4hGk5pchANG8AVg+AgggEDIBApCQFTRNyyEAUYMnAFHzYjQCugkQgOhWcdaLAAIIEIDQAx4JEIB4BKn5ZQhANG8Alo8AAgiETIAAJGQFTdNyCEDU4I8f3DJQ7wD59qaJfB6rVmJGI5CUAN9wSfFxMgIIIBBMAd4BEsy6+W3WBCB+q0gw50MAEsy6MWsEEEAAgYIFCEDoDC8ECEDUFAlA1LwYjYBuAgQgulWc9SKAAAI8AUIPeCRAAOIRpOaXIQDRvAFYPgIIIBAyAQKQkBU0TcshAFGDJwBR82I0AroJEIDoVnHWiwACCBCA0AMeCRCAeASp+WUIQDRvAJaPAAIIhEyAACRkBU3TcghA1OBPGBKsLbC+uZEtsNQqzGgEkhMgAEnOj7MRQACBQAqwBVYgy+a7SROA+K4kgZwQAUggy8akEUAAAQQKESAAoTW8ECAAUVMkAFHzYjQCugkQgOhWcdaLAAII8AQIPeCRAAGIR5CaX4YARPMGYPkIIIBAyAQIQEJW0DQthwBEDZ4ARM2L0QjoJkAAolvFWS8CCCBAAEIPeCRAAOIRpOaXIQDRvAFYPgIIIBAyAQKQkBU0TcshAFGDJwBR82I0AroJEIDoVnHWiwACCBCA0AMeCRCAeASp+WUIQDRvAJaPAAIIhEyAACRkBU3TcghA1OBPfL6VrXZGekfPvWECn8emtwTcXTMBvuE0KzjLRQABBBwB3gFCH3ghQADihSLXIAChBxBAAAEEwiRAABKmaqZvLQQgavYEIGpejEZANwECEN0qznoRQAABAhB6wCMBAhCPIDW/DAGI5g3A8hFAAIGQCRCAhKygaVoOAYgaPAGImhejEdBNgABEt4qzXgQQQIAAhB7wSIAAxCNIzS9DAKJ5A7B8BBBAIGQCBCAhK2ialkMAogZf/4XWgdoCa06X8Xweq1ZiRiOQlADfcEnxcTICCCAQTAG2wApm3fw2awIQv1UkmPMhAAlm3Zg1AggggEDBAgQgdIYXAgQgaooEIGpejEZANwECEN0qznoRQAABngChBzwSIADxCFLzyxCAaN4ALB8BBBAImQABSMgKmqblEICowROAqHkxGgHdBAhAdKs460UAAQQIQOgBjwQIQDyC1PwyBCCaNwDLRwABBEImQAASsoKmaTkEIGrwDV68OFBbYM3uPI7PY9VKzGgEkhLgGy4pPk5GAAEEginAFljBrJvfZk0A4reKBHM+BCDBrBuzRgABBBAoWIAAhM7wQoAARE2RAETNi9EI6CZAAKJbxVkvAgggwBMg9IBHAgQgHkFqfhkCEM0bgOUjgAACIRMgAAlZQdO0HAIQNXgCEDUvRiOgmwABiG4VZ70IIIAAAQg94JEAAYhHkJpfhgBE8wZg+QgggEDIBAhAQlbQNC2HAEQNngBEzYvRCOgmQACiW8VZLwIIIEAAQg94JEAA4hGk5pchANG8AVg+AgggEDIBApCQFTRNyyEAUYM/6eU2gXoHyNfXj+XzWLUSMxqBpAT4hkuKj5MRQACBYArwDpBg1s1vsyYA8VtFgjkfApBg1o1ZI4AAAggULEAAQmd4IUAAoqZIAKLmxWgEdBMgANGt4qwXAQQQ4AkQesAjAQIQjyA1vwwBiOYNwPIRQACBkAkQgISsoGlaDgGIGjwBiJoXoxHQTYAARLeKs14EEECAAIQe8EiAAMQjSM0vQwCieQOwfAQQQCBkAgQgIStompZDAKIGf/IrbQO1BdZX143h81i1EjMagaQE+IZLio+TEUAAgWAKsAVWMOvmt1kTgPitIsGcDwFIMOvGrBFAAAEEChYgAKEzvBAgAFFTJABR82I0AroJEIDoVnHWiwACCPAECD3gkQABiEeQml+GAETzBmD5CCCAQMgECEBCVtA0LYcARA2eAETNi9EI6CZAAKJbxVkvAgggQABCD3gkQADiEaTmlyEA0bwBWD4CCCAQMgECkJAVNE3LIQBRgycAUfNiNAK6CRCA6FZx1osAAggQgNADCCDgIwHjnLN9NBumElQB+4OpQZ0680YAAQQQQGAPAcM4gs/rFPrilFeD9Q6QL6/lHSAK5WUoAkkL8AM1aUIugAACCARPgHeABK9mzBiBsAoQgIS1sqldFwFIar25GwIIIIBAyQoQgKj5EoCoeTEaAd0ECEB0qzjrRQABBHgChB5AAAEfCRCA+KgYAZ4KAUiAi8fUEUAAAQT2ECAAUWsKAhA1L0YjoJsAAYhuFWe9CCCAAAEIPYAAAj4SIADxUTECPBUCkAAXj6kjgAACCBCAJNkDp77Wzk7yEik9/YtrRvN5bErFuZnuAnzD6d4BrB8BBLQUYAssLcvOohHwpQABiC/LErhJEYAErmRMGAEEEECgCAGeAFFrDwIQNS9GI6CbAAGIbhVnvQgggABPgNADCCDgIwECEB8VI8BTIQAJcPGYOgIIIIDAHgIEIGpNQQCi5sVoBHQTIADRreKsFwEEECAAoQcQQMBHAgQgPipGgKdCABLg4jF1BBBAAAECkCR7gAAkSUBORyDkAgQgIS8wy0MAAQQKEmALLPoCAQT8IkAA4pdKBHseBCDBrh+zRwABBBDYXYAnQNQ64j9DLwnUO0BmXf0Wn8eqlZjRCCQlwDdcUnycjAACCARTgAAkmHVj1giEUYAAJIxVTf2aCEBSb84dEUAAAQRKToAARM2WAETNi9EI6CZAAKJbxVkvAgggwBZY9AACCPhIgADER8UI8FQIQAJcPKaOAAIIILCHAAGIWlMQgKh5MRoB3QQIQHSrOOtFAAEECEDoAQQQ8JEAAYiPihHgqRCABLh4TB0BBBBAgAAkyR5o+MalgdoC6/OrRvF5bJI153QEVAT4hlPRYiwCCCAQEgG2wApJIVkGAiEQIAAJQRF9sAQCEB8UgSkggAACCHgmwBMgapQEIGpejEZANwECEN0qznoRQAABngChBxBAwEcCBCA+KkaAp0IAEuDiMXUEEEAAgT0ECEDUmoIARM2L0QjoJkAAolvFWS8CCCBAAEIPIICAjwQIQHxUjABPhQAkwMVj6ggggAACBCBJ9sBpwy4L1BZYM6/8H5/HJllzTkdARYBvOBUtxiKAAAIhEWALrJAUkmUgEAIBApAQFNEHSyAA8UERmAICCCCAgGcCPAGiRkkAoubFaAR0EyAA0a3irBcBBBDgCRB6AAEEfCRAAOKjYgR4KgQgAS4eU0cAAQQQ2EOAAEStKQhA1LwYjYBuAgQgulWc9SKAAAIEIPQAAgj4SIAAxEfFCPBUCEACXDymjgACCCBAAJJkDxCAJAnI6QiEXIAAJOQFZnkIIIBAQQJsgUVfIICAXwQIQPxSiWDPgwAk2PVj9ggggAACuwvwBIhaRzQaHqx3gMy4gneAqFWY0QgkJ0AAkpwfZyOAAAKBFCAACWTZmDQCoRQgAAllWVO+KAKQlJNzQwQQQACBEhQgAFHDJQBR82I0AroJEIDoVnHWiwACCLAFFj2AAAI+EiAA8VExAjwVApAAF4+pI4AAAgjsIUAAotYUBCBqXoxGQDcBAhDdKs56EUAAAQIQegABBHwkQADio2IEeCoEIAEuHlNHAAEEECAASbIHTh9xuZ3kJVJ6+mcdRvJ5bErFuZnuAnzD6d4BrB8BBLQUYAssLcvOohHwpQABiC/LErhJEYAErmRMGAEEEECgCAGeAFFrDwIQNS9GI6CbAAGIbhVnvQgggABPgNADCCDgIwECEB8VI8BTIQAJcPGYOgIIIIDAHgIEIGpNQQCi5sVoBHQTIADRreKsFwEEECAAoQcQQMBHAgQgPipGgKdCABLg4jF1BBBAAAECkCR7gAAkSUBORyDkAgQgIS8wy0MAAQQKEmALLPoCAQT8IkAA4pdKBHseBCDBrh+zRwABBBDYXYAnQNQ6ovHI9oF6B8inl7/J57FqJWY0AkkJ8A2XFB8nI4AAAsEUIAAJZt2YNQJhFCAACWNVU78mApDUm3NHBBBAAIGSEyAAUbMlAFHzYjQCugkQgOhWcdaLAAIIsAUWPYAAAj4SIADxUTECPBUCkAAXj6kjgAACCOwhQACi1hQEIGpejEZANwECEN0qznoRQAABAhB6AAEEfCRAAOKjYgR4KgQgAS4eU0cAAQQQIABJsgfO+F+HQG2B9cllI/g8NsmaczoCKgJ8w6loMRYBBBAIiQBbYIWkkCwDgRAIEICEoIg+WAIBiA+KwBQQQAABBDwT4AkQNUoCEDUvRiOgmwABiG4VZ70IIIAAT4DQAwgg4CMBAhAfFSPAUyEACXDxmDoCCCCAwB4CBCBqTUEAoubFaAR0EyAA0a3irBcBBBAgAKEHEEDARwIEID4qRoCnQgAS4OIxdQQQQAABApAke+CMUVcEawusS4fzeWySNed0BFQE+IZT0WIsAgggEBIBtsAKSSFZBgIhECAACUERfbAEAhAfFIEpIIAAAgh4JsATIGqUBCBqXoxGQDcBAhDdKs56EUAAAZ4AoQcQQMBHAgQgPipGgKdCABLg4jF1BBBAAIE9BAhA1JqCAETNi9EI6CZAAKJbxVkvAgggQABCDyCAgI8ECEB8VIwAT4UAJMDFY+oIIIAAAgQgSfYAAUiSgJyOQMgFCEBCXmCWhwACCBQkwBZY9AUCCPhFgADEL5UI9jwIQIJdP2aPAAIIILC7AE+AqHXEmW8F6x0g0y/hHSBqFWY0AskJEIAk58fZCCCAQCAFCEACWTYmjUAoBQhAQlnWlC+KACTl5NwQAQQQQKAEBQhA1HAJQNS8GI2AbgIEILpVnPUigAACbIFFDyCAgI8ECEB8VIwAT4UAJMDFY+oIIIAAAnsIEICoNQUBiJoXoxHQTYAARLeKs14EEECAAIQeQAABHwkQgPioGAGeCgFIgIvH1BFAAAEECECS7IGmo6+0k7xESk+f1m4Yn8emVJyb6S7AN5zuHcD6EUBASwG2wNKy7CwaAV8KEID4siyBmxQBSOBKxoQRQAABBIoQ4AkQtfYgAFHzYjQCugkQgOhWcdaLAAII8AQIPYAAAj4SIADxUTECPBUCkAAXj6kjgAACCOwhQACi1hQEIGpejEZANwECEN0qznoRQAABAhB6AAEEfCRAAOKjYgR4KgQgAS4eU0cAAQQQIABJsgcIQJIE5HQEQi5AABLyArM8BBBAoCABtsCiLxBAwC8CBCB+qUSw50EAEuz6MXsEEEAAgd0FeAJErSPOGnNVoN4B8lHbN/g8Vq3EjEYgKQG+4ZLi42QEEEAgmAIEIMGsG7NGIIwCBCBhrGrq10QAknpz7ogAAgggUHICBCBqtgQgal6MRkA3AQIQ3SrOehFAAAG2wKIHEEDARwIEID4qRoCnQgAS4OIxdQQQQACBPQQIQNSaggBEzYvRCOgmQACiW8VZLwIIIEAAQg8ggICPBAhAfFSMAE+FACTAxWPqCCCAAAIEIEn2QLOxHQO1BdaHbV7n89gka87pCKgI8A2nosVYBBBAICQCbIEVkkKyDARCIEAAEoIi+mAJBCA+KAJTQAABBBDwTIAnQNQoCUDUvBiNgG4CBCC6VZz1IoAAAjwBQg8ggICPBAhAfFSMAE+FACTAxWPqCCCAAAJ7CBCAqDUFAYiaF6MR0E2AAES3irNeBBBAgACEHkAAAR8JEID4qBgBngoBSICLx9QRQAABBAhAkuwBApAkATkdgZALEICEvMAsDwEEEChIgC2w6AsEEPCLAAGIXyoR7HkQgAS7fsweAQQQQGB3AZ4AUeuIc8ddHah3gEy5eCifx6qVmNEIJCXAN1xSfJyMAAIIBFMgzAHI6tU/y6BBr8nkydNkyZLlkpeXJ0ccUUkaNTpZOnVqLw0bnuRZ0XJylrr3mjr1M1m+fJVkZGS492rWrLF07txB6tat7dm9uFBqBeij1HnrFoDMeHK4nFbnRLn68V7y+ocTPIOuWbmK3NKqg5x9wn+kymGHSyxmy4+//yIfzpklL773lsxfluPZvfx4oTAHIPw88mPHBW9O9FHwaubHGdNHqasKAYiaNQHIP161atWqG4vFeohIExE5VER+F5HZhmEMjkaj76vJ/jM6EonsF4vFbsvIyGht23YNESkrIstt234vIyPj8Wg0urq41+Y8BEpagACkpIW5PgIIIOBDgbAGIBMmvC8dO3aVdev+LlT9v//tKM8800cyMzOTqszzz78hXbs+IFu2bCnwOllZWXL//bdL795dk7oPJ6degD5KrblOAcjdl3WWh6+N/0zwMgDp0uJSeerGnlK2dJkCi7dt+zZ5cPhz0u/NF1Jb3BTeLawBCD+PUthEIb4VfRTi4qZwafRRCrFFhABEzZsAJO4ViUQusm17jIiUKkjQMIxnotHobWq6IqZp1hOR90SkciHn/iEi51mW9ZXqtRmPQCoECEBSocw9EEAAAZ8JhDEAmTZthpxzTnv3iQ/ncJ6+aNHiLClbtox88cVcmTJluth2/MloJwQZPPjhYlfljTdGu0HLzqNhwwbStOlp7j9Onz5LZsz45899jz3WW7p3v7HY9+LE1ArQR6n1du6mSwBy9Tmt5ZU7+rhPijmHVwHIlWdfJG/0eGRX4WYumCvTvv3S/eczjztZTq9bf9fXur80QAaMfjX1RU7BHcMYgPDzKAWNo8Et6CMNipyCJdJHKUD+1y0IQNTMzxt/TaC2wJrc+jXPP4+tWbPmCRkZGTNFpJyIfB2LxbpnZWXNt227mm3b94hIqx2qN1uWNThR4Tp16lTatm3bfBE5SET+EpF7MjMzJ23durVUZmbmhYZh9LVtex8RWW0YRq1oNFr4byMmelPGIeCxgOffcB7Pj8shgAACCJSAQNgCkE2bNkkk0lhWrow/ddu7923y0EPdxTD++c/c1KmfSqtW18mGDRvdMdOmvSVNmsRDC5Xj559/lezsRrJ+/Qb3+kOG9JcuXa7c7RLDh4+Vq6++3Q1jnCdBFiyYJqbpPCXM4WcB+ig91dEhAOnd4QZ58Mqbd4UfjrQXAchhBx4sOa9Nlv32KS+xWExuHPSQvPjuW7sVssNZF8rQO/tJVmaWOE+C1Ol0keT8uDw9xS7Bu4YtAOHnUQk2i0aXpo80KnYJLpU+KkHcIi5NAKLmTgDiPqUxSURaiEhuqVKlTliwYMH6fIqGaZqjRKSdsyWWYRjVEg0qTNN8U0QuF5H1hmE0iUajs/NXJzs7u4VhGM69nUMpXFGrMqMRKL4AAUjx7TgTAQQQCKxA2AKQQYNelVtvvdeth/P+jQ8+GFlgbUaOnCDt29/kfs15amPmzInKNezW7UEZOPBF97xOnTrIiy8+VuA1+vcfJL16xX8ru3371jJixLPK9+KE1ArQR6n13nm3MAcgTkDxare+cv7JjffA9SIAGdC5h3Rre7V7bec9H12eeqDAIva8rJP0v/Z292sjpk2SKx5xtoUO1xG2AISfR+Hqz3Sthj5Kl3y47ksfpaeeBCBq7roHIKZp1hKRRY6abdvX5uTkvPZvwRo1ahyVmZm5TEScx5Gvtizr9b0pV6tW7bBSpUr9KCLO/tF3W5b1z2PH+U42TTMqIs6TJsNycnKu29t1+ToCqRYgAEm1OPdDAAEEfCAQtgCkfv3mMnfuPFd2+vQxcsYZ/ylQ2dkCq06dJrJoUfxlwEuWfC7Vq1dJuCLOb1hXqnS8/Pab8x45kWXLvpQqVY4s8Hznt+WOOKKB/PnnWilXrqz89ts8KV/eeTKYw68C9FF6KhPGAMR5F4cTTNx1yfXu0xnOsW7Depmbu1DOrHey+8/JBiDOE2g/j/pUDq3g7EYgUuWKs2XFrwW/e9KZz49vTpeK+x8gGzdvkkMuaeT+b5iOsAUg/DwKU3emby30Ufrsw3Rn+ig91SQAUXM/f8K1gdoC671Wr3r6eaxpms5vugx08g/nxeeWZa0pSNA0TefpDWd/1AmWZbXem7Jpms5vDz5rGMbGMmXKHPr9999vKOicqlWrll22bNnmvV2PryOQLgFPv+HStQjuiwACCCCgJhCmAMQJIw47rJ77fo8KFQ6QNWvmFfmC8zvvfEieeCL+IuABA+6Vbt1uSBhv9uzv5KSTznfHH3tsLZk376Miz23btpOMHeu8K05kzJgXpU0b54lkDj8K0Efpq0oYA5COzVrJ0O7/vGdoTs4Cueqxu6Vd43PlgSvjT6ElG4DUz64jswePdq817wdLjuuyc1vngms5+t4npe3p57pfbPPQbTJuxofpK3oJ3DlMAQg/j0qgQTS8JH2kYdFLYMn0UQmgJnhJApAEoXYMIwAxnac5rnJ+R8+yrGqF6Zmm+ZKIXC8iKy3LOnpvyqYZv65t29NzcnKa5B9fv379UnPmzNm2t2vwdQT8IEAA4ocqMAcEEEAgxQJhCkCcl5s3b97BFSxq+6udxGPGTJJ27bq4/9iu3QXy1lvxMCSR44UXhskNN/R0hxa1/dXOaw0Y8Lx0797H/UfnRejOC9E5/ClAH6WvLmEOQH5ft1b6vvm8DJowQvJieXL/lTd5FoB0bnGJvHBbfMurora/2lnZbm2vkQGdu7v/+Nhbr8hdLz+RvqKXwJ3DFIDw86gEGkTDS9JHGha9BJZMH5UAaoKXJABJEGrHMAIQ8xMRcfZc/diyrKaF6WVnZ/c2DMP5C6pduXLl0tOnT99elHQkEplj2/aJIvKSZVmdI5HIRbZt3yIizpYLzmPOP9m2PSEjI6NvNBot+FFktVIyGoESESAAKRFWLooAAgj4WyBMAUj+fYm7dLlCnn/+0SLxv/76Wzn55PiTGPXqHSPffpv4b0Hnf/9H//53S8+eNxd5r9Gj35FLLok/YdKy5bkyYcKr/m4MjWdHH6Wv+GEMQJqfdLrUqx6R5yeNkr82/L0L18sAJP/7P3q+MlAeHfVykUV0nv5wngJxjgmffyStH3D+7hqeI0wBCD+PwtOX6VwJfZRO/fDcmz5KXy0JQNTsCUDMBSJyjIiMsyyrTWF62dnZtxiG8cyOrx9S2FZZO883TdMJNQ4XEecv2QeKSOdCrv17LBa7MDc3d5Za5RiNQGoECEBS48xdEEAAAV8JhCkA6dWrv/TvH3/BeN++PeSee24r0vrHH3+SI49s4I6pVOlQ+emnbxKujfMCdedF6s4xfPgg6dDh4iLPnTnza2nUKL4tzamnniizZr2T8L0YmFoB+ii13vnvFsYApDBNLwOQET0fk/ZNL3Bv1eGRHvLmtElFFrHhMSfIzKdGuGNmLfxWGnZtn76il8CdwxSA8POoBBpEw0vSRxoWvQSWTB+VAGqClyQASRBqx7ALJlwXqHeATGr1iqefx5qmuUREqtu2PSInJ+eKwvRM03S2v3K2wZJYLHZUbm7uqqKkTdN0fpNnX+dJjx1ByGci0mvr1q2zs7Ky9svIyLhERJwXoztjfsvMzKy3aNEiZywHAr4S8PQbzlcrYzIIIIAAAoUKhCkAuemmXvLcc87WpCIDB94vt99e2C+lxDmcl5JXrFjH/f/Oy8k3bnT+rJjY0aLFlfLee9PcwePGvSytW59X5InffDNfTjwxvud+7drZsnDh9MRuxKiUC9BHKSffdUMCkOLZT+ozRFqccoZ7cusHb5EJM4t+J9HxNWrLN0PGuuMXLl8idTpdWLwb+/SsMAUg/DzyaZMFbFr0UcAK5tPp0kfpKwwBiJq97gFIdna2ZRhGdgkEIHkikrGjGh/vt99+5/77vR/Z2dmNDcP42BnnPF0SjUaL/o1EtdIyGgFPBAhAPGHkIggggECwBMIUgFx//Z3yyisj3QIMGdJfbrjBefdb4cfmzZulXLka7oCMjAzJy1uZcPHOPvtS+eijGe74yZOHS/Pmu70Hbo/rLF6cK7Vrxz+grF69iixZ8nnC92JgagXoo9R6578bAUjx7D985BU5+0Rn+2WR5r06y5TZ8Z9NhR2Ro6rJ4lfedb+8ZPUKqXl18+Ld2KdnhSkA4eeRT5ssYNOijwJWMJ9Olz5KX2EIQNTsdQ9ATNN0tjU43jCMsdFotG1hevm3wMrIyDh48eLFvxclne8JEOeJkRNzc3ML3D4hEom8bdu289s1P1qWdaRa9RiNQMkLEICUvDF3QAABBHwnEKYApHPnHvLSS/FtXVQDkMzMTNm+fUXC9TnnnMvlww8/dcerBiA1alSV3NyZCd+LgakVoI9S653/bgQgxbOf0v8lOaf+ae7JqgFI7o8rJPsaApDiyZf8Wfw8KnljHe5AH+lQ5ZJfI31U8saF3YEARM3+oonB2gLr7ZbeboGVnZ39sWEYZ4rIVMuymhWmF4lE7rVt+yERybMsq7SzE1ZR0vneAfKXZVkVChtrmmY3ERngfD0Wix2Qm5u7Tq2CjEagZAUIQErWl6sjgAACvhQIUwByxx0PyJNPutuYypNPPiBdu3Yq0jz/Fljly+8j69fnJFyjiy++XsaPn+yOHz/+FWnVqugPEPNvgVWnTkTmz49vn8XhPwH6KH01IQApnv3Y+56WixvF/37b6oFbZOLniW+BNX9ZjtTt3LJ4N/bpWWF6AoSfRz5tsoBNiz4KWMF8Ol36KH2FIQBRs9c9ADFN8wXnBeW2befk5OSYhemZpun8xfl6wzBWRKPRKntTNk3T+Q2+hiLyi2VZlYq4rvOX8Bedr2/btq3SDz/88Mvers3XEUilAAFIKrW5FwIIuAKRSGS6bdvOvkDLLcuqmghLcc5J5Lq6jglTAHLffY9Lnz5PuaXs1+8u6dXr1iLLmv8l6JUrV5Iff5yTcBtcddWtMmxYfA/9ESOelfbtWxd5bv6XoDerNbvoAAAgAElEQVRs2EBmzpyY8L0YmFoB+ii13vnvRgBSPPvXu/eXq5rFQ4z2/bvLyI/j21sVduR/CfrMBXOl0e2Fvh+zeBNK81lhCkD4eZTmZgrJ7emjkBQyzcugj9JXAAIQNXsCEPNmERnkPNkRi8UqFvYERiQSmWPb9okiMtGyrFZ7UzZNc7CI/Nd5sMMwjArR6P/ZuxMwOYr6/+Ofmt1AOCLIXwETFEJ2ehZiQAiHImIAQRCVIJdyIxBBQK6EI3JfkRsFBIIcciqJCsohgpAfh4icAoFMzSYGOUU8EAiEzU79n5rdDUPYY3rn6J7u9zzP7/lBpqqr6vWt2eB8trvy/lD0j7yy2ezxxpjTfP5hrR0+2J0lg43L+wjUWoAApNaiXA8BBAYVGEqYMZQ+g04kxQ2SFIBcdtm1Ouig40rVPPjgfXTxxWcMWNm//OVJbbzx10ttxo9fR4891n1HRyWvY489U2ed5f8bUDrnnBM0efKBA3a7+ebfatddDyq12XHHr2nmzO47VXjFT4B9FF1NCECGZj/tu0fo2G933/E2efo5Om/m1QNeaOfNttHNx59fajPzgbu082lHDG3gmPZKUgDCz6OYbrImmxb7qMkKFtPpso+iKwwBSDh7ApBgTX/Mm1dzzu1WKBS6D8kse40ZM+bTLS0t8/1RmM65gwqFwmWDKQdB8DVJvb9ls7e19tq++gRB4J8T/SVJD1pr/f/nhUCsBAhAYlUOJoNAOgSGEmYMpU86NIe2yiQFIA888Ig22+xbJYjttttSt93W53+TLYaaMeN32mWX7uDiO9+ZqBtv7A40Knldd91M7bXXYaWmlYQt55xzqY4++vRS++OOO0Rnntkd1PCKnwD7KLqaEIAMzX6PLb+h6445q9T54ltv0KGXDBz+Tt75uzrngMml9mfeNF0/vLr7zrmkvJIUgPDzKCm7Mtp1sI+i9U/K6Oyj6CpJABLOfvvf7u/C9Yi29a3f/FnNv48NguABSZv6x2B1dXVtOG/evDfLVmmCIPilpJ0lvTF8+PA1nn766XcGU5gwYULrK6+80iHJPy7rpc7Ozg2WfLxVLpfbyTk3w1/LGLN/Pp+/crDr8j4CjRao+Qeu0QtgPAQQaD6BoYQZQ+nTfDKNm3GSApD//vdNrbTSWP+bLlp55U/otdee8v/h1S9m+bOMzz33BB111MB3cZRf6Omnn9O663Y/c3+DDdbVo4/eMWDRys8MmTlzunbccbvGFZmRQgmwj0Jx1bQxAcjQOMeNDvT05beUOj+af0YbHbrrgBcqPzNkx1MP068fvHtoA8e0V5ICEH4exXSTNdm02EdNVrCYTpd9FF1hCEDC2ROAlB41voFz7hF/h4ekZ4rF4uRMJvNEsVj8TCaTOV5S7/ObD7HWLv4twCAIRknqPUzuN9baD/3WXltb29aZTMY/NsFf9wVjjL/WvZlMZlhXV9fukk6S5A9U/7O1dlP/GK5w1aM1AvUXIACpvzEjIIDAEgJDCTOG0gf4/gWSFID4Vfo7QPxvqPnXI4/cpo02Wq/PxfuQZK21vqx8vnR3cOlQcn84eaUv33/06M/rhRdeUktLi1588VF96lOr9Nl9wYJ3NWrUePn/4Ths2DC9/vpfteKKK1Q6FO0iEGAfRYDuf1Ns669EM3AEo56058E6ec+DSyPvc85U/fzu7gBjqK+/XXu31lh1lBZ1LdKnd99Cr/37jT4vtczSw/Xyjffp4yNW0PudnVp5l0315jt9PsJ5qFOJvF+SAhD+Xot8OyVmAvy9lphSRroQ9lE0/AQg4dwJQLq9stnsPsYY/9zl1n4Ez7fWHlX+Xnt7+xrFYvFvPX/2c2vtPkv2DYLg25KukrRMX9c1xjzR1dW1fUdHx0vhKkdrBBojQADSGGdGQQCBMoGhhBmD9Mn03Ha5k6SNjDGfdM61SPqXMcafcH1dPp+f6R+HWV6IIAhO7vlthUestZ/v+Uv9cEljJb0naY4x5vJPfepTv5g1a9aiPv4joHQ9Y8y2ra2tT3V2dp7in8Ik6f85517MZDL3dnV1ndPR0dH9bXvPKwgC/9sVW0iab60d3d/mCIJgT0n+eU6Lurq6Rs2dO/f1Wm2kpAUg5c8n3nbbLXTHHdf1SXXDDb/WHnscWnqvkjs4+rpI+TkgBx64py699Ed9jnXGGT/W8cefXXpvp52204wZ02tVPq5TJwH2UZ1gB7ksAcjQ3cvPAbn0d7/Q9y86tc+LTf3O93TGvt2P75tx/13a5fRknf/h15W0AISfR0P/XNDzAwH2EbuhFgLso1oohr8GAUg4sx1+d0BTPQLrN9+4om7fx7a3t48rFotTJG0uyf+23tuSHjPGXJLP529dUraSAMT3WXPNNT/T0tJypP/+Q9Kne74zyUu6fsGCBVe99NJL74arGq0RaJxA3T5wjVsCIyGAQLMJ1DIACYLgE5Juk7TxIA4f+U2G8gDE38Lpj2no5xq/f/vtt3d85ZVXFpS/HwRB6T+y/AFixpgTJI3so/+7zrldCoWCn2Pp1fNbGaXTaovF4hc6Ojr+3Ne4QRD420y3kXSHtbamz05KWgDy3nvv6bOf3VJz5/oz3aQf/GA/nXfeiWpt/eAXX+65535NnLif3nmnu4y3336tvva1LUN/fF5//Q3lcpuV7uzwr7PPPl5TpnQfdN778meF7Lvvkerq6irdKfLkk3dp3Li1Qo9Fh8YKsI8a6907GgHI0N0/ueJKyl95e+nODv+acsW5OneG/+W8D17+rJCrJ5+h1pbW0p0i6x20o56dXxj6oDHtmbQAhJ9HMd1oTTYt9lGTFSym02UfRVMYApBw7gQg4bxojUDaBAhA0lZx1otADARqHID4YMGHA/45k6e3tLTMdM696pzzwcgXnXP+Lg//2wk+qPhyoVC4v5egNwAxxixwzi0ryd/2eVSxWHywtbV11WKx6G8N3bun/XXW2r3K+XoDEEn+8LDlJP1U0kVdXV3/zmQyWxpjzpP0KUmdxphx+Xze/3aEfzbnCOfcP/zto8aYn+Tz+e5fyy17tbW1fTKTybzib111zu1WKBRuqmXpkhaAeJt7731Q22yzhzo7O0tU2exoTZy4jZZffjk98sgTuvPO+0rnhPjXAQfsrunTu+/OKH9dc80vS8FF78u5l/tkv/baGdp7b3+zUPdrvfU+q2233bwUuNx3358WP47Lv3fGGcdo6tQf1LJ8XKuOAuyjOuL2c2kCkL5h9t5qoq6ZcubiN83Wa/fZcM+vfFPXHv3BnWhPFJ7TnY8+4G8d1Oaf20ibjdtgcb+pV12oab9I5t1oSQtA+Hut8T+Lkjoif68ltbKNXRf7qLHefjQCkHDmBCDhvGiNQNoECEDSVnHWi0AMBMoCkKHM5gVr7Rq+Y1tb29qZTGa2/2fn3PGFQuGMJS8YBMG6kp7q+fNp1tqpvW3K7gDxf/RKS0vLBs8///yr5dcIguBiSf6B7a5YLI7v6Oh4sqx/+W22J1lrP/Tskba2tjH+0DFJH5N0q7V2YlnfGyV9R9Kr1trV/M0gS4zrx/Rjv/X222+vuuTdJ0OBK++TxADEr+/WW+8qBRNvvvm/fokmTdpdP/3ptNKdGUu+Kg1AfL/LL79Ohx9+svxvxfX1ymQyOvHEI3TSSR8EKtXWjf6NEWAfNca5dxQCkL69Kw1AfO9J2+2iCw88Vv6sj75e/m60U2+4VKde73P6ZL6SGIDw91oy92oUq+LvtSjUkzcm+6ixNSUACedNABLOi9YIpE2AACRtFWe9CMRAoFYBSM+zLfc2xqzR2to6afbs2f/ua3lBEPxH0oqSfmatPaC3TXkA4pzbt1AoXLNk/7Fjxy7f2dn5mr/DwxhzTj6fP7qsf28AMtda60/S9nehfOhVNkbnokWLPjlv3rzSc5OCIPDPzbzD/7MxZst8Pu8fwbX4FQTBg/4OFn8GiLW29y6UmlUvqQGIB/rHP/6piy++Wrfddo/+9rcX9e6772mVVT6hTTbZQP7MjgkTNunXMUwA4i8yb94LpbHuuuv/9Pe/v6zOzkUaNWpVTZjwBR1yyL6lO0N4NacA+6hxdSMA6ds6TADirzB61dV0yPa76avjN9VnVv6UhrW26uU3/qFZTz+qi2+9UU/Nfb5xRY1gpKQGIPy9FsFmSuiQ/L2W0MI2eFnso8aBE4CEs97xtklNdQbIr74+ne9jw5WY1ghUJcAHrio+OiOAwFAEegMQY8zfW1tb/YHjg746Ozv9eRibSlp8B8hgnXx48f7773/BGPMLSStJusZau29vv7Jwomv48OErPP300/5RVh95BUHwO0lfl/SktXb9sv69/5F1lrX22L76tre3jy8Wi4/594wx2+fz+d/2tGsJgsA/X8kfSnaFtXZSb/+11lpr9a6uLv84Lv8zeitr7T2DrTXs+0kOQMJa0B4BBKIVSFMAEq10skdPcgCS7MqxOgQQQACBvgQIQMLtCwKQcF60RiBtAgQgaas460UgBgK1PAOkdzltbW3rZzKZTYwxWefcGOdcYIwZIylTtuQPHYReFoB0WGuz/dEEQXC+pCMk/dNau3Jvu94zQIwxe+Tz+Rv66t/W1vaxTCbTfVq2dLC1dvHzR7LZ7AXGGH+QxL9HjBix6uOPP146vCIIAh+mTPOP5bLW+vNLPvR4rFqUkACkFopcAwEEaiFAAFILRa5BAMIeQAABBBBIkgABSLhqEoCE86I1AmkTIABJW8VZLwIxEKhlAOLP+DDGXOWcW3xnRtkS/Xked0v6hqSPS+ovAHnMWrthfzS5XO5059wPJb1vrV16yQDEOff1QqFwe1/9J0yY0PrKK690n8otTbXW+mCj9OoJbR73/1x+jSAInpY0TtJ51trJ9SgZAUg9VLkmAggMRYAAZChq9FlSgACEPYEAAgggkCQBApBw1dz59u811SOwZmx3Od/HhisxrRGoSoAPXFV8dEYAgaEI1CoAaW9vX6NYLPoDzlfw4YSkWyT9uVgszvaHo1tr/SOm/B0VL0ka1V8A4px7tlAo+MChz1c2m73QGHNYzx0Z/jqlV+8dIM65nQqFwq/66rzGGmusuNRSS/kzSPxrkrX2ivJ2QRD4Q9zXlnS9tXbPJQ52X69QKPQe4D4U6n77EIDUlJOLIYBAFQIEIFXg0XWxAAEImwEBBBBAIEkCBCDhqkkAEs6L1gikTYAAJG0VZ70IxECgVgFIEATTJflDzf3h41+w1j7ax/JMEAT+bI9lBrgD5G1r7cf8jRh98QRB4M8f2UbSn6y1/mDy0qssADm6UCic01ffbDa7sTHmz/4959zWhULB35Gy+FX2uKv/jBw5cuWXX375GGPM6ZJ8gFO3E7QJQGLwQWAKCCBQEiAAYSPUQoAApBaKXAMBBBBAIC4CBCDhKkEAEs6L1gikTYAAJG0VZ70IxECghgHIs5L8Ier9PsIql8t90Tn3YM+yr7PW7tVLUHYGiA8nvlwoFO5fkmfNNddcobW11T9KywcoP7TWnlnWvzcwuc9au0VftEEQ+PbHSXqrWCx+sqOjY2F5uzFjxny6paXlBf8dYLFYnJDJZH4k6fO+j7XW/3NdXgQgdWHlogggMAQBApAhoNHlIwIEIGwKBBBAAIEkCRCAhKvmLrcf2FSPwLp5u8v4PjZciWmNQFUCfOCq4qMzAggMRaCGAYh/PNS6kt5YsGDBZ1566aV3y+czbty4jy9cuPC+njb+rV9aa7/d26Y8AOl5dNaEJQOKIAh+Jmk/SQuNMWvl8/m/lfVf/B9ZxpiJ+Xz+1vLxgyBo9+GMpOUkXWGtndSXVxAE90ra3N+hImlPH4Z0dXWtPnfu3BeH4ltJHwKQSpRogwACjRAgAGmEcvLHIABJfo1ZIQIIIJAmAQKQcNUmAAnnRWsE0iZAAJK2irPeyARyudzIeg2ez+dfqde163HdWgUg2Wz2LGPM0T1zvKdYLJ6YyWQKLS0tHy8Wi19xzh0jafWyNdxhrd2unwDE//GfisXi1KWXXvqZhQsXrp7JZHz/XXvan2KtPbnco/cRWD1/5gOSkzo7O29yzi1sbW3d1hhzlqSVJf1LUru19o2+PLPZ7L7+IPeeR3AZ59ysQqHgA5G6vQhA6kbLhRFAIKQAAUhIMJr3KUAAwsZAAAEEEEiSAAFIuGoSgITzojUCaRMgAElbxVlvZAJBEBT7O2Oiykk5a21rlddoaPdaBSA9d3g8JGmt/hZgjHnYOfdfSds65wqFQiHobbvEHSDXS9qjr+s4535cKBSOlORruPhVFoDcJulLPYexL3mJl4wx2+Xz+af7m2NbW9vHMpnMaz2P2ZIxZv98Pn9lPYtCAFJPXa6NAAJhBAhAwmjRtj8BAhD2BgIIIIBAkgQIQMJVkwAknBetEUibAAFI2irOeiMT6AlA6jG+D0Ba6nHhel2zVgGIn19PeODv1NhB0pr+8VH+jgvn3NPGmBtGjhx506uvvvpt59x1vn1LS8u4559/3p8d4g8x93d0nOT/2VqbyeVy33XOHezv1pD0H0mPGmN+nM/n/WO0PvIqC0BOyWQy1xSLxVP8YenGmOWdcx3OuRnDhw+/5JlnnvHXGvAVBMFNkvzjud5btGjRqvPmzXtzsD7VvE8AUo0efRFAoJYCBCC11EzvtQhA0lt7Vo4AAggkUYAAJFxVv33HQU11BsgvvnYp38eGKzGtEahKgA9cVXx0RqBygSAISl/A1+NlrfXnRvAKKbBEABL652F5ALLk47FCTkW5XO4G59xukmZYa3cJ2z9sewKQsGK0RwCBegkQgNRLNl3XJQBJV71ZLQIIIJB0AQKQcBUmAAnnRWsE0iYQ+gu/tAGxXgQQSK5AXAKQsWPHLt/Z2ekfgbWcc+4bhULBP1Krri8CkLrycnEEEAghQAASAoum/QoQgLA5EEAAAQSSJEAAEq6aBCDhvGiNQNoECEDSVnHWiwACiwXiEoBks9kfGmNOl/SStXYNSV31LhMBSL2FuT4CCFQqQABSqRTtBhIgAGF/IIAAAggkSYAAJFw1d7vz+031CKwbt/0p38eGKzGtEahKgA9cVXx0RqD+AqutttoyL7300rv1Hyl9I0QZgARB4M8eeVvSOEl79+gfaa29oBGVIABphDJjIIBAJQIEIJUo0WYwAQKQwYR4HwEEEECgmQQIQMJViwAknBetEUibAAFI2irOemMtsMYaawwfNmzY3saYr0saL+kTkjLW2lY/8Ww2e6AxZgvn3HmFQuGRWC+mCSYXcQDyqKQNypj+MnLkyC/OmjVrUSPoCEAaocwYCCBQiQABSCVKtBlMgABkMCHeRwABBBBoJgECkHDVIgAJ50VrBNImQACStoqz3tgKZLPZrYwxP5e0Ss8kez+fzlrb4v8sCIKLJB0syRljLs7n84f7f47tomI+sYgDkHMlHSjpPWPMbxcuXHjk/Pnz/9soMgKQRkkzDgIIDCZAADKYEO9XIkAAUokSbRBAAAEEmkWAACRcpQhAwnnRGoG0CRCApK3irDeWAm1tbd/IZDK/kuSDDv+57JT0D0mr+YCjLAC5WdJOPYvwwcel1tpDYrkoJhVrAQKQWJeHySGQKgECkFSVu26LJQCpGy0XRgABBBCIQIAAJBz6Hr8/uKl+MfT6bS7h+9hwJaY1AlUJ8IGrio/OCFQvEASBf8xVh6SPSXrDGHNsa2vr9YsWLdrWOfeb8gBk7NixS3V2du4jyd89sLx/L5PJfGnOnDl/qn4mXCFNAgQgaao2a0Ug3gIEIPGuT7PMjgCkWSrFPBFAAAEEKhEgAKlE6YM2BCDhvGiNQNoECEDSVnHWGzuBXC53mnPuh5Lel7SxtfavfpK5XG77JQOQ3sm3tbWtn8lkHpbkzwa5zlrrQxFeCFQsQABSMRUNEUCgzgIEIHUGTsnlCUBSUmiWiQACCKREgAAkXKEJQMJ50RqBtAkQgKSt4qw3dgJBEDwhaV1JV1lrD+id4EABiG8TBMF0SftLmmetbYvdwphQrAUIQGJdHiaHQKoECEBSVe66LZYApG60XBgBBBBAIAIBApBw6Hve1VyPwLruqzwCK1yFaY1AdQIEINX50RuBqgWCIPhPz+Ov9rHWXldpAJLNZvc1xlzpD9G21i5b9US4QKoECEBSVW4Wi0CsBQhAYl2eppkcAUjTlIqJIoAAAghUIEAAUgFSWRMCkHBetEYgbQIEIGmrOOuNnUAul3vHOTdc0m7W2l9WGoDkcrndnXM+MHnHWjsidgtjQrEWIACJdXmYHAKpEiAASVW567ZYApC60XJhBBBAAIEIBAhAwqETgITzojUCaRMgAElbxVlv7ASCIChIWlPSj6y1/iyQ0quCR2BdLOn7zrmOQqEQxG5hTCjWAgQgsS4Pk0MgVQIEIKkqd90WSwBSN1oujAACCCAQgQABSDj0vf9wiAvXI9rWP9/6Yr6PjbYEjJ4yAT5wKSs4y42fQBAEP5P0XUmvL1q0KDdv3rw3BwtAgiDwgcnTkpaRdLW11p8FwguBigUIQCqmoiECCNRZgACkzsApuTwBSEoKzTIRQACBlAgQgIQrNAFIOC9aI5A2AQKQtFWc9cZOIAiCDSX92U/MGPOAMWbHOXPm/Ku/O0Da2trWy2QyM3ruGnHFYnHTjo6Oh2O3MCYUawECkFiXh8khkCoBApBUlbtuiyUAqRstF0YAAQQQiECAACQcOgFIOC9aI5A2AQKQtFWc9cZSIAiCiyQdLMnftvmWMeZ259wwSTv5PzPGHFAsFj9ljJkgaXOflfQs5Fpr7b6xXBSTirUAAUisy8PkEEiVAAFIqspdt8USgNSNlgsjgAACCEQgQAASDp0AJJwXrRFImwABSNoqznrjKpAJguBKSXv3THCg51f2fm5/O2LEiJ0ff/zxzrguinnFV4AAJL61YWYIpE2AACRtFa/PeglA6uPKVRFAAAEEohEgAAnnvu/dhzbVGSBXb3UR38eGKzGtEahKgA9cVXx0RqC2Atls9lvGmGMk+cdi9feyxpiz8/n8VbUdnaulSYAAJE3VZq0IxFuAACTe9WmW2RGANEulmCcCCCCAQCUCBCCVKH3QhgAknBetEUibAAFI2irOeptCYM011/zMsGHDNpY0yjn3MefcAmPM65L+Yq2d0xSLYJKxFiAAiXV5mBwCqRIgAElVueu2WAKQutFyYQQQQACBCAQIQMKhE4CE86I1AmkTIABJW8VZLwIIIOAPlnEvN9UtwhQNAQSSK0AAktzaNnJlBCCN1GYsBBBAAIF6CxCAhBP+7t0/aKr/fXvVVj/h+9hwJaY1AlUJ8IGrio/OCNRXYOzYsct3dnYOHzFixJuc9VFf67RdnQAkbRVnvQjEV4AAJL61aaaZEYA0U7WYKwIIIIDAYAIEIIMJffh9ApBwXrRGIG0CBCBpqzjrjbXA2LFjV1q0aNFezrlvSNpI0rJlE37DGPOIc25msVj8ZUdHx8JYL4bJxVqAACTW5WFyCKRKgAAkVeWu22IJQOpGy4URQAABBCIQIAAJh04AEs6L1gikTYAAJG0VZ72xFcjlcgc556ZJGtEzyb4+n723db6YyWT2mTNnzqzYLoiJxVqAACTW5WFyCKRKgAAkVeWu22IJQOpGy4URQAABBCIQIAAJh04AEs6L1gikTYAAJG0VZ72xFAiC4GRJJ5QFH52SnpP0giR/APryzrk1JeUktfS06ywWizt1dHT8LpaLYlKxFiAAiXV5mBwCqRIgAElVueu2WAKQutFyYQQQQACBCAQIQMKh73/PYU11BsjPvvJjvo8NV2JaI1CVAB+4qvjojED1Au3t7eOLxeIjkjLGmHclnbJw4cLp8+fP/++SVx89evQqw4YNO0LSkZJaJb1ljFkrn8+/Uv1MuEKaBAhA0lRt1opAvAUIQOJdn2aZHQFIs1SKeSKAAAIIVCJAAFKJ0gdtCEDCedEagbQJEICkreKsN3YCQRBcLWlvSf6ujy2ttQ8ONskgCCZK+lVPux9ba30gwguBigUIQCqmoiECCNRZgACkzsApuTwBSEoKzTIRQACBlAgQgIQrNAFIOC9aI5A2AQKQtFWc9cZOIAiC+ZI+7Zy7vFAofL/SCeZyuRucc99xznUUCoWg0n60Q8ALEICwDxBAIC4CBCBxqURzz4MApLnrx+wRQAABBD4sQAASbkdM+uPhTfUIrOlbXsj3seFKTGsEqhLgA1cVH50RqF4gCAL/2KulJO1urf1FpVfM5XJ7OOeulfSetXbZSvvRDgECEPYAAgjESYAAJE7VaN65EIA0b+2YOQIIIIDARwUIQMLtCgKQcF60RiBtAgQgaas4642dQBAEf5c0StJB1trplU4wm83ua4y5UtI/rLWfqrQf7RAgAGEPIIBAnAQIQOJUjeadCwFI89aOmSOAAAIIEIBUuwcIQKoVpD8CyRYgAEl2fVldEwgEQXCFpP2MMffn8/kJlU45CILfSPqmpJuttd+ptB/tECAAYQ8ggECcBAhA4lSN5p0LAUjz1o6ZI4AAAggQgFS7BwhAqhWkPwLJFiAASXZ9WV0TCKy55pqfaW1tfVbScsaYafl8/vjBph0EwSRJl/nHX7W0tGz0/PPP+/68EKhYgDNAKqaiIQII1FmAAKTOwCm5PAFISgrNMhFAAIGUCPAIrHCFPvDeI5rqDJDLtriA72PDlZjWCFQlwAeuKj46I1C5QC6XG9lf62Kx+GVjzNWShjnn7nfOnV8sFu+fN2/em7192trals5kMhsaYw5yzn1b0tvOud0LhcJtlc+Clgh0CxCAsBMQQCAuAgQgcalEc8+DAKS568fsEUAAAQQ+LEAAEm5HEICE86I1AmkTIABJW8VZb2QCQRAU/ffOg0zAfybL2/gAZIGk4ZI+XtbXGGPedc6949tba1eJbGEM3JQCBCBNWTYmjUAiBQhAElnWhi+KAKTh5AyIAAIIIFBHAQKQcLgEIOG8aI1A2gQIQIIfL54AACAASURBVNJWcdYbmUBPAFKP8X0A0lKPC3PN5AoQgCS3tqwMgWYTIABptorFc74EIPGsC7NCAAEEEBiaAAFIOLeD7jtysF82DXfBOre+dPPz+T62zsZcHoFyAT5w7AcEGiQQBMF19RrKWrtnva7NdZMpQACSzLqyKgSaUYAApBmrFr85E4DErybMCAEEEEBg6AIEIOHsCEDCedEagbQJEICkreKsFwEEEOAMEPYAAgjESIAAJEbFaOKpEIA0cfGYOgIIIIDARwQIQMJtCgKQcF60RiBtAgQgaas460UAAQQIQNgDCCAQIwECkBgVo4mnQgDSxMVj6ggggAACBCBV7oGDZzXXI7AumcAjsKosOd0RCCVAABKKi8YIIIBAMgR4BFYy6sgqEEiCAAFIEqoY/RoIQKKvATNAAAEEEKidAHeAhLMkAAnnRWsE0iZAAJK2irPeWAuss846y3V2do7u6upatlgstrS2tn7oM+qcM8aYYc654c65FSStI2lHa217rBfG5GInQAASu5IwIQRSK0AAktrS13ThBCA15eRiCCCAAAIRCxCAhCsAAUg4L1ojkDYBApC0VZz1xlIgl8uNLBaLPzbGfEPSsLCTtNa2hO1D+3QLEICku/6sHoE4CRCAxKkazTsXApDmrR0zRwABBBD4qAABSLhdQQASzovWCKRNgAAkbRVnvbETaGtrWzqTyfxVUlbSUD6Tr1trV43dwphQrAUIQGJdHiaHQKoECEBSVe66LZYApG60XBgBBBBAIAIBApBw6IfOOsqF6xFt64smnDeU736inTSjI9DEAnzgmrh4TD0ZAkEQHCzpIn8utaT3Jf1W0t8kfU3SWOfc/caYh51zK2Yymc855zaSlPHtjTHfyefzv5LUlQwNVtEoAQKQRkkzDgIIDCZAADKYEO9XIkAAUokSbRBAAAEEmkWAACRcpQhAwnnRGoG0CRCApK3irDd2Arlc7i7n3FY+/MhkMhvOmTPnGT/JbDZ7qDHmx5L+aK3175de7e3tmxSLxV9IGiXpryNHjtxo1qxZi2K3MCYUawECkFiXh8khkCoBApBUlbtuiyUAqRstF0YAAQQQiECAACQcOgFIOC9aI5A2AQKQtFWc9cZOIAiCVyStIulKa+2k3gnmcrkNnHN/kfTeiBEjVnj88cc7y0KQ8cVi8WFJLc65PQuFwo2xWxgTirUAAUisy8PkEEiVAAFIqspdt8USgNSNlgsjgAACCEQgQAASDv2w/5vcVI/A+vGXz+X72HAlpjUCVQnwgauKj84IVC8QBMG7kpYyxhySz+cv7b3iGmusMXyppZZ6258LUiwWN+zo6HiifLQgCH4taaJz7neFQmH76mfCFdIkQACSpmqzVgTiLUAAEu/6NMvsCECapVLMEwEEEECgEgECkEqUPmhDABLOi9YIpE2AACRtFWe9sRMIguAtScv2nOdx8xIhhz8L5DOS9rHWXrfEe4dI+omkv1tr14jdwphQrAUIQGJdHiaHQKoECEBSVe66LZYApG60XBgBBBBAIAIBApBw6AQg4bxojUDaBAhA0lZx1hs7gSAISiGHc+7wQqHgD0Nf/AqC4A+StjTGnJ/P56eUv5fL5XZxzv3CGPNuPp9fLnYLY0KxFiAAiXV5mBwCqRIgAElVueu2WAKQutFyYQQQQACBCAQIQMKhE4CE86I1AmkTIABJW8VZb+wEgiD4laQdJP3eWvu1JQKQiyV9X9ID1tovL/HekZLOlbTQWrtM7BbGhGItQAAS6/IwOQRSJUAAkqpy122xBCB1o+XCCCCAAAIRCBCAhEM//P4pTXUGyIWbncP3seFKTGsEqhLgA1cVH50RqF4gl8vt55y7QpL/C/sH1tpLeq+azWb3NcZcKamrpaVlveeff/5Z/9748eOHvfXWW09JWkvS36y1Y6qfCVdIkwABSJqqzVoRiLcAAUi869MssyMAaZZKMU8EEEAAgUoECEAqUfqgDQFIOC9aI5A2AQKQtFWc9cZOYOzYsUt1dnZ2SBrVM7mOYrH4HX/o+bhx4z7+/vvvv+ScGy7pDUkXOufeNsbs5XOQntDkamvt/rFbGBOKtQABSKzLw+QQSJUAAUiqyl23xRKA1I2WCyOAAAIIRCBAABIOnQAknBetEUibAAFI2irOemMp0N7ePr5YLN4jaQUfahhjNs7n84/5yQZBMFXS6T1hR/n8jT//wzk33lo7J5YLY1KxFSAAiW1pmBgCqRMgAEldyeuyYAKQurByUQQQQACBiAQIQMLBH/nA0U31CKzzv3Q238eGKzGtEahKgA9cVXx0RqB2AqNHj15lqaWWmuqc+9bSSy+9zjPPPPOf3qsHQfAjSZMlZcpG/I9zbq9CoXB77WbBldIiQACSlkqzTgTiL0AAEv8aNcMMCUCaoUrMEQEEEECgUgECkEqlutsRgITzojUCaRMgAElbxVlv0wq0t7ev4Zzbtlgs/r9MJjO/s7Pzd/PmzXuzaRfExCMVIACJlJ/BEUCgTIAAhO1QCwECkFoocg0EEEAAgbgIEICEqwQBSDgvWiOQNgECkLRVnPUigAAC/nlq7uWmukWYoiGAQHIFCECSW9tGrowApJHajIUAAgggUG8BApBwwpMfPKap/vftuZuexfex4UpMawSqEuADVxUfnRFAAIHmFCAAac66MWsEkihAAJLEqjZ+TQQgjTdnRAQQQACB+gkQgISzJQAJ50VrBNImQACStoqz3sgE2tvbN6nX4HPmzPlTva7NdZMpQACSzLqyKgSaUYAApBmrFr85E4DErybMCAEEEEBg6AIEIOHsCEDCedEagbQJEICkreKsNzKBIAiK/slDdZiAs9a21uG6XDLBAgQgCS4uS0OgyQQIQJqsYDGdLgFITAvDtBBAAAEEhiRAABKOjQAknBetEUibAAFI2irOeiMT6AlA6jG+D0Ba6nFhrplcAQKQ5NaWlSHQbAIEIM1WsXjOlwAknnVhVggggAACQxMgAAnnNuWhY+vxy6bhJhGi9Tlf/BHfx4bwoikC1QrwgatWkP4IVCiQy+VOq7Bp6Gb5fP6E0J3okGoBApBUl5/FIxArAQKQWJWjaSdDANK0pWPiCCCAAAJ9CBCAhNsWBCDhvGiNQNoECEDSVnHWiwACCPhnsbmXm+o3ZCgaAggkV4AAJLm1beTKCEAaqc1YCCCAAAL1FiAACSdMABLOi9YIpE2AACRtFWe9CCCAAAEIewABBGIkQAASo2I08VQIQJq4eEwdAQQQQOAjAgQg4TbFMX86rql+we+sTabxfWy4EtMagaoE+MBVxUdnBBBAoDkFuAOkOevGrBFIogABSBKr2vg1EYA03pwREUAAAQTqJ0AAEs6WACScF60RSJsAAUjaKs56EUAAAe4AYQ8ggECMBAhAYlSMJp4KAUgTF4+pI4AAAgh8RIAAJNymIAAJ50VrBNImQACStoqzXgQQQIAAhD2AAAIIIJAwAYK0hBU0ouUQpEUEz7AIIEAAUuUeIACpEpDuCCRcgAAk4QVmeQgggEBfAjwCi32BAAIIIJAkAQKQJFUzurUQgERnz8gIIPBhAe4ACbcjjmuyM0CmcQZIuALTGoEqBQhAqgSkOwIIINCMAgQgzVg15owAAggg0J8AAQh7oxYCBCC1UOQaCCBQCwECkHCKBCDhvGiNQNoECEDSVnHWiwACCPAILPYAAggggEDCBAhAElbQiJZDABIRPMMigMBHBAhAwm0KApBwXrRGIG0CBCBpqzjrRQABBAhA2AMIIIAAAgkTIABJWEEjWg4BSETwDIsAAgQgVe6BqQ9PdVVeoqHdz/zCmXwf21BxBku7AB+4tO8A1o8AAqkU4BFYqSw7i0YAAQQSK0AAktjSNnRhBCAN5WYwBBAYQIA7QMJtDwKQcF60RiBtAgQgaas460UAAQS4A4Q9gAACCCCQMAECkIQVNKLlEIBEBM+wCCDwEQECkHCbggAknBetEUibAAFI2irOemMvMG7cuI+/9957WxhjxktaWdLy1tpv+4m3tbV9PpPJrGStvSP2C2GCsRbgDpBYl4fJIYAAAgiEFCAACQlG8z4FCEDYGAggEBcBApBwlSAACedFawTSJkAAkraKs97YCowcOXLZESNGTHPO7SdpmZ6J+s+os9a2+H8PguBMScdIet63KxQKj8R2QUws1gIEILEuD5NDAAEEEAgpQAASEozmBCDsAQQQiLUAAUi48hz/5x821Rkgp3/+DL6PDVdiWiNQlQAfuKr46IxAbQTGjBmzcktLy32S2iUt+bksD0BukrRrz6jvG2Mm5vP539dmFlwlTQIEIGmqNmtFAAEEki9AAJL8GjdihdwB0ghlxkAAgUoECEAqUfqgDQFIOC9aI5A2AQKQtFWc9cZRwARB8CdJG/dM7kHn3FWSPmGMOXuJO0C2lHSqpC/0tP1PsVhs7+jo+GccF8ac4itAABLf2jAzBBBAAIHwAgQg4c3o8VEBAhB2BQIIxEWAACRcJQhAwnnRGoG0CRCApK3irDd2Arlcbnfn3HU+6JB0grXWP+ZKuVxue+fcb8oDkN7JB0FwhqTjevqcYq31oQgvBCoWIACpmIqGCCCAAAJNIEAA0gRFaoIpEoA0QZGYIgIpESAACVfoEx9prkdgnboxj8AKV2FaI1CdAAFIdX70RqBqgSAIbpe0raSHrbVf7L3gQAGIbxMEwUM9d4I8aq3tvXuk6vlwgXQIEICko86sEgEEEEiLAAFIWipd33USgNTXl6sjgEDlAgQglVv5lgQg4bxojUDaBAhA0lZx1hs7gSAIXpW0snPu8EKhcFGlAUgulzvMOXeBpP9Za1eM3cKYUKwFCEBiXR4mhwACCCAQUoAAJCQYzfsUIABhYyCAQFwECEDCVYIAJJwXrRFImwABSNoqznpjJxAEwUJJrcaYXfP5/MwQAcguzrlfSHrfWjs8dgtjQrEWIACJdXmYHAIIIIBASAECkJBgNCcAYQ8ggECsBQhAwpXnpEeO948Ub5rXKRufzvexTVMtJpoEAT5wSagia2hqgbI7QI4oFAo/CRGAHOOcmybpNWvtyKZGYPINFyAAaTg5AyKAAAII1FGAAKSOuCm6NHeApKjYLBWBmAsQgIQrEAFIOC9aI5A2AQKQtFWc9cZOIJvN/t4Ys7Wkh6y1X6owAGkJguAZf1a6pD9Ya/0ZIrwQqFiAAKRiKhoigAACCDSBAAFIExSpCaZIANIERWKKCKREgAAkXKEJQMJ50RqBtAkQgKSt4qw3dgJBEOwvabokf8vmFGvt+X6SAxyCngmC4HJJ+/X0OdBae0XsFsaEYi1AABLr8jA5BBBAAIGQAgQgIcFo3qcAAQgbAwEE4iJAABKuEgQg4bxojUDaBAhA0lZx1htHAX83x18lrd0TaPzSOXd1JpNpc85d4v/MWtsaBMFIY8wEf1i6pPX9Qpxzc0eNGrX2rFmzFsVxYcwpvgIEIPGtDTNDAAEEEAgvQAAS3oweHxUgAGFXIIBAXAQIQMJV4pS/nNBUZ4CctNFpfB8brsS0RqAqAT5wVfHRGYHaCARBsKakByWt2hOCDHZh/9n9b7FY3LSjo+O5wRrzPgJLChCAsCcQQAABBJIkQACSpGpGtxYCkOjsGRkBBD4sQAASbkcQgITzojUCaRMgAElbxVlvbAVGjx69ylJLLXWFc+7rS0zS/ybDkp9VH5bsY62dF9sFMbFYCxCAxLo8TA4BBBBAIKQAAUhIMJr3KUAAwsZAAIG4CBCAhKsEAUg4L1ojkDYBApC0VZz1xl6gra1t7Uwms5OkjSWNkvQxSQskvS7pL8Vi8daOjo6HY78QJhhrAQKQWJeHySGAAAIIhBQgAAkJRnMCEPYAAgjEWoAAJFx5Tnu0uR6BdcKGPAIrXIVpjUB1AgQg1fnRGwEEEGhKAQKQpiwbk0YAAQQQ6EeAAIStUQsB7gCphSLXQACBWggQgIRTJAAJ50VrBNImQACStoqzXgQQQMAfNONebqpD4igaAggggAACAwkQgLA/aiFAAFILRa6BAAK1ECAACadIABLOi9YIpE2AACRtFWe9CCCAAAEIewABBBBAIGECBCAJK2hEyyEAiQieYRFA4CMCBCDhNgUBSDgvWiOQNgECkLRVnPXGTiAIgj9UMyljjMvn81+t5hr0TZ8Ad4Ckr+asGAEEEEiyAAFIkqvbuLURgDTOmpEQQGBgAQKQcDvk9EdPbKonHBy/4al8HxuuxLRGoCoBPnBV8dEZgeoFgiAo+l/IH8KVej+/zlrbMoT+dEmxAAFIiovP0hFAAIEEChCAJLCoESyJACQCdIZEAIE+BQhAwm0MApBwXrRGIG0CBCBpqzjrjZ1ATwASdl4+MClIetF3tNZuFfYCtE+3AAFIuuvP6hFAAIGkCRCAJK2i0ayHACQad0ZFAIGPChCAhNsVBCDhvGiNQNoECEDSVnHWG0eBQe/eWGeddYYvXLhwha6urs9mMpldJO0j6U1JE621D8RxUcwp3gIEIPGuD7NDAAEEEAgnQAASzovWfQsQgLAzEEAgLgIEIOEqceZjJw3lqRrhBqlh66kbnML3sTX05FIIDCbAB24wId5HIIYC2Wx2N2PM9ZL+OWzYsHVnz579WgynyZRiLEAAEuPiMDUEEEAAgdACBCChyejQhwABCNsCAQTiIkAAEq4SBCDhvGiNQNoECEDSVnHWmxiBIAhul7SNMea8fD5/dGIWxkIaIkAA0hBmBkEAAQQQaJAAAUiDoBM+DAFIwgvM8hBoIgECkHDFIgAJ50VrBNImQACStoqz3sQIZLPZ7xljLu0+AsS2J2ZhLKQhAgQgDWFmEAQQQACBBgkQgDQIOuHDEIAkvMAsD4EmEiAACVesHz3eXI/AOnY8j8AKV2FaI1CdAAFIdX70RiAygVwut4dz7lpjzLv5fH65yCbCwE0pQADSlGVj0ggggAAC/QgQgLA1aiFAAFILRa6BAAK1ECAACadIABLOi9YIpE2AACRtFWe9iREIguAKSftJesNau3JiFsZCGiJAANIQZgZBAAEEEGiQAAFIg6ATPgwBSMILzPIQaCIBApBwxSIACedFawTSJkAAkraKs95ECARBsKekKyW1SPqDtXbbRCyMRTRMgACkYdQMhAACCCDQAAECkAYgp2AIApAUFJklItAkAgQg4QpFABLOi9YIpE2AACRtFWe9sRMIgmB6JZMyxrRK+phz7nOSRkvyn19njNk1n8/PrOQatEGgV4AAhL2AAAIIIJAkAQKQJFUzurUQgERnz8gIIPBhAQKQcDvirCdOduF6RNv6mPVP5vvYaEvA6CkT4AOXsoKz3PgJBEFQ9EFGyJn1fnZnWmt3CdmX5giIAIRNgAACCCCQJAECkCRVM7q1EIBEZ8/ICCBAAFLNHiAAqUaPvggkX4AAJPk1ZoUxF+gJQMLM0oclTzvnrioUCj+V1BWmM20R8AIEIOwDBBBAAIEkCRCAJKma0a2FACQ6e0ZGAAECkGr2AAFINXr0RSD5AgQgya8xK4y5QFtb25hKptjS0uLvFFnY2tr6xuzZs9+vpA9tEOhPgACEvYEAAgggkCQBApAkVTO6tRCARGfPyAggQABSzR4454lTwj5Vo5rhqu47Zf2T+D62akUugEDlAnzgKreiJQJ1ERg7duyqs2fPfq0uF+eiCPQjQADC1kAAAQQQSJIAAUiSqhndWghAorNnZAQQIACpZg8QgFSjR18Eki9AAJL8GrPCmAsEQXCHpM9KutRaOy3m02V6CREgAElIIVkGAggggEBJgACEjVALAQKQWihyDQQQqIUAh6CHUyQACedFawTSJkAAkraKs97YCQRB4O/++KSkC6y1k2M3QSaUSAECkESWlUUhgAACqRUgAElt6Wu6cAKQmnJyMQQQqEKAACQcHgFIOC9aI5A2AQKQtFWc9cZOIAiCdyUt5Zzbo1Ao3BS7CTKhRAoQgCSyrCwKAQQQSK0AAUhqS1/ThROA1JSTiyGAQBUCBCDh8M57srnOADlqPc4ACVdhWiNQnQABSHV+9EagaoEgCJ6SNE7Sj6y1P6z6glwAgQoECEAqQKIJAggggEDTCBCANE2pYj1RApBYl4fJIZAqAQKQcOUmAAnnRWsE0iZAAJK2irPe2Alks9mvG2NukfSeMWb3fD5/a+wmyYQSJ0AAkriSsiAEEEAg1QIEIKkuf80WTwBSM0ouhAACVQoQgIQDJAAJ50VrBNImQACStoqz3tgJjBkzZuWWlpbtJf1Y0tKS5kh60P9/59x/JS0cbNKFQuHGwdrwPgLlAgQg7AcEEEAAgSQJEIAkqZrRrYUAJDp7RkYAgQ8LEICE2xHnP3WqC9cj2tZHfu5Evo+NtgSMnjIBPnApKzjLjZ9AEARdZbPyn8mwf3E7a21r/FbGjOIsQAAS5+owNwQQQACBsAIEIGHFaN+XAAEI+wIBBOIiQAASrhIEIOG8aI1A2gQIQNJWcdYbO4EgCIpVTsoHIC1VXoPuKRMgAElZwVkuAgggkHABApCEF7hByyMAaRA0wyCAwKACBCCDEn2oAQFIOC9aI5A2AQKQtFWc9cZOIJfL7VftpPL5/JXVXoP+6RIgAElXvVktAgggkHQBApCkV7gx6yMAaYwzoyCAwOACBCCDG5W3IAAJ50VrBNImQACStoqzXgQQQMA/Z829HPZRa03j9sorr+mii67WnXfeq7lzX1BXV5dGjVpVm266kQ44YDdtssmGNVtLoTCvNNY99zygF154SZlMpjTWVlttpkmTdte4cWvVbCwu1FgB9lFjvZM6GvuocZVNWwDy4AXX64tj19c+50zVz+++pWbQbSNX16ETd9dX1vuCVl/lUyoWnV7+1z909+MPa/odN+vZ+YWajRXHCyU5AOHnURx3XPPNiX3UuJoRgISzvvCp05rqf98e/rkT+D42XIlpjUBVAnzgquKjMwIIINCcAkkNQG655ffae+/D9b//vdVvYb7//b31k5+cppaW6p4cd9ll1+rww0/WwoUL+xyrtbVVJ510hI4//vDm3CQpnjX7KMXFr+HS2Uc1xKzgUmkKQI779iSd+d3uv1tqGYB8b7tddeFBx2r4Ukv3Kd65qFOnXP9TnXHj5RVUpDmbJDUA4edRc+7HuM2afdTYihCAhPMmAAnnRWsE0iZAAJK2irPeyAR6zvooGmO+lc/nfxvZRBgYgYTeAXLvvQ9q6613K93x4V/+7ovttttSw4cvrT//+QndddcsOdf9i0E+BLnkkjOHvBeuvXZGKWjpfW2yyQbaYosvlv511qyH9eCDf1n83tlnH68pUw4a8lh0bKwA+6ix3kkdjX3U+MqmJQDZZ+sddOWRp5XuOPSvWgUge37lm7r26B8tLtxDs5/QvU89Uvr3CetspC+NG7/4vSlXnKtzZ1zV+CI3YMQkBiD8PGrAxknBEOyjxheZACScOQFIOC9aI5A2AQKQtFWc9UYm0BOAOGPMDgQgkZWBgXsEknYHyLvvvqtcbjO9+OIrpRUef/xhOvXUKTLmg7/m7rnnfk2cuJ/eeWdBqc29996szTfvDi3CvF577XVls5vq7bffKV3/0kun6Xvf2/NDl7j++l9pn32OKIUx/k6Q2bPvVRCMCTMMbSMQYB9FgJ7AIdlH0RQ1DQHI8bsfqFP2PGRx+OGlaxGArPLxT6hw9Z0asexyKhaLOuiiUzX99ps/VMjdt/yGrpl8hlpbWuXvBBl7wDdVePmFaIpdx1GTFoDw86iOmyVFl2YfRVNsApBw7j/5a3M9AusH6/IIrHAVpjUC1QkQgFTnR28EKhYgAKmYioYNEEhaAHLRRVfpBz84oSTnz9/4wx9u6lPxpptu0W67HVx6z9+18dBDt4bWPuqoU3T++dNL/Q44YHdNn352n9eYNu0iTZ3a/du0u+22g2644eLQY9GhsQLso8Z6J3U09lE0lU1yAOIDiquOOl1f22izj+DWIgA5d9LROmqnfUrX9ud8fO/Ck/ss4rHfPkDTvntE6b0b7r1Ne/zo6GiKXcdRkxaA8POojpslRZdmH0VTbAKQcO4EIOG8aI1A2gQIQNJWcdYbmQABSGT0DNyHQNICkPHjt9ETTzxTWumsWTP15S9/oc+6+0dgjR27uZ5/vvsQ17lz/6Q111y94j3ifzN21VU/p3/+81+lPvPnP6LVV1+tz/7+t+VGjdpA//nPf7XMMsP1z38+o+WWW7bisWjYeAH2UePNkzgi+yiaqiYxAPFncfhg4phd9i/dneFf/3vnbT3R8ZwmrLtR6d+rDUD8nYyv/fJ+rbzi/ytdb/U9vqK/v959N+WSLz+fl2+cpZU+toIWvPeuPrnLpqX/n6RX0gIQfh4laXdGtxb2UTT2BCDh3AlAwnnRGoG0CRCApK3irDcyAQKQyOgZuA+BJAUgPoxYZZV1S+d7rLjiCnrjjWcGPOB88uRTdd553Qe4nnvuCTrqqAMr3iOPPfZXbbjh10rtP/vZdj3zzB8H7LvTTgfoV7+6o9Rm5szp2nHH7Soei4aNFWAfNdY7qaOxj6KrbBIDkL23mqhrpnxwXtXjhdna6+zjtPNmX9XJe3bfzVhtADI+O1aPXTKjdK1n/ma1zvcmDljEGSdcoJ2+9NVSmx1PPUy/fvDu6Ipeh5GTFIDw86gOGySFl2QfRVd0ApBw9hc9fXr3YY9N8jp0neP5PrZJasU0kyHABy4ZdWQVTSBAANIERUrRFJMUgPjDzbfZZvdS9QZ6/FVveWfOvE077/y90r/uvPPXdfPN3WFIJa/LL79OBx54bKnpQI+/6r3WuedepilTTiv9qz8I3R+IziueAuyjeNal2WbFPoquYkkOQP71v//q9Bsv00W33KCuYpdO2vPgmgUgk7bbRZcf1v3Iq4Eef9Vb2aN22lfnTppS+tezb75Sx/zsvOiKXoeRkxSA8POoDhskhZdkH0VXdAKQcPYEIOG8tO29tgAAIABJREFUaI1A2gQIQNJWcdYbmQABSGT0DNyHQJICkPLnEn/ve3vossvOGrDmjz76lDbaqPtOjHXXXVtPPVX5b6+Wn/8xbdpxOvbYQwYca8aM32mXXbrvMNl++6/qlluuYj/GVIB9FNPCNNm02EfRFSyJAcg2G35J666Z02W3/VJvvvPWYtxaBiDl538ce+X5OuuXPxuwiP7uD38XiH/d8qc/aoeTD42u6HUYOUkBCD+P6rBBUnhJ9lF0RScACWdPABLOi9YIpE2AACRtFWe9kQn0BiCS/ilpQQ0n4qy1Y2p4PS6VAoEkBSBTp07TtGndB4yffvrR+uEPDxuwgi+//KpWW22DUptVV11Zr776ZMUV9weo+4PU/ev66y/S7rt/a8C+Dz30qDbdtPtxIp///Pp6+OHfVTwWDRsrwD5qrHdSR2MfRVfZJAYg/WnWMgC54diztdsWXy8NtfuPjtaN9942YBE3WXs9PXThDaU2Dz/3lDY5fLfoil6HkZMUgPDzqA4bJIWXZB9FV3QCkHD2BCDhvGiNQNoECEDSVnHWG5lAWQBSyzn4z7APQFpqeVGulXyBJAUgBx88VT/96c9LRTv//JN0xBGTBiygP5R8pZXGltr4w8kXLJhbccG3225P3XHHvaX2v/71z7TDDtsO2PfJJ5/V+ut3Pyt9rbWyeu65WRWPRcPGCrCPGuud1NHYR9FVlgBkaPa3nXapttv4y6XOO5xyqG55aOCzrT43Zi09eemvSu2fe2Guxh7wjaENHNNeSQpA+HkU003WZNNiH0VXMAKQcPaXPHNGU50BcvC4H/J9bLgS0xqBqgT4wFXFR2cEKhcoC0Bq/bkjAKm8DLTsEUhSALL//pN15ZU3lVZ26aXTdOCBew1Y5/fee0/LLNN901Qmk1FX14sV74uvfGVX/fGPD5ba33nn9dpmm80H7DtnTofWWqv7i6U111xdc+f+qeKxaNhYAfZRY72TOhr7KLrKEoAMzf7uH12pr6z/hVLnbaZO0l2Pdf8d198r9+nRmnPl7aW3577yd7Xts83QBo5pryQFIPw8iukma7JpsY+iKxgBSDh7ApBwXrRGIG0Ctf4iNm1+rBeBigU4A6RiKho2QCBJAcikSUfriiu6H8cRNgBpaWnRokV/r1h8662/o7vvvr/UPmwAMmbMGuroeKjisWjYWAH2UWO9kzoa+yi6yhKADM3+rmlXaOvxXyx1DhuAdLz8d2X3JQAZmnz9e/HzqP7GaRiBfRRdlQlAwtkTgITzojUCaRMgAElbxVlvZAIEIJHRM3AfAkkKQI488mRdcMEVpVVecMHJOvzwAwasefkjsJZbblm9/Xah4j3yrW/tr9/85s5S+9/85kpNnDjwFz/lj8AaOzanZ5/tfnwWr/gJsI/iV5NmnBH7KLqqEYAMzf5XJ/5Y39p0q1LniScfqlv/VPkjsJ6dX9C4SdsPbeCY9krSHSD8PIrpJmuyabGPoisYAUg4+0ub7BFYB/EIrHAFpjUCVQoQgFQJSHcEKhUgAKlUqjHtJkyY0Prqq6/u6pz7pqQNJa3cM/IbkmY7537vnPt5R0fH/xozow+PEgTBfEmrSzrFWntyreeQpADkxBPP0WmnXVgiOuOMYzR16g8G5Co/BH3kyFX18suPV8y7114/0HXXdT/7/IYbLtZuu+0wYN/yQ9A32WQDPfTQrRWPRcPGCrCPGuud1NHYR9FVlgBkaPY/nzJNe23VHWLsNm2Kbrqv+/FW/b3KD0F/aPYT2vSIPYY2cEx7JSkA4edRTDdZk02LfRRdwQhAwtkTgITzojUCaRMgAElbxVlvZAIEIJHRf2Tg9vb2ccVi8ReS1h5kVv80xhycz+dnNHr2BCCVi1922bU66KDjSh0OPngfXXzxGQN2/stfntTGG3+91Gb8+HX02GPdd3RU8jr22DN11lmXlJqec84Jmjz5wAG73Xzzb7XrrgeV2uy449c0c2b3nSq84ifAPopfTZpxRuyj6KpGADI0+2nfPULHfrv7zsnJ08/ReTOvHvBCO2+2jW4+/vxSm5kP3KWdTztiaAPHtFeSAhB+HsV0kzXZtNhH0RWMACScPQFIOC9aI5A2AQKQtFWc9UYmQAASGf2HBs7lciOdc/5X/leV9A9JZ2UymXskvdLS0uK6urpGFYvFrSUdK+kTkrqcc9sXCoWBfyWyxssjAKkc9IEHHtFmm32r1GG77bbUbbddO2DnGTN+p1126Q4uvvOdibrxxu5Ao5LXddfN1F57HVZqWknYcs45l+roo08vtT/uuEN05pndQQ2v+Amwj+JXk2acEfsouqoRgAzNfo8tv6Hrjjmr1PniW2/QoZcM/EsEk3f+rs45YHKp/Zk3TdcPr+6+AzMpryQFIPw8SsqujHYd7KPo/AlAwtkTgITzojUCaRMgAElbxVlvZAIEIJHRf2jgXC73Y+ecf0bSvxYtWrT+vHnz+jwBe6211sp2dXU9KmkF51yhUCi0Syo2ahUEIJVL//e/b2qllcbKOaeVV/6EXnvtKRnT/19v5c8yPvfcE3TUUQPfxVE+k6effk7rrtv9rPQNNlhXjz56x4ATLT8zZObM6dpxx+0qXxgtGyrAPmood2IHYx9FV1oCkKHZjxsd6OnLbyl1fjT/jDY6dNcBL1R+ZsiOpx6mXz9499AGjmmvJAUg/DyK6SZrsmmxj6IrGAFIOPvLnj3ThesRbesDPzuV72OjLQGjp0yAD1zKCs5yoxMgAInOvnzkIAjmSRot6SJr7YCHRWSz2SnGmLN9f2PMhvl8/rFGrYIAJJy0vwPE/4aafz3yyG3aaKP1+ryAD0nWWuvLyufnlt73h5L7w8krffn+o0d/Xi+88JJaWlr04ouP6lOfWqXP7gsWvKtRo8bL/w/HYcOG6fXX/6oVV1yh0qFoF4EA+ygC9AQOyT6KpqgEIEN3/9u1d2uNVUdpUdcifXr3LfTav/1xaB99LbP0cL184336+IgV9H5np1beZVO9+c5bQx84hj2TFIB4Xn4exXCTNeGU2EfRFI0AJJw7AUg4L1ojkDYBApC0VZz1RibQ1tb2ZT94a2vrs3PmzPlXZBNJ+cBBELwrabikn1lrux963c+rra1t7Uwmc5OkN4rF4vEdHR0Plzdta2sb29LSMsk552v7GUkjJPlD0zsk3Tls2LCfzJ49+9/9XD4TBMHOzrkDjTH+LJLlJD1vjLksn89fFQTB3zgEvfLNWv584m233UJ33HFdn51vuOHX2mOPQ0vvVXIHR18XKT8H5MAD99Sll/6oz7HOOOPHOv74Un6mnXbaTjNmTK98QbSMRIB9FAl74gZlH0VTUgKQobuXnwNy6e9+oe9fdGqfF5v6ne/pjH27HwM54/67tMvpyTr/w68raQEIP4+G/rmg5wcC7KNodgMBSDh3ApBwXrRGIG0CBCBpqzjrRSDlAkEQPCdpLUnvFIvFL3V0dDw5FJIgCE6S5P9voJ+jL3Z1dX1x7ty5L5aPMXLkyGVHjBjxC+fcN/oZ2x/Q/kVJn5Z0irX25KHMcaA+zr3cVLcID7b+9957T5/97JaaO3d+qekPfrCfzjvvRB84Lu56zz33a+LE/fTOOwtKf3b77dfqa1/bcrBLf+T9119/Q7ncZqU7O/zr7LOP15Qp3Qed9778WSH77nukurq6SneKPPnkXRo3zm87XnEWYB/FuTrNMzf2UTS1IgAZuvsnV1xJ+StvL93Z4V9TrjhX58646kMX9GeFXD35DLW2tJbuFFnvoB317PzC0AeNac+kBSD8PIrpRmuyabGPoikYAUg49+mzpzXV/76dNPY4vo8NV2JaI1CVAB+4qvjojAACzSaQy+WOds51n/YpdUr6jTFmpjHm3krvzMnlcjs552b0XONuY8w0Sfmef885547y53H7fzfGXJ3P579b7hQEwTWS9u75sytaWlp+4px71Tm3rnPOnz76+bL2BCAVbrJ7731Q22yzhzo7fVmlbHa0Jk7cRssvv5weeeQJ3XnnfaVzQvzrgAN21/Tp3XdnlL+uueaXpeCi9+Xcy32Ofu21M7T33ocvfm+99T6rbbfdvBS43HffnxY/jss3OOOMYzR16oBPW6twhTRrhAD7qBHKyR+DfdT4GhOA9G2+91YTdc2UMxe/abb2N51+9LXnV76pa4/+4I7GJwrP6c5HH9Ciri5t/rmNtNm4DRZ3mnrVhZr2i2Te1Zi0AMQXjZ9Hjf95lMQR2UeNryoBSDhzApBwXrRGIG0CBCBpqzjrRSDlAhMmTGh95ZVXfitp2yUonHNutqQHMpnMfZ2dnX+YN29e96/4L/EKguAvkjaUNLtYLI7v6OhYuESTTC6Xe9Q5t76kV621I3vfb29vH18sFv3h6sYYc04+nz+6vO8aa6wxfKmllrqvLAQhAAmxZ2+99a5SMPHmm/5JZH2/Jk3aXT/96bTSnRlLvioNQHy/yy+/TocffrL8b8X19cpkMjrxxCN00kkfBCohlkLTCAXYRxHiJ2ho9lFji0kA0rd3pQGI7z1pu1104YHHyp/10dfL39V46g2X6tTrf9rY4jZwtCQGIJ6Pn0cN3EQJHop91NjiEoCE8yYACedFawTSJkAAkraKs14EEPACLblc7ijn3HGSVuyHpNMY89tFixYdO3fuXH+mR+/Ln91xvKQxxpjb8/n8zX31z2azFxhj/C0Ci6y1w3rb5HK5c5xzk/1ZIQsWLFj1pZde8meSfOjV1tb2+Uwm03veCAFIyD37j3/8UxdffLVuu+0e/e1vL+rdd9/TKqt8QptssoH8mR0TJmzS7xXDBCD+IvPmvVAa6667/k9///vL6uxcpFGjVtWECV/QIYfsK39nCK/mFGAfNWfd4jZr9lHjKkIA0rd1mADEX2H0qqvpkO1301fHb6rPrPwpDWtt1ctv/EOznn5UF996o56a+3zjihrBSEkNQDwlP48i2FAJHJJ91LiiEoCEs/7Zc831CKz91+YRWOEqTGsEqhMgAKnOj94IINDEAqutttoyyyyzjL8TZDtjzBaS1uhjOQudc98tFAo3VrjUzFprrbV2V1fX6ZK2932stYt/1uZyucf9nSHOud8WCoXS+329giB4VdKqnAFSoTrNEEAAAQRSLZCmACTVha7z4pMcgNSZjssjgECNBQhAwoESgITzojUCaRMgAElbxVkvAgj0KzBmzJhPt7S0TDDGbOOc+6ak5XsaL3LObVooFB4p7zx69OhVWltbt8xkMms758ZIaus5YH258nblAUgQBK9L+qSk8621/qyQPl/ZbPY+Y8wEAhA2LAIIIIAAAoMLEIAMbkSLwQUIQAY3ogUCCDRGgAAknDMBSDgvWiOQNgECkLRVnPUigEBFAmPHjl2ps7PzPEn7+A7ld2z4czqWXnrpC5xzB/jHaS1xQX8ghH98lf/zzfx7SwQg70saZow5PZ/Pn9DfZIIguKXnDhIegVVRxWiEAAIIIJBmAQKQNFe/dmsnAKmdJVdCAIHqBAhAwvkRgITzojUCaRMgAElbxVkvAikWyOVyu0jawDn3trX21Eooyg48/4e11j+SSmXhhP9X/0irOzKZzLOZTOa5VVZZZc6sWbMW5XK5051zP+wjAHlN0iqSLrDW9ns6dhAEd0rahjtAKqkSbRBAAAEE0i5AAJL2HVCb9ROA1MaRqyCAQPUCBCDhDK987kcuXI9oW++39rF8HxttCRg9ZQJ84FJWcJaLQJoFstnsDGPMTpLeGTZs2EqzZ8/2d2MM+Co/tNxau0J7e/smxWLxId/JGPOTfD5/WF8XyOVylznnvtdHAOIfo7WRpDuttV/rb/AgCPI+ayEAGaxCvI8AAggggIBEAMIuqIUAAUgtFLkGAgjUQoAAJJwiAUg4L1ojkDYBApC0VZz1IpBigVwud5hz7kJP4Jw7sFAoXD4YRxAEv5E00RjzcD6f3ySbzU42xpzj+xWLxc92dHTM7uMamSAInu8JMPwjsPzjsIq+XRAEJ0s6SdK777///sj58+f/d8n+bW1tYzKZTMFnLAQgg1WI9xFAAAEEECAAYQ/URoAApDaOXAUBBKoXIAAJZ0gA8oFXe3v7uGKxeLSkzSWtLOlfkh4zxlySz+d/H062/9brrLPOcu++++6Txphsvb63qNVcuQ4CBCDsAQQQSI1Az7keHZI+boxZ0NXVtUNHR8cf+gMIgsDfofE7SRlJe1trr83lcoc75y7wfYwxu+Tz+RlL9g+C4BRJJ/b++fvvv7/M/Pnz/dkgGjNmTFtLS8tz/hwQSddYa/ddon8mm83+xhjjD2H3L84ASc0OZaEIIIAAAkMV4A6QocrRr1yAAIT9gAACcREgAAlXiaufb65HYO27Vn0egZXL5b7pnJvZ833DRxAHeopFOHGp/KkX9freIuycaI9AfwIEIOwNBBBIlUBbW9vWmUzGhxpL9Sz8VmPMjZlM5snW1tY33nnnnRGtra2flfRtSbv5w8yNMb/L5/M7SOpqa2sbm8lknum5O+N1Y8yRXV1d/9fS0lI0xvjftDhE0tfLUYvF4sodHR3/7P2zbDZ7qjGm9wB0H3ac2draOm/hwoVBJpPxd4f4sz+6eg5SJwBJ1Q5lsQgggAACQxEgABmKGn2WFCAAYU8ggEBcBAhAwlWCAERqa2tbL5PJ+Md1LyPp0WKxOKW1tfVZ59zonvNJJ/aoHmKtvSSc8IdbZ7PZ7Ywxt5X9aV2+t6hmjvRFoFyAAIT9gAACqRMIgmBLSZdJahtk8f4gtSsXLFjwg5deeund3rZBEEyTdOwAfd+U9DNJR/k2mUzmi3PmzPlTWXv/iKyLJH2/n2vc3hPQbFWv36Rw7uWmOiQudZuUBSOAAAIIhBIgAAnFReN+BAhA2BoIIBAXAQKQcJUgACk9btsHEttJ6hg2bNh6s2fPfrtM0QRB8EtJO/tHYhljRufz+bfCKXe3bmtr+2TPL4WuUtafAGQomPRpmAABSMOoGQgBBOIkMHbs2KU6Ozu/1XO3xYaSPilpRUn/k/SSpD8Wi8UbOjo6nuhr3rlcbifn3EGS1pc0QtLbxpi5zrnf+2drvvXWW/9dfvnlX+t57zxr7eQlr5PNZrcyxvhD1P01Pu6c6zDG+MdiXZjNZm83xnyVACROu4a5IIAAAgjEVYAAJK6Vaa55EYA0V72YLQJJFiAACVfdtAcgQRC0S/LnkPrzTr9bKBSuXlJwzJgxn25paZnf84jvfay1Pw+n3N06CIJbJG3vH+ktaZ+eaxCADAWTPg0TIABpGDUDIYAAAvER4A6Q+NSCmSCAAAIIVC9AAFK9IVeQCEDYBQggEBcBApBwlfj5nLOa6gkHe7cfU9PvY4MgOELS+T7/8AefW2vf6EswCILHJI2XdIu11j/mO9Qrl8vt55zzT7t4oVgsrpPJZPzTL/yLACSUJI0bLVDTD1yjJ894CCCAAAJDEyAAGZobvRBAAAEE4ilAABLPujTbrAhAmq1izBeB5AoQgISrLQFI4O/m2EvSfGvt6P70giC4QtL+kl601n4mjHJbW9uYTCbzlKTlMpnMFnPmzJkVBEFv8EQAEgaTtg0XIABpODkDIoAAAtELEIBEXwNmgAACCCBQOwECkNpZpvlKBCBprj5rRyBeAgQg4epBABL8n6TNJN1nrd2iP71sNnu8MeY0f6fIyJEjl5o1a9aiCqVbcrncA865LzjnLiwUCv6OE/84LAKQCgFpFq0AAUi0/oyOAAIIRCJAABIJO4MigAACCNRJgACkTrApuywBSMoKznIRiLEAAUi44lw75+ymegTWXu1H1/T72CAIZktaW9KvrbU7DhCAHGqM+UnP+5/s71FZS/YvC06ef//999efP3/+ewQg4fYoraMVqOkHLtqlMDoCCCCAQKUCBCCVStEOAQQQQKAZBAhAmqFK8Z8jAUj8a8QMEUiLAAFIuEoTgARzJa3pnLuhUCjs0Z9eEAT+8Vf+MVgqFouf7ujoeGkw6fb29vHFYvFhSSaTyXx+zpw5j/f24Q6QwfR4Py4CBCBxqQTzQAABBBooQADSQGyGQgABBBCouwABSN2JUzEAAUgqyswiEWgKAQKQcGVKewCSzWatMSZb6wBktdVWW2bZZZd9QlK7pJOttaeUV4YAJNw+pXV0AgQg0dkzMgIIIBCZAAFIZPQMjAACCCBQBwECkDqgpvCSBCApLDpLRiCmAgQg4QqT9gAkCIInJX3OGPOrfD6/U3962Wx28SOwMpnMJ+bMmfOvgaSDILhY0sGSHh05cuQmS54ZQgASbp/SOjoBApDo7BkZAQQQiEyAACQyegZGAAEEEKiDAAFIHVBTeEkCkBQWnSUjEFMBApBwhbk+31xngOyRq+0ZINls9j5jzARJ91hrt+pPL5fLneCcO1VSl7V2Kf8krP7atre3f7VYLP5ekj/vYz1r7Zwl2xKAhNuntI5OgAAkOntGRgABBCITIACJjJ6BEUAAAQTqIEAAUgfUFF6SACSFRWfJCMRUgAAkXGHSHoAEQXC5pEnOuUKhUAj60wuCwJ//sb8x5u/5fH71gZSDILhG0t7hKiFlMpnRc+bMmR+2H+0RqKcAAUg9dbk2AgggEFMBApCYFoZpIYAAAggMSYAAZEhsdFpCgACELYEAAnERIAAJVwkCkOAQSRf5OzuKxeJKHR0d/+tLMJfLPe6cW1/SrdbaiQQg4fYZrZtXgACkeWvHzBFAAIEhCxCADJmOjggggAACMRQgAIlhUZpwSgQgTVg0poxAQgUIQMIV9kZ7jgvXI9rWuwVTavp9bBAEa0qa61flnNutUCjctOQKx4wZ8+mWlhZ/Z0bGOXdQoVC4bCCFtra2pZdeeulhA7Xp7Ox8q+f9acOGDTvT//Ps2bPf8dOIVpjREfiwQE0/cOAigAACCDSHAAFIc9SJWSKAAAIIVCZAAFKZE60GFiAAYYcggEBcBAhAwlUi7QGI1wqC4AFJm/rHYHV1dW04b968N8sUTRAEv5S0s6Q3hg8fvsbTTz/tg4qqXpwBUhUfnRsoQADSQGyGQgABBOIiQAASl0owDwQQQACBWggQgNRCkWsQgLAHEEAgLgIEIOEqQQAi5XK5DZxzj/g7PCQ9UywWJ2cymSeKxeJnMpnM8ZJ26FE9xFp7Sa9wEASjJP2x599/Y609rlJ9ApBKpWgXtQABSNQVYHwEEEAgAgECkAjQGRIBBBBAoG4CBCB1o03VhQlAUlVuFotArAUIQMKV56bCuU31yKXvZCfX5fvYbDa7jzHGH3Te2o/g+dbao8rfa29vX6NYLP6t589+bq3dp1J9ApBKpWgXtUBdPnBRL4rxEUAAAQQGFiAAYYcggAACCCRJgAAkSdWMbi0EINHZMzICCHxYgAAk3I4gAPnAq729fVyxWJwiaXNJq0h6W9JjxphL8vn8rUvKEoCE22u0bk4BApDmrBuzRgABBKoSIACpio/OCCCAAAIxEyAAiVlBmnQ6BCBNWjimjUACBQhAwhWVACScF60RSJsAAUjaKs56EUAAAUkEIGwDBBBAAIEkCRCAJKma0a2FACQ6e0ZGAIEPCxCAhNsRBCDhvGiNQNoECEDSVnHWiwACCBCAsAcQQAABBBImQACSsIJGtBwCkIjgGRYBBD4iQAASblP8ssnOANm1TmeAhFOjNQLpESAASU+tWSkCCCCwWIA7QNgMCCCAAAJJEiAASVI1o1sLAUh09oyMAAIfFiAACbcjCEDCedEagbQJEICkreKsFwEEEOAOEPYAAggggEDCBAhAElbQiJZDABIRPMMigMBHBAhAwm0KApBwXrRGIG0CBCBpqzjrRQABBAhA2AMIIIAAAgkTIABJWEEjWg4BSETwDIsAAgQgVe6BGR3nuSov0dDuO7cdxfexDRVnsLQL8IFL+w5g/QggkEoBHoGVyrKzaAQQQCCxAgQgiS1tQxdGANJQbgZDAIEBBLgDJNz2IAAJ50VrBNImQACStoqzXgQQ+P/s3Xmc1PT9x/FPZncV1Kq1HghewG4GRGsVtEop4oUorYIoVvDAg8Mb5BApKh5IBTwqKojigaIVULGilqpIVbQWBX8qymQWBRW0Hq0Hl+7O5PdIdqEDuzvMd2eSTPJ95Z8W95vvN9/n5zNbO2+SIMAdIPQAAggggEDEBAhAIlbQgLZDABIQPMsigEAdAQIQtaYgAFHzYjQCugkQgOhWcfaLAAIIEIDQAwgggAACERMgAIlYQQPaDgFIQPAsiwACBCB59gABSJ6AnI5AxAUIQCJeYLaHAAII1CfAI7DoCwQQQACBKAkQgESpmsHthQAkOHtWRgCBzQW4A0StI2YvvzVU7wA5tfUVfB+rVmJGI5CXAB+4vPg4GQEEEAinAAFIOOvGVSOAAAII1C9AAEJnFEKAAKQQisyBAAKFECAAUVMkAFHzYjQCugkQgOhWcfaLAAII8AgsegABBBBAIGICBCARK2hA2yEACQieZRFAoI4AAYhaUxCAqHkxGgHdBAhAdKs4+0UAAQQIQOgBBBBAAIGICRCARKygAW2HACQgeJZFAAECkDx74MmQPQLrFB6BlWfFOR0BNQECEDUvRiOAAAKREOARWJEoI5tAAAEEEKgVIAChFQohQABSCEXmQACBQghwB4iaIgGImhejEdBNgABEt4qzXwQQQIA7QOgBBBBAAIGICRCARKygAW2HACQgeJZFAIE6AgQgak1BAKLmxWgEdBMgANGt4uwXAQQQIAChBxBAAAEEIiZAABKxgga0HQKQgOBZFgEECEDy7AECkDwBOR2BiAsQgES8wGwPAQQQqE+AR2DRFwgggAACURIgAIlSNYPbCwFIcPasjAACmwtwB4haRzz10W222hnBju7ZagjfxwZbAlbXTIAPnGYFZ7sIIICAI0AAQh8ggAACCERJgAAkStUMbi8EIMHZszICCBCA5NMDBCD56HEuAtEXIACJfo3ZIQIIIFBHgACEpkC5N/iCAAAgAElEQVQAAQQQiJIAAUiUqhncXghAgrNnZQQQIADJpwcIQPLR41wEoi9AABL9GrNDBBBAgACEHkAAAQQQiLQAAUiky+vb5ghAfKNmIQQQ2IoAj8BSa5GnP749VI/AOrnlYL6PVSsxoxHIS4APXF58nIwAAgiEU4A7QMJZN64aAQQQQKB+AQIQOqMQAgQghVBkDgQQKIQAAYiaIgGImhejEdBNgABEt4qzXwQQQIB3gNADCCCAAAIREyAAiVhBA9oOAUhA8CyLAAJ1BAhA1JqCAETNi9EI6CZAAKJbxdkvAgggQABCDyCAAAIIREyAACRiBQ1oOwQgAcGzLAIIEIDk2QN/DdkjsE7iEVh5VpzTEVATIABR82I0AgggEAkBHoEViTKyCQQQQACBWgECEFqhEAIEIIVQZA4EECiEAHeAqCkSgKh5MRoB3QQIQHSrOPtFAAEEuAOEHkAAAQQQiJgAAUjEChrQdghAAoJnWQQQqCNAAKLWFAQgal6MRkA3AQIQ3SrOfhFAAAECEHoAAQQQQCBiAgQgEStoQNshAAkInmURQIAAJM8eIADJE5DTEYi4AAFIxAvM9hBAAIH6BHgEFn2BAAIIIBAlAQKQKFUzuL0QgARnz8oIILC5AHeAqHXEMyv+bKudEezo3+93Od/HBlsCVtdMgA+cZgVnuwgggIAjQABCHyCAAAIIREmAACRK1QxuLwQgwdmzMgIIEIDk0wMEIPnocS4C0RcgAIl+jdkhAgggUEeAAISmQAABBBCIkgABSJSqGdxeCECCs2dlBBAgAMmnBwhA8tHjXASiL0AAEv0as0MEEECAAIQeQAABBBCItAABSKTL69vmCEB8o2YhBBDYigCPwFJrkWdX3BGqR2B13+8yvo9VKzGjEchLgA9cXnycjAACCIRTgDtAwlk3rhoBBBBAoH4BAhA6oxACBCCFUGQOBBAohAABiJoiAYiaF6MR0E2AAES3irNfBBBAgHeA0AMIIIAAAhETIACJWEED2g4BSEDwLIsAAnUECEDUmoIARM2L0QjoJkAAolvF2S8CCCBAAEIPIIAAAghETIAAJGIFDWg7BCABwbMsAggQgOTZAwQgeQJyOgIRFyAAiXiB2R4CCCBQnwCPwKIvEEAAAQSiJEAAEqVqBrcXApDg7FkZAQQ2F+AOELWOeG5luN4BcuK+vANErcKMRiA/AQKQ/Pw4GwEEEAilAAFIKMvGRSOAAAIINCBAAEJrFEKAAKQQisyBAAKFECAAUVMkAFHzYjQCugkQgOhWcfaLAAII8AgsegABBBBAIGICBCARK2hA2yEACQieZRFAoI4AAYhaUxCAqHkxGgHdBAhAdKs4+0UAAQQIQOgBBBBAAIGICRCARKygAW2HACQgeJZFAAECkDx74G+fTLLznMLX07vtcynfx/oqzmK6C/CB070D2D8CCGgpwCOwtCw7m0YAAQQiK0AAEtnS+roxAhBfuVkMAQSyCHAHiFp7EICoeTEaAd0ECEB0qzj7RQABBLgDhB5AAAEEEIiYAAFIxAoa0HYIQAKCZ1kEEKgjQACi1hQEIGpejEZANwECEN0qzn4RQAABAhB6AAEEEEAgYgIEIBEraEDbIQAJCJ5lEUCAACTPHpj3yZ2hegTW8ftcwvexedac0xFQEeADp6LFWAQQQCAiAjwCKyKFZBsIIIAAAq4AAQiNUAgBApBCKDIHAggUQoA7QNQUCUDUvBiNgG4CBCC6VZz9IoAAAtwBQg8ggAACCERMgAAkYgUNaDsEIAHBsywCCNQRIABRawoCEDUvRiOgmwABiG4VZ78IIIAAAQg9gAACCCAQMQECkIgVNKDtEIAEBM+yCCBAAJJnDxCA5AnI6QhEXIAAJOIFZnsIIIBAfQI8Aou+QAABBBCIkgABSJSqGdxeCECCs2dlBBDYXIA7QNQ64u+fhusdIF335h0gahVmNAL5CRCA5OfH2QgggEAoBQhAQlk2LhoBBBBAoAEBAhBaoxACBCCFUGQOBBAohAABiJoiAYiaF6MR0E2AAES3irNfBBBAgEdg0QMIIIAAAhETIACJWEED2g4BSEDwLIsAAnUECEDUmoIARM2L0QjoJkAAolvF2S8CCCBAAEIPIIAAAghETIAAJGIFDWg7BCABwbMsAggQgOTZAy9+eped5xS+nn7s3hfzfayv4iymuwAfON07gP0jgICWAjwCS8uys2kEEEAgsgIEIJEtra8bIwDxlZvFEEAgiwB3gKi1BwGImhejEdBNgABEt4qzXwQQQIA7QOgBBBBAAAEEEECgjgBBGk1RCAGCtEIoMgcBiFoPEICoeTEaAd0ECEB0qzj7RQABBAhA6AEEEEAAAQQQQIAAhB7wRIAAxBNW7SYlAFErOQGImhejEdBNgABEt4qzXwQQQIAAhB5AAAEEEEAAAQQIQOgBTwQIQDxh1W5SAhC1kr/02d2hegfIMXtdxPexaiVmNAJ5CfCBy4uPkxFAAIFwCvAOkHDWjatGAAEEEEAAAe8EeASWd7Y6zUwAolO1vdsrAYiaLQGImhejEdBNgABEt4qzXwQQQIA7QOgBBBBAAAEEEECgjgABCE1RCAECkEIoMgcBiFoPEICoeTEaAd0ECEB0qzj7RQABBAhA6AEEEEAAAQQQQIAAhB7wRIAAxBNW7SYlAFEr+fxV4XoE1tEteASWWoUZjUB+AgQg+flxNgIIIBBKAR6BFcqycdEIIIAAAggg4KEAd4B4iKvR1AQgGhXbw60SgKjhEoCoeTEaAd0ECEB0qzj7RQABBLgDhB5AAAEEEEAAAQTqCBCA0BSFECAAKYQicxCAqPUAAYiaF6MR0E2AAES3irNfBBBAgACEHkAAAQQQQAABBAhA6AFPBAhAPGHVblICELWSE4CoeTEaAd0ECEB0qzj7RQABBAhA6AEEEEAAAQQQQIAAhB7wRIAAxBNW7SYlAFEr+YJVk221M4Id3aXFhXwfG2wJWF0zAT5wmhWc7SKAAAKOAO8AoQ8QQAABBBBAAIHNBXgEFh1RCAECkEIoMgcBiFoPEICoeTEaAd0ECEB0qzj7RQABBAhA6AEEEEAAAQQQQKCOAAEITVEIAQKQQigyBwGIWg8QgKh5MRoB3QQIQHSrOPtFAAEECEDoAQQQQAABBBBAgACEHvBEgADEE1btJiUAUSv5P1ZPCdUjsI5sPojvY9VKzGgE8hLgA5cXHycjgAAC4RTgEVjhrBtXjQACCCCAAALeCXAHiHe2Os1MAKJTtb3bKwGImi0BiJoXoxHQTYAARLeKs18EEECAO0DoAQQQQAABBBBAoI4AAQhNUQgBApBCKDIHAYhaDxCAqHkxGgHdBAhAdKs4+0UAAQQIQOgBBBBAAAEEEECAAIQe8ESAAMQTVu0mJQBRK/mrIXsE1m95BJZagRmNQJ4CBCB5AnI6AgggEEYBHoEVxqpxzQgggAACCCDgpQB3gHipq8/cBCD61NrLnRKAqOkSgKh5MRoB3QQIQHSrOPtFAAEEuAOEHkAAAQQQQAABBOoIEIDQFIUQIAAphCJzEICo9QABiJoXoxHQTYAARLeKs18EEECAAIQeQAABBBBAAAEECEDoAU8ECEA8YdVuUgIQtZITgKh5MRoB3QQIQHSrOPtFAAEECEDoAQQQQAABBBBAgACEHvBEgADEE1btJiUAUSv5a5/fY6udEezoTnsO5PvYYEvA6poJ8IHTrOBsFwEEEHAEeAcIfYAAAggggAACCGwuwCOw6IhCCBCAFEKROQhA1HqAAETNi9EI6CZAAKJbxdkvAgggQABCDyCAAAIIIIAAAnUECEBoikIIEIAUQpE5CEDUeoAARM2L0QjoJkAAolvF2S8CCCBAAEIPIIAAAggggAACBCD0gCcCBCCesGo3KQGIWskXfjE1VI/A+k2zAXwfq1ZiRiOQlwAfuLz4OBkBBBAIpwCPwApn3bhqBBBAAAEEEPBOgDtAvLPVaWYCEJ2q7d1eCUDUbAlA1LwYjYBuAgQgulWc/SKAAALcAUIPIIAAAggggAACdQQIQGiKQggQgBRCkTkIQNR6gABEzYvRCOgmQACiW8XZLwIIIEAAQg8ggAACCCCAAAIEIPSAJwIEIJ6wajcpAYhayQlA1LwYjYBuAgQgulWc/SKAAAIEIPQAAggggAACCCBAAEIPeCJAAOIJq3aTEoColfyNkL0D5AjeAaJWYEYjkKcAAUiegJyOAAIIhFGAd4CEsWpcMwIIIIAAAgh4KcAjsLzU1WduAhB9au3lTglA1HQJQNS8GI2AbgIEILpVnP0igAAC3AFCDyCAAAIIIIAAAnUECEBoikIIEIAUQpE5CEDUeoAARM2L0QjoJkAAolvF2S8CCCBAAEIPIIAAAggggAACBCD0gCcCBCCesGo3KQGIWsn/+e97bbUzgh19+B79+T422BKwumYCfOA0KzjbRQABBBwBHoFFHyCAAAIIIIAAApsLcAcIHVEIAQKQQigyBwGIWg8QgKh5MRoB3QQIQHSrOPtFAAEECEDoAQQQQAABBBBAoI4AAQhNUQgBApBCKDIHAYhaDxCAqHkxGgHdBAhAdKs4+0UAAQQIQOgBBBBAAAEEEECAAIQe8ESAAMQTVu0mJQBRK/mb/74vVI/A+vUeF/B9rFqJGY1AXgJ84PLi42QEEEAgnAI8AiucdeOqEUAAAQQQQMA7Ae4A8c5Wp5kJQHSqtnd7JQBRsyUAUfNiNAK6CRCA6FZx9osAAghwBwg9gAACCCCAAAII1BEgAKEpCiFAAFIIReYgAFHrAQIQNS9GI6CbAAGIbhVnvwgggAABCD2AAAIIIIAAAggQgNADnggQgHjCqt2kBCBqJScAUfNiNAK6CRCA6FZx9osAAggQgNADCCCAAAIIIIAAAQg94IkAAYgnrNpNSgCiVvJFX4brHSCH7s47QNQqzGgE8hMgAMnPj7MRQACBUArwDpBQlo2LRgABBBBAAAEPBXgEloe4Gk1NAKJRsT3cKgGIGi4BiJoXoxHQTYAARLeKs18EEECAO0DoAQQQQAABBBBAoI4AAQhNUQgBApBCKDIHAYhaDxCAqHkxGgHdBAhAdKs4+0UAAQQIQOgBBBBAAAEEEECAAIQe8ESAAMQTVu0mJQBRK/lbX06z1c4IdnSH3c/n+9hgS8DqmgnwgdOs4GwXAQQQcAR4BBZ9gAACCCCAAAIIbC7AHSB0RCEECEAKocgcBCBqPUAAoubFaAR0EyAA0a3i7BcBBBAgAKEHEEAAAQQQQACBOgIEIDRFIQQIQAqhyBwEIGo9QACi5sVoBHQTIADRreLsFwEEECAAoQcQQAABBBBAAAECEHrAEwECEE9YtZuUAESt5AQgal6MRkA3AQIQ3SrOfhFAAAECEHoAAQQQQAABBBAgAKEHPBEgAPGEVbtJCUDUSr74q/tD9Q6QQ3Y7j+9j1UrMaATyEuADlxcfJyOAAALhFOAdIOGsG1eNAAIIIIAAAt4J8Ags72x1mpkARKdqe7dXAhA1WwIQNS9GI6CbAAGIbhVnvwgggAB3gNADCCCAAAIIIIBAHQECEJqiEAIEIIVQZA4CELUeIABR82I0AroJEIDoVnH2iwACCBCA0AMIIIAAAggggAABCD3giQABiCes2k1KAKJW8iVfh+sRWAfvyiOw1CrMaATyEyAAyc+PsxFAAIFQCvAIrFCWjYtGAAEEEEAAAQ8FuAPEQ1yNpiYA0ajYHm6VAEQNlwBEzYvRCOgmQACiW8XZLwIIIMAdIPQAAggggAACCCBQR4AAhKYohAABSCEUmYMARK0HCEDUvBiNgG4CBCC6VZz9IoAAAhEPQFav/kImTXpAnn9+vixfvlJSqZS0aNFMOnU6TPr37yMdOx5asB5IJj9y13rxxVdl5crPJBaLuWsdd1xnGTCgrxx4YNuCrcVE/grQR/56R3U1+iiqlfV3X/SRf966BSCv3faI/KbdIdJvwih56IU5BYMub76vXNqjrxx78BGy7x57Sjpty6pv/i0vvP2GTH1upry/IlmwtYpxoigHIPw+8q/jCEDUrAlA1LwYjYBuAgQgulWc/SKAAAIRDkDmzPmbnHPOYPn++x8arPNFF50jd9xxg5SUlOTVC1OmTJfBg8fIjz/+WO88paWlcu21Q2T06MF5rcPJ/gvQR/6bR3FF+iiKVfV/T/SRv+Y6BSBX/WGA3HRezb+jFDIAGdj9dLn9wpHSZJtt6y1eVXWVXPfI3TL20Xv8La6Pq0U1AOH3kY9NJCIEIGre73z9gK12RrCjf7XruXwfG2wJWF0zAT5wmhWc7SKAAAKOQBTfATJ//mvStWsf944P53Duvuje/Rhp0mRb+ec/F8u8eQvEtmv+vdgJQe6666ZGN8P06bPcoGXj0bFjBzn66N+4f1yw4A157bV/bfrZ+PGjZfjwCxu9Fif6K0Af+esd1dXoo6hW1t990Uf+ejur6RKA9OvaU6ZdcYN756pzFCoAOevYk2T6iD9tKtzCpYtl/jtvun/u8svD5LcHtt/0s+H3TpSJs+73v8g+rBjFAITfRz40zhZLEIComROAqHkxGgHdBAhAdKs4+0UAAQQiGICsX79e4vHO8umnq936jh59uVx//XAxjP/9z9yLL74iPXqcL2vXrnPHzJ8/U446qia0UDm++OJLqajoJGvWrHXnnzx5nAwceNZmUzzyyBPSr98QN4xx7gRZunS+mGZrlWUYG4AAfRQAegSXpI8iWNQAtkQfBYCuSQAyuu8gue6sSzaFH450IQKQPX6+qyQfeF5+tt32kk6n5cJJ18vUZ2duVsi+x/xeHhw2VkpLSsW5E6Rd/5MkuWplMMX2cNWoBSD8PvKwWbJMTQCi5k4AoubFaAR0EyAA0a3i7BcBBBCIYAAyadL9ctllV7u1dd6/8fe/P1ZvnR97bI706XOx+zPnro2FC59W7oehQ6+TW2+d6p7Xv39fmTp1fL1zjBs3SUaNqvlbkH369JQZM+5UXosT/BWgj/z1jupq9FFUK+vvvugjf703rhblO0CcgOL+oTfKiYd1roNbiABk4oARMvTUfu7czns+Bt4+pt4ijvxDfxl33hD3ZzPmz5Uz/zQimGJ7uGrUAhB+H3nYLFmmJgBRc3/3mwdD9QisX/6iH9/HqpWY0QjkJcAHLi8+TkYAAQTCKRC1R2C1b99NFi9+zy3GggWz5cgjj6i3MM4jsNq1O0o+/LDm5ZvLl78urVrtm3MRnb/R2KzZr+Srr75xz1mx4k3Zd9+96j3f+dtyLVp0kP/+91tp2rSJfPXVe7L99tvlvBYD/Regj/w3j+KK9FEUq+r/nugj/82dFaMYgDjv4nCCiSt7X+DeneEc369dI4srP5AuBx3m/jnfAMS5I/aLx1+R3Xf+hTvfvmceK598WXNX7paHcz2rHl0gu+y4k6zbsF52693J/c8oHVELQPh9FEx3EoCouROAqHkxGgHdBAhAdKs4+0UAAQQidgeIE0bsscdB7vs9dt55J/n66/eyvuB82LDr5ZZbal68OXHi1TJ06KCce+Ktt/5PDj30RHf8AQe0kffeeynruaee2l+eeOI5d8zs2VOlV6/uOa/FQH8F6CN/vaO6Gn0U1cr6uy/6yF/vzNWiGICcc1wPeXD4/9579nZyqZw9/io5rfPxMuasmrti8w1A2le0k7fumuXO9d7HlvxyYI+sRZx19W1y6m+Pd8f0uv5yefK1F4IrugcrRykA4feRBw2S45QEIDlC1Q4jAFHzYjQCugkQgOhWcfaLAAIIRCwAcV5u3q1bX7eu2R5/tbHws2fPldNOG+j+8bTTficzZ9aEIbkc99zzsAwaNNIdmu3xVxvnmjhxigwffoP7R+dF6M4L0TmKU4A+Ks66hO2q6KOwVaw4r5c+Cq4uUQ5Avvn+W7nx0Skyac4MSaVTcu1ZFxcsABnQvbfcc3nNI6+yPf5qY2WHnnquTBww3P3j+JnT5Mr7bgmu6B6sHKUAhN9HHjRIjlMSgOQIVTvsvZA9AutAHoGlVmBGI5CnAAFInoCcjgACCIRRIEqPwMp8LvHAgWfKlCk3Zy3JokXvyGGH1dyJcdBB+8s77+T+tw4z3/8xbtxVMnLkJVnXmjXrGendu+YOk5NPPl7mzLk/jO2ixTXTR1qU2fNN0keeE2uxAH0UXJmjGIB0O/S3clCruEyZ+7h8t/aHTbiFDEAy3/8xctqtcvPj92UtonP3h3MXiHPMef0l6Tnm0uCK7sHKUQpA+H3kQYPkOCUBSI5QtcMIQNS8GI2AbgIEILpVnP0igAACEbsDZNSocTJuXM0Lxm+8cYT88Y+XZ63xqlWfy157dXDHNGu2u3z++ZKce8J5gbrzInXneOSRSdK37ylZz124cJF06lTzGIjDDz9E3njjmZzXYqC/AvSRv95RXY0+impl/d0XfeSvd+ZqUQxAGtIsZAAyY+R46XP079yl+v5phDw6f27WInbc/2BZePsMd8wbH7wjHQf3Ca7oHqwcpQCE30ceNEiOUxKA5AhVO4wARM2L0QjoJkAAolvF2S8CCCAQsQDk4otHyd13P+TW9dZbr5UhQwZkrbHzUvJddmnnjnFeTr5u3fKce6J797Pkuefmu+OffPI+6dnzhKznLlnyvhxySM0zrtu2rZAPPliQ81oM9FeAPvLXO6qr0UdRray/+6KP/PXOXI0ApHH2c2+YLN1/faR7cs/rLpU5C7O/I+1XrdvKkslPuOM/WLlc2vX/feMWLtKzohSA8PsouCYjAFGzJwBR82I0AroJEIDoVnH2iwACCEQsALnggmEybdpjbl0nTx4ngwadnbXGGzZskKZNW7tjYrGYpFKf5twTxx57urz00mvu+Oeff0S6dTsq67nLllVK27Y1Xwi0arWvLF/+es5rMdBfAfrIX++orkYfRbWy/u6LPvLXO3M1ApDG2b/wp2ly7CFHuCd3GzVA5r1V8+9KDR3xvVvKsmnPuj9evvoTKe/XrXELF+lZUQpA+H0UXJMRgKjZL/3PQ7baGcGObrfLOXwfG2wJWF0zAT5wmhWc7SKAAAKOQJTeATJgwAi5996axyioBiAlJSVSXf1Jzk3RtesZ8sILr7jjVQOQ1q33k8rKhTmvxUB/Begjf72juhp9FNXK+rsv+shf78zVCEAaZz9v3L3Stf1v3JNVA5DKVZ9IxbkEII2T9/4sfh95b9zQCgQgavYEIGpejEZANwECEN0qzn4RQACBiAUgV1wxRm677V63rrfdNkYGD+6ftcaZj8DafvvtZM2aZM49ccopF8hTTz3vjn/qqWnSo0f2/8Oe+Qisdu3i8v77NY/P4ig+Afqo+GoSxiuij8JYteK7ZvoouJoQgDTO/olr/iyndDrOPbnHmEvl6ddzfwTW+yuScuCAkxu3cJGeFaU7QPh9FFyTEYCo2ROAqHkxGgHdBAhAdKs4+0VAUaBLly6ln3/++em2bZ8kIoeKyO61U3wtIktt2/6bbdsPVVZWfq84dSiGt2nTZr90Ov2xc7G2bZ+bTCYfDMWFb+Uio3QHyDXXTJAbbrjd3fHYsVfKqFGXZd195kvQmzdvJqtWvZ1zSc8++zJ5+OGaZ1bPmHGn9OnTM+u5mS9B79ixgyxc+HTOazHQXwH6yF/vqK5GH0W1sv7uiz7y1ztzNQKQxtk/NHycnH1cTYjRZ9xweezlmsdbNXRkvgR94dLF0mnImY1buEjPilIAwu+j4JqMAETN/oP/Tg/VI7D2//nZfB+rVmJGI5CXAB+4vPg4GYFoC7Rp0+bAdDr9FxHZfys7/cowjIsTicSsqIkQgBR/RadMmS4XXniVe6EXX9xP7rxzbNaL/te/lsivf/07d0z79r+Ut96quaMjl2PkyJvk5pvvcodOmHC1DBs2KOtpM2f+VU4//UJ3TK9eJ8rs2TV3qnAUnwB9VHw1CeMV0UdhrFrxXTN9FFxNCEAaZz/uvCEy8g81d+AOmzpBbpn9QNaJTuvcTWaOvtUdM/vVeXLaDUMat3CRnhWlAITfR8E1GQGImj0BiJoXoxHQTYAARLeKs18EchSIx+PNbdt2/mp8MxH5t4jcHIvFXhSR1SUlJXYqlWqRTqe7ishIEdlVRFK2bZ+cTCaz/5WvHNcvlmGmabYQkX8412Pb9ohkMvlksVxbPtcRpTtAXn31Tenc+RSXo3v3Y2Tu3OlZaWbNekZ6964JLs44o4c8+mhNoJHL8fDDs+Xssy93h+YStkyYMFlGjLjRHX/VVZfITTfVBDUcxSdAHxVfTcJ4RfRRGKtWfNdMHwVXEwKQxtmfeczv5eErb3ZPvvPpGXLpXdn/Msqw086TCf2HueNvemyq/PGBmjt5o3JEKQDh91FwXUkAomZPAKLmxWgEdBMgANGt4uwXgRwF4vH4n23bdp4l9E11dfUhH330Ub1vim7btm1FKpVaJCI72badTCaTbUQkneMyDAtIIEoByLfffie77NLOCahk9913lS++eEcMo+H/ect8lvHEiVfL0KHZ7+LILNG7734gBx1U84zrDh0OkkWLnstawcx3hsyePVV69eoeUMVZdmsC9NHWhPh5LgL0US5KjNmaAH20NSHvfk4A0jjbA1ua8u49c9yTFyXek8MuPT3rRJnvDOl1/eXy5GsvNG7hIj0rSgEIv4+CazICEDV7AhA1L0YjoJsAAYhuFWe/COQoYJrmRyLSUkQmWZaV9aUKFRUVww3DGO9MbRjGoYlE4q0cl2FYQAJRCkAcQucOEOdvqDnHm2/OlcMOO7heWSckadv2SEkklrs/d15K7rycPNfDOb9ly8Nl5crPpKSkRD79dJHsuece9Z6+bt16adGivTj/x7GsrEy+/PL/ZOedd8p1KcYFIEAfBYAewSXpowgWNYAt0UcBoDv/Htv12GAWDmDVa8+6WMacdbG7cr8Jo+ShF2oCjMYeH09/QfZr1kKqU9Wyd9+j5Yv/OK8LrOU7r64AACAASURBVHs03baJrHr0Zfn5z3aSn6qqZPfeneS7tT80dtmiPC9KAYgDzO+jYNqMAETN/cOQvQOkLe8AUSswoxHIU4AAJE9ATkcgqgKmaa4XkSYicp9lWTUP9W3gKC8v3z8Wiz0mIl+n0+nRlZWVbzhD4/H4Atu2jzQM4x+JRKJLfaebpjlGRK51fmZZ1qbfSW3atOmSTqdfdv55Op1uEovFnDHni8iOIvKJbdvXJZPJR03TXCEi+9q2fWEsFpshItfYtn2qiOzpPK7LMIw30un0hGQy+c6W62esvVBEeojI3SJyYu0dLFYsFjtXRH7I9hL0ioqKXzvvP3H+v0HtmhtE5FPDMF5KpVJ3VFZW1nzTXs9R6zZYRI4RkeYi8qPDYBjG7B9++OHO1atXr/Oqv6IWgGQ+n/iEE46W5557uF66GTOelDPPvNT9WS53cNQ3SeZ7QAYNOksmT/5TvWuNHftnGT3azQXl1FO7y6xZU70qJ/MWSIA+KhCk5tPQR5o3QIG2Tx8VCFJxGgIQRbCM4ZnvAZn8zF/koknX1zvZqDMGythzax4nOuuVedL7xmi9/8PZV9QCEH4fNf5zkc+ZBCBqegQgal6MRkA3AQIQ3SrOfhHIUcA0zQ9EpK2IrE2n07+trKxckuOpm4YVKgAxDGOKbdubPaconU53dIKWjQGI84oFETmrgRe2O4/kGmRZ1mZvoM4IQJw7Vpzfh+0z9vjdunXr9txhhx32aCgAMU1zgIhMqT23Pp6fROR0y7Lq/JU60zSvEBHn2/GSBlxXpNPp7pWVlU4dCn5ELQDZsGGDHHDAMbJ8uZOHiVx22flyyy3XSGlp6Sa7F198RXr0OF/Wrq3JlZ59drqceKKTPakdX375tcTjnd07O5xj/PjRMnx4zYvONx7Ou0LOPfcKSaVS7p0iS5bMkwMPdD5OHMUsQB8Vc3XCc230UXhqVcxXSh8FUx0CkMa777bzLpKY9qx7Z4dzDL93okycdf9mEzrvCnlg2FgpLSl17xQ5+MJe8v6KZOMXLdIzoxaA8PsomEYjAFFzJwBR82I0AroJEIDoVnH2i0COAvF4fIRt2zVvMxSpEpGnnDsTDMOYv2zZsm9ymaZQAYizlm3bs0tLS0eJyE/V1dUnJJNJJ3iQjABkrYhs7/xlMtu2bzIM4zPbtp27M25xbkZxxhqGcUwikZi/8doz7z6pXePq0tLSael0ejfnnEQiMatNmzb71ReAtG3bdt9UKmWJyDYi8jcRGVtVVZU0DGPbsrKy39q2PbH2BfL/MQxjv0Qisene/ng8fr5t2/fVrrnAef+jYRhLUqlU05KSkuNF5Ibacz8TkYMty6r/GQK5FKGBMVELQJxtzp//mnTrdqZUVTntKlJR0VJ69OgmO+ywvbz55mJ5/vmX3feEOEf//n1l6tSauzMyjwcffNwNLjYetr2qXsHp02fJOec4N+/UHAcffICccMJRbuDy8suvb3ocl/OzsWOvlFGjsj5FLo9KcmqhBeijQovqOR99pGfdC71r+qjQolufjwCkfqNzjushDw6/adMPja771zvwrGNPkukj/ndn7OLkB/L8olelOpWSo351mHQ+sMOm80bdf7uM+0s0746NWgDiFI3fR1v//VHoEQQgaqKJbx+u+T96ITniO5/F97EhqRWXGQ0BPnDRqCO7QKDgAl26dCldvXr1X0XkhC0mt23bXioir8ZisZerqqr+/tFHH9X8VfgtjgIGICuaN29esWDBguot18gIQJyA44FEInFe5pg2bdr8wrbtxbZt7yMi/2dZ1q82/jwzALFte0YymTxzy/kbCkBM03Qee3Vn7R0yv6isrHQeX7XpKC8vPzIWiznhhvOle69kMvmk899btWq1U2lp6aci8jMRmWNZVq8tXxpfu+b/1T7ua6vvYGlM8aMYgDgOTz89zw0mvvvu+wZZBgzoK3ffPc69M2PLI9cAxDnvnnselsGDx4jzt+LqO2KxmFxzzRC59tr/BSqNqRXn+C9AH/lvHsUV6aMoVtX/PdFH/poTgNTvnWsA4pw9oHtvuX3QSHHe9VHf4dwde/2MyXL9I86TZ6N5RDEA4d+z/e9VAhA1cwIQNS9GI6CbAAGIbhVnvwioCZTE4/Ghtm07j5fauYFTqwzD+Gt1dfXI5cuXV2aOKWAAcptlWfV+i5wRgPxgGEaLzDstNl5LRUVFPycccf6cTqfbbXysVGYAYhjGyYlEwgl8NjuyBCDO9Th3lzjBR2vLsurcKhCPx09OpVKfbLfddta7777r3KHi3LGyMThx/uic57xsvs4Rj8dvtG37j847SJo3b75LfeGPWik3Hx3VAMTZ5b///ZXceecDMnfui/Lxx5/K+vUbZI89dpWOHTuI886OLl06NkinEoA4k3z00Up3rXnz/iGffLJKqqqqpUWLZtKlyxFyySXnuneGcIRTgD4KZ92K7arpo2KrSDivhz7yr24EIPVbqwQgzgwtm+0ll5zcR45v30n22X1PKSstlVVf/1sWvLtI7nz6UXln+Yf+FTWAlaIagPDv2f42EwGImjcBiJoXoxHQTYAARLeKs18EGiGw1157NW3atKlzJ0h3wzCOFpH96pnmR9u2z3NeTL7xZwUMQM62LKvet1pnBCCPW5b1h/q259wFkk6n3cdI2bZ9eTKZvMP575kBSCqV2mf58uXOnRmbHQ0FIPF4vINt24tqB39uGMbkVCo1t7Ky0nnZeoO331ZUVMwyDMN5SfvXZWVlLRsqR3V19dG2bT/t/DwWi3VYtmzZ240oXYOnRDkAKaQTcyGAAAIIIICAPgI6BSD6VNX/nUY5APFfU98VCUDUam99+0ioHoFl7nwm38eqlZjRCOQlwAcuLz5ORkBPgdatW+9dUlLSxTCMbrZtnyQiO9RKVNu23SmZTL7p/LlQAYhhGCckEgnnPRt1jo0BiG3bo5PJ5NiGKmKa5n9E5OeGYUxIJBIjnHGZAchPP/3UdMWKFXWeZdRQAFJ7vhOkXLrFml+KyN9FZG6TJk3mbrzzY+OYeDz+tm3bhyh2Ts/6XqSuOMdmwwlA8tHjXAQQQAABBBCIogABSBSr6v+eCED8N4/iigQgalUlAFHzYjQCugkQgOhWcfaLQIEF2rVrt0tVVZXzKKh+ztS2bf81mUye7Pz3QgUgsVjsqGXLlrnv09jyyLgD5BLLsu5qaHumaTovFG8hIlMtyxrojMsMQCzLqvf3YbYAxJmjoqKil2EYzhuuOzk3a2yx/g+2bV+fTCadF6K7h2maSREpVyzDOZZlTVc8J+twApBCajIXAggggAACCERBgAAkClUMfg8EIMHXIApXQACiVkUCEDUvRiOgmwABiG4VZ78I5CAQj8d7i4jziKc1lmVdn8Mpzhf7/xKRQ51XMFiW1cw5J5cApKKi4mbDMNw7MjJDiDZt2nRJp9MvO/88xwBkmGVZThBT72Ga5rcispOI3GRZlvNujYIEIBsXKy8v380wjONisdixtm13rQ1b3B/btn1ZMpmcVLum83LzX4rIm5ZlHZ6LrRdjCEC8UGVOBBBAAAEEEAizAAFImKtXPNdOAFI8tQjzlRCAqFWPAETNi9EI6CZAAKJbxdkvAjkIZLynYm1ZWdkuS5cu/Wlrp8Xj8Qm2bQ8Tke8ty3KCBidgeElEjjYM441EIlHvm6dN07xPRM53xucZgNxtWZbzgvE6R8uWLfcoKyv7ovYHAyzLurf2+saIyLVbrp05wdbuAGnAxSgvL3fCkL84j90SkUrLsipq13xGRH6XGRQ1NEe2d4lsrR5b+zkByNaE+DkCCCCAAAII6CZAAKJbxb3ZLwGIN666zUoAolbx5HfhegdIxU68A0StwoxGID8BApD8/DgbgUgKxOPxy23bvt3ZnG3bg5LJ5D1b26hpmk+JSI/MsCMej//Vtu3fZwYAW85jmuZSEdl/yxCiEXeAfGRZlvNoqTovPzNNc4CIOHtwfra3ZVmrasOIRgcgpmk67/84XkQWW5Z1Rn0+8Xj8z87dHyKy3rKs7ZwxFRUVww3DGF9re/jG96XU4zJKRJw7Y1am0+lTKisrl2+tBio/JwBR0WIsAggggAACCOggQACiQ5W93yMBiPfGOqxAAKJWZQIQNS9GI6CbAAGIbhVnvwjkIFD7Xo/K2peGr0ulUj0rKyudF3vXe5imeaKIOHc2OO/A2PS+CtM0nUdSXeGclE6nD6msrFySOUFFRcUZhmE8uvGf5XkHiBPWXJ5MJp1gYtNRe/fHYhFpLiIvWJblPJ7KPfJ5B4hpmneKiHPHydpUKvWr5cuXO16ZhxGPx1+2bftI27bfTyaTBzo/rL2elSKyrYgsWrNmTZfVq1evyzyxvLy8dSwWcx4ptouIJCzLalvou0EIQHL4IDAEAQQQQAABBLQSIADRqtyebZYAxDNarSYmAFErNwGImhejEdBNgABEt4qzXwRyFCgvL+8ai8WcUGOb2lOedsKKWCy2pLS09Ou1a9f+rLS09AAR+YOI9BGREsMwnkkkEj1FJOWcE4/Hf2Pb9mu15690XhZeXV39z1gs9gvDMM4SkeEi8kPtY6LyfQSWs0zatu2JpaWl96VSqf+KyG9FxHkBeSsR+dEwjIMSiURiI0E+AUibNm3MdDr9bm2Q4QQa16bTaWev3xuG0cowjMG1Nk4wc2EymZyycd3Mu0BE5D3btsdUV1cvNAxj29LS0qNE5EYR2csJPWKx2AnLli2bl2PZch5GAJIzFQMRQAABBBBAQBMBAhBNCu3xNglAPAbWZHoCELVCV343o86TINRm8Hd0+U59+T7WX3JW01yAD5zmDcD2EcgmYJrmMSLifHHvPFoq2+H8y8a0devWXfbZZ5+tzxwYj8en2LY9sIGTLcMwRtu2PdP5eT53gBiG8Q/btlvXBgdbLvetYRi9EonE/Mwf5BOAOPPE4/G+tm0/ICJlDeEYhjElkUhcuMXPjYqKiuucvYtIQ7+HnfeuXGxZlvOOlIIfBCAFJ2VCBBBAAAEEEAi5AAFIyAtYJJdPAFIkhQj5ZRCAqBWQAETNi9EI6CZAAKJbxdkvAooC7dq126aqquoUEekmIoeKyG4isrNzp4OIfCYiL6XT6RmVlZXOY6bqPeLxeG/btp33cLSvvWPiYxGZ2aRJk4kbNmw4WERedU7MJwARkYdExHkJu/NSc+culF+IyArnrhQRuT2RSKze8uLyDUCc+crLy9vFYjHnPR9Hisg+zp0wzgvORWShiNxnWZbzIvh6D9M0DxKRS0Ski4i0cB4hZtv2J7FY7CXbtv9sWdYyxXLlPJwAJGcqBiKAAAIIIICAJgIEIJoU2uNtEoB4DKzJ9AQgaoUmAFHzYjQCugkQgOhWcfaLQMQETNNcISL7OgGIZVn9IrY9z7ZDAOIZLRMjgAACCCCAQEgFCEBCWrgiu2wCkCIrSEgvhwBErXAEIGpejEZANwECEN0qzn4RiJgAAUjjCkoA0jg3zkIAAQQQQACB6AoQgES3tn7ujADET+3orkUAolbb5d89Gqp3gLTeqQ/fx6qVmNEI5CXABy4vPk5GAIGgBQhAGlcBApDGuXEWAggggAACCERXgAAkurX1c2cEIH5qR3ctAhC12hKAqHkxGgHdBAhAdKs4+0UgYgIEII0rKAFI49w4CwEEEEAAAQSiK0AAEt3a+rkzAhA/taO7FgGIWm0JQNS8GI2AbgIEILpVnP0iEDEBApDGFZQApHFunIUAAggggAAC0RUgAIlubf3cGQGIn9rRXYsARK22y78P2SOwduQRWGoVZjQC+QkQgOTnx9kIIBCwAAFI4wpAANI4N85CAAEEEEAAgegKEIBEt7Z+7owAxE/t6K5FAKJWWwIQNS9GI6CbAAGIbhVnvwgggICIEIDQBggggAACCCCAwOYCBCB0RCEECEAKocgcBCBqPUAAoubFaAR0EyAA0a3i7BcBBBAgAKEHEEAAAQQQQACBOgIEIDRFIQQIQAqhyBwEIGo9QACi5sVoBHQTIADRreLsFwEEECAAoQcQQAABBBBAAAECEHrAEwECEE9YtZuUAESt5B99/5itdkawo1vteAbfxwZbAlbXTIAPnGYFZ7sIIICAI8AjsOgDBBBAAAEEEEBgcwHuAKEjCiFAAFIIReYgAFHrAQIQNS9GI6CbAAGIbhVnvwgggAABCD2AAAIIIIAAAgjUESAAoSkKIUAAUghF5iAAUesBAhA1L0YjoJsAAYhuFWe/CCCAAAEIPYAAAggggAACCBCA0AOeCBCAeMKq3aQEIGol//iHv4TqEVgtf/YHvo9VKzGjEchLgA9cXnycjAACCIRTgEdghbNuXDUCCCCAAAIIeCfAHSDe2eo0MwGITtX2bq8EIGq2BCBqXoxGQDcBAhDdKs5+EUAAAe4AoQcQQAABBBBAAIE6AgQgNEUhBAhACqHIHAQgaj1AAKLmxWgEdBMgANGt4uwXAQQQIAChBxBAAAEEEEAAAQIQesATAQIQT1i1m5QARK3kK0L2CKz9eASWWoEZjUCeAgQgeQJyOgIIIBBGAR6BFcaqcc0IIIAAAggg4KUAd4B4qavP3AQg+tTay50SgKjpEoCoeTEaAd0ECEB0qzj7RQABBLgDhB5AAAEEEEAAAQTqCBCA0BSFECAAKYQicxCAqPUAAYiaF6MR0E2AAES3irNfBBBAgACEHkAAAQQQQAABBAhA6AFPBAhAPGHVblICELWSE4CoeTEaAd0ECEB0qzj7RQABBAhA6AEEEEAAAQQQQIAAhB7wRIAAxBNW7SYlAFEr+cofHrfVzgh29L4/O53vY4MtAatrJsAHTrOCs10EEEDAEeAdIPQBAggggAACCCCwuQCPwKIjCiFAAFIIReYgAFHrAQIQNS9GI6CbAAGIbhVnvwgggAABCD2AAAIIIIAAAgjUESAAoSkKIUAAUghF5iAAUesBAhA1L0YjoJsAAYhuFWe/CCCAAAEIPYAAAggggAACCBCA0AOeCBCAeMKq3aQEIGol/2TNzFA9AmufHXrzfaxaiRmNQF4CfODy4uNkBBBAIJwCPAIrnHXjqhFAAAEEEEDAOwHuAPHOVqeZCUB0qrZ3eyUAUbMlAFHzYjQCugkQgOhWcfaLAAIIcAcIPYAAAggggAACCNQRIAChKQohQABSCEXmIABR6wECEDUvRiOgmwABiG4VZ78IIIAAAQg9gAACCCCAAAIIEIDQA54IEIB4wqrdpAQgaiUnAPmfV5s2bQ5Mp9MjROQoEdldRL4RkbcMw7grkUj8TU32f6NN0zzBMIzzbds+XER2E5EfRaTSMIxnU6nUHZWVlV81dm7OQ8BrAQIQr4WZHwEEEChCAR6BVYRF4ZIQQAABBBBAIFAB7gAJlD8yixOARKaUgW6EAESN/9OQvQNkb4/eARKPx0+ybXu2iJTVJ2gYxh2JROJyFd0uXbqUrlq16kHDMPpmOe/LdDrdo7Ky8g2VuRmLgF8CBCB+SbMOAgggUEQCBCBFVAwuBQEEEEAAAQSKQoAApCjKEPqLIAAJfQmLYgMEIGplIAARKS8vPzgWiy0UkaYisiidTg8vLS1937btlrZt/1FEetSqXmJZ1l25CpumOVFEhtaOfzoWi40XkYRhGHum0+kTbdu+RkS2F5H/iMgvLctalevcjEPALwECEL+kWQcBBBAoIgECkCIqBpeCAAIIIIAAAkUhQABSFGUI/UUQgIS+hEWxAQIQtTIQgIiYpjlXRLo7j6UqKys7eOnSpWsyFA3TNB8XkdOcR2IZhtEykUj8sDXleDze3LbtlSJSatv2jGQyeeaW58Tj8Q62bTt3fpSKyF2WZV2ytXn5OQJ+CxCA+C3OeggggEARCBCAFEERuAQEEEAAAQQQKCoBApCiKkdoL4YAJLSlK6oLJwBRK8dna2bZamcEO3qvHU4r6Pexpmm2EZEPnV3Ztn1eMpl8YMsdtm7deu+SkpIVIhITkX6WZT20NQXTNC9yQg1nXElJyX4ffvihE4bUOUzTnFkbrqywLKvl1ubl5wj4LVDQD5zfF896CCCAAAKNEyAAaZwbZyGAAAIIIIBAdAUIQKJbWz93RgDip3Z01yIAUastAYg5RERudfIP58XnlmV93UBQ8ZaItBeROZZl9dyacjwev9G27StE5HvLspo1NN40zZtE5CoR+cmyrG23Ni8/R8BvAQIQv8VZDwEEECgCAQKQIigCl4AAAggggAACRSVAAFJU5QjtxRCAhLZ0RXXhBCBq5SAAMZ27Oc4Wkax3YJimea+IXCAin1qWtU+uyuXl5TtWVlZ+nyUA2XgHyL+zBSW5rsc4BAotQABSaFHmQwABBEIgQAASgiJxiQgggAACCCDgqwABiK/ckV2MACSypfV1YwQgatyr1s4O1SOwWmx/akG/jzVN8x8i0llEXrYs6+iG9CoqKkYbhnGDc6dI8+bNt1mwYEG1mnTd0bXvCVkuIk0Mw3gikUicmu+cnI9AoQUK+oEr9MUxHwIIIICANwIEIN64MisCCCCAAAIIhFeAACS8tSumKycAKaZqhPdaCEDUakcAYi4Vkf1F5EnLsnplCUAuNQzjjtqf79bQo7IU9J2Xqz9T+/J1MQzj6EQi8bLC+QxFwBcBAhBfmFkEAQQQKC4BApDiqgdXgwACCCCAAALBCxCABF+DKFwBAUgUqhj8HghA1GpAAGI6d2C0sm17RjKZPLMhPdM0ncdfOY/BknQ6vXdlZeVnatKbj66oqLjNMIzBzj81DOPRRCLRN5/5OBcBrwQIQLySZV4EEECgiAUIQIq4OFwaAggggAACCAQiQAASCHvkFiUAiVxJA9kQAYgau+4BSEVFhWUYRoWPAYhz58ctIuK8fN053isrK+u4dOnSNWqVYzQC/ggQgPjjzCoIIIBAUQkQgBRVObgYBBBAAAEEECgCAQKQIihCBC6BACQCRSyCLRCAqBVhdcjeAdK88O8AWSIiv9raOzgqKio2PQIrFovtumzZsm/UpEXatWu3TVVV1TQR2XinyYdlZWVHL1269AvVuRiPgF8CBCB+SbMOAgggUEQCBCBFVAwuBQEEEEAAAQSKQoAApCjKEPqLIAAJfQmLYgMEIGpl0D0AqaioeNkwjC4i8qJlWcc1pBePx6+2bft6EUlZlrWN8yQsFel27drtUlVV9VTtC9edU99Op9MnVFZWfqUyD2MR8FuAAMRvcdZDAAEEikCAAKQIisAlIIAAAggggEBRCRCAFFU5QnsxBCChLV1RXTgBiFo5dA9ATNO8R0QG2LadTCaTZkN6pmk67/+4wDCMTxKJxL4qyuXl5a1jsdhzIrJx/r+VlZWdxmOvVBQZG5QAAUhQ8qyLAAIIBChAABIgPksjgAACCCCAQFEKEIAUZVlCd1EEIKErWVFeMAGIWlk+X/eErXZGsKP33K5XQb+PNU3zEhGZ5NzZkU6nd6msrPy+vh3G4/G3bds+RESetiyrR64K5eXl7WKx2MsislvtOfc2b978ogULFlTnOgfjEAhSoKAfuCA3wtoIIIAAArkLEIDkbsVIBBBAAAEEENBDgABEjzp7vUsCEK+F9ZifAEStzgQgZisRWe6o2bbdJ5lMPralYOvWrfcuKSlZISIx27YvTCaTU3JRNk137oUi0qx2/quTyeSNuZzLGASKRYAApFgqwXUggAACPgoQgPiIzVIIIIAAAgggEAoBApBQlKnoL5IApOhLFIoLJABRK5PuAYijZZrmqyLSyXkMViqVOvSjjz76LkPRME3zcRE5TUS+btKkyX7vvvvu2q0pt2/fvuyHH354XUQ6OGMNwxiSSCRu39p5/ByBYhMgACm2inA9CCCAgA8CBCA+ILMEAggggAACCIRKgAAkVOUq2oslACna0oTqwghA1MpFACISj8c72Lb9pnOHh4i8l06nh8ViscXpdHqfWCw2WkR61qpeYlnWXRuFTdNsISIv1f75Kcuyrsr42cZHazn/aGZZWdn5W6sM7wTZmhA/D0KAACQIddZEAAEEAhYgAAm4ACyPAAIIIIAAAkUnQABSdCUJ5QURgISybEV30QQgaiX5Yt2ToXoHSLPtTvHk+9iKiop+hmE4LzovbUDwVsuyhmb+rE2bNvul0+mPa//ZQ5Zl9csIQCpFpLVKNSzL8mRvKtfAWAS2FKAp6QkEEEBAQwECEA2LzpYRQAABBBBAIKsAAQgNUggBApBCKDIHAYhaDxCA/M+rTZs2B6bT6eEicpSI7CEia0TkLcMw7kokEk9vKdtQAGKa5q4i8pVaJUQIQFTFGO+HAAGIH8qsgQACCBSZAAFIkRWEy0EAAQQQQACBwAUIQAIvQSQugAAkEmUMfBMEIGolIABR82I0AroJEIDoVnH2iwACCIgIAQhtgAACCCCAAAIIbC5AAEJHFEKAAKQQisxBAKLWA/9e91SoHoG1x3Y9+T5WrcSMRiAvAT5wefFxMgIIIBBOAQKQcNaNq0YAAQQQQAAB7wQIQLyz1WlmAhCdqu3dXglA1GwJQNS8GI2AbgIEILpVnP0igAAC3AFCDyCAAAIIIIAAAnUECEBoikIIEIAUQpE5CEDUeoAARM2L0QjoJkAAolvF2S8CCCBAAEIPIIAAAggggAACBCD0gCcCBCCesGo3KQGIWskJQNS8GI2AbgIEILpVnP0igAACBCD0AAIIIIAAAgggQABCD3giQADiCat2kxKAqJX8y/XhegfI7k15B4hahRmNQH4CBCD5+XE2AgggEEoB3gESyrJx0QgggAACCCDgoQCPwPIQV6OpCUA0KraHWyUAUcMlAFHzYjQCugkQgOhWcfaLAAIIcAcIPYAAAggggAACCNQRIAChKQohQABSCEXmIABR6wECEDUvRiOgmwABiG4VZ78IIIAAAQg9gAACCCCAAAIIEIDQA54IEIB4wqrdpAQgaiX/av0cW+2MYEfv1rQH38cGWwJW10yAD5xmexaLYAAAIABJREFUBWe7CCCAgCPAI7DoAwQQQAABBBBAYHMB7gChIwohQABSCEXmIABR6wECEDUvRiOgmwABiG4VZ78IIIAAAQg9gAACCCCAAAII1BEgAKEpCiFAAFIIReYgAFHrAQIQNS9GI6CbAAGIbhVnvwgggAABCD2AAAIIIIAAAggQgNADnggQgHjCqt2kBCBqJf96/dOhegTWrk1P5vtYtRIzGoG8BPjA5cXHyQgggEA4BXgEVjjrxlUjgAACCCCAgHcC3AHina1OMxOA6FRt7/ZKAKJmSwCi5sVoBHQTIADRreLsFwEEEOAOEHoAAQQQQAABBBCoI0AAQlMUQoAApBCKzEEAotYDBCBqXoxGQDcBAhDdKs5+EUAAAQIQegABBBBAAAEEECAAoQc8ESAA8YRVu0kJQNRKTgCi5sVoBHQTIADRreLsFwEEECAAoQcQQAABBBBAAAECEHrAEwECEE9YtZuUAESt5N9sCNc7QH7RhHeAqFWY0QjkJ0AAkp8fZyOAAAKhFOAdIKEsGxeNAAIIIIAAAh4K8AgsD3E1mpoARKNie7hVAhA1XAIQNS9GI6CbAAGIbhVnvwgggAB3gNADCCCAAAIIIIBAHQECEJqiEAIEIIVQZA4CELUeIABR82I0AroJEIDoVnH2iwACCBCA0AMIIIAAAggggAABCD3giQABiCes2k1KAKJW8m82/NVWOyPY0b9ochLfxwZbAlbXTIAPnGYFZ7sIIICAI8AjsOgDBBBAAAEEEEAAAQQKL8CdRIU31XLGFz7k+zqFwhOAKGAxFAENBfiFqmHR2TICCCBAAEIPIIAAAggggAACCCBQeAECkMKbajkjAYhS2QlAlLgYjIB2AgQg2pWcDSOAAALcAUIPIIAAAggggAACCCDghQABiBeqGs5JAKJUdAIQJS4GI6CdAAGIdiVnwwgggAABCD2AAAIIIIAAAggggIAXAgQgXqhqOCcBiFLR//PjM6F6B8gu2/6e72OVKsxgBPIT4AOXnx9nI4AAAqEU4BFYoSwbF40AAggggAACCCBQ5AIEIEVeoLBcHgGIUqUIQJS4GIyAdgIEINqVnA0jgAAC3AFCDyCAAAIIIIAAAggg4IUAAYgXqhrOSQCiVHQCECUuBiOgnQABiHYlZ8MIIIAAAQg9gAACCCCAAAIIIICAFwIEIF6oajgnAYhS0f8bskdg/ZxHYCnVl8EI5CtAAJKvIOcjgAACIRTgEVghLBqXjAACCCCAAAIIIFD0AgQgRV+icFwgAYhSnQhAlLgYjIB2AgQg2pWcDSOAAALcAUIPIIAAAggggAACCCDghQABiBeqGs5JAKJUdAIQJS4GI6CdAAGIdiVnwwgggAABCD2AAAIIIIAAAggggIAXAgQgXqhqOCcBiFLRCUCUuBiMgHYCBCDalZwNI4AAAgQg9AACCCCAAAIIIIAAAl4IEIB4oarhnAQgSkX/9se5ttIJAQ/eedvf8X1swDVgeb0E+MDpVW92iwACCLgCvAOERkAAAQQQQAABBBBAoPACBCCFN9VyRgIQpbITgChxMRgB7QQIQLQrORtGAAEECEDoAQQQQAABBBBAAAEEvBAgAPFCVcM5CUCUik4AosTFYAS0EyAA0a7kbBgBBBAgAKEHEEAAAQQQQAABBBDwQoAAxAtVDeckAFEq+nc/PRuqR2DttE13vo9VqjCDEchPgA9cfn6cjQACCIRSgEdghbJsXDQCCCCAAAIIIIBAkQsQgBR5gcJyeQQgSpUiAFHiYjAC2gkQgGhXcjaMAAIIcAcIPYAAAggggAACCCCAgBcCBCBeqGo4JwGIUtEJQJS4GIyAdgIEINqVnA0jgAACBCD0AAIIIIAAAggggAACXggQgHihquGcBCBKRf8+ZI/A2pFHYCnVl8EI5CtAAJKvIOcjgAACIRTgEVghLBqXjAACCCCAAAIIIFD0AgQgRV+icFwgAYhSnQhAlLgYjIB2AgQg2pWcDSOAAALcAUIPIIAAAggggAACCCDghQABiBeqGs5JAKJUdAIQJS4GI6CdAAGIdiVnwwgggAABCD2AAAIIIIAAAggggIAXAgQgXqhqOCcBiFLRCUCUuBiMgHYCBCDalZwNI4AAAgQg9AACCCCAAAIIIIAAAl4IEIB4oarhnAQgSkX/4afnbKUTAh78s21O5PvYgGvA8noJ8IHTq97sFgEEEHAFeAcIjYAAAggggAACCCCAQOEFCEAKb6rljAQgSmUnAFHiYjAC2gkQgGhXcjaMAAIIEIDQAwgggAACCCCAAAIIeCFAAOKFqoZzEoAoFZ0ARImLwQhoJ0AAol3J2TACCCBAAEIPIIAAAggggAACCCDghQABiBeqGs5JAKJU9DVVz4fqEVg7lJ3A97FKFWYwAvkJ8IHLz4+zEUAAgVAK8AisUJaNi0YAAQQQQAABBBAocgECkCIvUFgujwBEqVIEIEpcDEZAOwECEO1KzoYRQAAB7gChBxBAAAEEEEAAAQQQ8EKAAMQLVQ3nJABRKjoBiBIXgxHQToAARLuSs2EEEECAAIQeQAABBBBAAAEEEEDACwECEC9UNZyTAESp6AQgSlwMRkA7AQIQ7UrOhhFAAAECEHoAAQQQQAABBBBAAAEvBAhAvFDVcE4CEKWir636W6jeAbJ9WTe+j1WqMIMRyE+AD1x+fpyNAAIIhFKAd4CEsmxcNAIIIIAAAggggECRCxCAFHmBwnJ5BCBKlSIAUeJiMALaCRCAaFdyNowAAghwBwg9gAACCCCAAAIIIICAFwIEIF6oajgnAYhS0QlAlLgYjIB2AgQg2pWcDSOAAAIEIPQAAggggAACCCCAAAJeCBCAeKGq4ZwEIEpFX1cdrkdgbVfKI7CUCsxgBPIUIADJE5DTEUAAgTAK8AisMFaNa0YAAQQQQAABBBAodgECkGKvUEiujwBEqVAEIEpcDEZAOwECEO1KzoYRQAAB7gChBxBAAAEEEEAAAQQQ8EKAAMQLVQ3nJABRKjoBiBIXgxHQToAARLuSs2EEEECAAIQeQAABBBBAAAEEEEDACwECEC9UNZyTAESp6Our59lKJwQ8uGnp8XwfG3ANWF4vAT5wetWb3SKAAAKuAI/AohEQQAABBBBAAAEEECi8AAFI4U21nJEARKnsBCBKXAxGQDsBAhDtSs6GEUAAAQIQegABBBBAAAEEEEAAAS8ECEC8UNVwTgIQpaITgChxMRgB7QQIQLQrORtGAAEECEDoAQQQQAABBBBAAAEEvBAgAPFCVcM5CUCUik4AosTFYAS0EyAA0a7kbBgBBBAgAKEHEEAAAQQQQAABBBDwQoAAxAtVDeckAFEq+vrqv4fsHSBd+T5WqcIMRiA/AT5w+flxNgIIIBBKAd4BEsqycdEIIIAAAggggAACRS5AAFLkBQrL5RGAKFWKAESJi8EIaCdAAKJdydkwAgggwB0g9AACCCCAAAIIIIAAAl4IEIB4oarhnAQgSkUnAFHiYjAC2gkQgGhXcjaMAAIIEIDQAwgggAACCCCAAAIIeCFAAOKFqoZzEoAoFX199YshewTWsXwfq1RhBiOQnwAfuPz8OBsBBBAIpQCPwApl2bhoBBBAAAEEEEAAgSIXIAAp8gKF5fIIQJQqRQCixMVgBLQTIADRruRsGAEEEOAOEHoAAQQQQAABBBBAAAEvBAhAvFDVcE4CEKWiE4AocTEYAe0ECEC0KzkbRgABBAhA6AEEEEAAAQQQQAABBLwQIADxQlXDOQlAlIpOAKLExWAEtBMgANGu5GwYAQQQIAChBxBAAAEEEEAAAQQQ8EKAAMQLVQ3nJABRKvqG6pdC9Q6QJqXH8H2sUoUZjEB+Anzg8vPjbAQQQCCUArwDJJRl46IRQAABBBBAAAEEilyAAKTICxSWyyMAUaoUAYgSF4MR0E6AAES7krNhBBBAgDtA6AEEEEAAAQQQQAABBLwQIADxQlXDOQlAlIpOAKLExWAEtBMgANGu5GwYAQQQIAChBxBAAAEEEEAAAQQQ8EKAAMQLVQ3nJABRKvqG6vkhewTW0Xwfq1RhBiOQnwAfuPz8OBsBBBAIpQCPwApl2bhoBBBAAAEEEEAAgSIXIAAp8gKF5fIIQJQqRQCixMVgBLQTIADRruRsGAEEEIj2HSCrV38hkyY9IM8/P1+WL18pqVRKWrRoJp06HSb9+/eRjh0PLVgLJJMfuWu9+OKrsnLlZxKLxdy1jjuuswwY0FcOPLBtwdZiIn8F6CN/vaO6Gn0U1cr6uy/6yF/vqK5GH/lXWd0CkNdue0R+0+4Q6TdhlDz0wpyCQZc331cu7dFXjj34CNl3jz0lnbZl1Tf/lhfefkOmPjdT3l+RLNhaRTkRAYhSWQhAlLgYjIB2AgQg2pWcDSOAAALRDUDmzPmbnHPOYPn++x8aLPNFF50jd9xxg5SUlOTVClOmTJfBg8fIjz/+WO88paWlcu21Q2T06MF5rcPJ/gvQR/6bR3FF+iiKVfV/T/SR/+ZRXJE+8reqOgUgV/1hgNx0Xs2/6xYyABnY/XS5/cKR0mSbbestXlV1lVz3yN0y9tF7/C2un6sRgChpE4AocTEYAe0ECEC0KzkbRgABBKIZgMyf/5p07drHvePDOZy7L7p3P0aaNNlW/vnPxTJv3gKx7ZpHwzohyF133dToVpg+fZYbtGw8OnbsIEcf/Rv3jwsWvCGvvfavTT8bP360DB9+YaPX4kR/Begjf72juhp9FNXK+rsv+shf76iuRh/5X1ldApB+XXvKtCtucO+Ado5CBSBnHXuSTB/xp02FW7h0scx/5033z11+eZj89sD2m342/N6JMnHW/f4X2Y8VCUCUlDdULwjZO0C68H2sUoUZjEB+Anzg8vPjbAQQQCCUAlF7B8j69eslHu8sn3662q3H6NGXy/XXDxfD+N//zL344ivSo8f5snbtOnfM/Pkz5aijakILleOLL76UiopOsmbNWnf+yZPHycCBZ202xSOPPCH9+g1xwxjnTpClS+eLabZWWYaxAQjQRwGgR3BJ+iiCRQ1gS/RRAOgRXJI+CqaoOgQgo/sOkuvOumRT+OFIFyIA2ePnu0rygeflZ9ttL+l0Wi6cdL1MfXbmZoXse8zv5cFhY6W0pFScO0Ha9T9JkqtWBlNsL1clAFHSJQBR4mIwAtoJEIBoV3I2jAACCETvDpBJk+6Xyy672i2t8/6Nv//9sXrL/Nhjc6RPn4vdnzl3bSxc+LRyOwwdep3ceutU97z+/fvK1Knj651j3LhJMmpUzd9e69Onp8yYcafyWpzgrwB95K93VFejj6JaWX/3RR/56x3V1eijYCob5QDECSjuH3qjnHhY5zq4hQhAJg4YIUNP7efO7bznY+DtY+ot4sg/9Jdx5w1xfzZj/lw5808jgim2l6sSgCjpEoAocTEYAe0ECEC0KzkbRgABBKIXgLRv300WL37PLe2CBbPlyCOPqLfMziOw2rU7Sj78sOalicuXvy6tWu2bc0s4fxOtWbNfyVdffeOes2LFm7LvvnvVe77zty5btOgg//3vt9K0aRP56qv3ZPvtt8t5LQb6L0Af+W8exRXpoyhW1f890Uf+m0dxRfoomKpGMQBx3sXhBBNX9r7AvTvDOb5fu0YWV34gXQ46zP1zvgGIc2f1F4+/Irvv/At3vn3PPFY++bLm7u4tD+d6Vj26QHbZcSdZt2G97Na7k/ufkToIQJTKuSH1j3A9AqvkSL6PVaowgxHIT4APXH5+nI0AAgiEUiBKj8Bywog99jjIfb/HzjvvJF9//V7WF5wPG3a93HJLzQsTJ068WoYOHZRzDd966//k0ENPdMcfcEAbee+9l7Kee+qp/eWJJ55zx8yePVV69eqe81oM9FeAPvLXO6qr0UdRray/+6KP/PWO6mr0UXCVjWIAcs5xPeTB4f97f97byaVy9vir5LTOx8uYs2rurs43AGlf0U7eumuWO9d7H1vyy4E9shZx1tW3yam/Pd4d0+v6y+XJ114IruherEwAoqRKAKLExWAEtBMgANGu5GwYAQQQiNYdIM7Lzbt16+uWNdvjrzbWffbsuXLaaQPdP5522u9k5syaMCSX4557HpZBg0a6Q7M9/mrjXBMnTpHhw29w/+i8CN15ITpHcQrQR8VZl7BdFX0UtooV5/XSR8VZl7BdFX0UXMWiHIB88/23cuOjU2TSnBmSSqfk2rMuLlgAMqB7b7nn8ppHXmV7/NXGyg499VyZOGC4+8fxM6fJlffdElzRvViZAERJlQBEiYvBCGgnQACiXcnZMAIIIBCtACTz+dYDB54pU6bcnLXEixa9I4cdVnMnxkEH7S/vvJP73xbLfP/HuHFXyciRl2Rda9asZ6R375o7TE4++XiZM+d+2q9IBeijIi1MyC6LPgpZwYr0cumjIi1MyC6LPgquYFEMQLod+ls5qFVcpsx9XL5b+8Mm3EIGIJnv/xg57Va5+fH7shbRufvDuQvEOea8/pL0HHNpcEX3YmUCECXVH1OvhOoRWNuWdOb7WKUKMxiB/AT4wOXnx9kIIIBAKAWi9AisUaPGybhxNS8Yv/HGEfLHP16etSarVn0ue+3VwR3TrNnu8vnnS3KuofMCdedF6s7xyCOTpG/fU7Keu3DhIunUqeb2/cMPP0TeeOOZnNdioL8C9JG/3lFdjT6KamX93Rd95K93VFejj4KrbBQDkIY0CxmAzBg5Xvoc/Tt3qb5/GiGPzp+btYgd9z9YFt4+wx3zxgfvSMfBfYIruhcrE4AoqRKAKHExGAHtBAhAtCs5G0YAAQSidQfIxRePkrvvfsgt6623XitDhgzIWmLnpeS77NLOHeO8nHzduuU5t0T37mfJc8/Nd8c/+eR90rPnCVnPXbLkfTnkkJpnE7dtWyEffLAg57UY6K8AfeSvd1RXo4+iWll/90Uf+esd1dXoo+AqSwDSOPu5N0yW7r8+0j2553WXypyF2d+196vWbWXJ5Cfc8R+sXC7t+v++cQsX61kEIEqVIQBR4mIwAtoJEIBoV3I2jAACCEQrALnggmEybdpjblknTx4ngwadnbXEGzZskKZNW7tjYrGYpFKf5twSxx57urz00mvu+Oeff0S6dTsq67nLllVK27Y1/0euVat9Zfny13Nei4H+CtBH/npHdTX6KKqV9Xdf9JG/3lFdjT4KrrIEII2zf+FP0+TYQ45wT+42aoDMe6vm37kbOuJ7t5Rl0551f7x89SdS3q9b4xYu1rMIQJQqQwCixMVgBLQTIADRruRsGAEEEIhWADJgwAi5996a299VA5CSkhKprv4k55bo2vUMeeGFV9zxqgFI69b7SWXlwpzXYqC/AvSRv95RXY0+impl/d0XfeSvd1RXo4+CqywBSOPs5427V7q2/417smoAUrnqE6k4lwCkcfLROOvH1GshewdIJ76PjUbrsYuQCPCBC0mhuEwEEAhEoEREUoGs7PGiUXoHyBVXjJHbbrvXFbvttjEyeHD/rHqZj8DafvvtZM2aZM7ap5xygTz11PPu+KeemiY9emT/P1qZj8Bq1y4u779f8/gsjuIToI+KryZhvCL6KIxVK75rpo+KryZhvCL6KLiqEYA0zv6Ja/4sp3Q6zj25x5hL5enXc38E1vsrknLggJMbt3CxnsUdIEqVIQBR4mIwAtoJEIBoV3I2jIB3AqZprhCRfUXkp3Q6fUhlZeXSra0Wj8cX2LZ9pGEY/0gkEl22Nt6nn8dM07zIMIyKRCKR/Y3aHlyQaZob//bKdZZljfFgCYlSAHLNNRPkhhtud5nGjr1SRo26LCtZ5kvQmzdvJqtWvZ0z8dlnXyYPP1zzrOEZM+6UPn16Zj038yXoHTt2kIULn855LQb6K0Af+esd1dXoo6hW1t990Uf+ekd1NfoouMoSgDTO/qHh4+Ts42pCjD7jhstjL9c83qqhI/Ml6AuXLpZOQ85s3MLFehYBiFJlCECUuBiMgHYCBCDalZwNI+CdQEYA4izylmVZh2/tDopiDEDi8fgM27b7iMhDlmX1806s/pkJQNTEp0yZLhdeeJV70sUX95M77xybdYJ//WuJ/PrXv3PHtG//S3nrrZo7OnI5Ro68SW6++S536IQJV8uwYYOynjZz5l/l9NMvdMf06nWizJ5dc6cKR/EJ0EfFV5MwXhF9FMaqFd8100fFV5MwXhF9FFzVCEAaZz/uvCEy8g81d3IPmzpBbpn9QNaJTuvcTWaOvtUdM/vVeXLaDUMat3CxnkUAolSZH1MLQ/YIrN/wfaxShRmMQH4CfODy8+NsBBDIENgiAHF+MsqyrHHZkIo0AHHvSiEACUd7v/rqm9K58ynuxXbvfozMnTs964XPmvWM9O5dE1yccUYPefTRmkAjl+Phh2fL2WfX3BSUS9gyYcJkGTHiRnf8VVddIjfdVBPUcBSfAH1UfDUJ4xXRR2GsWvFdM31UfDUJ4xXRR8FVjQCkcfZnHvN7efjKm92T73x6hlx6V/a/1DTstPNkQv9h7vibHpsqf3yg5o7wyBwEIEqlJABR4mIwAtoJEIBoV3I2jIB3AvUEID/WPgrrg4ZWJQCpK8MdIGo9+u2338kuu7QT27Zl9913lS++eEcMo+H/ect8JvbEiVfL0KHZ7+LIvJp33/1ADjqo5tnEHTocJIsWPZf1YjPfGTJ79lTp1au72uYY7ZsAfeQbdaQXoo8iXV7fNkcf+UYd6YXoo+DKSwDSOPsDW5ry7j1z3JMXJd6Twy49PetEme8M6XX95fLkay80buFiPYsARKkyBCBKXAxGQDsBAhDtSs6GEfBOICMA+VBE2oiI8zvmX5ZldWzoUVgEIAQghehI5w4Q5286Osebb86Vww47uN5pnZCkbdsjJZFY7v7ceSm583LyXA/n/JYtD5eVKz+TkpIS+fTTRbLnnnvUe/q6deulRYv24nwBUVZWJl9++X+y88475boU4wIQoI8CQI/gkvRRBIsawJboowDQI7gkfRRMUQlAGu/+8fQXZL9mLaQ6VS179z1avvjP1/VO1nTbJrLq0Zfl5z/bSX6qqpLde3eS79b+0PiFi/FMAhClqhCAKHExGAHtBAhAtCs5G0bAO4GMAOQhwzC+s23bfRu1YRgjE4lEzf3MWxxbC0DKy8uPMAzjYsMwOovI7iKyTkTes237sR133HHa22+/XbXlnJnX0dA7PEzTfFBEzhGRlZZl7efMkfHP6lynZVnu78uM6x2bSqWejMVizvOTnG/b1xiG8XYqlTqpsrLyR2dseXn5boZhDDQMo6tzqoj8XETWi8hqwzCcx2z92bKsZfVcPy9BV2zTzOdcn3DC0fLccw/XO8OMGU/KmWde6v4slzs46psk8z0ggwadJZMn/6netcaO/bOMHj3e/dmpp3aXWbOmKu6K4X4L0Ed+i0dzPfoomnX1e1f0kd/i0VyPPgqmrgQgjXfPfA/I5Gf+IhdNur7eyUadMVDGnlvzWNpZr8yT3jdG7P0fzsYIQJQa6cfUGyF7B8gRfB+rVGEGI5CfAB+4/Pw4GwEEMgQyg4c1a9ZctMMOO7wrIq1F5Efbtg9OJpPOnSGbHVkCkJhpmhNE5IosyEsMw/hdIpFYnTnGjwBERP4iIieIyKa/0m8Yxt8TicTxzrWYpnmiiDwuIjtkuf4fDcPokUgk/rbF9ROAKH6yNmzYIAcccIwsX77CPfOyy86XW265RkpLSzfN9OKLr0iPHufL2rVOhiby7LPT5cQTj1FcSeTLL7+WeLyze2eHc4wfP1qGD6950fnGw3lXyLnnXiGpVMq9U2TJknly4IFtldfiBH8F6CN/vaO6Gn0U1cr6uy/6yF/vqK5GHwVTWQKQxrvvtvMukpj2rHtnh3MMv3eiTJx1/2YTOu8KeWDYWCktKXXvFDn4wl7y/opk4xct1jMJQJQqQwCixMVgBLQTIADRruRsGAHvBLYMHioqKjo7dzrUPgrrTcuyfrPlo7AaCkDi8fgNtm2Prr3aJw3DuLW0tPTDqqqqnUWkh4hcKyI7isg7P/300xErVqzYsHFnjQ1AysvLt912223LqqqqnheRTrZtz9hmm23cF0QsXbp0jfOfG6+3dq3vDcM4v7q6+pXS0tIDnKAnkUgsbNWq1T5lZWUf2ra9nW3byVgs5uxjUSqVWlNaWrqPbdtn27Z9kYg4385/ZFmWExJtOngHSON6dP7816RbtzOlqqrmpqCKipbSo0c32WGH7eXNNxfL88+/7L4nxDn69+8rU6fW3J2ReTz44ONucLHxsO1V9V7M9Omz5JxzBm/62cEHHyAnnHCUG7i8/PLrmx7H5QwYO/ZKGTXKvRmKIwQC9FEIihSCS6SPQlCkEFwifRSCIoXgEukj/4tEAFK/+TnH9ZAHh9+06YdG1/3rHXjWsSfJ9BH/u8N6cfIDeX7Rq1KdSslRvzpMOh/YYdN5o+6/Xcb9JaJ3WROAKH14CUCUuBiMgHYCBCDalZwNI+CdQH3Bg2mad4iI+8whwzCuTCQSm33rXF8A0rZt24pUKuU8GiomIpMsy6rz7bFpmoeKyBsiUiIiQy3LunXjzhobgGw8PyPkeGjLR2htEYD0tyzrvi1F4/H4eNu2h4vIT4ZhtEkkEh9vOaaiouI2wzDcb9BjsVh82bJlVsb1cwdII9v06afnucHEd9993+AMAwb0lbvvHufembHlkWsA4px3zz0Py+DBY8T525X1HbFYTK65Zohce222m5gauVFO81SAPvKUV5vJ6SNtSu3pRukjT3m1mZw+8rfUBCD1e+cagDhnD+jeW24fNFL+n707gZKjqv4Hfm/19GQhiOAGY5CQ6XrV4xAE44YihE1RxJXFBWURf4riAoo7rshfBVFRQEUFFMV9QUVRZHFHCWjCOF2vOgsYgrghBrN197v/c9uqOZXJTJLKdCddU986x4Mw1dXvfd6b6ul3692rtT4mOnSX9Qe+chl94Ooxgc+/AAAgAElEQVRLd+zg7sh3QwAkk/bG1u9ylQKrv/QUrMdmGmGcDIGpCeAXbmp+eDUEIJASmCjwMDAwMHvOnDlLiWg+EelK8YHpuhcTBUCCILhARN7CzGv7+voeley+GI/t+/7VzPwyIqpZa8fyC+2gAIhs3Lhxj5UrV/57fLuMMa9g5qc65/4WRdF7JpokQRA8T0S+pz9j5oN150hyHnaATO3X6r77/k6f/vQV9MMf3kArVvyF1q1bT4961MPpqU99AmnNjkWLnjrpG2QJgOhFli+/q/1e119/C9199z3UaDTp0Y/ekxYtOojOPPNU0p0hOPIpgHmUz3HrtVZjHvXaiOSzPZhH+Ry3Xms15tGOGxEEQCa2zhIA0Svsu+dcOvN5L6VnLjyYHvPIvajc10f3/OM+unnJH+jT3/8q/XHZZtmVd9wg74h3QgAkkzICIJm4cDIECieAAEjhhhwdhkD3BCYLPFQqlUM9z7vpf2v9/NswDA8mIqctmSgAYoz5g9aoJqLF5XJ50WQt3rhx46nMrDtMdBfFw2u12j/1/++gAMhmqau2VXZwcHDvUql0OhG1gyPOuUX1ev2W5PUIgGyrJM6DAAQgAAEIQAACEIBAbwkUKQDSW/LTrDUIgGQaUARAMnHhZAgUTgABkMINOToMge4JbCnwYIz5FBGdqe+u6aGiKLpwCwEQDWTskaWlcZH1P+7AAIjWNHnKlto4d+7cWbNmzdIq24/zPG9QRLTWhya7fXj6dZ7nHVar1bRWSvtAACTLyONcCEAAAhCAAAQgAAEI9I4AAiC9Mxa5bgkCIJmGb2Pr1pylwHoy1mMzjTBOhsDUBPALNzU/vBoCEEgJbCkAsv/++++yfv36JUkqLGY+IAzDcJIdIFrFWguEb/MhIodGUfSLOICwkoj2IaLNangkFzTGXElEJxPRXdbaeek32pYaIMx8SxiGk+5OMcZosOc8ItptXCd054s6aM2PE/RnCIBs8zDjRAhAAAIQgAAEIAABCPS0AAIgPT08+WkcAiCZxgoBkExcOBkChRNAAKRwQ44OQ6B7AltLPVWtVhc5525Mp8IKguBGDV6kAwrGmAeI6CFE9HVr7Yuztnhr7YiDJF+PAxAdD4AEQfAmEfm4vg8z3+2c+y4R6e6U0VmzZt25ZMmS/xpjjiSinyEAknV0cT4EIAABCEAAAhCAAAR6VwABkN4dm1y1DAGQTMOFAEgmLpwMgcIJIABSuCFHhyHQPYFtDDxcQkSvjVuhhc6PHR8A8X1/KTNr9eitpZnSe9hmW12NMcvinSbXWGtfOlGPjTE3EJGmp+poAETTXs2ePfveeOfH79euXbto1apV68a3wRijgZ1rEADp3nzElSEAAQhAAAIQgAAEILCjBRAA2dHi0/T9EADJNLAIgGTiwskQKJwAAiCFG3J0GALdE9iWAMjw8PCcRqOhKaD2JSINDNxHRPPG7QBJgiRN59y+9Xp91SRBjM8R0YuIaDkzHx6G4Ro9zxij119ARDdYa48a/9pFixb1rV69WuuM6C6TzQIgvu/fxMya3mqzFFoTpexKXz8IgieIiBZx1+NMa632ZbPDGHM5EWkhdN0lckQYhrozpn2gBkj35iiuDAEIQAACEIAABCAAgW4KIADSTd0CXRsBkEyDvbH1h5zVAHki1mMzjTBOhsDUBPALNzU/vBoCEEgJbEsARE8PguAwEfm5rv0nL08HQHzfP4CZ79Cfici1URS9kIhaaWzf95/MzFrzo5+ZfxqG4TOTnxtjvk1E+poN5XJ53sjIyF/TrzXGvIOIzo//22YBEGOMpqbSFFWb7SDZWgAk3XYiutRa+7rxk8T3/aOY+cdEVNKfMfOzwjD8Sar9yR9v77fWvq8bk0zknlz9gdgNA1wTAhCAAAQgAAEIQAACnRZAAKTTogW9HgIgmQYeAZBMXDgZAoUTQACkcEOODkOgewLbGgDRFvi+fykzn5G0ZnxRcWNMOlXWL51z53med7tzbjdmfjYzv5+Idiei9cz85DAMdddH+wiC4GUicnX8r39i5rNFZImIzPU87zUi8moiuj9+/UQBkK8R0YlEtKrVah3GzA/U6/W/x9e+eXzKrnGiJWPM3UQ0QERORN7rnPtaqVT6t6blYmZtm6YAGyvyzswnhGH4zeQ62AHSvTmKK0MAAhCAAAQgAAEIQKCbAgiAdFO3QNdGACTTYCMAkokLJ0OgcAIIgBRuyNFhCHRPIEsAJE6FtVTTX2mLxgdAFi5cWF6zZs1lRPTKLbR4jYi8JIqiH00QhLiWiJ490WuZ+bfOuS8xs15/ohRYr2bmz6Rf63nevrVabeXWdoDoa3zffw4za+HzsSDHuHY4IvoIEZ1NRDOI6F3W2mRHClJgdW+K4soQgAAEIAABCEAAAhDoqgACIF3lLc7FEQDJNNYbW7flKsNBf+kJWI/NNMI4GQJTE8Av3NT88GoIQCAlkCUAoi8LguBwEdFi5Dw+AJJc1vf9QzzPe7WIPI2I9tRdFXHNjx+3Wq1PTlYfRNNLGWNeycyniIgWVNf3sET05b322uvT995774tF5MsTBUCIyDPGnMvMp4mIvue/iOgEa+0vtyUAom2vVqsLnXNvJaJDiOjhmo6LiP5CRL92zl1Sr9fvSBViX2ytfULSZ+wAwa8VBCAAAQhAAAIQgAAE8imAAEg+x63nWo0ASKYhQQAkExdOhkDhBBAAKdyQo8MQgAAEtLYKaoBgHkAAAhCAAAQgAAEIQKDTAgiAdFq0oNdDACTTwCMAkokLJ0OgcAIIgBRuyNFhCEAAAgiAYA5AAAIQgAAEIAABCECgGwIIgHRDtYDXRAAk06AjAJKJCydDoHACCIAUbsjRYQhAAAIIgGAOQAACEIAABCAAAQhAoBsCCIB0Q7WA10QAJNOgN1q356oGSLn0eKzHZhphnAyBqQngF25qfng1BCAAgVwKIAVWLocNjYYABCAAAQhAAAIQ6HEBBEB6fIDy0jwEQDKNFAIgmbhwMgQKJ4AASOGGHB2GAAQggB0gmAMQgAAEIAABCEAAAhDohgACIN1QLeA1EQDJNOgIgGTiwskQKJwAAiCFG3J0GAIQgAACIJgDEIAABCAAAQhAAAIQ6IYAAiDdUC3gNREAyTTojdYdOUuBdSDWYzONME6GwNQE8As3NT+8GgIQgEAuBZACK5fDhkZDAAIQgAAEIAABCPS4AAIgPT5AeWkeAiCZRgoBkExcOBkChRNAAKRwQ44OQwACEMAOEMwBCEAAAhCAAAQgAAEIdEMAAZBuqBbwmgiAZBp0BEAyceFkCBROAAGQwg05OgwBCEAAARDMAQhAAAIQgAAEIAABCHRDAAGQbqgW8JoIgGQadARAMnHhZAgUTgABkMINOToMAQhAAAEQzAEIQAACEIAABCAAAQh0QwABkG6oFvCaCIBkGvSG+2O+aoB4B2A9NtMI42QITE0Av3BT88OrIQABCORSADVAcjlsaDQEIAABCEAAAhCAQI8LIADS4wOUl+YhAJJppBAAycSFkyFQOAEEQAo35OgwBCAAAewAwRyAAAQgAAEIQAACEIBANwQQAOmGagGviQBIpkFHACQTF06GQOEEEAAp3JCjwxCAAAQQAMEcgAAEIAABCEAAAhCAQDcEEADphmoBr4kASKZBb7glOUuBtT/WYzONME6GwNQE8As3NT+8GgIQgEAuBZACK5fDhkZDAAIQgAAEIAABCPS4AAIgPT5AeWkeAiCZRgoBkExcOBkChRNAAKRwQ44OQwACEMAOEMwBCEAAAhCAAAQgAAEIdEMAAZBuqBbwmgiAZBp0BEAyceFkCBROAAGQwg05OgwBCEAAARDMAQhAAAIQgAAEIAABCHRDAAGQbqgW8JoIgGQa9KZbmqsUWH3eAqzHZhphnAyBqQngF25qfng1BCAAgVwKIAVWLocNjYYABCAAAQhAAAIQ6HEBBEB6fIDy0jwEQDKNFAIgmbhwMgQKJ4AASOGGHB2GAAQggB0gmAMQgAAEIAABCEAAAhDohgACIN1QLeA1EQDJNOgIgGTiwskQKJwAAiCFG3J0GAIQgAACIJgDEIAABCAAAQhAAAIQ6IYAAiDdUC3gNREAyTToCIBk4sLJECicAAIghRtydBgCEIAAAiCYAxCAAAQgAAEIQAACEOiGAAIg3VAt4DURAMk06E13Z85qgOyH9dhMI4yTITA1AfzCTc0Pr4YABCCQSwHUAMnlsKHREIAABCAAAQhAAAI9LoAASI8PUF6ahwBIppFCACQTF06GQOEEEAAp3JCjwxCAAASwAwRzAAIQgAAEIAABCEAAAt0QQACkG6oFvCYCIJkGHQGQTFw4GQKFE0AApHBDjg5DAAIQQAAEcwACEIAABCAAAQhAAALdEEAApBuqBbwmAiCZBr3p/pyzFFiPxXpsphHGyRCYmgB+4abmh1dDAAIQyKUAUmDlctjQaAhAAAIQgAAEIACBHhdAAKTHBygvzUMAJNNIIQCSiQsnQ6BwAgiAFG7I0WEIQAAC2AGCOQABCEAAAhCAAAQgAIFuCCAA0g3VAl4TAZBMg44ASCYunAyBwgkgAFK4IUeHIQABCCAAgjkAAQhAAAIQgAAEIACBbgggANIN1QJeEwGQTIOOAEgmLpwMgcIJIABSuCFHhyEAAQggAII5AAEIQAACEIAABCAAgW4IIADSDdUCXhMBkEyD3nSjOasBMoT12EwjjJMhMDUB/MJNzQ+vhgAEIJBLAdQAyeWwodEQgAAEIAABCEAAAj0ugABIjw9QXpqHAEimkUIAJBMXToZA4QQQACnckKPDEIAABLADBHMAAhCAAAQgAAEIQAAC3RBAAKQbqgW8JgIgmQYdAZBMXDgZAoUTQACkcEOODkMAAhBAAARzAAIQgAAEIAABCEAAAt0QQACkG6oFvCYCIJkGveXCXKXAKnkB1mMzjTBOhsDUBPALNzU/vBoCEIBALgWQAiuXw4ZGQwACEIAABCAAAQj0uAACID0+QHlpHgIgmUYKAZBMXDgZAoUTQACkcEOODkMAAhDADhDMAQhAAAIQgAAEIAABCHRDAAGQbqgW8JoIgGQadARAMnHhZAgUTgABkMINOToMAQhAAAEQzAEIQAACEIAABCAAAQh0QwABkG6oFvCaCIBkGvSWszlLgWWwHptphHEyBKYmgF+4qfnh1RCAAARyKYAUWLkcNjQaAhCAAAQgAAEIQKDHBRAA6fEBykvzEADJNFIIgGTiwskQKJwAAiCFG3J0GAIQgAB2gGAOQAACEIAABCAAAQhAoBsCCIB0Q7WA10QAJNOgIwCSiQsnQ6BwAgiAFG7I0WEIQAACCIBgDkAAAhCAAAQgAAEIQKAbAgiAdEO1gNdEACTToCMAkokLJ0OgcAIIgBRuyNFhCEAAAgiAYA5AAAIQgAAEIAABCECgGwIIgHRDtYDXRAAk06C3XJSzGiA+1mMzjTBOhsDUBPALNzU/vBoCEIBALgVQAySXw4ZGQwACEIAABCAAAQj0uAACID0+QHlpHgIgmUYKAZBMXDgZAoUTQACkcEOODkMAAhDADhDMAQhAAAIQgAAEIAABCHRDAAGQbqgW8JoIgGQadARAMnHhZAgUTgABkMINOToMAQhAAAEQzAEIQAACEIAABCAAAQh0QwABkG6oFvCaCIBkGvSWW5azFFiDWI/NNMI4GQJTE8Av3NT88GoIQAACuRRACqxcDhsaDQEIQAACEIAABCDQ4wIIgPT4AOWleQiAZBopBEAyceFkCBROAAGQwg05OgwBCEAAO0AwByAAAQhAAAIQgAAEINANAQRAuqFawGsiAJJp0BEAycSFkyFQOAEEQAo35OgwBCAAAQRAMAcgAAEIQAACEIAABCDQDQEEQLqhWsBrIgCSadARAMnEhZMhUDgBBEAKN+ToMAQgAAEEQDAHIAABCEAAAhCAAAQg0A0BBEC6oVrAayIAkmnQnSzPVQ0Qj+djPTbTCONkCExNAL9wU/PDqyEAAQjkUgA1QHI5bGg0BCAAAQhAAAIQgECPCyAA0uMDlJfmIQCSaaQQAMnEhZMhUDgBBEAKN+ToMAQgAAHsAMEcgAAEIAABCEAAAhCAQDcEEADphmoBr4kASKZBRwAkExdOhkDhBBAAKdyQo8MQgAAEEADBHIAABCAAAQhAAAIQgEA3BBAA6YZqAa+JAEimQXeyImcpsPbFemymEcbJEJiaAH7hpuaHV0MAAhDIpQBSYOVy2NBoCEAAAhCAAAQgAIEeF0AApMcHKC/NQwAk00ghAJKJCydDoHACCIAUbsjRYQhAAALYAYI5AAEIQAACEIAABCAAgW4IIADSDdUCXhMBkEyDjgBIJi6cDIHCCSAAUrghR4chAAEIIACCOQABCEAAAhCAAAQgAIFuCCAA0g3VAl4TAZBMg44ASCYunAyBwgkgAFK4IUeHIQABCCAAgjkAAQhAAAIQgAAEIACBbgggANIN1QJeEwGQTIPu5K6c1QDZB+uxmUYYJ0NgagL4hZuaH14NAQhAIJcCqAGSy2FDoyEAAQhAAAIQgAAEelwAAZAeH6C8NA8BkEwjhQBIJi6cDIHCCSAAUrghR4chAAEIYAcI5gAEIAABCEAAAhCAAAS6IYAASDdUC3hNBEAyDToCIJm4cDIECieAAEjhhhwdhgAEIIAACOYABCAAAQhAAAIQgAAEuiGAAEg3VAt4TQRAMg26k7tzlgLrMV1bj61Wqwucc28losOI6JFE9E8iuo2ZLwnD8CeZYFMnd+u629sevA4CWQS69guXpRE4FwIQgAAEdqwAUmDtWG+8GwQgAAEIQAACEIBAMQQQACnGOHe9lwiAZCJGAOR/XEEQPFdEvkVE5YkAmfniMAzfmAm3i9fN2g6cD4HtFUAAZHvl8DoIQAACORZAACTHg4emQwACEIAABCAAAQj0rAACID07NPlqGAIgmcYLARCiSqVyoOd5vyaiWUT0B+fcOX19fXeKyL4i8i4ien6Meqa19pJtBe7Wdbf1/XEeBDohgABIJxRxDQhAAAI5E0AAJGcDhuZCAAIQgAAEIAABCORCAAGQXAxT7zcSAZBMYySyKlcpsJjndnw91hjzQyI6hojq5XL5wJGRkQdTiGyM+ToRHa8psZh53zAM12wLcreuuy3vjXMg0CmBjv/CdaphuA4EIAABCHRPAAGQ7tniyhCAAAQgAAEIQAACxRVAAKS4Y9/RniMAkomz6AEQY0yViEYVTUROi6LoivGAg4ODe5dKpZVE5BHRKdbaq7aG3K3rbu198XMIdFoAAZBOi+J6EIAABHIggABIDgYJTYQABCAAAQhAAAIQyJ0AAiC5G7LebDACIJnGBQEQcxYRXaTxDy18bq39x0SAxpjbiGghEX3PWvuCrSEb053rbu198XMIdFoAAZBOi+J6EIAABHIggABIDgYJTYQABCAAAQhAAAIQyJ0AAiC5G7LebDACIJnGBQEQo7s5XkFEK621+06GZ4y5nIhOJ6K/WGsfszVkY7pz3a29L34OgU4LIADSaVFcDwIQgEAOBBAAycEgoYkQgAAEIAABCEAAArkTQAAkd0PWmw1GACTTuOTt+y3zozu6HmuMuYWIDiGim6y1h0+G5/v+u5n5g7pTZGBgoP/mm29ubgm6W9fNNLg4GQIdEOjoL1wH2oNLQAACEIDADhDI2x+IO4AEbwEBCEAAAhCAAAQgAIEpCyAAMmVCXEAFEADJNA/y9v22CwGQESJ6LBF9x1r7oi0EQF7PzBfHP3/EZKmyktcbY7py3UyDi5Mh0AEBBEA6gIhLQAACEMibQN7+QMybL9oLAQhAAAIQgAAEIFBMAQRAijnuHe81AiCZSPP2/bYLAZBlRDRfRL4SRdFJk+EZYzT9labBIufc3vV6fdWWoI0xXblupsHFyRDogAACIB1AxCUgAAEIQAACEIAABCAAAQhAAAIQgAAEIAABCOxoAd/3LTP7nQ6AdOu6O9oH7wcBBEAwByAAAQhAAAIQgAAEIAABCEAAAhCAAAQgAAEI5FDAGHMHER3AzN8Ow/C4ybrg+/5YCizP8x5eq9X+uaXuduu6OSRGk3MugABIzgcQzYcABCAAAQhAAAIQgAAEIAABCEAAAhCAAASKKeD7/k3MvIiIbrDWHjWZQhAE54rIB4ioZa3t10xYWxLr1nWLOUro9c4UQABkZ+rjvSEAAQhAAAIQgAAEIAABCEAAAhCAAAQgAAEIbKeAMeazRPR/IhJFUWQmu4wxRut/nM7Md4dhuM/W3q5b193a++LnEOi0AAIgnRbF9SAAAQhAAAIQgAAEIAABCEAAAhCAAAQgAAEI7AABY8yZRPQp3dnhnNujXq//Z6K3DYJgsYg8noi+b619/taa1q3rbu198XMIdFoAAZBOi+J6EIAABCAAAQhAAAIQgAAEIAABCEAAAhCAAAR2gIAxZj4RLdO3EpGXRlF0zfi3HRwc3LtUKq0kIk9Ezoii6DNba1q3rru198XPIdBpAQRAOi2K60EAAhCAAAQgAAEIQAACEIAABCAAAQhAAAIQ2EECxphfEtHBmgar1Wo9cfny5Q+k3pqNMV8nouOJ6B8zZ86ct2TJkv9uS9O6dd1teW+cA4FOCSAA0ilJXAcCEIAABCAAAQhAAAIQgAAEIAABCEAAAhCAwA4WCILgCSJyq+7wIKKlzrm3eJ53u3PuMZ7nvZuIXhA36Uxr7SVJ84wxjyain8f//l1r7TvSTd/e6+7g7uPtILBFAQRAMEEgAAEIQAACEIAABCAAAQhAAAIQgAAEIAABCORYwPf9U5hZC533TdKNi6y1b07/rFqtznPOrYj/21XW2lPGv3Z7rptjRjR9GgogADINBxVdggAEIAABCEAAAhCAAAQgAAEIQAACEIAABIolUK1WFzjnziGiw4joUUT0IBHdxsyXhGH4/fEa2xIA0ddkvW6x1NHbXhdAAKTXRwjtgwAEIAABCEAAAhCAAAQgAAEIQAACEIAABCAAAQhAILMAAiCZyfACCEAAAhCAAAQgAAEIQAACEIAABCAAAQhAAAIQgAAEel0AAZBeHyG0DwIQgAAEIAABCEAAAhCAAAQgAAEIQAACEIAABCAAgcwCCIBkJsMLIAABCEAAAhCAAAQgAAEIQAACEIAABCAAAQhAAAIQ6HUBBEB6fYTQPghAAAIQgAAEIAABCEAAAhCAAAQgAAEIQAACEIAABDILIACSmQwvgAAEIAABCEAAAhCAAAQgAAEIQAACEIAABCAAAQhAoNcFEADp9RFC+yAAAQhAAAIQgAAEIAABCEAAAhCAAAQgAAEIQAACEMgsgABIZjK8AAIQgAAEIAABCEAAAhCAAAQgAAEIQAACEIAABCAAgV4XQACk10cI7YMABCAAAQhAAAIQgAAEIAABCEAAAhCAAAQgAAEIQCCzAAIgmcnwAghAAAIQgAAEIAABCEAAAhCAAAQgAAEIQAACEIAABHpdAAGQXh8htA8CEIAABCAAAQhAAAIQgAAEIAABCEAAAhCAAAQgAIHMAgiAZCbDCyAAAQhAAAIQgAAEIAABCORfIAiCXcMwXJP/nqAHEIAABCAAAQhAAAIQmFgAARDMDAhAAAIQgED3BEpE1Ore5XFlCEAAAhCAwPYJVCqVQ5n5VaVS6dJarfab7bsKXgUBCECgpwR0jUt6qkVoDAQgAAEI7HQBBEB2+hCgARCAAAQgME0FPCJy2jddZKrX67dM036iWxCAQP4EsECUvzHraIsrlcqg53lRfNEvE9El1trfd/RNcDEIQAACO0CgWq0uaDabe9Xr9Z/Gb4fPuB3gjreAAAQgkCcBBEDyNFpoKwQgAAEI5E7AGPNVInqxiBwURdGtuesAGryjBfClfUeLF+z9Fi1a1HfzzTc3x3Ub865g80C7a4y5hIjOIKKmiHyDmS9GEKSAEwFdhkCOBYIgOFpEriOim0Tkw1EU/QxBkBwPKJoOAQhAoEsCCIB0CRaXhQAEIAABCAwODu5dKpV+RESPFZH3RVF0HhEhLRamxmQC7V1DQ0ND+zQajT3q9fodRDS2kwhsEOikgO/7VzPz7dbaizp5XVwrFwJjn0PGmAuJ6GwEQXIxbmgkBCAwTiAIgg+KyLv0PzPzD5n5klqtdj2CIJgqEIAABCCQFkAABPMBAhCAAAQg0CUBfdL6nnvuuZCZ30BE4YwZM566dOnS+/U7GvITdwk9v5dtBzqCINhfRL5HRP92zh1Ur9c35LdLaHmvChhjTiaiK4jo96VS6cTR0dG7erWtaFfXBNJBEA2CvUmDIMz8TRH5JHaCdM0dF84mkP57CX87ZbMrzNnGmPcT0bkIghRmyNFRCEAAApkFEADJTIYXQAACEIAABLZJoP1FfXBw8JGlUum3RLSviFwQRdE7URh9m/wKd1IQBIGI/JKIHk5EdxLR66y1+u84INBRgSAInisiX9R7ked5r4iflsVuo44q9/7FFi5cWF68eHFDW2qMOZ+I3qaBWGb+hnPuYqRt7P0xnIYt3OQ+NDw83D8yMqIp+9o11eIDO2mn4cBvZ5fG5kIQBOeJiP6NjZ0g24mJl0EAAhCYzgIIgEzn0UXfIAABCEBgZwvoF3mJt+e/nYhu8TzvhFqt9k+kNtrZQ9Mz7z+22OP7/quZ+TIR+XZfX98bHvWoR/19gloNPdNwNCTXAiVjzA+J6JlE9AdmPjIMwzW57hEan1Wgfe+pVCpzS6XSniLyeBF5CzNXknRYRPQpBEGysuL8KQiMLWZXKpVjS6XSASJyHBE1RKRGRDXP8z6Je9UUhKfnSxEEmZ7jil5BAAIQ6KgAAiAd5cTFIAABCECggALpJxEnTM9QqVQO8jzvRiKaISJviqLo4gI6ocubC7TnS7VaXSgiz3bOzWHm051zz6nX67prCAcEuiGQLHw/xfO8bxLRHBE5PYqibyMw2w3unrxmew5Uq9UFzjlNhfa4uLXCxPsAACAASURBVD6VxCkatdG66PxNFEbvyfGbjo1KL2J/UOvSiMjM1HxM+qyBkDcz868QCJmO02C7+4QgyHbT4YUQgAAEiiGAAEgxxhm9hAAEIACB7giMfeEaHh7ec2Rk5K+pt9kkjYMx5j1E9D4iWuyce3G9Xl/WnSbhqnkSmD9//mP6+vq02PlDRWQZM+/LzIvCMPx1nvqBtuZPYGhoaK9Wq/UlIjqCiK6y1p6av16gxdsr4Pv+EDPfQER7EZH+80YRuZOZNRXfIcx8rO4EISINjF1krf3D9r4XXgeBrQiMPTwSBMEFIvLm+PxLtH4aM/+biJ4lIk/RdKJEtEpELvY877MIgmBupQQQBMF0gAAEIACBSQUQAMHkgAAEIAABCGyfwNgXdmPM54noJGY+S9PJhGF42/gvZEEQHCYiX9GFbmZ+cRiG1+Jp6+2Dn06vqlQqj/U8Twt3HqNP4hPRehF5T39//8UjIyMbp1Nf0ZcdKjBZjvxNdqn5vn8MM/9AW8bMJ4Rh+K0d2kq82U4RmD9//m7lcvnLIvIcIvre2rVrX7Zq1ap16cbEQfsz4ppEOi8+jsLoO2W4CvOmSRrI+H70gjAMv5/uvO/75zCz7g7pJ6IvWGtfVRgcdHQygU0+0+KaMe2/nVATBJMGAhCAAATSAgiAYD5AAAIQgAAEsguMLS4aY/RJxfcT0WwtKCwiK5j5W6VS6bPr1q27b+XKleuTyxtjriKilxPREufcUfV6/e/Z3xqvmG4CQ0ND+7VarTcQ0Ut1HjHzHZ7nvXB0dPSuOC1Na7r1Gf3pqsDY7jOtP6RBWSK6KfWkdLs2kf5v3rx5M/v7+zUF0vEi8ukoijSIq4f+HMc0FahWq/Occz8noocQ0Qustb9KAvKLFi3qS2oP+b7/GmZ+FxFpjZCvoybINJ0QvdEtzxjzNZ2PRPRWa+3H4zmp6xWtOJXoT4loFyL6prX2xHiReyAMw9X4rOyNQdyBrUjvsvYGBgZmrl69eq2+/8KFC8uLFy9uxPMDhdF34KDgrSAAAQj0sgACIL08OmgbBCAAAQj0okB6i/0bNVWIiHyLmbWYsAY3ks/WW0XkDhE5v16v36tf4IMgCJxzP2DmvZj5tDAMNf/+JqmyerHDaFNHBcbGO73QGOfiPzMOgugCz03W2mfovEmf19GW4GLTWsAY82kiem07miHyVWb+jbX20lSn23PRGKPz7mJmXtdqtQ6u1+uakg3HNBYwxuhnlQbkV5VKpSePjo7qZ1T6SAfR3ioiH9aaIET0jThQdus05kHXdoJAtVo1zrmR+H51RBRFv0iCGkEQPE1EfhIHP75irdX5S8aYd2hqrBkzZjxv6dKl9++EZuMtd45A8tk1X0RewsxHM3NJRFa2Wq23LVu27C/x3+LtQD52guycQcK7QgACEOg1AQRAem1E0B4IQAACEMiFgDHmIiJ6ExGNep73ilqttjgIguNE5CAi0qf5NVCihz6Z+AXn3I31ev0WY8zniOh0EflBFEXPy0Vn0chOCGySpmGiC2oQREReJyK6E0QLU/80iqKj9VwEQToxBMW5xv7777/L+vXrNQCyj06feEeHzsEfEdG3Go3GT1asWHFfImKM+TERaRD3K+Vy+YyRkZEHi6NVvJ7Gqc++IyJ3eZ6nNYf0c2r8PWosCGKM0d0fx2tNEGb+poh8AjVBijdvutljY8yTiOi3RHQvMz8pnpO6eD1h8KNarT5VRH4mIrOI6FRrrQb0cEx/gfZ9KX5o5BoiqsQp0TTYofcwTUF7trVW59LY7lkEQab/xEAPIQABCGxNAAGQrQnh5xCAAAQgAIH/CaQXgzRFgxaG1bz57200GlctX7787tRi4pNE5BQtZk1E1fjJWf1ydjYz/4OIroi/tJ9srf0ygKe9QHvuDA0N7dNsNp/LzIdr6hlmvrbVat1Qr9fbT73qgSDItJ8LO6KD7YVsTQPyz3/+szRjxgzdqabBjafHgVktKKzBD316umatrQVBcIKIfFb/u3PuyHq9vgq703bEUO2c94hrUmkKLP0Me3kYhlqfarMjCbwaY04mosuJqI+INugONefcu+v1+u07pwd41+kmUKlUhj3P+43WwSKi52iAzff9Q5hZg7a6K3Js54dOW9/3q8z8a62rpnWzoig6b7qZoD+bCbT/lgqCYH8RuYmIdieiUET+yswa7Hi8zgci+qNz7qy5c+f+Oknnp1dCEAQzCgIQgECxBRAAKfb4o/cQgAAEILBtAum0V/s6517EzB+dZOGovfg4MDAwe86cObuLyLuY+QlEpP/TVDQ/9TxvSETmEtHnrbWv3rYm4KycCqSfVvwSEQ3Gxc61O/8hotudc++q1+v6tGL7QBAkpyO985o92e6isaCt1nwQkceJiNYEebjWdCAizZf+JxH5fLPZvK5cLn+HiA4Skc9EUdROnYUj9wLj58ZYcOw///mPpkV7EREt1lRpW9rR4fv+Ucx8HRH9Pg7qOyI6wFp7T+6F0IGeEBgeHt6j0WjcGd+bvu6cu9jzvOvjz8ux4Ee6voMx5hYN7DLzh8IwPHeCXUw90Tc0onMCg4ODFc/zrmNm3fnxXefcuXPnzrWrVq3aXe9nzKzp+rS20VLP89645557/mqyIAgRfU9EvhhF0Q8710JcCQIQgAAEelUAAZBeHRm0CwIQgAAEek7AGHMlM+tCouYXfpmILIrzVE/U1rGFJ2PMfGZ+roi8npm1mKymbGgfW7lGzxmgQZkEJnpacSURaXohnQMaDNGnFhcz85vDMNSnWdsHgiCZnIt88lhwVnd3VKvVvZvNpu76uO/+++93SVHYBCgIgoE4EKLFrZ8VP9GvP74szqH+KhH5s4icHD/dv9XUbUXG7+G+TzpuqV0dWvtFA/miNWKcc59I7UZLgmfJPUx3EWlRak3vuIaIbtWdQz3cfzSt9wS2VO8smWdvExENZMwmoo1xaqOrrLWnanfSqSB1IbxUKt1IRHOZ+cS4plrv9Rot6phAnNrxE0T0SiK6bubMmScuWbLkv0ngq1KpHOh53neJaCD+bPuj53lnbyUI8vWZM2eeHl+nY23FhSAAAQhAoPcEEADpvTFBiyAAAQhAoAcF4i9W+qSsHn8joj2I6HBr7a+2UJ9hky/8Q0ND+zWbzf2Z+T3xU9h6jS87515fr9d1NwCOaSYQF3bV4q0aOPsBEb23v7+/vmHDhobneVcQ0Qma0oGI7vA876xaraYpQNrH+CCIfuG31j5nmhGhO9svMBb8MMbojo0jiUjrCmmKIk0JErVarfN322233yxevFgLWG9yGGNOJKInx7WM9Ge6kKSpZjQt0tlhGOpCE478CYxPufeMeGzDcrl8Qaq+i2eM0dRXOg8e0LSOInJ5FEWbFDiPFx2vJaLDPM87vFar3Zw/ErR4JwuM3asGBwf3LpVKARE9zPO8v5RKpdtGRkY02EGVSuWgUqn0aRE5UP9dREaiKFqg/1931aYDusaY04lIa6pZz/OOr9VqS3dyH/H2XRaoVqsPc879kogeQUTHWGt/P25HkNaBebnu7IhTPj5M02HpAyZz5sz5VfpzMKnj55xbkE5D2uUu4PIQgAAEILATBRAA2Yn4eGsIQAACEOhpgc2eoI2LnH8mDn5o42+21h4VP8W/pacbN7nWggULdl+/fv3rmPkcDaZ4nndUrVbTnQF42rqnp0S2xlUqlYd4nqeFqE8iou/PnDnzJH3KMPnCrkVcnXPfT82n27YQBNECxJrv+rvWWk1bg6PYAukdZhdqfaH4PlRi5nWpXWZae+jDpVLpmtHRUU0vQ+kFI/33uB7EcUR0rD5NHbMm9yUsKuZrniXBj/2cc1eJiEmCWnE3bm02m0cvX75cAx56lIwxmmbo8HjeLGPmT3qed2ur1VrLzPuJyBlEpDVkbm80GsesWLFC68fggMC2CqQDtXqf0oDbE1Mv/sjMmTPPS57A933/pcysn5tay+FBEbm61Wq9Y/ny5bpzslWpVB7BzEcyc1K35p3WWk17hGOaC/i+/0Jm/hYRrfQ874m1Wu2fSZd93z+HmT8iIvW+vr4XOucOEJGL43mkn31vf/DBB29OB9F0LtXr9b9PczZ0DwIQgAAEYgEEQDAVIAABCEAAApsLpJ9WfOSyZct0x0f7CILg+LhYsH451/RFFw4MDJwb5xjeUhAkuUT7nHhx/GfxQsBl1trXYSCml0AQBIGIaN78si4uW2v/NO5pxa8S0Yt1YZGZtS7MjDgf/5t1Z1GiEe8cejszH+qce269Xr9jekmhN9sr4Pv+W7Qekb6embWo+XIRWSkixzLz0/Sp/fg+dTUzXxKG4W2p7wAaHGkf8+bNm9nf369Py76TiI4gon2I6I3WWn3COp1ma3ubitd1X2CilHtazF4XCfWJ6d3iYMjSZrN5SDoI4vv+VcysAbBd42bqoqBebw4R6X1phed5z6rVarb73cA7TCOBsb+JgiC4QETerBs74jSQOi/nMfMJYRjqona61tppIqJFzXXe6n9fwsz3abFrIhpKaqox88fCMNQHSfTYlr+/phHttO9Kezznz5+/W3Kvih9C+obOH8/z9o8fHCJjzAuI6FNx6qujrLU/N8Y8WkQ+wsz6N5ZeK2TmC5n5l7iPTfu5gw5CAAIQmFAAARBMDAhAAAIQgMAkAr7vf4KZ9yiVSh8cHR2NktPiIIguDOqC0l0icmkURRdtw06Q5BLtL/pBEJwgIrpl/1fWWn3CVlMh4ZgmAqnF6ds3btx48MqVK9cnXTPG6GL1h4jotlKpdFqr1dKFoZM1fREz/1lTNqRTzWgQRBcyR0dH750mPOjG9gmMLRJq6r177733BhE5RESOi6JIi5i3D/3ZXXfd9bByuazBEU0JosHaT+kCUBiGqyd46/ZiUxwI0RR9b9fUIc65g+r1uqbUwpEDgXTKPd115pz74Ny5c5fce++9g865NzLzS/RzS1MLNRqNp69cufLfcbc83/dPZuZD4qCszhetw6BPTt/BzO8Lw3BFDgjQxB4UCILgPBHR4Koer9EaMuVy+b5Go+G3Wq0w/ZBJ6u+s47QWURzE1bmYPjSw9xlr7fnxf0SQtgfHfQpNSh4UGi6VSpcQkQbvvzk0NLRPq9XSWmn9cZrGq4Mg2N85p7WMjhKR90ZRpIGz9g5J3/e11tWlye7IuD2/2rhx4zPSf49NoZ14KQQgAAEI5EgAAZAcDRaaCgEIQAACXRcYSyvj+/4xzKw1G9aLyOc8z7ssDMNw3JfzzxPRQ4goinOna5FYXTjapicRK5XKsZ7naQokivMQ/zl+OrLrHcUbdF8gCIJX6rwgoj97nvec5GnFOICmX+p3Z+ZnhmF4oz7lWCqVfsXMw3Eg7C7n3Bn1el13CY09qd/9VuMdelhg7L5ijDmYmf8jIlqvYcmMGTOOXrp0qdYR2uz+4/v+F5hZiwi3dEExiiLdeTRRur329TVF34YNG7TekdatOT6Kom8jPV8Pz4q4afGuws9qiiGtN9Tf3/+yuN5He1yNMVr0/kupXR13NpvNp6d2grSvpAuKrVarr1Qq7dbf3//HNWvWrMNiYe+P/05uYXI/2ey+Ev8t9TXdfZS6n2zW3Eql8oy+vj4WkY1hGN6kJ1QqlcG+vr69ReQVIqJBEN1N+RPn3J31ev238UUQ/NjJg9+Nt9f7kIjcENfL0weFzimXy67ZbJ5FRP9Ys2bN5ZrOKn6Y5Dxm/hEzvyXe3ZHc855PRPpggNZhG9Q5WCqVjk7SQXaj3bgmBCAAAQj0rgACIL07NmgZBCAAAQjsWIGxL9GVSmWG53n7EtEH4qLC63ThKE4h05EgyLx58x5aLpfPZua3EtFfiOgga+0/dmyX8W7dFPB9/yWap5yZ/6ILP1qws1KpHOh5ntZsOFRE3hFF0QU63/Qpe2OMPnn/vjjgkfyN9mHn3PvxFH43Rypf1zbGfFfvS/oErIi8n4h+ba199gS9SO5pWuxaU8zoYtBqZn76ZE/zJynajDEa9NC0Ih+01r43X0LFbK0xZj4R/VxTBjnnnqWFfXUnUJyeUdPEJCn3NL2eFqHW9EJ3zpgx49ClS5fenz63mILo9fYIGGPe7JxbWq/XdbF6s12sxhi9f7yXma8Mw/BVqafxW0NDQ3s5544QEQ3Qaro+PXRX0rXW2lNS7Wnfy8bXL9rWh022p194zU4RaAfQhoeH+xuNhgYtFhHRj5n5/L6+vj+MjIxsDIJg17322mud3teMMVXdoaZp+kTkpDi4rw33Fi1a5N1zzz0XMPMbReRNnudd0dfXt8vIyIimUcMBAQhAAAIFFEAApICDji5DAAIQgMBmAunc02/ShUIR0afFNMWV5kBvfyln5i9rECSdPzjOSZxpJ0j8pG5SDFQXon49Y8aM5+oiFMZmWgikdxJpGrV/l8vlC/Vp7HgxSAMd39MnGq21y5MeB0GgX9R1F5E+fa9ph55aKpX2x9OK02JOdKwTxpjfxznw12jNBhH5aRRFR0/yBkkqkKOY+QtxDYjnW2t/OVmDdIHJOXet1pwhoi9aa0/vWONxoe0RmGi3jl5nkyffjTFnEpEW/b1tYGDgqTfffLMuRrcXpI0xmn5IU8Ms9jzvHOec1vs4Lf6M05R7z5gkNdr2tBevKYhAEijVHUfMfEG6dpUSaMBizZo1+gT+MUT07iRllf73Bx54YKHneR8jIn3YZM/4M0/rzTTinR4XWWvfElMmvwPbtLu2IPx57+b4+1qS9mqu53laj+oKDXqVy+XD4p1s2t9NXlOpVA71PO9GIrq30WgsXLFixX1JkKxSqeh1rtWdjM65F9Tr9VvyDob2QwACEIDA1AQQAJmaH14NAQhAAAL5Fxj7QhUEwUdFRL9wa8oh3emhBV+1GPDuRPSY+MnEqz3P+/SWgiBE9Flr7SfjJx0nFIrrQ7ybiDRtzTOstbX8UxauB5MtTI5BGGMePjAw8G99WjEIgieIiOavLo9LBcJz586dOXv2bP3CfwIRvb9cLn+22Wx6WJQs3JzaUofTKbB+TERaN0jvVRuZ+RhNpTbZi4eHh/doNBqaMsYXkffEedI3O314eHjPRqNxHBFpTZp9tBBxFEUasNvqXMdIdVXAq1arB+qTzq1W6/4oikbHv1sqALKqXC4/KXnSOZVy72EiclgURb+I08t8U+dDfB3red7LGo3GXyaqx9DVnuHiuRUIguDceBcaTZbeKrXz6E+lUunZzWbzIGZ+EjO/XkRmaZpR3ZkmIucys/6tdRQRPUdrEJXL5WPxxH5up8eEDdfPopGRkX/FPxwf0Hi853nXaeorZtYg7W277rrr0YsXL9ag2GZHEASH6wMA+nc0M58zZ86cL+m5+ncXEV1JRLoz8nrP806q1Wr/nF6S6A0EIAABCGQVQAAkqxjOhwAEIACBaSkQBMGbREQLmRMzn8DMN+kXJq3NMGPGjIe2Wq3LiEifsn5Qv1htKQgiInVNfWSt1RRa4+s3jH3hM8YcQUQ1a+090xJ1eneqvRhdrVZ1UXFf55wuRm/ULpdKpZ+Uy+VV8Y6edGo1rfmiqYXuXLt27dNWrVq1Lkk7Mzg4WCmVSloPRheAnmWt/dP05kPvtkdgXEojrQ+j9xANgGjth49sKWBmjNGaRvok9puttbrTaLND8/B7nqfBW92Z9ldmfhqKX2/PSHXmNUNDQ36z2TyRmTV9mdYH0ifk/8nMv221Wu/TAuepFFe62Kc7y+oi8hoNdFSr1YVaIFhTyTDzO8Iw1P/fvicZYzR92rmpJ+5119nlzrlzkHKvM+NXhKv4vv96DVzEf+9QtVo1tVqtntp9dKTOq/hhkvuI6FGpOfd7rd3QbDavXLZsmaYC1Ro0Wvxca4asZeYnpmuvFcFzOvdxcHDwkaVS6YNE9A1rrabr00P/ltK/i53v+xdpyioiekB3p4nILevWrXu2/q00URA+CIJ9RUT/VtKd2vrPpfGDSk8koicT0Srn3GH1en3ZdHZF3yAAAQhAYNsEEADZNiecBQEIQAAC01eA582bp8Ver9GdGMz85jAMP5H6sjWWe3rNmjUaIDmDiP6r+ayJ6NL0l3Pf91/IzPoU/65ayyFZEJiADmkc8j2fklQNj2Vm/cK+f5zCI+nVyngH0Vnxzp4kDdFrmPlSTfXhnDs8KeKq9WD6+/u/ooEPzX0+Y8aMU5EOLd8TpAOtn7SosOZH11zo8WLh9SKiT0xrir53bdiw4ZqVK1dqDv1kYamdAileeNIc/fuJyHOjKPrhZG00xmie/oM9z/tQeqdbB/qES2QQMMY8iYg+R0QL4s+jdsqzONDaT0SXNZvNdyZFzOMxvlhE7H//+98PxwWCNcjxbhH5DjO/LU651/5M833/HGb+CDP/TEQ0uDJARI/FbsQMg4RTNxEwxujfUXs7595Vr9c1zZ6L63ycLiL/R0SPjl+wgohuZOb3btiw4V8rV65cn9zXqtXqM51zen9aw8wLEYCdPpNMA7rOuRtEJHTOfShJS7VgwYLd9W+egYGB2XPmzPkwEb08Ts+nO4teGUWR/l2tR3rHSPJ31SnM/Bki0nti+liF3dXTZ+6gJxCAAAQ6IYAASCcUcQ0IQAACEMi1QJwO5FZ9Es0594wJcgW3F4z0C/rGjRsvY2Yt2Hk/M189PggSBMFJRPS4MAzPmeALW66d0Pi2QDv4Ec8ZXVDWVAuaLk1TeKz0PO9IEdH81bOJ6G8i8vIoivRJffJ9f4iZtYC1IaJ/MfN5IrInMz9FRA4horuJ6PB0XRCYF1JgbNfQ/vvvv8v69ev3FhEulUp9tVpNn3Dd5DDGJOmwdE59UPPxj59DxpgXE5EWwR4VkeMmSqGULig8b968mbooWUj9Huh0tVp9qnNOiwDP0RQvzPwD59xNpVJpP+fcfsz8XM/z3lSr1W6Om5vcl3adM2fOek0DE6fc0881/b73Qmut7g7RgxcuXNi3Zs2aq4joxcx8VqPRuFJ3Oo6Ojt7VA91HE/IjkE7Lp7vR2p91RPR93UlWq9U0CNLSumfMrMGPozzPW83MK2q1mta6GvtMTRa343o1unv2q7vuuusrJ0t/lB8itDQR8H3/GGbWXbB6/MI5d5bneS3dvcHMZ4Rh+MVKpTLD8zx92OhEItpDg/ue572kVqtdn9y/0jur489ITZelu9t20Z2LWuvIOfd+7PzA3IMABCAAgbQAAiCYDxCAAAQgUHiBOE2IflF/0PO8I+JFxvG7NNqLkpqCZvXq1b8iIn069wFm/tL4wugp0E2K1BYeepoAGGPmi8hPmLnCzN/xPO8da9asWaVpGvbdd99Hlcvl1xCR/k9TfTxQLpcHNee17vSYMWPGRSKi6WweGqcI0Xmmx2oiOhJPX0+TSbL93Ri7Z/i+/4Y4oHZYkk6GiDTY8SNm/l4YhrojoH2kgiB6T9LUIt9rNBq/6Ovr20efok7S+xHRO621+oTtZAdqfWz/2HXklZVK5UDP83QheQ/dadhoNM5avny51opqp1OMP4Meaq39R/yGE45ZEAQnxKmEtMj5QTpfkhRqlUpl0PM8fcp+Tlw/ZklHGo+LFElg7F41NDS0jwbPkl1FisDMP9QdkrVa7Rep+9cmPuMDrXH6q2/EJ51qrdUgHY5pJBAEgT748XoimsXMt4nIY4lIA2Tf6evre6nubkwFQV4a7wS50/O8N6QCvpvd87S2yIYNG/TBE71XbkAav2k0adAVCEAAAh0SQACkQ5C4DAQgAAEI5FfA9/0nM7MGNfQL/XOstddN1Jtk8cgY8wotdB7nY9cvW18gokvw5H5+50C65caYqj5tPzo6eue4HrWDFb7vv5OZ9QnVG9auXfu88fmpgyD4ioi8RIu7OueeX6/Xf7pw4cKyPsk6f/78x/T19enuoKcTkabOsiKy1Dn3jmXLlmnedBzFFRhb1PF9X1MT6TzRRW/972vjXUWqo8Vcb/U87+R0YVff9zUo9wwN1Mb3Mj1PdyMlx4ette+M/wVp+HpwnmkAta+v73NxAeCrrbX6WZMc6THb6vhpAI2ZNZ3jShF5YRRFf9QL6UJho9HQ3Yta0+p7GzduPC2VNq0HVdCkHhQYC34EQaC7zg4pl8vHjIyMPGiMOZuILtQ2TxAEGXudMeZk3fFYKpUuaLVa+jDBgqSgOhGl71UIyvbgBNiOJiVj7wVBcI6IvDv+TGNNwxeGodZR0/tTO8VjHAT5GBHpPVB3duguEU1Re1P83pulw9qONuElEIAABCBQIAEEQAo02OgqBCAAAQhMKuD5vn+dLh7qF7FGo/Gq5cuXazqiCY84tcjvU4uSmnrmkyJyWeqpXHDnUKBSqRzqeZ4Wi9Yv2ydOVFTaGKNP2B/GzK8Lw/CydE0G3/e/EKdIazrnjtJ0akEQDOjCjnPuw5qSQVM2tFqtGRs2bNAFn1FmXl+v1zWQhgMCuptjbAFRd2yIyJ06R5j5Mc65tzPzXvGCkKbDOiJ9zzHG/FR3EsWBk78RkaY0+qIWg00FdrEzrffmWXsxL77/6BPwd3ued3ytVtN6QpMu9GmdEBF5pOd5T9EuichtpVLpDn0aP97ZqIuFWiD4t0T0A2Yu65xByr3emwB5bJExRgMder/SYEf781D/vzHmLCLSxet2EKTVan0sqQmi/833/aN092y8SzIJ1Gq9Ig3sfdRa+/bYA/eqPE6MSdqcPETk+/4BuvsjubfprkXn3HuiKNKUfZQ8MJIKgmiwTHd3/MnzvLO3tBNkGnGhKxCAAAQg0GEBBEA6DIrLQQACEIBATwpM+rRs/EWrFT+R9iHNH8zMF/b39181WSFqY4wWq9b0IbqwGGjB4Djv8GvjPOv40t6T02DLjTLG6K6MG+On53VHj6ZpSB8cBME8EdHg18M8zzs89UVcF3XGgh+e5y2q1Wq/McZojRCdK09KLRBt9entHPKhydsvMHa/iNMbaRDjUGZ+cRiG30xfBoC1owAAIABJREFUtlqtLnDOaXq1F+rioYjc0mg0XpB+gt8Yo+mTNB//g0T0dSL6f8nutGQBavubild2U8AY83kiOk1TX7VarTPGpXFJ5klpaGhoqNVqvYyIXhsHw5JUehpI1eK/L7PW/ileoD5dU8wQUZOI+uL23xsHz2rd7A+uPe0E0js4NA3o7+Jgq9ZF+7m19p6kx5MEQTQdlgwNDe3XarV0h5vepzRVpF5XH0L5URJEif+b7mbDMY0EqtXqw5xz+rm2KK6fNqDpsIjoZhE5L4oinSMTBUHGdoIgCDKNJgS6AgEIQGAHCiAAsgOx8VYQgAAEILBTBNI59Q/wPE+fot7D87y7wzDUxe72UalUHsHMNzLzMBFFmjNfRL5Tr9f/nlo0TArNvk1E/l9SWNYYo0+tPZGIVjSbzccvX778gZ3SU7zpdgvEwQ8tKKzpGD4XhqEuMuuxSfoNY4wWcv0dM+8hIs+z1mohdPZ9//PJzo8k+BHPq7me5+mTjo8Uka9GUXTSdjcSL5yOAmPzyxjzAma+VUR0h5E+qf+U1O6OsaBZtVqd55w7k4hOiYvEfmRgYOBcxbn55pt1kZuCILheRI6KgyDXaJ2iMAxR56HHZ5AxRgNWx2kNIWvt5eMDVlozob+//23xLp+npbqjgQ99Qlo/73ROrWo2mwf39/d7zjmdJxrM1SCI7gj6U6vVehtS7vX4ZOi95qVT9B1VKpUazrlrmfmCMAw/mGpu+p62yU6QuCZIuzD68PDwnEajMZOI9nXOrZ09e/bKJUuW/De+Dh4i6b3xn0qLNnnow/f9V+tORmvt+40x74l3EWlNkJuccx/aliCIFlDXHbZTaRReCwEIQAACxRJAAKRY443eQgACECiaQPppxffpU7FENBgjaAHh6x988MFTVq9erfn1NW3DfCLSL1S6yL1CRL7led4XwzAM9edz586dNWvWrGczsz69tp6IjrXW/lzTkBDRt+PXTVpDpGj4eelvOvhBRJdba18dt32znRpxSgZdwHmCiHy70Wi8vL+//5NE9Cp9wjoV/PAWLlxY0rofxpgr4jzW37DWam0QHBDYRCAIAk2hp4vUugB+CDPfmeREn4hqaGjIbzabF2qtCGb+RX9//wt0x1qSOkRfk6oJ8iAzf1WDILVaTdNm6YG8+j04B+MAyPGaNqjZbJ6+bNkyTWPWrtvRbDb18+liEXk8EfXHzV9GRH8gom94nrfOOXe8pufTReV458+7NCgyf/78R5fL5b2bzebdM2fOvF9rNfRg99GkHAgYYz5FRK/TeKs+xS8iZ0RRpDXRJrynBEHwJn2gpH3TYdbdkB8Pw1D/ztKUVxMduDflYB5kaGL776hKpfJ4z/MOtdZ+XF+rf0vFO9y0JsgHUoXRtyUIove/1fp3lbVW6/fhgAAEIAABCGxVAAGQrRLhBAhAAAIQyKnA2JfoIAg+KiJviVM16BOG+tSh/rykNT88zztldHRUU4JoEER3cmgwY24c5NCFIs3JPoOIHkFEz42/yH8oDMP2U9fxln5dFK+KyGlRFF2ZU7PCNTtL8CPOT+6CIDhXRHRhUWu/3CsiB8bpZQ6Pv4yPBU4GBgZm77rrrtdpzn0RuSKKolcWDhkd3qLA8PDwno1GQxeFnhffl/ReEznnDq7X6/+I71ubXSMIgqeJiN539DjFWqs59Sm9a2B8EMTzvE+Pjo7eiSHpOYH255Xv+69nZq2dsFpEvisi+tnzcM/zTmBmvYfsnWr5JXHKoJ8k/01T7jGzFqXWIK6mJNJdQDgg0BGBeAekBkCOiQMYeq+6ZOPGjeesXLlSHwqZ8BgfBBlXEwQBj46MTu9exBhTJaLb47+932KtbQfEdEdbMm+CIDhvsiBIujB6qVTSv+f1YYH7ded1kt6xd3uPlkEAAhCAQK8IIADSKyOBdkAAAhCAQFcEgiB4pYhcrhcXkTeKyBJmfpimr2JmXXDchYhuYOZTkoLXg4ODe3uedzkz65e2x4xrmBYj/lgS/NAFy4GBgVlz5szRIrMLiOhUa+1VXekMLtpRgYzBj7H39n3/ycx8HRHtHv9Hx8xHhWF4U/xU48Z4IVuDJYGIfD9OgXV6FEXfwdP3HR3GaXGxSqXyWGY+k5lfrvckZv6Lc+7oKIpGJ8qFnwQ5knofIvLWKIq0IHH7mCQIcr+I/FhEzq/X63+eFnDTrBP62VMqlbSGi4kXmPUpea3bobUQdEejprq6W1MwRlF0Tar7+jPR18T3NX3C/m7dqWat1SLT+jMcEJiygDHmcXFKtZfGC9p3OudeUq/XR7ZUtyMdBCGiHznnPlWv17XeEY5pLuD7/kuZ+QNEtE/8IMlbrbUa6NXdbf0jIyP6N5Ombpw0CKI7sFetWrVOgyblcvn9RHRl/Pk4zfXQPQhAAAIQ6JQAAiCdksR1IAABCECgVwQ2yR0dBMG3RESDHSeEYfitpJG6ME1EL9egSBwE+Tkzn5wEQSqVykP6+vr2c849Rx9UiwMh+qX9znq9/oP0F7c4Bda1mm8/Xghf0SsYaMfEAhmCH2NPpyZfwOMv6seLiKYr0iMUkY96nvetMAw1tZoePG/evN36+/u/HD8t+5tyuXzcyMjIXzEmEEjmSBIo03+vVCrDpVLpTBHRhcVdNUWftfbZ8eL1hDnxjTF6LzqGmc8Pw/DdyS4lvV46CGKM0dQzeq17SqXSk5IdbxiJ3hPwfX+Imb8bp1TUAH1yaFrGT5ZKpZtSqcw260ClUjnU87ybtNaH7hoJw1B3MSIA0ntDnbcWpWuAHBAHbF8iIlrA+oaBgYFnaw2i8XVr0p0MgkAfQmmnQEqlzsqbA9q7HQJBEGgK2rPjHbN6P9pqEER3sTnnPr5+/fpfzp49W//G/sPGjRs/sKXdRtvRNLwEAhCAAAQKIoAASEEGGt2EAAQgUBCBsdRDQRA8T0S0doems1rrnDuiXq8nec/buafnz5//mL6+vlOJ6M1ENEe/bMWpZO4Z7zXBl/r2YsC8efMeWi6Xv8bMzyAi/eerU4vgBWHPVzeDIDhMRPTJU11Uvsxaq/nM9Rhf8yO94PMBZvZbrdYbk7z8cSHPy+LX/k1ERplZ05/pLqEFIqK5+A8ior+WSqVDR0dHo3xJobUdFtispsz462sQxPO81xLRSXEQ5BJrrQZp3bh7UKlarT7UOXc9EWlNiBdZa3XRfJNjXBDk28658+r1+h0d7hcu12GBSqUy1/O8I5h5PxHRwPqyRqPxg+XLlz+QeqvNUgfp09SNRkOftH4rEV1trX1Fh5uGyxVDYLK0VOODIPrZqXWtZuuuDmvtscqzpSCI7/vvYuZ51lqtm4Vj+guMfe4ZY17OzFoTRtOGbikIomn8NM2VBoA3aEpIItKdR/rPp1lrNTUkDghAAAIQgEAmAQRAMnHhZAhAAAIQyINAUlBYRD7DzLr1/kdhGOrTZ5sdEwVBUjtBkqeu2//cf//9d1m/fv1BInLPzJkz/7phw4ZhEXl3HPxYjt0fvT874vRVv46DHUuttfqlOl2QM+nE2EKPMeYdRPSh+AdPsdb+PjkpCIITROQLRFSOCxNrKoekQLE+5TpSKpVeVKvVbO/roIVdFBjbwREEwf7OOV9rBnmedz0zr6jVapqmqH1oOqxSqfR6EdF0WPp09eettVrTYZMjCIJkF9Jy59zz4hQ0m3VhS4uRXewvLt0dgQl3AiXB28HBwUqpVNKg/94i8oooinTnD2osdGcsputVx+bYggULdl+3bt28vr6+3Zxzf2Xm/yS7ZON7lRa2PiNrECSBw71puk6hdr/SAf/MQRBjzHt0lzYRDerFNC0kET0jDEN9sAkHBCAAAQhAILMAAiCZyfACCEAAAhDoZQEtAqsLhkT0rLiIuaaS0dRVx+22225u8eLFjfHt30oQpH16nHf4LZ7nvSouRHtX/IT2HkS0Kg5+4ItZL0+O/xWsX+Cc0xz7u8WF7fUJe33SUI9k4Sf9lKs+rfrB+OcnW2s1pdUmR6VSOcjzvOcS0dFx2hoNgPyBiG5qtVpfXrZsmX5xx1FcgbEFRWPM2+PFQq0XpMc/mVlT810WhuGShCgVBNGdIFoT5BciclmpVBpxzj1SRDRw186hTkTvtNZ+uLi807bnY/eh8QvFEy0cxwF6nUvP1B1uzHwSnpSetnOjWx1L36vOIqLnE9HT4zdbS0T/IqIPOudurNfry/S/V6vVhc6512xHEASBuW6N4s65bnvuVCqVR9Tr9b/HTZgsCKI7094Q716cdCeI7/sv9DxPHzTymPlLYRgivezOGVu8KwQgAIFpIYAAyLQYRnQCAhCAQOEEtphKxhgzn5nfLSL65f2h+qW9VCotGh0dvXOyIp0TBEFubLVapyaL11r/YdasWVqkWPPzt3cNEJHmZL+dmd9mrV1euFHIaYeHhob2azab32Hm+fqUou4UiqJI0w5tUpAzTtXRDn4w8yvCMLx63Jf69AKON2/evP5Zs2Y9auPGjeVly5bVJ0iplVMxNHsKAukFRQ1Y6KKipuDTe5ju+ngYEWlao59pcfIoiv6YvFeqMLrecx7CzOtERHca6bzT6+rxEWut7lDSY6sptqbQD7y0BwQqlcpT6vX679JNGRgYmD1nzhyfmT8qIkcR0UoiOhKfST0wYPlqQnrXY3KvasX3mvuI6BHxPUZ3Nn7b87wvh2GodRl019qUdoLkiwmtnUwgCIIniMjnmPlrYRh+dILPpU12ghDRW4hIHwZoicg7oii6cPzfYfE1ECzDtIMABCAAgSkLIAAyZUJcAAIQgAAEdpTA0NCQP66OwqQLfnEqEC0KfEy8yKi7M3RRSOt7TJhGRIMg5XL5ZBHR/Om7aIH0KIo+laQQ0fzqa9eu3b1cLh/EzH2NRuP35XL5ftT82FEzoHPvs6UgiL6L7/ua2kxz6etiz0lRFH11K1/E03Mx+bKOL+2dG7I8Xim9oHg+EenuDz10bt2pqa+cc5cQ0cFE9F9mvr7Van0oXaNDa4Iw8+v0af64TpHmQ/+aiPyMmf9trb0uvuZkqZHy6IY2TyDg+76mczyXiGpEdLlz7n7P87T2wgnxU/pVIlrmed4xSLmHKbS9AsYYreuhf/foZ58+GPDnZrMZ9vX1HeF53pEickp87d8S0cXW2q/rv1cqlQPj+kVJTZBrrbX6EIoeCM5u74Dk43W8YMGCh27YsEFTfWpQf6mmBo2i6OIJxn9sLvi+/xpmfh8RPZKINorIuVEUXaCvGbfLDX9L5WMeoJUQgAAEeloAAZCeHh40DgIQgAAEEgFjzFUawCCizznnfhAvEurW+UmP8UEQZtYnZ4+Lc1hPGgTp6+vTrflsrdXi6MmBL2DTbDpqOqxWq/XtZCdIUhA9CIK3ikg7pdA2Bj+mmQy6sx0Ck94fjDGa7uPK+JqbFCs3xjyaiG7UmFu8w+Mn4wuVp3aCaD50LQr7K2vtIak2YnFxOwYsTy8ZHh6e02g0PkFEp8Xtvp+Idk/14b9EpLWJXoWdH3ka2Z5o6yZ/CxljvhYH1V5qrdX/v8m9Lf1wABH9mIj+n7X2V9oT3/cP0IBt/HpNP/pba+3TeqKXaETXBYIgOE1EdPeQphitxbtrtxgEMcZ8mojaO3B1JwgznxOGod7rcEAAAhCAAAQ6KoAASEc5cTEIQAACEOiGgDFGn5LWQpvJcQ8z3yEiF7RarZXjaiwki4HtL+2pIIjWaNB0WL9l5uO3FATRwp9Lly7VBabxT6F1o3u45k4UmCAIoouIT4qblK75gQDYThynXn7rIAgG4vvJ+EAEB0Ewxzn3RWZ+ITOfHYbhJ+MFRZ1PLgiCo0Xk+0T0n/jJ2WQnyPn1ev32pN/j02GJyC1RFGlAuIVCwr08OzrXtmq1akTk7SLy4rh+UXsOxQG0axuNxjdXrFihqYpwQGBbBdK71F6shaZF5Bp9cbPZPHj58uW6Y1bTYOkxdn9LPySgNUGste9N3tAYoylCzySiVxLRN6y1Ol9xTG+BsXkUBMHLROSzRKS707YUBElqhjzW87xbiEjTO2rQTK91prX20ulNht5BAAIQgMCOFkAAZEeL4/0gAAEIQCCTgAYjNm7c+F0R0SeeV4qILhDuRURafPxvzHyPc+5Tnuf9NgzDdBFy/bKuO0SkUqkMep6nqUO2OQgSNxKL3plGK58nj0+HFffiJZraI15c1gWgLe42ymfP0eqpCgRB8C29N4nIoVEUjY5P9RKnhblVU1xpPNVa+6ckBZ8uaDvnfqHpP5j5dBF5ERE9i4jWxIva51tr/5C0UdNhxSlmtCbIbnEQ5AhdBEcQZKojmZvXl4aGhua3Wq09NSWapsGKa4Lgsyo3Q9h7DTXGXEFEJzPzhbrrkYj+bq1Nap2lG5yu4aD1Gs7WH3qed3CtVvtNcqIx5oki4qdSR2KXWu8N+1RbtEnaz0WLFpVuvvnmpl40QxAkSZ2m6dS+ET8I8Arn3EH1en1kqg3E6yEAAQhAAAJpAQRAMB8gAAEIQKDnBYwx+qTzT4hIAxxfJqJ7iegcInpsqvGaU//XzHxpuVxeFe/gGFsUmkIQpOd90MCpC6R2ggz+r+Y5fywMQ51jeqC+wtSJp90VfN8/h5k/EnfsThE5cXwQJAiCw0Tkei14XiqVjhodHb0zXiAacM5dxszH6j3NWnuyBjFWr16tAY/Hxemw9H72/jAMf53g6U4Qz/M0xQyCINNuRk2pQwiATImvcC8en/Yq2WW7kYj69cl959yB9Xpdaw6Nn1vt18bp+75LRAcQ0eustZdPUusDn5/Ta3pt070mCIKTNAXWuJ0gWltGHybROaH/dMaYE4noGmZ+r+d5X3LONeIdldNLDb2BAAQgAIGdLoAAyE4fAjQAAhCAAAS2IsDDw8O7N5vNa0TkqGRhulKpPKRUKp2qxV9F5IVxKhB9Ii0iIk3j8BERGa3X66uS68dPXL8ztRNEFxhPjL9sbdOXOozW9BUYnw6LmT8bhmGSeg2LONN36LerZ3F6vY/rzo64NsefReT4OAiSpPc41PO8m4ioofepKIp+pPcuz/O0vpDei26dMWPGsUnKPd/3T9F5F6cDaRDRv0Xk4nXr1l20atWqddrQ8UEQIvqjtfYJ8T1wu/qCF0EAAoURGPssM8a83Dk3oun2jDEXEdGbUgr/Z639/BZUSsYYrQGiD6h8wVr7qsIIFrej7V0fGvxi5qfqjkURmS0iszzPu5aZ/1ir1RYnPDq/tLZaHAQJ48LoWiOkvaM2CIJdReR7RHQoET3TWvvz4tKi5xCAAAQg0G0BBEC6LYzrQwACEIBARwSMMWcRkX5x0sfzjwzDUAsHt7+M+b5/qud5R4rIcfHCoZ6maYtuF5FrPc/76oYNG+5duXLl+qGhIb/Var2LiPTJay0iGzWbzSctX778gY40FBfJtcD4dFhxEc+kQCeCILke3Y42vn3vqVar85xzWsT1cCKaSUTpIIi+oRcXFR4gIk1pdV0QBIfrQpA+Beuce129Xv9Bci+Lf/YzDXxoij9dIxKRK6Io0nz6Y0ccBHlNnGtfU9DMr9VqKzvaQ1wMAhCYbgLpmh9JCqv2DjTtqO/7H2fmN8Sd/jkzvzMMw9smQzDG6K4PvTd92lqbvG66maE//xNof+bp30itVks/v3QH9i4pHN0tpP97y8DAwJWpdFi6E0SDIHqu7t7WeXWliAwy83Hxg02/azabz1+2bJl+5uGAAAQgAAEIdEUAAZCusOKiEIAABCDQQYH2F/bh4eH+RqNxnS40isi3+/v7Xz0yMqKFyttPks2dO3fWLrvsMqw7P4joiZofPWlDXDA9Yubz58yZM3r//ffP7uvr02LEryCiL1prT+9ge3GpnAuM3wmCIEjOB7R7zW8vCAVBsK+IaGqPiYIgXK1WfWaW0dFR3Z1GxhgNeByji4bOuXfX63UtgN4+jDH/R0SaNkR3jXyOmeeEYaiLTXpsskstCIL9iejlGkyx1ta6101cGQIQmE4C49L36f3lfdZaLXiu96BkJ4jWc/iciFwS72qjdK0h/Ztr9uzZei/T+96p1tqrppMR+rKJQPuzR/82cs7pZ5PW4LuVmf/knLuDmY8mIk0ful/8qotKpdLHRkdHNeChgbWXMrPultSHjvriFI+z4nPvKZVKhyefj3CHAAQgAAEIdEsAAZBuyeK6EIAABCDQUYGFCxeW//Of/5zHzOeISL1UKj2nVqtZ/e+LFy/WVDFUrVYf5pz7ZpySZj0R1VNfyPSUf4nIbZ7nXSoiTWbeIwzDq+OGokhnR0cs3xdDECTf47cDW58OguhOkMOSnSDOuRO1kGt60TB+elaLBZdF5KAoiv4Y50N3w8PD5UajodfQguinRVF0ZdKPyYqca2B4ZGRE8/bjgAAEIDChwPj7h+/734/rDz1Hd6WN/xvIGJPsDtG/rTSwobtEfpm+uO/7L2Jm/XtrtXPuuHq9/jvwT1+BwcHBvUul/9/encfJVZXpA3/eW50EQoKggtJGDem651bbBGEC6ihCAEERcBRcwXEEl3Fj0XHBUdxQfm6ooCwqi8vgKCKjiDhu0CqiMhMGAqH7nltJGo1RRB0xC0lX1X3n89bvVn8ulepOd9Jr1XP/Md1169xzvvfQdt+nznkLN1qNKgDXZ6sX/5KttratGY8PgsA+CBCaQpqmYblcXtsQKRaLJwdBYKuFjgSwDwBbsbimUCi8jeFH+84bjowCFKDAbBJgADKb7gb7QgEKUIACYwpkRTd/DcC2k/k3772t4KgfVuRcRC4VkeMB/C1N02cFQfCwiDxXVd+W/cH1mMb5qvrKJEm+ln3NrY0493YQaA5BmuccySiQf3BoK0EAfEJVT8oKCd+XpulLy+XyfY3tQ0ql0jPTNL3N3hcEwTGDg4P9jZUdjWKwtk2IiLw0X/yc0hSgAAV2VyCKomtVdY2qPkVEDqtWq0/fd999tzY+RJKFsbZ9qK0EaYQgthLEPkxynYj8zD79r6rLAZxv51nx6jiOL9jdvvH9MytQLBYXZEXvmz8MVF/9EUXR6apqW579z/Dw8IlDQ0O2TePI785RFF2tqq/OtsE62Xv/Y1sl1KhdZaPr7e09IE3T/dI07SsUCqu2bdv2x6ydmR08r04BClCAAh0hwACkI24zB0kBClCgLQTqf2g55z5iewyrqi8UCqcNDg7ek9X1uMSKKFr4oaorc5+srtnraZo+RVXfCeBpAK7x3ttWMzwoMKZAtuXD1+1vdwCb582b59asWfMHsnWUwM5Wh9nrdlg9oreLyMezrfns9+xH1ATp6enZv1Ao/NRqewC4A4Dtmz9fVQ8Skcuydv7Ve//RjhLmYClAgSkVyAWsdh2refYX771tW2RHfnu9fJH0RgjS6JvVeFhgP+sA2CraT8Zx/N7sxZ39nJzS8bHxXRcoFotHBUHwjjRNz8lWbexwL7Pw7BWqekmSJOfmVx+GYXiViJxhcwLAsbZaKPvA0pdV9bIkSW7Y9d7xnRSgAAUoQIHJEWAAMjmObIUCFKAABaZJoFQqPTdN0+/b5SzQ2GOPPa7avn27reSohx9BEDzbQpHsk2lWH8T+UK8ftl3Wpk2bnpHbyoErP6bpvs3ly4RheIiIfFFVX9XYC30uj4d93yWB0X5WjDwoCsPwDBFp1OuIReRJqmr7nI+EIEuXLt1nwYIFV6rqKVkvbKs+22ZmsX0tIhfFcfwOPlDcpXvEN1GAAqMIlEqlpbVa7Z0i8obslIqInBvH8efzvydlr+VDkEZNEHvpzwAG0zS1kPfB3LZX/F1qjs687EMeVuh+HoAbReStcRyvb6xatP9bKhaL84Mg+BGAIyy0997bVo31Ix9+BEGwcnBw8PYoiharqv1efqL9b5Ikr2yuYTVHudhtClCAAhSYwwIMQObwzWPXKUABCnSqgHPO/vh6k32CEcA6AIe1CD/q2zjkjuY/0PkHe6dOoF0Yd257iF14N98yFwWcc98QkWocx6c3PxTMvh4JP5xz/2Qry+z7qnquqv57EARX26dhm2uC2IPINE3tNdtGxrbls6D2AVW9MkmS941yrblIyD5TgAIzINCiZlD9Z5XVcejq6nqPqtZXwIrITap6vvf+7hbdHPkdKQzDT4vIObYKV0R+kabp+5Ikse2w6h8syW2hNQOj5SV3RyALxq4RkcOzrRt/KCJn5UIQu8eFzZs321w5Lr/lWavww6bVihUrujZv3vytbDvIZPPmzYdu3Lhx6+70k++lAAUoQAEK7K4AA5DdFeT7KUABClBgOgXq2zSEYXiaiHwh+8SafWpth22vprNTvBYFKNBeAs65/KeeL/Pev6UpmGgZfgAY2b7K6hIFQXAxgGMaIUgQBK/Itu07oFarPV1EVqhqEgTBb7J6IHYZhrPtNZ04GgpMp8DIdlZhGL63Uql8LquzMBKCBEHw7sZKEPtdqlKpXLhu3brfjBWC5H4m2odLblfVTyRJclP2nvwWWtM5Vl5r9wTqcyIL5a2Aua2ktiMfgtTvbe6DRw8WCoVjq9Xqm7I5VG2s/LBVIytXrgz6+/urYRieJSKfUtXBIAieGcfxpt3rKt9NAQpQgAIU2D0BBiC758d3U4ACFKDAzAgUnHO3ZsvxK2maHl8ul3/a4lOPM9M7XpUCFJjTAsVi8dAgCKz2y1ILWlX1iiRJbNUZ8nuf51d+iMi74zj+mJ3T+FlkhdFV1R4sjYQghULh5QMDA/eOAsR99Of0zGHnKTA7BKIo+riqvh3APdVq9ch169ZZ3Y+REKRQKJwH4I1Zbz9n21qVy+UNLXqf3w7rIgBvtZUgWQjy8SRJvpe9hyHI7Lj1E+3FeEIQRFF0jKraFo9PBrARQHdW8+MY7/1tuS2z7Pr2O7rVtHqdqv4wSZLnTbRTPJ8CFKAABSgw2QIMQCZblO1RgAIUoMBUC9T/GA/D8FQRuRLAniLyvq6urs+sWbPGCjCO1PyY6o6K1/mAAAAgAElEQVSwfQpQoH0Fent7D6pWqzeIyDJ7uJMPQWzUo4Ufub3O6w+WWoQg96Rp+opyuXxf00Oj9sXkyChAgWkTcM49FsBHAPwDgP0BrK5Wq0dNRQgC4KPe+3pdNh5zVmDUECSr+bHO5pQFICJychaAiYicFsfxddk2aPa7d73uXhRF3ar6HQCHADjPe2/BGQOyOTs92HEKUIAC7SHAAKQ97iNHQQEKUKDjBHp7e8NarfYTAEsA3Oy9PylD4B9ZHTcbOGAKTI2AFYit1Wrfag5BnHMvB2BFXm0f/ZGVHy0e8jSHIEcCWGQFhCuVysHr169/YGp6zlYpQIFOFnDOLVPVfxYRq080VSHINgA+TdN3lsvlH3aydxuMfdQQpFarnbt27dpyFub/GMCBAB4SkZtrtdpF5XL5Thu/rXx84IEH9qvVarZF7Ym2+ihN0xNHWVnUBmQcAgUoQAEKzCUBBiBz6W6xrxSgAAUo8AiBMAztj/vLs2+e7b234ug8KEABCkyaQHMIAuCWbEsru8Z7vfcXZhcbLXzNP1iyn1HPt3334zh+w6R1kg1RgAIUaBKwEERE3qiq/zjZIUhui62/BEFw2ODg4BBvwJwXGC0E+VGhUDh3YGAgKZVKLk3TH2RbYdmAt4jItar6v6paFBEHYDmAP4jI0XEcx3NehQOgAAUoQIG2EGAA0ha3kYOgAAUo0JkCtk+/iHxFRHoB3Ajg9d77P2fL8DsThaOmAAUmXaBFCAJVfVeSJJ/IVn3YNW37j9GOxt77xSAInpMkyRXZiaz5Mel3iw1SoGMEdvrzwz61b7U+VPVVWQhyz/Dw8FHNhdELhcK7ANTrHAG4LAiCT44SaozUBImi6IIgCL4xRk2jjrkRc3Cg9hzI5o/Vc8kfo4YgQRC8dXBw0Geriy4Tkadkq7Dz798MYE2hUHiVBSZz0IVdpgAFKECBNhVgANKmN5bDogAFKNApAs65S7NCnhVVPSlJkh91ytg5TgpQYPoEciFIj4UeqnpJkiTnZj0YeSg4Ro+aH1aO5z3TN0BeiQIUmEsCIz8/ent7DxgYGPj9aHUWWoQg9w4PDx/ZIgR5B4C3GIKIvCyO42+OAsKfXXNkpoRheJyI2H1NRKRfRB7ca6+9frFq1apKiyE0/j+qfn9LpdLSNE1t1eLx2bkjK0F6enr2LxQKhwF4EQD7ENJ8EUnSNP1eV1fXrdl8nCNK7CYFKEABCnSCAAOQTrjLHCMFKECB9hSobzdjn0QDcBOAEoAPee8/0J7D5agoQIGZFmheCSIin4/j+I0TCEFmegi8PgUo0EYC2YdAnpWm6enlcnnNWCGIqlq4YdthWZH00UKQC0WkEsfxmW3E1JFDCcPwSBG5NbdK0QqVB6q6RkT+pqo/CYIgFpHBarV679atWwsbN27cmsfq6ekpFgqFT9vWjVbgHMAPa7XaOVYTpHHe0qVL96hWq7Jhw4aHOxKag6YABShAgTkhwABkTtwmdpICFKAABUYTWLZs2aO6urp+oqp3JEnS2L6BYBSgAAWmRKC3t/egarV6Q3NhdIYgU8LNRilAgR0F6p/Qd869DsDns22M+tM0PXesEMTqN6jqear6UgALAdw3PDx8RH4lyNKlS/fJvq4Xte7v76/yBsxNAefc0wD8CkDjHtq8sec/9nVXFmjYqo8tAO5X1QcB/NhWiaRp+otarfan9evXP1AsFvcWka9aTY9s3lgNkLO89+uy9hr1r2wbyNFqYc1NRPaaAhSgAAXaRoABSNvcSg6EAhSgQOcKFIvF/crlsv3hZge3ZujcqcCRU2BaBJpXgqjqFbkAlj+DpuUu8CIUaG+Bvr6+Rdu3b18RBIEFFwUR+YP3/tuNUTvnngDg0yJyoqrOB/CzNE3P3kkIssK2KcrqgVhTq6vV6lHr1q17qOnhNR9kt8H0cs4dDuDntkUVALvHVpfjLtu2SkSepKpPBDCcvZ4f8R/+/05oslpVfygi+6jqqQDCLEC5RUTeEsfxeoYebTBROAQKUIACHSDAAKQDbjKHSAEKUKCDBHZaELSDLDhUClBgCgW4EmQKcdk0BTpcwDn3elU9UURObqL4SZqm5y9YsODONWvWDB944IGPmzdv3mcBvCD7AMhYIUj9dyTn3KcAWP2iBwA8DsDvh4eHe4aGhrZ1OHtbDj9bCWIhyDwAv1DVq5Ik+ZKt7ABwlIg8VkROAPBoAFbYfP+sQHrew4qb26ohm0N22Nd3FwqFVw4MDNzflnAcFAUoQAEKtJUAA5C2up0cDAUoQAEKUIACFKDAdAk0rwQBcJn3vl5EmJ+Kna67wOtQoL0EwjC0VR3nZFsU2XZF92V1zuzhs32S//Xe+yuzh9FpX1/f4yuVyiXjDEEQRdEVqvpKETlTVS+z4thxHL+4vRQ5mrxAFoLcns2ZARG5KI7jq3Pn1Ff8ZNuk7Zem6UEicgSAxwN4tr0GYEF2fmMLrd/VarVnrl279rfUpgAFKEABCsx2AQYgs/0OsX8UoAAFKEABClCAArNWIBeCPNk+YSsi/x7H8emztsPsGAUoMGsFnHNfAPBaANusXoeI/NJ7/1/FYvEZQRD8naq6JEls9UbjqK/q2EkIYtvyWQFr6e7u3mPRokXX20PtQqFwUKVSWZRtmWXtcRXtrJ0Zu9+xLAS5Lav/sRrA57IgDStWrJi3atWqSqvgvre3N0zT9FGqejyAZQCeCuCAIAhOGBwcvGf3e8YWKEABClCAAlMvwABk6o15BQpQgAIUoAAFKECBNhaw7bBqtdp/AOgBcLn3/s1tPFwOjQIUmAKBKIo+rKr/KiIPAzg5juNbRrtMX1/ffNsCK3u9/un9FiHI7UEQvCX/kDqKopeq6tcB3Oy9PynXPmsXTcE9nW1NNocgIvLZOI6vyvqZD8BGDcOWLFmy56Mf/ehg9erVVjydBwUoQAEKUGBOCDAAmRO3iZ2kAAUoQAEKUIACFJjNAsVi8dBCoXBSHMcX5B9KzuY+s28UoMDsEAjD8DgR+TKAfQGc6r2/Ofdp/HxB8kcEFUuXLt1jaGhoe3au1fd4gqp+xgqjA9gDwP0icn6aprY6zep9XGgjVtU3JUlyxewYPXsxnQITCEGau8UVQtN5o3gtClCAAhSYVAEGIJPKycYoQAEKUIACFKAABSgAfpqak4ACFBi3gHPuAwDeB+BT3d3d5/X391udhcaRD0BQKpUeU6vVTguC4FBVfRKAiojcnqbp9UmSDFgIIiIfz7Yseky2/VXj4XWgqp9IkuRdWeOPaHvcHeaJc1pgN0KQOT1udp4CFKAABTpXgAFI5957jpwCFKAABShAAQpQgAIUoAAFZk5Ali1btndXV9ddAKyO0Cu8999oFX5YLQYrOp0FJQc2ddnqN/wuTdNTy+Xy/2TbYb0BwPMBHJaFIP8tIv8Rx/HHsvcyqJ25+z7jV2YIMuO3gB2gAAUoQIFpFGAAMo3YvBQFKEABClCAAhSgAAUoQAEKUKAhsGzZskd1dXXdC+BxqvrsJEl+3VTjA1EUvSBN0zeJyOHZNlmNtw8BWAxgEYAFABIAJ3jv11kbtVptsaoeUavV/jhv3ryNAwMD9zP84NxrCDAE4VygAAUoQIFOEWAA0il3muOkAAUoQAEKUIACFKAABShAgdkmIM652wD8PYDPpWl6QblcftA6GUXRYap6MoDzAdSA+vZ6vwdwl6penqbp3aoqXV1db7TVI1mI8sYkSb4EYLSaDdz2arbNgBnsD0OQGcTnpSlAAQpQYNoEGIBMGzUvRAEKUIACFKAABShAAQpQgAIUGBGQlStXFjZu3PhpAG8GMCQid6rqjQCOAXAwgENyXqtF5P21Wm1VuVzekAUiNefcY0XkalU9CcDV3vvX0pgC4xVoCkHuBHCN9/7S8b6f51GAAhSgAAVmuwADkNl+h9g/ClCAAhSgAAUoQAEKUIACFGhbAefcMgD9AJZkg0yzFRyNMa9W1dvnz5//zjVr1mzOQdQDFCuaHkXRmap6JYDrvPcvb1ssDmxKBCwEEZFbVXVPALdVq9WT161b99CUXIyNUoACFKAABaZZgAHINIPzchSgAAUoQAEKUIACFKAABShAgbyAc66UreKwAuePE5GHVXWbfRo/K17+q9w2WLYd1iMO59yFAM4D8BXv/asbq0OoTIHxCpRKpWemafrtNE1Xlsvl+8b7Pp5HAQpQgAIUmO0CDEBm+x1i/yhAAQpQgAIUoAAFKEABClCg7QWKxeJ+XV1dT0rTtC9NUyto/rdyubwmN/CWdT16enqe2NXV9VVVPVJVX5IkybfaHosDnBKBJUuW7Llhw4aHp6RxNkoBClCAAhSYIQEGIDMEz8tSgAIUoAAFKEABClCAAhSgAAXGITBaQfP6W8MwfIOIXAbg1wBO996vG0ebPIUCFKAABShAAQp0hAADkI64zRwkBShAAQpQgAIUoAAFKEABCsxlgZUrV3b19/drthVWI/w4RUSuz8Z1FotXz+U7zL5TgAIUoAAFKDAVAgxApkKVbVKAAhSgAAUoQAEKUIACFKAABXZToFQqOVU9PI7ja/NNWc0QACcAuMi+LyIXxnH83uwc+zvfghIeFKAABShAAQpQoOMFGIB0/BQgAAUoQAEKUIACFKAABShAAQrMNoHe3t4D0jQ9T1XPUtWfBkFwC4DfAXiqqj4bwCFZ+PGROI7Pz/pfyK8QmW1jYn8oQAEKUIACFKDAdAswAJlucV6PAhSgAAUoQAEKUIACFKAABSiwEwHn3GMBfB3AMS1OtRUe94rI1XEcX8zwg9OJAhSgAAUoQAEKtBZgAMKZQQEKUIACFKAABShAAQpQgAIUmIUCzrllInK6qr45656q6iYRuTxN01+Wy+VfMfyYhTeOXaIABShAAQpQYNYIMACZNbeCHaEABShAAQpQgAIUoAAFKEABCuwosHz58n03b948f+HChbJly5ZtQ0NDf82dFQBI6UYBClCAAhSgAAUosKMAAxDOCgpQgAIUoAAFKEABClCAAhSgAAUoQAEKUIACFKAABdpOgAFI291SDogCFKAABShAAQpQgAIUoAAFKEABClCAAhSgAAUoQAEGIJwDFKAABShAAQpQgAIUoAAFKEABClCAAhSgAAUoQAEKtJ0AA5C2u6UcEAUoQAEKUIACFKAABShAAQpQgAIUoAAFKEABClCAAgxAOAcoQAEKUIACFKAABShAAQpQgAIUoAAFKEABClCAAhRoOwEGIG13SzkgClCAAhSgAAUoQAEKUIACFKAABShAAQpQgAIUoAAFGIBwDlCAAhSgAAUoQAEKUIACFKAABShAAQpQgAIUoAAFKNB2AgxA2u6WckAUoAAFKEABClCAAhSgAAUoQAEKUIACFKAABShAAQowAOEcoAAFKEABClCAAhSgAAUoQAEKUIACFKAABShAAQpQoO0EGIC03S3lgChAAQpQgAIUoAAFKEABClCAAhSgAAUoQAEKUIACFGAAwjlAAQpQgAIUoAAFKEABClCAAhSgAAUoQAEKUIACFKBA2wkwAGm7W8oBUYACFKAABShAAQpQgAIUoAAFKEABClCAAhSgAAUowACEc4ACFKAABShAAQpQgAIUoAAFKEABClCAAhSgAAUoQIG2E2AA0na3lAOiAAUoQAEKUIACFKAABShAAQpQgAIUoAAFKEABClCAAQjnAAUoQAEKUIACFKAABShAAQpQgAIUoAAFKEABClCAAm0nwACk7W4pB0QBClCAAhSgAAUoQAEKUIACFKAABShAAQpQgAIUoAADEM4BClCAAhSgAAUoQAEKUIACFKAABShAAQpQgAIUoAAF2k6AAUjb3VIOiAIUoAAFKEABClBgOgScc18C8E87uVYVwBYAGwH8Ok3TG8rl8neno3+TcY1SqbQyTdNbrS1VPSNJEhtz/QjD8NUick2r1ybj2n19fYuq1eqb4zj+2GS0t6tt5O+z935Cfz/l/QB80Hv/gV3tR6v3TfU9GG9fZ0s/xttfnkcBClCAAhSgAAUo0DkCE/oFvnNYOFIKUIACFKAABShAAQqMLTDOAGSHRlS1v1KpvGhoaOivs914pgKQYrF4fKFQ+KKqqvd+6Uw6MQDZuT4DkJ0b8QwKUIACFKAABShAgZkRYAAyM+68KgUoQAEKUIACFKDAHBfIPxhX1fNF5N7mIalqAcDeInKoiLxGVRfaOSLy0ziOj7aFFbOZYaYCkCiK+lX1KAD3MwAZfYbMluBhtvRjNv+3xL5RgAIUoAAFKEABCsyMAAOQmXHnVSlAAQpQgAIUoAAF5rhAPgAJguDowcHB/rGGVCwW+4IguA3APlkI8rI4jq+bzQxjBSBT2W8GIOPTnS3Bw2zpx/jUeBYFKEABClCAAhSgQCcJMADppLvNsVKAAhSgAAUoQAEKTJrARAMQu3AYhu8QkY9nnbjJe3/ypHVoChpiAAJwC6ydTywGIDs34hkUoAAFKEABClCAAjMjwABkZtx5VQpQgAIUoAAFKECBOS6wKwGIc24ZgLXZ0Dd6758wmxkYgDAAGc/8ZAAyHiWeQwEKUIACFKAABSgwEwIMQGZCndekAAUoQAEKUIACFJjzArsSgBSLxQVBEGzLBl/x3s9vQOTaW+u9L4Zh+PYgCM5S1ceJyAOqeqv3/tV5uCiKulX1LAAnADgQwDwAGwHcqqqXJkly186gwzA8RUReB+BpAPYC8FtVvWH+/Pkfq9VqB6dpequ1oapnJEnypUZ7433o3dvbG9ZqtX8GcBwAK2hufbxfRH4I4DNxHK9vtJnb+qpVt7/cPH47yTn3HBE5A8ARZgVgKwAP4Dtpml5aLpf/NpbBsmXLHtXV1XUOgFOtOQDbAdwrIpfHcXztdKwAKZVKz03T9CUAngXg8dl9eAjAEIAfFQqFzw4MDPy+eRzN92DLli3XLVq06B0AXpbNBxv7KhG5Jo7jb+5sLuzqfBrvXNjZ9fk6BShAAQpQgAIUoAAFJluAAchki7I9ClCAAhSgAAUoQIGOENiVAKSnp2f/QqHwQAb0oPd+/wZWPgABcD2AdzVBftN7/9Lc+f8I4PLsYXkr8xTAR733721VbH3FihXzNm3a9BUALx/lhv0OwIcAfN5e35UAJNvy66MAglbXEBELK85o1EKZSACyZMmSPRcuXGiBzIhJi2v8UUROieP4F62uH4ZhbxbELBnF4OsAKgDMGt77Cf39lF9BA+CD3vsP5K/T19f36Gq1ekNW8H2s/262AHih9/7H+ZPywYOIvEtVLSDrbdWQqv5gy5Ytp2zcuNHMdzicc7s8nxiAdMSPPA6SAhSgAAUoQAEKzEmBCf0CPydHyE5TgAIUoAAFKEABClBgCgR2JQBxzlnY8O/WHXsgnSTJ8xpdy7VnKxBsZYh94v8iAH8G8DwR+XIcx/9p50dR9EpVtfDCfp8fBvA1Vf2prV4QkeUAXgOgEa58zHt/XjNBFEXXqupp2fctlLkCwAAAW1VypogclK2GWJD1d0IrQKIoOl9VLUCxw8Zk/b1NRLpU9TlZ8GL9r9rKB+/9Hc65IwA8FsCHAfQBeBDA662BNE1/Uy6X78zaC6Io+r6qHm9fi8hvVPVqAIMiskhVbbWJraiw4GWbqv5982qY3t7eA2q12j0AHpO1+TNVtXvzkIisAPCGLFyyvtcNJjsAcc793FauZNc3+38Tkfvteqpqq1HOBLBf4x5t3br1wA0bNjzcuJf54CGbBzZvbNWIhVa2ssbCkDfl2vi29/5FLebCbs0nBiBT8AOGTVKAAhSgAAUoQAEKTIoAA5BJYWQjFKAABShAAQpQgAKdJjDRACTbaumObJulHVZU5NsDsBnAU73365pdnXNWN2QQwCIAfwRwvPf+7vx5y5cv33f79u03A3iGZS1pmj6zXC7/Kvfg/EgRscDEjtUAjvXe/6nxeqvVIRNZARJFUaSq1q49kP9jEATPGRwctLBh5HDOvQrAl+0b1pc4jlc2XsytBLnfe2/bZj3iCMPwbBG5OPvmt7du3XpaPhiw7zvnjhWRG1V1IYD7vPcW6GjuGlfbmLKvL/Tevyd/kVKp5NI07QdwQOP7kxmAFIvFk4MguDFr+zve+1Ms58n3IYqixar6yywMsjlzcpIkN+Xu46tte6vG1+bY1dV10po1a2z+1I++vr7HVyoVG0dkX6vqSUmSfK/x+iTNp5F+NM+T5nvHrylAAQpQgAIUoAAFKDCdAgxAplOb16IABShAAQpQgAIUaBuB8QQgS5cu3aOrq+sJQRAcDeDdAKwIuh13L168+PBVq1bZ9kr1oykAucp7/9pWWM65C7O2bFXEC8rl8ndbnZfV3liT1dy4wXtvNS7qRxiG3xGRF9jz8EKhcPDAwMC9zW10d3cvXLRo0X0AnmyvTSQAcc5dAsBqk9j7Xpwkybda9TGKoh/kVnE8IY5jq19iK1z6s22hdghAVq5c2bVx40YLhp4IYMPWrVtdc/iRM30/gPq2U3kr55ytMrFVL7ZC5A7vfT0oau6jc+75AEbCgskMQJxzFv5YCGRHT6uwK5sXtgKmvg0ZgH/x3n8qdx/zAchDlUolWr9+fWOLtZHhRFF0mKr+V/aN73vvbVyNeTcZ84kBSKsJzu9RgAIUoAAFKEABCsy4AAOQGb8F7AAFKEABClCAAhSgwFwUaAosJjKEtWmaPrdcLq/Nv6mpvVd77+urI5oP51wCoGgrK7z3VjB7hwf3jfc4534C4BgAW7q7u/fp7++vZoXYbVstK3j+c+/9kaN1PgzD94iIbUc10QDExmZhz++8909qXtnQuF4YhrYS5XBVjYMgsFUgm+y1sQKQKIqepaq32Xki8sk4jq3od8ujp6fniYVC4TfZi1/w3lsxdmv/dFX9t6yN18RxbNtntTzCMPQiEtqLkxmAWMC0995791Sr1QPK5bIVhB/t+sdldUrsHpyfJEn9ftjRtAXWpd77t4zWjnPOVpJY0FMZHh7ee2hoaJudu7vzqbkfXAEy2h3g9ylAAQpQgAIUoAAFZkKAAchMqPOaFKAABShAAQpQgAJzXmAXAhBbtfDl4eHhS4aGhv7aDJBvT1WfkSTJr5vPKZVKj0nTtLFVVRnAqA//s/faKpIT7d+FQmG5rfQolUor0jT9b/ueqn48SZLmYusjl81qclidinEHIFbYu1KpWMBi77k+SRKrxTGhY6wAxDn3tqw2irX5BQDf30njXwOwJ4BV3vvD7Fzn3GcB1MMCVX1KkiRWf6Pl4Zy7MqupMqkByE76XHDOWejytKyWyUnZ+R/w3n+w8d6mIugvieP4+jHG8UlbQWKvZ1ui/XIy5pO1xxogE5rePJkCFKAABShAAQpQYBoFGIBMIzYvRQEKUIACFKAABSjQPgJNgcX5IvKIbaREREVkW7VafQjA2nK5bAW9Rz3y7YlIKY7juPnkUqm0PE1Tq60x4UNEjo3j+JambZ3O8t5/brTGskLh9W2pxrsFVhiGvSJiW2fZcZH3/u0T7exOAhArDG8hyESP32arUSwAuS4LFjBv3rzF+ZoZzY0652zrMtsmakoCkL6+vvnVavUEKwQPoKSqtrrHVs/UC683HR/03te39LKjKQA5PI7jerDV6gjD8CwRsa3J7F6emiTJDZMxn5r7wRUgE52WPJ8CFKAABShAAQpQYCoFGIBMpS7bpgAFKEABClCAAhRoW4Hx1ACZyOCb2jtwcHBwqPn9+e2fJtK2nSsiL4zj+DthGJ4mItdm33ttHMdXjdZWX1/fokqlUt+WarwBSNMWVR+O4/j8ifZ1JwHIFwG0rI+yk+v81Xu/r53jnLMtp46zf3vvuwDURnuvc85WitiKkUkPQLIwyup7LGlxfdvazArHW5j08uz1UQOQNE37yuVyI3jaobkoil6jqraaxe7l6UmSfG0y5pO1xxUgE53hPJ8CFKAABShAAQpQYLoEGIBMlzSvQwEKUIACFKAABSjQVgIzEYAUi8VDgyC4M4P8hve+8WB83LbOOVttcHP2IPzsJEnqD/dbHfktksYbgDT1cdJXgERRdLGqnm39FZET4jj+z3EPPjvROfcNAC/N2ti7UXukVTvOOds2yraPmtQApFQqPTdNUyuwXsiuOwjgZwBWB0GwZtu2bXfZVmnOuWMB/Dg7Z6wAZEW5XG7MjR2GEkXROar6mey+n5QkyfcmYz5ZewxAJjoDeT4FKEABClCAAhSgwHQJMACZLmlehwIUoAAFKEABClCgrQRmIgBxzj0BwIYM8mfe+6MmihqG4SEi8j/Zg/DPJEny1tHayG+RNN4ApKmP13nvXzZa+7bCpFqtPi0IgrUDAwO/bRRLH2sFSFNh9jOTJLlmFww+IyLnZO87xHt/92htOOdGttyazCLozjnb4sxlRezPGK3ofRiGp4pIo7bHqAGIqp6cJMlNo40jHxwBqI95MuYTA5CJzj6eTwEKUIACFKAABSgwnQIMQKZTm9eiAAUoQAEKUIACFGgbgZkIQAzPOfc7AN0isnXBggX7r169essYD+8/AuBxqrp+jz32uOyee+753xUrVszbtGnTHwHsA+Au7/2ho70/DMM3iMjl9vp4A5Csj78H8HgR+U0cx08eo38jq1GsKLn3/lI7dycByHEiYltY2fEV7/0/jdZ+toLlSlW9PwiC/4rjuL71VxRFL1bVb9q/ReTcOI4vHqOPvwLwdHt9sgKQUqnk0jSt13hR1f4kSY4e7fpRFF2gqu/NXv+Q9/79jXObVl5ckCTJ+8YYh4U8B9u8ieN478a2X7s7n+x6XAHSNj/WOBAKUIACFKAABSjQdgIMQNrulnJAFKAABShAAQpQgALTITBTAUgYhpeJyBuzh+fvTJLkE63G29vbG9ZqtYFsi6U/dXd3H9Df31+1c51zXwXwSvt3EARHDw4O9rdoo+Ccs6Lah2TXOiNJki+N8vC9+bWrRORMO3esbaqcc18B8I9Zm73ee2L7KpUAAAWbSURBVNsGyvp3CwALBUYKlzeuu2TJkj0XLlxoq2AeDeDhQqHQOzAwcH8rgzAMPyQi9RokqnpxkiTn2r8PPvjgvbZt2/YnAHtYrpGm6cHlcnl7cxulUmlFmqYjhcUnKwApFot/HwTB7dn1bvLen9yq/8uWLXtUV1fXGgC28seO/+e9/9dW98DCpk2bNvVu3Lhxa3NbzrnnAPhRdj++Fsfx6bk2dns+MQCZjp84vAYFKEABClCAAhSgwK4IMADZFTW+hwIUoAAFKEABClCg4wVmKgDJVg9Ycez5ALanafqScrn83fwNWbp06T7z58//qT3rzx56vy+O4wsa5/T29h5Uq9VsGywrAP7bWq12zNq1a8u5NiQMw0/Z6ojG9ya4AuSpAKweRWDtp2l6dLlcXpvvYxiGp4iIrcKwc27x3luti/rhnLOtnE4E8Dfvva1UsYLgI4dzzlZBfCD7xl2VSuV569evfyB/TlZjw1zmAbDgJ/Ler8td46MA3pV9/dXu7u4zGwGRfa+vr+/xlUrlVgClxnsmKwDp7e09oFarbcza3Vyr1Q5t8jeDxwK4LguCGl34tPf+bY0v8sFD9r2vL168+FWrVq2qNM7p6ekpFgoFC7gsRKkFQfD0wcHBVY3XJ2M+MQDp+B+HBKAABShAAQpQgAKzVoAByKy9NewYBShAAQpQgAIUoMBsFpipAMRMwjA8W0Ty2zZ9B8D3VHVLEARPUdXXA9gv87t7eHj4GUNDQ9vynvnVEQA2i8gVqmoPxm1lha3KeAYA2yprf3vfRAKQrI8jqy+sfVW9CsAdAGz7pWNF5MWNACBN06eXy+X7Gv2Losj68s/Z11/Mtrz6cxzHFkgg28br542tqQD8r4hclabpnSKyGMBKAFZ7xMIVO97tvbfAY+To7u5euGjRIhtvI+C4x9pQ1T+IyEGqaqtsHpM3mKwAxDrhnLNtvI7LOvQXADbmNSKyl4j8naq+AsCj8n1W1auTJHlN43tNAciD2T2/W0SuUdUHVPXQbLWQmdg9bLlN1u7OJwYgs/knFftGAQpQgAIUoAAFOluAAUhn33+OngIUoAAFKEABClBgFwVmMgDJHqC/BcAnASwYYwi/qtVq/7B27VoLMnY4mupLNL/+F1V9eaPexkQDEGssiqIPq+q7c0FE8zUezFaw2GqVkSOKoqNV1bbByh93eO/rtTjsKBaLewdB8HUAVkdktCMF8OF83Yz8iT09PfsXCoWbLVNp1YCN3Wp0ALjQXp/MAKS3t/fJtVrNxj1qjZQs2DkjC48sjPlv7/3hjb42BSAvAnAJgCe2GIuq6ieSJGmseNnhFOfcLs8nBiBjzEC+RAEKUIACFKAABSgwowIMQGaUnxenAAUoQAEKUIACFJirAjMdgJjbsmXLnlQoFN4sIscDOBDAXgD+bNtPici1cRxbQFAby9g5dwSAswEcma3++AOA71er1Y90dXVZPQlbWTDhFSCNa0ZRdLCqvtlWfWTF2+1hfFlEbqzVapeUy+V6+81HFEUvUVV7YG8rNGyrrth7b1trPeJwzlkAYitWnmkF37Ptsn4LoF9VL0+S5K6xxt/X1ze/Uqm8LquJsjw716vql5IkuTQMw7eKSL3OymQGINbe8uXL9x0eHv4XVX2BiPSoqm3X9VcAVgvl+wC+6L3/k3POtsJ6CYA0TVPX2E6sKXg4tFAo2HZj7wHwwmzLK1tZ8rMgCC4eHBxs1BwZlWNX5xMDkLn6U4z9pgAFKEABClCAAu0vwACk/e8xR0gBClCAAhSgAAUoQAEKUIACFKAABShAAQpQgAIU6DgBBiAdd8s5YApQgAIUoAAFKEABClCAAhSgAAUoQAEKUIACFKBA+wswAGn/e8wRUoACFKAABShAAQpQgAIUoAAFKEABClCAAhSgAAU6TuD/AD0M4qmzbFZfAAAAAElFTkSuQmCC\" width=\"800\">"
      ],
      "text/plain": [
       "<IPython.core.display.HTML object>"
      ]
     },
     "metadata": {},
     "output_type": "display_data"
    },
    {
     "name": "stdout",
     "output_type": "stream",
     "text": [
      "Normalized confusion matrix\n"
     ]
    }
   ],
   "source": [
    "plot_confusion_matrix(ens_y,test_y,np.array(list(mod_label_dict.values()))[:,0],\\\n",
    "                     normalize=True)\n",
    "#plt.savefig('Images/Ensemble.png',dpi=900)"
   ]
  },
  {
   "cell_type": "code",
   "execution_count": null,
   "metadata": {
    "ExecuteTime": {
     "end_time": "2017-06-10T08:10:04.946216Z",
     "start_time": "2017-06-10T08:10:04.933896Z"
    },
    "collapsed": true
   },
   "outputs": [],
   "source": []
  },
  {
   "cell_type": "code",
   "execution_count": null,
   "metadata": {
    "collapsed": true
   },
   "outputs": [],
   "source": []
  }
 ],
 "metadata": {
  "kernelspec": {
   "display_name": "Python 3",
   "language": "python",
   "name": "python3"
  },
  "language_info": {
   "codemirror_mode": {
    "name": "ipython",
    "version": 3
   },
   "file_extension": ".py",
   "mimetype": "text/x-python",
   "name": "python",
   "nbconvert_exporter": "python",
   "pygments_lexer": "ipython3",
   "version": "3.6.4"
  },
  "toc": {
   "colors": {
    "hover_highlight": "#DAA520",
    "navigate_num": "#000000",
    "navigate_text": "#333333",
    "running_highlight": "#FF0000",
    "selected_highlight": "#FFD700",
    "sidebar_border": "#EEEEEE",
    "wrapper_background": "#FFFFFF"
   },
   "moveMenuLeft": true,
   "nav_menu": {
    "height": "4px",
    "width": "254px"
   },
   "navigate_menu": true,
   "number_sections": true,
   "sideBar": true,
   "threshold": 4,
   "toc_cell": false,
   "toc_section_display": "block",
   "toc_window_display": false,
   "widenNotebook": false
  }
 },
 "nbformat": 4,
 "nbformat_minor": 2
}
